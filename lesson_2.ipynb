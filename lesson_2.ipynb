{
 "cells": [
  {
   "cell_type": "markdown",
   "id": "e68492be",
   "metadata": {},
   "source": [
    "# Introduction to Coding for AI"
   ]
  },
  {
   "cell_type": "markdown",
   "id": "471f1b63",
   "metadata": {},
   "source": [
    "## 2. Flow and Functions"
   ]
  },
  {
   "cell_type": "markdown",
   "id": "71da1c34",
   "metadata": {},
   "source": [
    "As you write pen on paper in your notebook, your words flow through consecutive lines. Similarly, in Jupyter Notebooks, the code is written in consecutive cells, and sometimes the code in one cell depends on the code executed in a cell above. That’s why you need to make sure that every time you open a notebook you run every cell, and in the same order that they appear. Once you run a cell, you can go back to it, modify the code and run it again.\n",
    "\n",
    "This brings us to another critical aspect of Jupyter notebooks. If you use variables with the same name in different cells, the variable will always have the last value that you assign to it. For example, you may have a notebook with the code `price = 100; discount = 10` in cell 1, the code `final_price = price - discount` in cell 2, and the code `price = \"expensive\"` in cell 10. If you execute cell 1 and cell 2, you will get a correct result, but if you then execute cell 10 and then cell 2 again, you will get an error as you are telling Python to subtract a number from a string. What's even more dangerous, is if the code in cell 10 would have been `price = 200` instead of `price = \"expensive\"`. Because in this case it’s a number you wouldn’t get an error, but a wrong result, most probably without noticing! \n",
    "\n",
    "Here are some tips to avoid these problems when you create your own notebooks:\n",
    "- Run all cells from top to bottom, don’t start running cells in the middle.\n",
    "- Don’t name different variables with the same name.\n",
    "- Only re-run a cell when you are sure this won’t assign it a value that will cause errors -or wrong results- in cells that you run afterward. \n"
   ]
  },
  {
   "cell_type": "markdown",
   "id": "45f9ad78",
   "metadata": {},
   "source": [
    "### 2.1. Python syntax\n",
    "\n",
    "The set of rules by which we arrange words in a sentence, whether in English or German, is called syntax. Programming languages are no different, and each has its own. Let’s check out the syntax of Python and learn the set of rules by which a Python program will be written."
   ]
  },
  {
   "cell_type": "markdown",
   "id": "ff34b463",
   "metadata": {},
   "source": [
    "#### Comments\n",
    "\n",
    "First, let's talk about **comments**. They are text that is only meant to be read by people, and not for Python to interpret. Using comments can be very useful to clarify what you are doing. The rule is to always use the hashtag symbol (`#`) before typing. This will tell Python to ignore everything that's written in that line after the `#`.\n",
    "\n",
    "Comments can also be used to temporarily to stop code from being executed, which comes in handy when developing software. You can place comments in many places: at the beginning of a line of code, inside a code block, or after a code instruction.\n",
    "\n",
    "Use comments to add information that helps other people -and yourself- to understand your code, or to temporarily ignore code when you are prototyping.\n",
    "Importantly, don't use comments to describe the operations that are already being shown by the code itself, but use them to describe higher-level information, such as the overall intention of an approach to solve a problem, or some precautions other people should take if they modify the code."
   ]
  },
  {
   "cell_type": "code",
   "execution_count": 1,
   "id": "ba6dae2c",
   "metadata": {},
   "outputs": [],
   "source": [
    "# I am a comment \n",
    "\n",
    "##########\n",
    "# ME TOO #\n",
    "##########"
   ]
  },
  {
   "cell_type": "markdown",
   "id": "f4f3c09b",
   "metadata": {},
   "source": [
    "**Key insight:** Always keep in mind that programming is an iterative activity, meaning that it is meant to be understood by others and by yourself when you haven't read your own code for a while.\n",
    "Tackling a problem with code is only part of the solution; another crucial aspect is producing clean code that can be easily understood and maintained by other people."
   ]
  },
  {
   "cell_type": "markdown",
   "id": "c268b344",
   "metadata": {},
   "source": [
    "### 2.2. Conditional statements\n",
    "\n",
    "As we go through our day, we make all sort of decisions, such as \"if the weather is nice, I'll put my clothes outside to dry, else I'll use the drying machine\".\n",
    "When we want to control the flow of code, we use conditional statements to tell Python to make this sort of decision-making.\n",
    "\n",
    "#### Indentation\n",
    "\n",
    "The next language aspect we’ll consider is **indentation**. It refers to the spaces at the beginning of some lines of code. \n",
    "\n",
    "In other programming languages, indentation helps only for readability, but in Python indentation indicates a block of code, also called scope. Scopes are necessary when you want that a sequence of operations works with the same variables. Don’t worry, you will see some examples in a moment. \n",
    "\n",
    "To indicate a block of code you have to add the same number of indentation spaces before each line of code, otherwise, Python will give you an error. The number of spaces is up to you, but as a convention, most people add **four spaces** behind each line of a code block. You'll see examples below.\n",
    "\n",
    "For example, in the following code, the first `print()` is only executed if the comparison operator evaluates to `True`. Otherwise, only the second `print()` is executed. "
   ]
  },
  {
   "cell_type": "code",
   "execution_count": 3,
   "id": "91968b96",
   "metadata": {},
   "outputs": [
    {
     "name": "stdout",
     "output_type": "stream",
     "text": [
      "Print this if global_variable is greater than 5\n",
      "Print this always\n"
     ]
    }
   ],
   "source": [
    "###################\n",
    "# Syntax Exercise #\n",
    "###################\n",
    "\n",
    "global_variable = 10 \n",
    "\n",
    "# The following is called \"IF statement\": \n",
    "if global_variable > 5: \n",
    "    print(\"Print this if global_variable is greater than 5\") \n",
    "    # <--- Notice the four spaces before the hash\n",
    "\n",
    "print(\"Print this always\")"
   ]
  },
  {
   "cell_type": "markdown",
   "id": "3c29dffb",
   "metadata": {},
   "source": [
    "Additionally to the white spaces defining the scope of variables, the code above also has a couple of new things.\n",
    "The first one are the hashtag symbols `#` used to write **comments**, and the second one is the `if` statement used to **conditionally** execute code. Let's explain them in more detail."
   ]
  },
  {
   "cell_type": "markdown",
   "id": "83e3bc12",
   "metadata": {},
   "source": [
    "#### Exercise:\n",
    "1. Copy the code of the Syntax Exercise into the cell below.\n",
    "2. Remove the existing comments, and add new comments explaining the idea behind the operation.\n",
    "3. Run the cell to print the results."
   ]
  },
  {
   "cell_type": "code",
   "execution_count": 6,
   "id": "e1d50793",
   "metadata": {},
   "outputs": [
    {
     "name": "stdout",
     "output_type": "stream",
     "text": [
      "Print this if global_variable is greater than 5\n",
      "Print this always\n"
     ]
    }
   ],
   "source": [
    "\n",
    "global_variable = 6 \n",
    "\n",
    "# This is an if-condition that prints the message in case the condition is true \n",
    "if global_variable > 5: \n",
    "    print(\"Print this if global_variable is greater than 5\") \n",
    "    # in case it is not true it will not be printed \n",
    "\n",
    "print(\"Print this always\")"
   ]
  },
  {
   "cell_type": "markdown",
   "id": "bafd27a3",
   "metadata": {},
   "source": [
    "#### The IF statement\n",
    "\n",
    "Conditional flow statements check for the logical evaluation of one or more comparison operations, and then decide whether to execute a code block or not.\n",
    "At the end of flow statements, such as the **if** statement, you use a colon (`:`) and the following line must have spaces to indicate the code block.\n",
    "So, in the example of the Syntax Exercise, the *if* statement has only a print function and a comment inside its corresponding code block.\n",
    "\n",
    "```\n",
    "global_variable = 10 \n",
    "\n",
    "if global_variable > 5: \n",
    "    print(\"Print this if global_variable is greater than 5\") \n",
    "    # <--- Notice the four spaces before the hash\n",
    "\n",
    "print(\"Print this always\")\n",
    "```"
   ]
  },
  {
   "cell_type": "markdown",
   "id": "fdac7a14",
   "metadata": {},
   "source": [
    "#### Exercise:\n",
    "1. Copy the code of the Syntax Exercise into the cell below.\n",
    "2. Change from 4 to 2 the number of spaces defining the code block inside the *if* statement.\n",
    "3. Change the if statement to print \"Please insert more coins to get a drink.\" if the `global_variable` is less than or equal to 2.5.\n",
    "4. Run the cell to print the results.\n",
    "\n",
    "- **Going further**: Let's learn what error messages look like. Remove all the spaces inside the code block and read the error message. Is the message clearly showing what is wrong in the code and how to fix it? Add the spaces back and re-run the cell to remove the error message."
   ]
  },
  {
   "cell_type": "code",
   "execution_count": 9,
   "id": "9a472d3b",
   "metadata": {},
   "outputs": [
    {
     "name": "stdout",
     "output_type": "stream",
     "text": [
      "Print this always\n"
     ]
    }
   ],
   "source": [
    "global_variable = 10 \n",
    "\n",
    "if global_variable <= 2.5: \n",
    "  print(\"Please insert more coins to get a drink.\") \n",
    "    # <--- Notice the four spaces before the hash\n",
    "\n",
    "print(\"Print this always\")"
   ]
  },
  {
   "cell_type": "markdown",
   "id": "819d6093",
   "metadata": {},
   "source": [
    "#### Conditional statements and logical operators\n",
    "\n",
    "Other than the comparison operators, such as `==`, other common elements used together with conditional flow statements are the logical operators, such as `and` and `or`. Take a look at the following example:"
   ]
  },
  {
   "cell_type": "code",
   "execution_count": null,
   "id": "e4875603",
   "metadata": {},
   "outputs": [],
   "source": [
    "first_name = \"John\"\n",
    "last_name = \"Smith\"\n",
    "age = 20\n",
    "grade = 8\n",
    "driving_licence_approved = False\n",
    "\n",
    "MIN_AGE = 21\n",
    "MIN_GRADE = 6  # Grades go from 0 to 10\n",
    "\n",
    "if age >= MIN_AGE:\n",
    "    if grade >= MIN_GRADE:\n",
    "        driving_licence_approved = True\n",
    "\n",
    "# You can also replace the nested IF statements\n",
    "# with the AND logical operator to simplify your code:\n",
    "if age >= MIN_AGE and grade >= MIN_GRADE:\n",
    "    driving_licence_approved = True\n",
    "    \n",
    "print(f\"License approved: {driving_licence_approved}\")"
   ]
  },
  {
   "cell_type": "markdown",
   "id": "2ff80146",
   "metadata": {},
   "source": [
    "Indeed there are a few new things in this code. Let’s check them together.\n",
    "Firstly, you may have noticed some variables are written in UPPER case letters. This indicates that they are **constants**, or values that almost never change.\n",
    "This is only a naming convention between developers but to Python, it’s just a variable.\n",
    "\n",
    "Next, we have *if* statements placed inside other *if* statements.\n",
    "Remember? That’s when a code line has a four-space indentation compared to the previous one.\n",
    "These are called **nested** *if* statements.\n",
    "When you nest statements, it's critical to add four spaces for each additional *if* to define its scope.\n",
    "If you write a line of code with four spaces less than the innermost *if*, this indicates to Python that this line belongs to the previous *if* statement. For example, both pieces in the following code produce the same result:\n",
    "\n",
    "```\n",
    "# Version 1\n",
    "if height > 100:\n",
    "    print(\"It's tall\")\n",
    "    if width > 100:\n",
    "        print(\"It's wide\")\n",
    "        if depth > 100:\n",
    "            print(\"It's deep\")\n",
    "\n",
    "# Version 2\n",
    "if height > 100:\n",
    "    if width > 100:\n",
    "        if depth > 100:\n",
    "            print(\"It's deep\")\n",
    "        print(\"It's wide\")\n",
    "    print(\"It's tall\")\n",
    "```\n",
    "\n",
    "Lastly, we added a new way of editing the text that we want to print: `print(f\"License approved: {driving_licence_approved}\")`.\n",
    "This is called **string formatting** and you will gradually learn more about it.\n",
    "What is important for now, is that you know that you can insert the value of variables inside strings of text.\n",
    "One way of doing this is by adding the letter `f` before the string quotes and then by adding a pair of *curly braces* `{}` inside the string where you want to insert the variable value.\n",
    "\n",
    "Now let's add a few more components to our flow exercise. Once again, look out for new things:"
   ]
  },
  {
   "cell_type": "code",
   "execution_count": 3,
   "id": "3b0685b1",
   "metadata": {},
   "outputs": [
    {
     "name": "stdout",
     "output_type": "stream",
     "text": [
      "It's tall\n"
     ]
    }
   ],
   "source": [
    "#Version 1\n",
    "height = 101\n",
    "width = 50\n",
    "if height > 100:\n",
    "    print(\"It's tall\")\n",
    "    if width > 100:\n",
    "        print(\"It's wide\")\n",
    "        if depth > 100:\n",
    "            print(\"It's deep\")"
   ]
  },
  {
   "cell_type": "code",
   "execution_count": null,
   "id": "fc638af5",
   "metadata": {},
   "outputs": [],
   "source": [
    "height = 101\n",
    "width = 50            \n",
    "#Version 2\n",
    "if height > 100:\n",
    "    if width > 100: \n",
    "        if depth > 100:\n",
    "            print (\"It's deep\")\n",
    "    print (\"It's wide\")\n",
    "print (\"It's tall\")"
   ]
  },
  {
   "cell_type": "code",
   "execution_count": 4,
   "id": "63a6ff5e",
   "metadata": {},
   "outputs": [
    {
     "name": "stdout",
     "output_type": "stream",
     "text": [
      "Come back once you have the minimum age for driving.\n",
      "License approved: False\n"
     ]
    }
   ],
   "source": [
    "first_name = \"John\"\n",
    "last_name = \"Smith\"\n",
    "age = 20\n",
    "grade = 8\n",
    "driving_licence_approved = False\n",
    "\n",
    "MIN_AGE = 21\n",
    "MIN_GRADE = 6  # Grades go from 0 to 10\n",
    "\n",
    "old_enough = age >= MIN_AGE\n",
    "passed_test = grade >= MIN_GRADE\n",
    "\n",
    "if old_enough and passed_test:\n",
    "    driving_licence_approved = True\n",
    "elif old_enough and not passed_test:\n",
    "    print(\"Please try again the driving exam.\")\n",
    "else:  # Execute this block if none of the above blocks is executed\n",
    "    print(\"Come back once you have the minimum age for driving.\")\n",
    "\n",
    "print(f\"License approved: {driving_licence_approved}\")"
   ]
  },
  {
   "cell_type": "markdown",
   "id": "417ddbb5",
   "metadata": {},
   "source": [
    "Did you spot them? Our new flow components are `elif` and `else`.\n",
    "You may be thinking “Wait, what? What does elif even mean? 😳”. Let’s look at the example in more detail.\n",
    "\n",
    "1. When the `if` statement evaluates to `True` and is executed, all the remaining `elif` and `else` elements are ignored. So, `if old_enough and passed_test`, then the licence is approved. When the code inside the `if` statement is not executed, the next flow evaluation is checked.\n",
    "\n",
    "2. In this case, the next evaluation is the `elif`, which stands for *else if*. Same as before, when the code of an `elif` statement is executed, the remaining elements are ignored. So, `elif old_enough and not passed_test`, then we should ask John to \"try again the driving exam\".\n",
    "\n",
    "3. Finally, *if none* of the `if` and `elif` statements are executed, then the `else` statement will *always* be executed. So, `else`, we should ask John to \"come back once he has the minimum age for driving\".\n",
    "\n",
    "There can be only one `if` and one `else` statements connected, but you can add as many `elif` statements as you want in between.\n",
    "\n",
    "Another change we made was to **extract** the comparison operations into variables with explicit names. More concretely, we changed this format:\n",
    "\n",
    "`if age >= MIN_AGE and grade >= MIN_GRADE:`\n",
    "\n",
    "to this format:\n",
    "\n",
    "```\n",
    "old_enough = age >= MIN_AGE\n",
    "passed_test = grade >= MIN_GRADE\n",
    "\n",
    "if old_enough and passed_test:\n",
    "````\n",
    "\n",
    "The second format has more lines of code, but it's more clear.\n",
    "Do you see how naming your variables intuitively can make your code read almost like the English language? You are starting to like the Python syntax, aren't you? 😏"
   ]
  },
  {
   "cell_type": "markdown",
   "id": "dd3014d1",
   "metadata": {},
   "source": [
    "#### Exercise:\n",
    "1. Copy the code of the cell above into the cell below.\n",
    "2. Help John to get his driving license by updating his age.\n",
    "3. Include one additional `elif` statement that prints \"Please include First Name and Last Name\" if either the first name `or` the last name are empty strings. Checking that all inputs to your program are correct is called **validation**.\n",
    "\n",
    "4. Run the cell to print the results.\n",
    "\n",
    "- **Going further**: Extract the validation of the name strings into two additional variables. The new variables should have meaningful names that facilitate reading the code in the new `elif ` statement. For example: `elif no_firstname and no_lastname:`"
   ]
  },
  {
   "cell_type": "code",
   "execution_count": 8,
   "id": "dc6fba37",
   "metadata": {},
   "outputs": [
    {
     "name": "stdout",
     "output_type": "stream",
     "text": [
      "True\n"
     ]
    }
   ],
   "source": [
    "name = \"\"\n",
    "print(len(name) == 0)"
   ]
  },
  {
   "cell_type": "code",
   "execution_count": 23,
   "id": "73b812c2",
   "metadata": {},
   "outputs": [
    {
     "name": "stdout",
     "output_type": "stream",
     "text": [
      "5\n",
      "4\n",
      "Hello World for Erica\n"
     ]
    }
   ],
   "source": [
    "def get_length(my_input):\n",
    "    result = 0\n",
    "    \n",
    "    for letter in my_input:\n",
    "        result+=1\n",
    "        \n",
    "    return result\n",
    "\n",
    "def greet_me():\n",
    "    print('Hello World for Erica')\n",
    "\n",
    "\n",
    "###################\n",
    "\n",
    "apple_length = get_length('apple')\n",
    "pear_length = get_length('pear')\n",
    "\n",
    "print(apple_length)\n",
    "print(pear_length)\n",
    "greet_me()"
   ]
  },
  {
   "cell_type": "code",
   "execution_count": 10,
   "id": "d044178b",
   "metadata": {},
   "outputs": [
    {
     "name": "stdout",
     "output_type": "stream",
     "text": [
      "License approved: True\n"
     ]
    }
   ],
   "source": [
    "first_name = \"John\"\n",
    "last_name = \"Smith\"\n",
    "age = 21\n",
    "grade = 8\n",
    "driving_licence_approved = False\n",
    "no_first_name = len(first_name)==0\n",
    "no_last_name = len(last_name)==0\n",
    "\n",
    "MIN_AGE = 21\n",
    "MIN_GRADE = 6  # Grades go from 0 to 10\n",
    "\n",
    "old_enough = age >= MIN_AGE\n",
    "passed_test = grade >= MIN_GRADE\n",
    "\n",
    "if old_enough and passed_test:\n",
    "    driving_licence_approved = True\n",
    "elif old_enough and not passed_test:\n",
    "    print(\"Please try again the driving exam.\")\n",
    "elif no_first_name or no_last_name:\n",
    "    print(\"Please include First Name and Last Name\")\n",
    "else:  # Execute this block if none of the above blocks is executed\n",
    "    print(\"Come back once you have the minimum age for driving.\")\n",
    "\n",
    "print(f\"License approved: {driving_licence_approved}\")"
   ]
  },
  {
   "cell_type": "markdown",
   "id": "c6842930",
   "metadata": {},
   "source": [
    "### 2.3. Loops\n",
    "\n",
    "Sometimes you want to repeat the same operations a number of times before other code instructions. In this case loops are fantastic.\n",
    "Imagine that you have an online shopping cart with 5 items and you want to know the total price. The website could use a loop to iterate over your items and add the price of each one to get the total price.\n",
    "There are two types of loops that you will be using: `while` loops and `for` loops.\n",
    "`while` loops are used when you want to execute code as long as a condition is true.\n",
    "`for` loops are used when you want to execute code for a specific number of times.\n",
    "Let's see some examples.\n",
    "\n",
    "#### While loops\n",
    "\n",
    "`while` loops have a similar structure to `if` statements. They start with the keyword `while`, then evaluate a condition and if it is true execute the code block below. Otherwise, they stop looping and continue with the following instructions after their code block."
   ]
  },
  {
   "cell_type": "code",
   "execution_count": 5,
   "id": "fda8b761",
   "metadata": {},
   "outputs": [
    {
     "name": "stdout",
     "output_type": "stream",
     "text": [
      "5\n"
     ]
    }
   ],
   "source": [
    "counter = 0\n",
    "\n",
    "while counter != 5:\n",
    "    counter += 1\n",
    "\n",
    "print(counter)"
   ]
  },
  {
   "cell_type": "code",
   "execution_count": 26,
   "id": "82781f9f",
   "metadata": {},
   "outputs": [
    {
     "name": "stdout",
     "output_type": "stream",
     "text": [
      "1\n",
      "2\n",
      "3\n",
      "3\n"
     ]
    }
   ],
   "source": [
    "counter = 0\n",
    "while counter !=3:\n",
    "    counter +=1\n",
    "    print(counter)\n",
    "    \n",
    "print(counter)"
   ]
  },
  {
   "cell_type": "markdown",
   "id": "3751ca3f",
   "metadata": {},
   "source": [
    "Be careful not to create **infinite loops**.\n",
    "Yes, you could create infinite loops that could crash your computer 😱\n",
    "This would be the case if you would start the counter with the value `6` or higher, because in every loop the counter would continue growing indefinitely (`6, 7, 8, 1000...`) as all the following numbers are always different to `5`.\n",
    "In this case, you could avoid this problem by changing the comparison operator from `counter != 5` to `counter < 5`, as the comparison operator will return `False` in all cases that the counter is greater than `5`.\n",
    "Infinite loops can be used sometimes, but if not used carefully they can run longer than expected and crash your computer once it runs out off memory (`OOM`).\n",
    "Sometimes, you will see `while` loops, so it is good that you know them, but we recommend you to avoid them and always use `for` loops."
   ]
  },
  {
   "cell_type": "markdown",
   "id": "2f7269df",
   "metadata": {},
   "source": [
    "#### Exercise:\n",
    "1. Copy the code of the cell above into the cell below.\n",
    "2. Change the comparison operator from *not equal* to *less than*.\n",
    "3. Run the cell to print the results."
   ]
  },
  {
   "cell_type": "code",
   "execution_count": 30,
   "id": "e925b2c9",
   "metadata": {},
   "outputs": [
    {
     "name": "stdout",
     "output_type": "stream",
     "text": [
      "6\n"
     ]
    }
   ],
   "source": [
    "counter = 6\n",
    "\n",
    "while counter < 5:\n",
    "    counter += 1\n",
    "\n",
    "print(counter)"
   ]
  },
  {
   "cell_type": "markdown",
   "id": "7e412559",
   "metadata": {},
   "source": [
    "#### For loops\n",
    "\n",
    "Differently to `while` loops, `for` loops only are executed a pre-defined number of times, so they are *safer*. More concretely, you can use *for* loops to process elements of **iterable** objects. These objects can be lists, numeric arrays or rows in tables. Let's start with a simple case:"
   ]
  },
  {
   "cell_type": "code",
   "execution_count": 6,
   "id": "56230663",
   "metadata": {},
   "outputs": [
    {
     "name": "stdout",
     "output_type": "stream",
     "text": [
      "banana\n",
      "apple\n",
      "orange\n"
     ]
    }
   ],
   "source": [
    "fruits_basket = [\"banana\", \"apple\", \"orange\"]\n",
    "\n",
    "for fruit in fruits_basket:\n",
    "    print(fruit)"
   ]
  },
  {
   "cell_type": "markdown",
   "id": "5b331fd1",
   "metadata": {},
   "source": [
    "In the code above, you **iterate** over the **elements** of a list.\n",
    "In each loop, you assign the value of an element in the list to the **temporary** variable `fruit`.\n",
    "Notice that the iteration keeps the order in which the elements in the list are defined.\n",
    "You can see this order more explicitly with the built-in function `enumerate()`.\n",
    "This function iterates over your list (or any other iterable object) and returns an index and the value of the element with that index. An example will clarify this:"
   ]
  },
  {
   "cell_type": "code",
   "execution_count": 7,
   "id": "c92a20c5",
   "metadata": {},
   "outputs": [
    {
     "name": "stdout",
     "output_type": "stream",
     "text": [
      "0 banana\n",
      "1 apple\n",
      "2 orange\n"
     ]
    }
   ],
   "source": [
    "fruits_basket = [\"banana\", \"apple\", \"orange\"]\n",
    "\n",
    "for index, value in enumerate(fruits_basket):\n",
    "    print(index, value)"
   ]
  },
  {
   "cell_type": "markdown",
   "id": "707a828d",
   "metadata": {},
   "source": [
    "Python has **zero-based indexing**, so every time it counts or *enumerates*, it starts with `0`.\n",
    "Another way of using for loops is with ranges. For example, `range(3)` will return three numbers, 0, 1 and 2."
   ]
  },
  {
   "cell_type": "code",
   "execution_count": 8,
   "id": "772c01c3",
   "metadata": {},
   "outputs": [
    {
     "name": "stdout",
     "output_type": "stream",
     "text": [
      "0\n",
      "1\n",
      "2\n"
     ]
    }
   ],
   "source": [
    "for number in range(3):\n",
    "    print(number)"
   ]
  },
  {
   "cell_type": "markdown",
   "id": "b45007dd",
   "metadata": {},
   "source": [
    "Additionally, you can interrupt loops (and *if* statements) with the commands `break` and `continue`.\n",
    "`break` stops the loop completely, and `continue` immediately starts the next iteration, skipping any remaining lines in the code block.\n",
    "You can observe both behaviors in the following example."
   ]
  },
  {
   "cell_type": "code",
   "execution_count": 9,
   "id": "0ed69e4e",
   "metadata": {},
   "outputs": [
    {
     "name": "stdout",
     "output_type": "stream",
     "text": [
      "1\n",
      "3\n",
      "5\n"
     ]
    }
   ],
   "source": [
    "for number in range(10):\n",
    "    even_number = (number % 2) == 0\n",
    "    if even_number:\n",
    "        continue\n",
    "    elif number > 5:\n",
    "        break\n",
    "    else:\n",
    "        print(number)"
   ]
  },
  {
   "cell_type": "markdown",
   "id": "475098db",
   "metadata": {},
   "source": [
    "Let's unpack the code above. First, `even_number` evaluates to `True` when `number` is an even number. We set the function for an even number as follows: `(number % 2) == 0`, meaning that the number divided by 2 has a reminder of 0. In this case, the parentheses have no meaning to Python as there is no name written before them, they are being used simply to make the code more explicit and easier to read by people. \n",
    "\n",
    "**Remember:** Writing shorter code makes it more elegant, but clear communication is more important than elegance.\n",
    "Remember our golden rule: always aim to write code that is easy to read by other people.\n",
    "\n",
    "Next, the *if* statement checks whether the number is even, and skips the rest of the code block if this is true.\n",
    "However, it doesn't stop the *for* loop, but only jumps to the following iteration.\n",
    "On the other hand, the *for* loop stops when the `elif` evaluates to `True`, as its code block has the `break` instruction.\n",
    "Finally, if none of the previous evaluations is true, the `else` code block is executed.\n",
    "So, you can describe the code above in plain English as follows:\n",
    "- Starting with 0 and ending with 9, print the odd integers smaller than 5 😊"
   ]
  },
  {
   "cell_type": "markdown",
   "id": "b72f5840",
   "metadata": {},
   "source": [
    "#### Exercise:\n",
    "1. In the cell below, write a for loop that:\n",
    "  - Prints the even integers between -3 and 3.\n",
    "  - Prints \"Odd\" instead of the odd numbers.\n",
    "2. Run the cell to see the results."
   ]
  },
  {
   "cell_type": "code",
   "execution_count": 33,
   "id": "0b8c9bba",
   "metadata": {},
   "outputs": [
    {
     "name": "stdout",
     "output_type": "stream",
     "text": [
      "Odd\n",
      "-2\n",
      "Odd\n",
      "0\n",
      "Odd\n",
      "2\n"
     ]
    }
   ],
   "source": [
    "counter = -3\n",
    "\n",
    "while counter <3:\n",
    "    if counter %2==0:\n",
    "        print (counter)\n",
    "    else: \n",
    "        print (\"Odd\")\n",
    "    counter +=1\n",
    "    "
   ]
  },
  {
   "cell_type": "markdown",
   "id": "bd54c6af",
   "metadata": {},
   "source": [
    "### 2.4. Functions\n",
    "\n",
    "You have already used some functions, like `print()` or `range()`, but what about creating your own ones? In the following example, we have a function that can take one or two numbers in. When it takes one number, it multiplies times 2 and returns the result. When it takes two numbers, it multiplies them together and returns the result. Below the function definition, the function is called two times, with different parameters each time, and then the results are printed. Analyze the differences in the printed results before you continue."
   ]
  },
  {
   "cell_type": "code",
   "execution_count": 10,
   "id": "55baa559",
   "metadata": {},
   "outputs": [
    {
     "name": "stdout",
     "output_type": "stream",
     "text": [
      "Result: 6, Multiplier: 2\n",
      "Result: 12, Multiplier: 4\n"
     ]
    }
   ],
   "source": [
    "def multiply(number, multiplier=2):\n",
    "    result = number * multiplier\n",
    "    return result, multiplier\n",
    "\n",
    "result, multiplier = multiply(3)\n",
    "print(f\"Result: {result}, Multiplier: {multiplier}\")\n",
    "\n",
    "result, multiplier = multiply(3, 4)\n",
    "print(f\"Result: {result}, Multiplier: {multiplier}\")"
   ]
  },
  {
   "cell_type": "markdown",
   "id": "665a967c",
   "metadata": {},
   "source": [
    "Here you have a recipe to create your own functions:\n",
    "\n",
    "1. The keyword to indicate Python that you are creating, or **defining** a function is `def`.\n",
    "2. Then you include an empty space followed by the name that you want to give to your function (follow the same rules we learned for naming variables), and then include a pair of parentheses `()`. In our example, these elements are `def multiply()`.\n",
    "3. The parentheses can be empty in between, or you can have one or multiple **arguments** if the function needs external information to do its job. For example `def multiply(number)`.\n",
    "4. Furthermore, you can assign **default** values to the arguments, that will be used unless you override them when you call the function. For example `def multiply(multiplier=2)`.\n",
    "5. Then, like in conditionals and loops, conclude the line by adding a colon (`:`).\n",
    "6. Below, also add four spaces before each line to indicate the function scope, and write down the computations that you want the function to perform. In our example, these elements are:\n",
    "```\n",
    "def multiply(number, multiplier=2):\n",
    "        result = number * multiplier\n",
    "```\n",
    "7. Finally, you can return one or multiple values with the keyword `return`, but this is optional. If you want to return multiple values, write them after the keyword `return` separating each value with a comma. The function in our example `return result, multiplier`, returns a tuple with two values, `result` and `multiplier`.\n",
    "\n",
    "As a side note, the variables that you indicate when you define a function are called **arguments** (`def multiply(number, multiplier):`), and the values that you pass when you call it are called **parameters** (`multiply(3, 4)`).\n",
    "Now you can **call** your function in the same way we have called other functions like `range()`, and store its result in a variable."
   ]
  },
  {
   "cell_type": "markdown",
   "id": "0157252d",
   "metadata": {},
   "source": [
    "#### Exercise:\n",
    "1. Write a function that:\n",
    "  - Takes three numbers as an argument.\n",
    "  - Adds the first two numbers and assigns this value to an intermediate variable.\n",
    "  - Then, multiplies the intermediate variable times the third argument, and assigns this value to a final variable.\n",
    "  - Finally, it returns both, the intermediate and the final variables.\n",
    "2. Call the function and assign the returned values to two variables.\n",
    "3. Print the value of both variables.\n",
    "3. Run the cell to see the results."
   ]
  },
  {
   "cell_type": "code",
   "execution_count": 37,
   "id": "ea1baa86",
   "metadata": {},
   "outputs": [
    {
     "name": "stdout",
     "output_type": "stream",
     "text": [
      "3\n",
      "9\n"
     ]
    }
   ],
   "source": [
    "def abrakadabra (number_one,number_two,number_three):\n",
    "    temp= number_one + number_two\n",
    "    last_one= temp * number_three\n",
    "    \n",
    "    return temp, last_one\n",
    "\n",
    "\n",
    "result_one,result_two = abrakadabra (1,2,3)\n",
    "print(result_one)\n",
    "print(result_two)\n",
    "\n",
    "\n"
   ]
  },
  {
   "cell_type": "code",
   "execution_count": null,
   "id": "76c62b0d",
   "metadata": {},
   "outputs": [],
   "source": []
  }
 ],
 "metadata": {
  "kernelspec": {
   "display_name": "Python 3 (ipykernel)",
   "language": "python",
   "name": "python3"
  },
  "language_info": {
   "codemirror_mode": {
    "name": "ipython",
    "version": 3
   },
   "file_extension": ".py",
   "mimetype": "text/x-python",
   "name": "python",
   "nbconvert_exporter": "python",
   "pygments_lexer": "ipython3",
   "version": "3.10.9"
  }
 },
 "nbformat": 4,
 "nbformat_minor": 5
}
