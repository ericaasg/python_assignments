{
 "cells": [
  {
   "cell_type": "markdown",
   "id": "5fb33345",
   "metadata": {},
   "source": [
    "# Introduction to Coding for AI"
   ]
  },
  {
   "cell_type": "markdown",
   "id": "333a5cdd",
   "metadata": {},
   "source": [
    "## 1. Getting Started "
   ]
  },
  {
   "cell_type": "markdown",
   "id": "8ee42935",
   "metadata": {},
   "source": [
    "### 1.6. Run your first code\n",
    "\n",
    "Your first task is to write `print(\"This is code\")` in the cell below, and then click on the **Run** button with the arrow to execute the code. Make sure that the drop-down menu in the icons bar says `Code`. Then you will see that the text `This is code` will be printed below the cell. You can also execute code selecting a cell and pressing `Shift + Enter`."
   ]
  },
  {
   "cell_type": "code",
   "execution_count": 701,
   "id": "d2a48203",
   "metadata": {
    "ExecuteTime": {
     "end_time": "2023-07-15T11:03:01.401005Z",
     "start_time": "2023-07-15T11:02:55.847578Z"
    }
   },
   "outputs": [
    {
     "name": "stdout",
     "output_type": "stream",
     "text": [
      "This is code\n"
     ]
    }
   ],
   "source": [
    "print(\"This is code\")"
   ]
  },
  {
   "cell_type": "markdown",
   "id": "4901cbd7",
   "metadata": {},
   "source": [
    "Congratulations! You have just run the first Python code in the course 🙂\n",
    "\n",
    "Next, add a new cell below by clicking on the menu `Insert` → `Insert Cell Below`.\n",
    "Alternatively, click outside the cell so that the line surrounding it goes from green to blue color, and then press `b` on the keyboard to add a new cell *below*, or `a` to add a new cell *above*.\n",
    "The colors only indicate if you are currently editing a cell (green) or if you are *outside* the cell and can move between cells when using the keyboard arrows.\n",
    "You can also move cells *up* and *down* using the corresponding arrows in the icons bar.\n",
    "\n",
    "Go to the new cell you added below, click on the drop-down menu in the icons bar and select `Markdown`.\n",
    "Then type `### **This** is *markdown*` and run the cell. Do you see the difference? Differently form Code cells, Markdown cells display their output on top of the markdown code instead of below it.\n",
    "\n",
    "Now that you know how Jupyter notebooks work, you are ready to start diving into Python!"
   ]
  },
  {
   "cell_type": "markdown",
   "id": "82065b1d",
   "metadata": {},
   "source": [
    "### 1.7. Python elements\n",
    "\n",
    "To be able to efficiently use Python, there are a few elements you need to know and understand. Just like you would have to know verbs, nouns, or pronouns in English to form a sentence.\n",
    "Let's start by learning that Python is an **object oriented** programming language.\n",
    "This means that almost everything in Python is an object with **properties** and **methods**.\n",
    "Properties are characteristics or values that belong to an object, and methods are functions that execute actions.\n",
    "You can think of objects as a microwave. It has *properties* like \"Heating Time\" that you can set to \"1 Minute\" or \"30 Seconds\", and it also has *methods* like \"Start\" and \"Stop\". We will elaborate more on methods later on.\n",
    "To start, the first elements of Python that we will show you are **variables**, **data types**, **functions**, and **modules**. As everything in Python, all of them are objects.\n",
    "\n",
    "- **Variables** are names that indicate the places in the memory of your computer where data is stored.\n",
    "They are *case-sensitive*, meaning `firstname`, `Firstname` and `firstName` are all different variables.\n",
    "\n",
    "There are some rules and policies for naming variables. Here are some *DOs*:\n",
    "- Variable names should be descriptive and meaningful. Use `last_name` instead of `ln`.\n",
    "- Explicit names make code more maintainable.\n",
    "- Use lower-case letters and underscores to make them more readable.\n",
    "\n",
    "Here are some *DON'Ts*:\n",
    "- Variables can't start with numbers.\n",
    "- Variables can't have spaces. If you need multiple words use underscore instead: `_`\n",
    "- Variables can't use some reserved words, such as `True`, `False` or `import`, because they are used by the programming language itself, and using them also as names for variables would confuse Python and make it unusable.\n",
    "\n",
    "Below you can see the full list of reserved keywords:"
   ]
  },
  {
   "cell_type": "code",
   "execution_count": 702,
   "id": "d94c6eb7",
   "metadata": {
    "ExecuteTime": {
     "end_time": "2023-07-15T11:03:03.266185Z",
     "start_time": "2023-07-15T11:02:55.947097Z"
    }
   },
   "outputs": [
    {
     "name": "stdout",
     "output_type": "stream",
     "text": [
      "['False', 'None', 'True', 'and', 'as', 'assert', 'async', 'await', 'break', 'class', 'continue', 'def', 'del', 'elif', 'else', 'except', 'finally', 'for', 'from', 'global', 'if', 'import', 'in', 'is', 'lambda', 'nonlocal', 'not', 'or', 'pass', 'raise', 'return', 'try', 'while', 'with', 'yield']\n"
     ]
    }
   ],
   "source": [
    "import keyword\n",
    "print(keyword.kwlist)"
   ]
  },
  {
   "cell_type": "markdown",
   "id": "0c5af39b",
   "metadata": {},
   "source": [
    "Otherwise, you can name your variables however you like!\n",
    "\n",
    "- **Data types** are the values that data can have. For example, data can be numbers, text, or booleans (True or False).\n",
    "\n",
    "In the following cell you can see an example of variables being assigned different data types:"
   ]
  },
  {
   "cell_type": "code",
   "execution_count": 703,
   "id": "09dc8707",
   "metadata": {
    "ExecuteTime": {
     "end_time": "2023-07-15T11:03:03.271440Z",
     "start_time": "2023-07-15T11:02:55.989232Z"
    }
   },
   "outputs": [
    {
     "name": "stdout",
     "output_type": "stream",
     "text": [
      "numeric_variable: 123\n",
      "text_variable: 456\n"
     ]
    }
   ],
   "source": [
    "numeric_variable = 123\n",
    "text_variable = \"456\"\n",
    "\n",
    "print(\"numeric_variable:\", numeric_variable)\n",
    "print(\"text_variable:\", text_variable)"
   ]
  },
  {
   "cell_type": "markdown",
   "id": "866182a2",
   "metadata": {},
   "source": [
    "Both data types look the same when printed in the cell, so how can you differentiate them?\n",
    "\n",
    "- **Functions** are reusable pieces of code that carry out tasks. You have seen now a couple of times the function `print()`. Notice that **functions** are words, like variables, but end with a pair of brackets `()`.\n",
    "Some times they take in *arguments*, like in the case of `print()` which takes a string or a variable with the value that you want to display.\n",
    "\n",
    "The second **built-in** function that you will see is `type()`. Built-in means that this function is part of Python itself and you can run it without having to take it from other modules.\n",
    "\n",
    "- **Modules**, or **libraries**, are collections of code that you can reuse to create a program.\n",
    "Sometimes they are readily available, like the modules that you can import from the Python **Standard library**, and sometimes you need to install external libraries to be able to import them, like the libraries you will use for writing Machine Learning code.\n",
    "\n",
    "**Import** means that you load the code to the memory of your computer, and is executed with the command `import`.\n",
    "You can import modules that include multiple functions, or import single functions directly.\n",
    "Being able to import single funtions instead of entire modules helps to use less memory, which can help to avoid slowing down your computer."
   ]
  },
  {
   "cell_type": "code",
   "execution_count": 704,
   "id": "793f6379",
   "metadata": {
    "ExecuteTime": {
     "end_time": "2023-07-15T11:03:03.352447Z",
     "start_time": "2023-07-15T11:02:56.031744Z"
    }
   },
   "outputs": [
    {
     "name": "stdout",
     "output_type": "stream",
     "text": [
      "Type of numeric_variable: <class 'int'>\n",
      "Type of text_variable: <class 'str'>\n"
     ]
    }
   ],
   "source": [
    "type_of_numeric_variable = type(numeric_variable)\n",
    "type_of_text_variable = type(text_variable)\n",
    "\n",
    "print(\"Type of numeric_variable:\", type_of_numeric_variable )\n",
    "print(\"Type of text_variable:\",type_of_text_variable )"
   ]
  },
  {
   "cell_type": "markdown",
   "id": "5f23d7a1",
   "metadata": {},
   "source": [
    "### 1.8. Data types\n",
    "\n",
    "The basic data types that we are interested in this course are:\n",
    "\n",
    "- Text:\t`str`\n",
    "\n",
    "The data type of text is called **string**, and it is defined by using quotes or double quotes around text (like `'Text string'` or `\"Text string\"`). You can also use three double-quotes (`\"\"\"`) to define string blocks as seen in the example below.\n",
    "\n",
    "- Numeric:\t`int`, `float`\n",
    "\n",
    "The data type of numbers can be **integers** (`0`, `27`, `-3`) or **floats** when numbers have a decimal point (`0.0`, `27.5`, `-3.1416`).\n",
    "\n",
    "- Boolean:\t`bool`\n",
    "\n",
    "They are only two Boolean values: `True` and `False`. We will talk more about **booleans** a bit later as they require a more detailed explanation.\n",
    "\n",
    "- None:\t`NoneType`\n",
    "\n",
    "Finally, we have the **None** type. You can think of None as a placeholder for missing values."
   ]
  },
  {
   "cell_type": "markdown",
   "id": "45811d6d",
   "metadata": {},
   "source": [
    "You can define most data types with a long or a short notation:"
   ]
  },
  {
   "cell_type": "code",
   "execution_count": 705,
   "id": "7bea319d",
   "metadata": {
    "ExecuteTime": {
     "end_time": "2023-07-15T11:03:03.415701Z",
     "start_time": "2023-07-15T11:02:56.108249Z"
    }
   },
   "outputs": [],
   "source": [
    "string_variable = \"Hello World\"\n",
    "string_variable = str(\"Hello World\")\n",
    "string_variable = \"\"\"\n",
    "Hello\n",
    "World\n",
    "\"\"\"\n",
    "\n",
    "integer_variable = 20\n",
    "integer_variable = int(20)\n",
    "\n",
    "float_variable = 20.5\n",
    "float_variable = float(20.5)\n",
    "\n",
    "boolean_variable = True\n",
    "boolean_variable = bool(1)\n",
    "\n",
    "none_variable = None"
   ]
  },
  {
   "cell_type": "markdown",
   "id": "6e56e933",
   "metadata": {},
   "source": [
    "#### Exercise:\n",
    "1. Copy the code in the cell above into the cell below.\n",
    "2. Change the name of the variables.\n",
    "3. Change the values of the variables, but keep the same corresponding data types.\n",
    "4. Print the data type of each variable using the `type()` function."
   ]
  },
  {
   "cell_type": "code",
   "execution_count": 706,
   "id": "144bcadf",
   "metadata": {
    "ExecuteTime": {
     "end_time": "2023-07-15T11:03:03.423188Z",
     "start_time": "2023-07-15T11:02:56.146967Z"
    }
   },
   "outputs": [
    {
     "name": "stdout",
     "output_type": "stream",
     "text": [
      "<class 'str'>\n",
      "\n",
      "Hello\n",
      "World\n",
      "\n",
      "<class 'int'>\n",
      "<class 'bool'>\n",
      "<class 'NoneType'>\n"
     ]
    }
   ],
   "source": [
    "string_einhorn = \"Hello World\"\n",
    "string_einhorn = str(\"Hello World\")\n",
    "string_einhorn = \"\"\"\n",
    "Hello\n",
    "World\n",
    "\"\"\"\n",
    "\n",
    "integer_twenty = 20\n",
    "integer_twenty = int(20)\n",
    "\n",
    "float_boat = 20.5\n",
    "float_float = float(20.5)\n",
    "\n",
    "boolean_variable = True\n",
    "boolean_variable = bool(1)\n",
    "\n",
    "none_variable = None\n",
    "\n",
    "string_einhorn_type_abra= type(string_einhorn)\n",
    "print(string_einhorn_type_abra)\n",
    "print(string_einhorn)\n",
    "\n",
    "integer_twenty_type= type(integer_twenty)\n",
    "print(integer_twenty_type)\n",
    "\n",
    "boolean_variable_type= type(boolean_variable)\n",
    "print(boolean_variable_type)\n",
    "\n",
    "none_variable_type=type(none_variable)\n",
    "print(none_variable_type)\n",
    "\n"
   ]
  },
  {
   "cell_type": "markdown",
   "id": "5650d5e4",
   "metadata": {},
   "source": [
    "Additionally to the data types above, there are other types that are used to hold multiple values. Think of it like having boxes with numbers, strings or combinations of various other data types. Some examples are:\n",
    "\n",
    "- Sequences:\t`list`, `tuple`, `range`\n",
    "\n",
    "A **list** is a sequence of objects (strings, numbers, other lists, etc.). For example `mixed_list = [1, -3.1, None, True, \"cherry\"]`\n",
    "\n",
    "A **tuple** is the same as a list, but we can't modify its elements. This property is called immutability and you will learn later on when this property is useful.\n",
    "\n",
    "A **range** is a sequence of numbers. For example `range(5)` iterates over the sequence of numbers `0, 1, 2, 3, 4`.\n",
    "\n",
    "- Mappings:\t`dict`\n",
    "\n",
    "A **dictionary** is a collection of variables that, together with their definitions, are assigned to a single variable. Dictionaries map **keys** and **values** in the same way that English-language dictionaries map **words** to their **definitions**. For example, `{\"name\": \"John\", \"age\": 42}` is a dictionary with the keys `name` and `John`, and the corresponding values `John` and `42`.\n",
    "\n",
    "\n",
    "- Collections:\t`set`\n",
    "\n",
    "A **set** is the collection of unique elements in a sequence. For example, the set of the following list `[1, 2, 2, 3, 3, 3]` is `{1, 2, 3}`.\n",
    "\n",
    "These data types can also be defined in multiple ways:"
   ]
  },
  {
   "cell_type": "code",
   "execution_count": 707,
   "id": "b6cdf9dc",
   "metadata": {
    "ExecuteTime": {
     "end_time": "2023-07-15T11:03:03.479756Z",
     "start_time": "2023-07-15T11:02:56.186323Z"
    }
   },
   "outputs": [],
   "source": [
    "list_variable = [\"apple\", \"banana\", \"cherry\"]\n",
    "list_variable = list((\"apple\", \"banana\", \"cherry\"))\n",
    "\n",
    "tuple_variable = (\"apple\", \"banana\", \"cherry\")\n",
    "tuple_variable = tuple((\"apple\", \"banana\", \"cherry\"))\n",
    "\n",
    "range_variable = range(5)\n",
    "\n",
    "dictionary_variable = {\"name\": \"John\", \"age\": 42}\n",
    "dictionary_variable = dict(name=\"John\", age=42)\n",
    "\n",
    "set_variable = {\"apple\", \"banana\", \"cherry\"}\n",
    "set_variable = set((\"apple\", \"banana\", \"cherry\"))"
   ]
  },
  {
   "cell_type": "markdown",
   "id": "cb23f02f",
   "metadata": {},
   "source": [
    "#### Exercise:\n",
    "1. Copy the code in the cell above into the cell below.\n",
    "2. Change the name of the variables.\n",
    "3. Change the values of the variables, but keep the same corresponding data types.\n",
    "4. Print the data type of each variable using the `type()` function."
   ]
  },
  {
   "cell_type": "code",
   "execution_count": 708,
   "id": "d7453d7e",
   "metadata": {
    "ExecuteTime": {
     "end_time": "2023-07-15T11:03:03.524614Z",
     "start_time": "2023-07-15T11:02:56.225972Z"
    }
   },
   "outputs": [
    {
     "name": "stdout",
     "output_type": "stream",
     "text": [
      "<class 'list'>\n",
      "<class 'tuple'>\n",
      "<class 'dict'>\n",
      "<class 'set'>\n"
     ]
    }
   ],
   "source": [
    "list_fruit = [\"apple\", \"banana\", \"cherry\"]\n",
    "list_fruit = list((\"apple\", \"banana\", \"cherry\"))\n",
    "list_fruit_type= type(list_fruit)\n",
    "print(list_fruit_type)\n",
    "\n",
    "tuple_fruit = (\"apple\", \"banana\", \"cherry\")\n",
    "tuple_fruit = tuple((\"apple\", \"banana\", \"cherry\"))\n",
    "tuple_fruit_type = type(tuple_fruit)\n",
    "print(tuple_fruit_type)\n",
    "\n",
    "range_row = range(5)\n",
    "\n",
    "dictionary_person = {\"name\": \"John\", \"age\": 42}\n",
    "dictionary_person = dict(name=\"John\", age=42)\n",
    "dictionary_person_type = type(dictionary_person)\n",
    "print(dictionary_person_type)\n",
    "\n",
    "set_fruit = {\"apple\", \"banana\", \"cherry\"}\n",
    "set_fruit = set((\"apple\", \"banana\", \"cherry\"))\n",
    "set_fruit_type = type(set_fruit)\n",
    "print(set_fruit_type)"
   ]
  },
  {
   "cell_type": "markdown",
   "id": "19b7fc4c",
   "metadata": {},
   "source": [
    "Coming back to Booleans, the values used to indicate `True` or `False`.\n",
    "Notice that they start with a capital letter and don't use quotes, so `true` and `\"True\"` are not Boolean values.\n",
    "Booleans also have degrees of *truthiness*. What do we mean? For example, numbers `0` and `0.0` are the only numbers considered *falsy*, all other numbers are considered *truthy*. Think of it as absence vs presence, nothing vs something, `0` vs `1`, or an empty object vs a non-empty object.\n",
    "\n",
    "Other *falsy* values are:\n",
    "- Empty strings `\"\"`\n",
    "- `None`\n",
    "- Empty lists: `[]`\n",
    "- Empty tuples: `()`\n",
    "- Empty ranges: `range(0)`\n",
    "- Empty dictionaries: `{}`\n",
    "- Empty sets: `set()`\n",
    "\n"
   ]
  },
  {
   "cell_type": "code",
   "execution_count": 709,
   "id": "a85c12be",
   "metadata": {
    "ExecuteTime": {
     "end_time": "2023-07-15T11:03:03.530862Z",
     "start_time": "2023-07-15T11:02:56.264829Z"
    }
   },
   "outputs": [
    {
     "name": "stdout",
     "output_type": "stream",
     "text": [
      "False\n",
      "False\n",
      "<class 'bool'>\n"
     ]
    }
   ],
   "source": [
    "boolean_variable = False\n",
    "print(boolean_variable)\n",
    "\n",
    "boolean_variable = bool(0)\n",
    "print(boolean_variable)\n",
    "\n",
    "print(type(boolean_variable))"
   ]
  },
  {
   "cell_type": "markdown",
   "id": "2b117ce5",
   "metadata": {},
   "source": [
    "#### Exercise:\n",
    "1. Create 5 variables with different falsy values in the cell below.\n",
    "2. Print the value of each variable."
   ]
  },
  {
   "cell_type": "code",
   "execution_count": 710,
   "id": "d058db7f",
   "metadata": {
    "ExecuteTime": {
     "end_time": "2023-07-15T11:03:03.561848Z",
     "start_time": "2023-07-15T11:02:56.305403Z"
    }
   },
   "outputs": [
    {
     "name": "stdout",
     "output_type": "stream",
     "text": [
      "False\n",
      "False\n",
      "False\n",
      "False\n",
      "False\n",
      "True\n",
      "True\n",
      "True\n",
      "Erica 30\n",
      "True\n"
     ]
    }
   ],
   "source": [
    "a= \"\"\n",
    "b= 0\n",
    "c= []\n",
    "d= {}\n",
    "e= None\n",
    "\n",
    "print (bool(a))\n",
    "print (bool(b))\n",
    "print (bool(c))\n",
    "print (bool(d))\n",
    "print (bool(e))\n",
    "\n",
    "a= \"3\"\n",
    "b= -1\n",
    "c= [3]\n",
    "d= {\"name\":\"Erica\", \"age\": 30}\n",
    "e= 5\n",
    "\n",
    "print (bool(a))\n",
    "print (bool(b))\n",
    "print (bool(c))\n",
    "print (d[\"name\"], d[\"age\"])\n",
    "print (bool(e))\n",
    "\n",
    "\n",
    "\n"
   ]
  },
  {
   "cell_type": "markdown",
   "id": "6ce5e6d5",
   "metadata": {},
   "source": [
    "### 1.8. Operators\n",
    "\n",
    "Now that you know data types, you may wonder what to do with them. All the manipulations that you can apply to values are done through **operators**. Some of the most common operators are:\n",
    "- Arithmetic: As the name says it, they allow you to do arithmetic operations, such as `+` or `-`.\n",
    "- Assignment: These operators assign values to variables, like the equal sign (`=`).\n",
    "- Comparison: They compare if two values are the same, such as *equal* (`==`) or *not equal* (`!=`), and return `True` or `False` accordingly.\n",
    "- Identity: They also compare two values: `is` or `is not`, but are not exactly the same as `==` or `!=`. Is good to know them, but to avoid potential errors, always use comparison operators instead.\n",
    "- Logical: These operators are used to connect multiple logical evaluations. For example, if you want to evaluate if a fruit is both, round and orange, you use the operator `and`.\n",
    "- Membership: Checks if a sequence of objects is present in another object. For example, `\"ap\" in \"apple\"` returns `True` as the characters `\"ap\"` are present in the string of characters `\"apple\"`.\n",
    "\n",
    "Let's go one by one with some examples."
   ]
  },
  {
   "cell_type": "markdown",
   "id": "4e25daa0",
   "metadata": {},
   "source": [
    "#### Arithmetic\n",
    "\n",
    "- `+`: Addition (`x + y`)\n",
    "- `-`: Subtraction (`x - y`)\n",
    "- `*`: Multiplication (`x * y`)\n",
    "- `/`: Division (`x / y`)\n",
    "- `%`: Modulus, returns the remainder of a division (`x % y`), or the value on the right side of the decimal point. For example, if you divide 3 cookies between 3 children the remainder is 0 (`3 % 3`), but if you divide them between 2 children the remainder is different to zero (`3 % 2`). This operation helps, for example, when you want to know if a number is even or odd.\n",
    "- `//`: Floor division, ignores the decimals (`x // y`)\n",
    "- `**`: Exponentiation (`x ** y`)\n",
    "\n",
    "Some examples are:"
   ]
  },
  {
   "cell_type": "code",
   "execution_count": 711,
   "id": "9e7b65b7",
   "metadata": {
    "ExecuteTime": {
     "end_time": "2023-07-15T11:03:03.573833Z",
     "start_time": "2023-07-15T11:02:56.380834Z"
    }
   },
   "outputs": [
    {
     "name": "stdout",
     "output_type": "stream",
     "text": [
      "x +  y =  7\n",
      "x -  y =  3\n",
      "x *  y =  10\n",
      "x /  y =  2.5\n",
      "x %  y =  1\n",
      "x // y =  2\n",
      "x ** y =  25\n"
     ]
    }
   ],
   "source": [
    "x = 5\n",
    "y = 2\n",
    "\n",
    "print(\"x +  y = \", x +  y)\n",
    "print(\"x -  y = \", x -  y)\n",
    "print(\"x *  y = \", x *  y)\n",
    "print(\"x /  y = \", x /  y)\n",
    "print(\"x %  y = \", x %  y)\n",
    "print(\"x // y = \", x // y)\n",
    "print(\"x ** y = \", x ** y)"
   ]
  },
  {
   "cell_type": "code",
   "execution_count": 712,
   "id": "f7758892",
   "metadata": {
    "ExecuteTime": {
     "end_time": "2023-07-15T11:03:03.612563Z",
     "start_time": "2023-07-15T11:02:56.385719Z"
    }
   },
   "outputs": [
    {
     "name": "stdout",
     "output_type": "stream",
     "text": [
      "x +  y =  7\n",
      "x -  y =  1\n",
      "x *  y =  12\n",
      "x /  y =  1.3333333333333333\n",
      "x %  y =  1\n",
      "x // y =  1\n",
      "x ** y =  64\n"
     ]
    }
   ],
   "source": [
    "x = 4\n",
    "y = 3\n",
    "\n",
    "print(\"x +  y = \", x +  y)\n",
    "print(\"x -  y = \", x -  y)\n",
    "print(\"x *  y = \", x *  y)\n",
    "print(\"x /  y = \", x /  y)\n",
    "print(\"x %  y = \", x %  y)\n",
    "print(\"x // y = \", x // y)\n",
    "print(\"x ** y = \", x ** y)"
   ]
  },
  {
   "cell_type": "markdown",
   "id": "b8fbe543",
   "metadata": {},
   "source": [
    "#### Exercise:\n",
    "1. Copy the code in the cell above into the cell below.\n",
    "2. Change the values of the variables.\n",
    "3. Print new results.\n",
    "\n",
    "- **Going further**: Let’s explore the methods and try some new things out. Add a cell below and find out which operations can also be used with two strings, and which can be used with one string and one number. "
   ]
  },
  {
   "cell_type": "code",
   "execution_count": 713,
   "id": "a1a17385",
   "metadata": {
    "ExecuteTime": {
     "end_time": "2023-07-15T11:03:03.619423Z",
     "start_time": "2023-07-15T11:02:56.419510Z"
    }
   },
   "outputs": [
    {
     "name": "stdout",
     "output_type": "stream",
     "text": [
      "x +  y =  helloh\n",
      "x *  y =  hellohellohellohello\n"
     ]
    }
   ],
   "source": [
    "x = \"hello\"\n",
    "y = \"h\"\n",
    "\n",
    "print(\"x +  y = \", x +  y)\n",
    "#print(\"x -  y = \", x -  y)\n",
    "#print(\"x *  y = \", x *  y)\n",
    "#print(\"x /  y = \", x /  y)\n",
    "#print(\"x %  y = \", x %  y)\n",
    "#print(\"x // y = \", x // y)\n",
    "#print(\"x ** y = \", x ** y)\n",
    "\n",
    "x = \"hello\"\n",
    "y = 4\n",
    "\n",
    "#print(\"x +  y = \", x +  y)\n",
    "#print(\"x -  y = \", x -  y)\n",
    "print(\"x *  y = \", x *  y)\n",
    "#print(\"x /  y = \", x /  y)\n",
    "#print(\"x %  y = \", x %  y)\n",
    "#print(\"x // y = \", x // y)\n",
    "#print(\"x ** y = \", x ** y)"
   ]
  },
  {
   "cell_type": "markdown",
   "id": "8c1320c5",
   "metadata": {},
   "source": [
    "#### Assignment\n",
    "\n",
    "- `=`: `x = 10`\n",
    "- `+=`: `x += 5` is the same as `x = x + 5`\n",
    "- `-=`: `x -= 5` is the same as `x = x - 5`\n",
    "- `*=`: `x *= 5` is the same as `x = x * 5`\n",
    "- `/=`: `x /= 5` is the same as `x = x / 5`\n",
    "\n",
    "Some examples are:"
   ]
  },
  {
   "cell_type": "code",
   "execution_count": 714,
   "id": "899d45a9",
   "metadata": {
    "ExecuteTime": {
     "end_time": "2023-07-15T11:03:03.624538Z",
     "start_time": "2023-07-15T11:02:56.459786Z"
    }
   },
   "outputs": [
    {
     "name": "stdout",
     "output_type": "stream",
     "text": [
      "x += 5 =  15\n",
      "x = x + 5 =  15\n"
     ]
    }
   ],
   "source": [
    "x = 10\n",
    "x += 5\n",
    "print(\"x += 5 = \", x)\n",
    "\n",
    "x = 10\n",
    "x = x + 5\n",
    "print(\"x = x + 5 = \", x)"
   ]
  },
  {
   "cell_type": "markdown",
   "id": "20918eca",
   "metadata": {},
   "source": [
    "#### Exercise:\n",
    "1. Copy the code in the cell above into the cell below.\n",
    "2. Perform the same two computations for each of the assignment operators (`+=`, `-=`, `*=`, `/=`).\n",
    "3. Print new results."
   ]
  },
  {
   "cell_type": "code",
   "execution_count": 715,
   "id": "6f26b9a2",
   "metadata": {
    "ExecuteTime": {
     "end_time": "2023-07-15T11:03:03.660597Z",
     "start_time": "2023-07-15T11:02:56.500340Z"
    }
   },
   "outputs": [
    {
     "name": "stdout",
     "output_type": "stream",
     "text": [
      "x += 5 =  6\n",
      "x -= 5 =  -3\n",
      "x *= 5 =  18\n",
      "x /= 5 =  0.4\n"
     ]
    }
   ],
   "source": [
    "x = 1\n",
    "x += 5\n",
    "print(\"x += 5 = \", x)\n",
    "\n",
    "x = 2\n",
    "x -= 5\n",
    "print(\"x -= 5 = \", x)\n",
    "\n",
    "x = 3\n",
    "x *= 6\n",
    "print(\"x *= 5 = \", x)\n",
    "\n",
    "x = 2\n",
    "x /= 5\n",
    "print(\"x /= 5 = \", x)\n"
   ]
  },
  {
   "cell_type": "markdown",
   "id": "f2e96f1d",
   "metadata": {},
   "source": [
    "#### Comparison\n",
    "\n",
    "- `==`: Equal (`x == y`)\n",
    "- `!=`: Not equal (`x != y`)\n",
    "- `>`: Greater than (`x > y`)\n",
    "- `<`: Less than (`x < y`)\n",
    "- `>=`: Greater than or equal to (`x >= y`)\n",
    "- `<=`: Less than or equal to (`x <= y`)\n",
    "\n",
    "Some examples are:"
   ]
  },
  {
   "cell_type": "code",
   "execution_count": 716,
   "id": "37871020",
   "metadata": {
    "ExecuteTime": {
     "end_time": "2023-07-15T11:03:03.667358Z",
     "start_time": "2023-07-15T11:02:56.540052Z"
    }
   },
   "outputs": [
    {
     "name": "stdout",
     "output_type": "stream",
     "text": [
      "x == y =  False\n",
      "x != y =  True\n",
      "x >  y =  True\n",
      "x <  y =  False\n",
      "x >= y =  True\n",
      "x <= y =  False\n"
     ]
    }
   ],
   "source": [
    "x = 5\n",
    "y = 2\n",
    "\n",
    "print(\"x == y = \", x == y)\n",
    "print(\"x != y = \", x != y)\n",
    "print(\"x >  y = \", x >  y)\n",
    "print(\"x <  y = \", x <  y)\n",
    "print(\"x >= y = \", x >= y)\n",
    "print(\"x <= y = \", x <= y)"
   ]
  },
  {
   "cell_type": "markdown",
   "id": "c96c788c",
   "metadata": {},
   "source": [
    "#### Exercise:\n",
    "1. Copy the code in the cell above into the cell below.\n",
    "2. Change the values of the variables.\n",
    "3. Print new results.\n",
    "\n",
    "- **Going further**: Add a cel below and find out which operations can also be used with two strings."
   ]
  },
  {
   "cell_type": "code",
   "execution_count": 717,
   "id": "a2cf52d9",
   "metadata": {
    "ExecuteTime": {
     "end_time": "2023-07-15T11:03:03.713144Z",
     "start_time": "2023-07-15T11:02:56.581245Z"
    }
   },
   "outputs": [
    {
     "name": "stdout",
     "output_type": "stream",
     "text": [
      "x == y =  False\n",
      "x != y =  True\n",
      "x >  y =  False\n",
      "x <  y =  True\n",
      "x >= y =  False\n",
      "x <= y =  True\n",
      "x == y =  False\n",
      "x != y =  True\n",
      "x == y =  False\n",
      "x != y =  True\n",
      "x >  y =  True\n",
      "x <  y =  False\n",
      "x >= y =  True\n",
      "x <= y =  False\n"
     ]
    }
   ],
   "source": [
    "x = 3\n",
    "y = 4\n",
    "\n",
    "print(\"x == y = \", x == y)\n",
    "print(\"x != y = \", x != y)\n",
    "print(\"x >  y = \", x >  y)\n",
    "print(\"x <  y = \", x <  y)\n",
    "print(\"x >= y = \", x >= y)\n",
    "print(\"x <= y = \", x <= y)\n",
    "\n",
    "x = \"hello\"\n",
    "y = 4\n",
    "\n",
    "print(\"x == y = \", x == y)\n",
    "print(\"x != y = \", x != y)\n",
    "#print(\"x >  y = \", x >  y)\n",
    "#print(\"x <  y = \", x <  y)\n",
    "#print(\"x >= y = \", x >= y)\n",
    "#print(\"x <= y = \", x <= y)\n",
    "\n",
    "x = \"hello\"\n",
    "y = \"h\"\n",
    "\n",
    "print(\"x == y = \", x == y)\n",
    "print(\"x != y = \", x != y)\n",
    "print(\"x >  y = \", x >  y)\n",
    "print(\"x <  y = \", x <  y)\n",
    "print(\"x >= y = \", x >= y)\n",
    "print(\"x <= y = \", x <= y)"
   ]
  },
  {
   "cell_type": "markdown",
   "id": "9f0257c6",
   "metadata": {},
   "source": [
    "#### Identity\n",
    "\n",
    "- `is`: Returns `True` if both variables are the same object (`x is y`)\n",
    "- `is not`: Returns `True` if both variables are not the same object (`x is not y`)\n",
    "\n",
    "Some examples are:"
   ]
  },
  {
   "cell_type": "code",
   "execution_count": 718,
   "id": "3d50d806",
   "metadata": {
    "ExecuteTime": {
     "end_time": "2023-07-15T11:03:03.769726Z",
     "start_time": "2023-07-15T11:02:56.620202Z"
    }
   },
   "outputs": [
    {
     "name": "stdout",
     "output_type": "stream",
     "text": [
      "False\n",
      "True\n"
     ]
    }
   ],
   "source": [
    "a = [1,2]\n",
    "b = [1,2]\n",
    "c=a\n",
    "print(a is b)\n",
    "print(c is a)"
   ]
  },
  {
   "cell_type": "code",
   "execution_count": 719,
   "id": "694fe3d6",
   "metadata": {
    "ExecuteTime": {
     "end_time": "2023-07-15T11:03:03.769966Z",
     "start_time": "2023-07-15T11:02:56.624419Z"
    }
   },
   "outputs": [
    {
     "name": "stdout",
     "output_type": "stream",
     "text": [
      "x is y =  False\n",
      "x is not y =  True\n"
     ]
    }
   ],
   "source": [
    "x = 5\n",
    "y = 2\n",
    "\n",
    "print(\"x is y = \", x is y)\n",
    "print(\"x is not y = \", x is not y)"
   ]
  },
  {
   "cell_type": "markdown",
   "id": "0e651a97",
   "metadata": {},
   "source": [
    "#### Exercise:\n",
    "1. Copy the code in the cell above into the cell below.\n",
    "2. Change the values of the variables to\n",
    "  - Task 1: `x = 5`, `y = 5` and print the results.\n",
    "  - Task 2: `x = 5`, `y = 5.0` and print the results.\n",
    "3. Tasks 3 and 4: For a little experiment, let's make a small change to our original code from step 1:\n",
    "  - Instead of `x is y`, use `x == y`\n",
    "  - Instead of `x is not y`, use `x != y`\n",
    "  \n",
    "Once you've done that, repeat step 2.\n",
    "\n",
    "You will see different results when you compare side-by-side the four tasks.\n",
    "The reason behind this peculiar situation is that the `==` operator compares the value of two objects, whereas the `is` operator checks whether two variables point to the same object in memory.\n",
    "It is good to know identity operators exist, but they can cause code bugs if we don't use them carefully. The moral of the lesson is, as a beginner, better use *comparison* operators and avoid using *identity* operators."
   ]
  },
  {
   "cell_type": "code",
   "execution_count": 720,
   "id": "34e7ad7f",
   "metadata": {
    "ExecuteTime": {
     "end_time": "2023-07-15T11:03:03.812819Z",
     "start_time": "2023-07-15T11:02:56.659269Z"
    }
   },
   "outputs": [
    {
     "name": "stdout",
     "output_type": "stream",
     "text": [
      "x is y =  True\n",
      "x is not y =  False\n",
      "x is y =  False\n",
      "x is not y =  True\n",
      "x == y =  False\n",
      "x != y =  True\n"
     ]
    }
   ],
   "source": [
    "x = 5\n",
    "y = 5\n",
    "\n",
    "print(\"x is y = \", x is y)\n",
    "print(\"x is not y = \", x is not y)\n",
    "\n",
    "x = 5\n",
    "y = 5.0\n",
    "\n",
    "print(\"x is y = \", x is y)\n",
    "print(\"x is not y = \", x is not y)\n",
    "\n",
    "x = 5\n",
    "y = 2\n",
    "\n",
    "print(\"x == y = \", x == y)\n",
    "print(\"x != y = \", x != y)"
   ]
  },
  {
   "cell_type": "markdown",
   "id": "6f637170",
   "metadata": {},
   "source": [
    "#### Logical\n",
    "\n",
    "- `and`: Returns `True` if both statements are true (`x > 5 and x < 10`)\n",
    "- `or`: Returns `True` if one of the statements is true (`x < 5 or x > 10`)\n",
    "- `not`: Reverse the result. Returns `False` if the result is true (`not(x < 5 or x > 10)`)\n",
    "\n",
    "Some examples are:"
   ]
  },
  {
   "cell_type": "code",
   "execution_count": 721,
   "id": "a86799fd",
   "metadata": {
    "ExecuteTime": {
     "end_time": "2023-07-15T11:03:03.819959Z",
     "start_time": "2023-07-15T11:02:56.699671Z"
    }
   },
   "outputs": [
    {
     "name": "stdout",
     "output_type": "stream",
     "text": [
      "    x > a and x < b  =  True\n",
      "    x < a or  x > b  =  False\n",
      "not(x < a or  x > b) =  True\n"
     ]
    }
   ],
   "source": [
    "a = 5\n",
    "x = 8\n",
    "b = 10\n",
    "\n",
    "print(\"    x > a and x < b  = \",     x > a and x < b)\n",
    "print(\"    x < a or  x > b  = \",     x < a or  x > b)\n",
    "print(\"not(x < a or  x > b) = \", not(x < a or  x > b))"
   ]
  },
  {
   "cell_type": "markdown",
   "id": "99b750d4",
   "metadata": {},
   "source": [
    "#### Exercise:\n",
    "1. Copy the code in the cell above into the cell below.\n",
    "2. Change the values of the variables.\n",
    "3. Print new results."
   ]
  },
  {
   "cell_type": "code",
   "execution_count": 722,
   "id": "f7da2f33",
   "metadata": {
    "ExecuteTime": {
     "end_time": "2023-07-15T11:03:03.861421Z",
     "start_time": "2023-07-15T11:02:56.740075Z"
    }
   },
   "outputs": [
    {
     "name": "stdout",
     "output_type": "stream",
     "text": [
      "    x > a and x < b  =  True\n",
      "    x < a or  x > b  =  False\n",
      "not(x < a or  x > b) =  True\n"
     ]
    }
   ],
   "source": [
    "a = 1\n",
    "x = 2\n",
    "b = 3\n",
    "\n",
    "print(\"    x > a and x < b  = \",     x > a and x < b)\n",
    "print(\"    x < a or  x > b  = \",     x < a or  x > b)\n",
    "print(\"not(x < a or  x > b) = \", not(x < a or  x > b))"
   ]
  },
  {
   "cell_type": "markdown",
   "id": "51a296c1",
   "metadata": {},
   "source": [
    "#### Membership\n",
    "\n",
    "- `in`: Returns `True` if a sequence with the specified value is present in another object (`x in y`)\n",
    "- `not in`: Returns `True` if a sequence with the specified value is not present in another object (`x not in y`)\n",
    "\n",
    "Some examples are:"
   ]
  },
  {
   "cell_type": "code",
   "execution_count": 723,
   "id": "948a5dc8",
   "metadata": {
    "ExecuteTime": {
     "end_time": "2023-07-15T11:03:03.868050Z",
     "start_time": "2023-07-15T11:02:56.779372Z"
    }
   },
   "outputs": [
    {
     "name": "stdout",
     "output_type": "stream",
     "text": [
      "True\n",
      "False\n"
     ]
    }
   ],
   "source": [
    "x = 5\n",
    "y = [-10, -5, 0, 5, 10]\n",
    "\n",
    "print(x in y)\n",
    "print(x not in y)"
   ]
  },
  {
   "cell_type": "markdown",
   "id": "51b24e4b",
   "metadata": {},
   "source": [
    "#### Exercise:\n",
    "1. Copy the code in the cell above into the cell below.\n",
    "2. Change the values of the variables.\n",
    "3. Print new results.\n",
    "\n",
    "- **Going further**: Add a cell below and repeat the operations with strings."
   ]
  },
  {
   "cell_type": "code",
   "execution_count": 724,
   "id": "54554f3b",
   "metadata": {
    "ExecuteTime": {
     "end_time": "2023-07-15T11:03:03.913199Z",
     "start_time": "2023-07-15T11:02:56.819164Z"
    }
   },
   "outputs": [
    {
     "name": "stdout",
     "output_type": "stream",
     "text": [
      "False\n",
      "True\n"
     ]
    }
   ],
   "source": [
    "x = 2\n",
    "y = [-4, -2, 1, 3, 7]\n",
    "\n",
    "print(x in y)\n",
    "print(x not in y)"
   ]
  },
  {
   "cell_type": "markdown",
   "id": "7fa6deb4",
   "metadata": {},
   "source": [
    "This concludes the first milestone! Great job reaching this point. In the following notebook, you will learn about creating your own functions and flows. 😊\n"
   ]
  },
  {
   "cell_type": "markdown",
   "source": [
    "# Introduction to Coding for AI"
   ],
   "metadata": {
    "collapsed": false
   }
  },
  {
   "cell_type": "markdown",
   "source": [
    "## 2. Flow and Functions"
   ],
   "metadata": {
    "collapsed": false
   }
  },
  {
   "cell_type": "markdown",
   "source": [
    "As you write pen on paper in your notebook, your words flow through consecutive lines. Similarly, in Jupyter Notebooks, the code is written in consecutive cells, and sometimes the code in one cell depends on the code executed in a cell above. That’s why you need to make sure that every time you open a notebook you run every cell, and in the same order that they appear. Once you run a cell, you can go back to it, modify the code and run it again.\n",
    "\n",
    "This brings us to another critical aspect of Jupyter notebooks. If you use variables with the same name in different cells, the variable will always have the last value that you assign to it. For example, you may have a notebook with the code `price = 100; discount = 10` in cell 1, the code `final_price = price - discount` in cell 2, and the code `price = \"expensive\"` in cell 10. If you execute cell 1 and cell 2, you will get a correct result, but if you then execute cell 10 and then cell 2 again, you will get an error as you are telling Python to subtract a number from a string. What's even more dangerous, is if the code in cell 10 would have been `price = 200` instead of `price = \"expensive\"`. Because in this case it’s a number you wouldn’t get an error, but a wrong result, most probably without noticing!\n",
    "\n",
    "Here are some tips to avoid these problems when you create your own notebooks:\n",
    "- Run all cells from top to bottom, don’t start running cells in the middle.\n",
    "- Don’t name different variables with the same name.\n",
    "- Only re-run a cell when you are sure this won’t assign it a value that will cause errors -or wrong results- in cells that you run afterward.\n"
   ],
   "metadata": {
    "collapsed": false
   }
  },
  {
   "cell_type": "markdown",
   "source": [
    "### 2.1. Python syntax\n",
    "\n",
    "The set of rules by which we arrange words in a sentence, whether in English or German, is called syntax. Programming languages are no different, and each has its own. Let’s check out the syntax of Python and learn the set of rules by which a Python program will be written."
   ],
   "metadata": {
    "collapsed": false
   }
  },
  {
   "cell_type": "markdown",
   "source": [
    "#### Comments\n",
    "\n",
    "First, let's talk about **comments**. They are text that is only meant to be read by people, and not for Python to interpret. Using comments can be very useful to clarify what you are doing. The rule is to always use the hashtag symbol (`#`) before typing. This will tell Python to ignore everything that's written in that line after the `#`.\n",
    "\n",
    "Comments can also be used to temporarily to stop code from being executed, which comes in handy when developing software. You can place comments in many places: at the beginning of a line of code, inside a code block, or after a code instruction.\n",
    "\n",
    "Use comments to add information that helps other people -and yourself- to understand your code, or to temporarily ignore code when you are prototyping.\n",
    "Importantly, don't use comments to describe the operations that are already being shown by the code itself, but use them to describe higher-level information, such as the overall intention of an approach to solve a problem, or some precautions other people should take if they modify the code."
   ],
   "metadata": {
    "collapsed": false
   }
  },
  {
   "cell_type": "code",
   "execution_count": 725,
   "outputs": [],
   "source": [
    "# I am a comment\n",
    "\n",
    "##########\n",
    "# ME TOO #\n",
    "##########"
   ],
   "metadata": {
    "collapsed": false,
    "ExecuteTime": {
     "end_time": "2023-07-15T11:03:03.919753Z",
     "start_time": "2023-07-15T11:02:57.039530Z"
    }
   }
  },
  {
   "cell_type": "markdown",
   "source": [
    "**Key insight:** Always keep in mind that programming is an iterative activity, meaning that it is meant to be understood by others and by yourself when you haven't read your own code for a while.\n",
    "Tackling a problem with code is only part of the solution; another crucial aspect is producing clean code that can be easily understood and maintained by other people."
   ],
   "metadata": {
    "collapsed": false
   }
  },
  {
   "cell_type": "markdown",
   "source": [
    "### 2.2. Conditional statements\n",
    "\n",
    "As we go through our day, we make all sort of decisions, such as \"if the weather is nice, I'll put my clothes outside to dry, else I'll use the drying machine\".\n",
    "When we want to control the flow of code, we use conditional statements to tell Python to make this sort of decision-making.\n",
    "\n",
    "#### Indentation\n",
    "\n",
    "The next language aspect we’ll consider is **indentation**. It refers to the spaces at the beginning of some lines of code.\n",
    "\n",
    "In other programming languages, indentation helps only for readability, but in Python indentation indicates a block of code, also called scope. Scopes are necessary when you want that a sequence of operations works with the same variables. Don’t worry, you will see some examples in a moment.\n",
    "\n",
    "To indicate a block of code you have to add the same number of indentation spaces before each line of code, otherwise, Python will give you an error. The number of spaces is up to you, but as a convention, most people add **four spaces** behind each line of a code block. You'll see examples below.\n",
    "\n",
    "For example, in the following code, the first `print()` is only executed if the comparison operator evaluates to `True`. Otherwise, only the second `print()` is executed."
   ],
   "metadata": {
    "collapsed": false
   }
  },
  {
   "cell_type": "code",
   "execution_count": 726,
   "outputs": [
    {
     "name": "stdout",
     "output_type": "stream",
     "text": [
      "Print this if global_variable is greater than 5\n",
      "Print this always\n"
     ]
    }
   ],
   "source": [
    "###################\n",
    "# Syntax Exercise #\n",
    "###################\n",
    "\n",
    "global_variable = 10\n",
    "\n",
    "# The following is called \"IF statement\":\n",
    "if global_variable > 5:\n",
    "    print(\"Print this if global_variable is greater than 5\")\n",
    "    # <--- Notice the four spaces before the hash\n",
    "\n",
    "print(\"Print this always\")"
   ],
   "metadata": {
    "collapsed": false,
    "ExecuteTime": {
     "end_time": "2023-07-15T11:03:03.961392Z",
     "start_time": "2023-07-15T11:02:57.115907Z"
    }
   }
  },
  {
   "cell_type": "markdown",
   "source": [
    "Additionally to the white spaces defining the scope of variables, the code above also has a couple of new things.\n",
    "The first one are the hashtag symbols `#` used to write **comments**, and the second one is the `if` statement used to **conditionally** execute code. Let's explain them in more detail."
   ],
   "metadata": {
    "collapsed": false
   }
  },
  {
   "cell_type": "markdown",
   "source": [
    "#### Exercise:\n",
    "1. Copy the code of the Syntax Exercise into the cell below.\n",
    "2. Remove the existing comments, and add new comments explaining the idea behind the operation.\n",
    "3. Run the cell to print the results."
   ],
   "metadata": {
    "collapsed": false
   }
  },
  {
   "cell_type": "code",
   "execution_count": 727,
   "outputs": [
    {
     "name": "stdout",
     "output_type": "stream",
     "text": [
      "Print this if global_variable is greater than 5\n",
      "Print this always\n"
     ]
    }
   ],
   "source": [
    "\n",
    "global_variable = 6\n",
    "\n",
    "# This is an if-condition that prints the message in case the condition is true\n",
    "if global_variable > 5:\n",
    "    print(\"Print this if global_variable is greater than 5\")\n",
    "    # in case it is not true it will not be printed\n",
    "\n",
    "print(\"Print this always\")"
   ],
   "metadata": {
    "collapsed": false,
    "ExecuteTime": {
     "end_time": "2023-07-15T11:03:03.968198Z",
     "start_time": "2023-07-15T11:02:57.193132Z"
    }
   }
  },
  {
   "cell_type": "markdown",
   "source": [
    "#### The IF statement\n",
    "\n",
    "Conditional flow statements check for the logical evaluation of one or more comparison operations, and then decide whether to execute a code block or not.\n",
    "At the end of flow statements, such as the **if** statement, you use a colon (`:`) and the following line must have spaces to indicate the code block.\n",
    "So, in the example of the Syntax Exercise, the *if* statement has only a print function and a comment inside its corresponding code block.\n",
    "\n",
    "```\n",
    "global_variable = 10\n",
    "\n",
    "if global_variable > 5:\n",
    "    print(\"Print this if global_variable is greater than 5\")\n",
    "    # <--- Notice the four spaces before the hash\n",
    "\n",
    "print(\"Print this always\")\n",
    "```"
   ],
   "metadata": {
    "collapsed": false
   }
  },
  {
   "cell_type": "markdown",
   "source": [
    "#### Exercise:\n",
    "1. Copy the code of the Syntax Exercise into the cell below.\n",
    "2. Change from 4 to 2 the number of spaces defining the code block inside the *if* statement.\n",
    "3. Change the if statement to print \"Please insert more coins to get a drink.\" if the `global_variable` is less than or equal to 2.5.\n",
    "4. Run the cell to print the results.\n",
    "\n",
    "- **Going further**: Let's learn what error messages look like. Remove all the spaces inside the code block and read the error message. Is the message clearly showing what is wrong in the code and how to fix it? Add the spaces back and re-run the cell to remove the error message."
   ],
   "metadata": {
    "collapsed": false
   }
  },
  {
   "cell_type": "code",
   "execution_count": 728,
   "outputs": [
    {
     "name": "stdout",
     "output_type": "stream",
     "text": [
      "Print this always\n"
     ]
    }
   ],
   "source": [
    "global_variable = 10\n",
    "\n",
    "if global_variable <= 2.5:\n",
    "  print(\"Please insert more coins to get a drink.\")\n",
    "    # <--- Notice the four spaces before the hash\n",
    "\n",
    "print(\"Print this always\")"
   ],
   "metadata": {
    "collapsed": false,
    "ExecuteTime": {
     "end_time": "2023-07-15T11:03:03.973548Z",
     "start_time": "2023-07-15T11:02:57.270122Z"
    }
   }
  },
  {
   "cell_type": "markdown",
   "source": [
    "#### Conditional statements and logical operators\n",
    "\n",
    "Other than the comparison operators, such as `==`, other common elements used together with conditional flow statements are the logical operators, such as `and` and `or`. Take a look at the following example:"
   ],
   "metadata": {
    "collapsed": false
   }
  },
  {
   "cell_type": "code",
   "execution_count": 729,
   "outputs": [
    {
     "name": "stdout",
     "output_type": "stream",
     "text": [
      "License approved: False\n"
     ]
    }
   ],
   "source": [
    "first_name = \"John\"\n",
    "last_name = \"Smith\"\n",
    "age = 20\n",
    "grade = 8\n",
    "driving_licence_approved = False\n",
    "\n",
    "MIN_AGE = 21\n",
    "MIN_GRADE = 6  # Grades go from 0 to 10\n",
    "\n",
    "if age >= MIN_AGE:\n",
    "    if grade >= MIN_GRADE:\n",
    "        driving_licence_approved = True\n",
    "\n",
    "# You can also replace the nested IF statements\n",
    "# with the AND logical operator to simplify your code:\n",
    "if age >= MIN_AGE and grade >= MIN_GRADE:\n",
    "    driving_licence_approved = True\n",
    "\n",
    "print(f\"License approved: {driving_licence_approved}\")"
   ],
   "metadata": {
    "collapsed": false,
    "ExecuteTime": {
     "end_time": "2023-07-15T11:03:04.013075Z",
     "start_time": "2023-07-15T11:02:57.310431Z"
    }
   }
  },
  {
   "cell_type": "markdown",
   "source": [
    "Indeed there are a few new things in this code. Let’s check them together.\n",
    "Firstly, you may have noticed some variables are written in UPPER case letters. This indicates that they are **constants**, or values that almost never change.\n",
    "This is only a naming convention between developers but to Python, it’s just a variable.\n",
    "\n",
    "Next, we have *if* statements placed inside other *if* statements.\n",
    "Remember? That’s when a code line has a four-space indentation compared to the previous one.\n",
    "These are called **nested** *if* statements.\n",
    "When you nest statements, it's critical to add four spaces for each additional *if* to define its scope.\n",
    "If you write a line of code with four spaces less than the innermost *if*, this indicates to Python that this line belongs to the previous *if* statement. For example, both pieces in the following code produce the same result:\n",
    "\n",
    "```\n",
    "# Version 1\n",
    "if height > 100:\n",
    "    print(\"It's tall\")\n",
    "    if width > 100:\n",
    "        print(\"It's wide\")\n",
    "        if depth > 100:\n",
    "            print(\"It's deep\")\n",
    "\n",
    "# Version 2\n",
    "if height > 100:\n",
    "    if width > 100:\n",
    "        if depth > 100:\n",
    "            print(\"It's deep\")\n",
    "        print(\"It's wide\")\n",
    "    print(\"It's tall\")\n",
    "```\n",
    "\n",
    "Lastly, we added a new way of editing the text that we want to print: `print(f\"License approved: {driving_licence_approved}\")`.\n",
    "This is called **string formatting** and you will gradually learn more about it.\n",
    "What is important for now, is that you know that you can insert the value of variables inside strings of text.\n",
    "One way of doing this is by adding the letter `f` before the string quotes and then by adding a pair of *curly braces* `{}` inside the string where you want to insert the variable value.\n",
    "\n",
    "Now let's add a few more components to our flow exercise. Once again, look out for new things:"
   ],
   "metadata": {
    "collapsed": false
   }
  },
  {
   "cell_type": "code",
   "execution_count": 730,
   "outputs": [
    {
     "name": "stdout",
     "output_type": "stream",
     "text": [
      "It's tall\n"
     ]
    }
   ],
   "source": [
    "#Version 1\n",
    "height = 101\n",
    "width = 50\n",
    "if height > 100:\n",
    "    print(\"It's tall\")\n",
    "    if width > 100:\n",
    "        print(\"It's wide\")\n",
    "        if depth > 100:\n",
    "            print(\"It's deep\")"
   ],
   "metadata": {
    "collapsed": false,
    "ExecuteTime": {
     "end_time": "2023-07-15T11:03:04.061686Z",
     "start_time": "2023-07-15T11:02:57.350006Z"
    }
   }
  },
  {
   "cell_type": "code",
   "execution_count": 731,
   "outputs": [
    {
     "name": "stdout",
     "output_type": "stream",
     "text": [
      "It's wide\n",
      "It's tall\n"
     ]
    }
   ],
   "source": [
    "height = 101\n",
    "width = 50\n",
    "#Version 2\n",
    "if height > 100:\n",
    "    if width > 100:\n",
    "        if depth > 100:\n",
    "            print (\"It's deep\")\n",
    "    print (\"It's wide\")\n",
    "print (\"It's tall\")"
   ],
   "metadata": {
    "collapsed": false,
    "ExecuteTime": {
     "end_time": "2023-07-15T11:03:04.061927Z",
     "start_time": "2023-07-15T11:02:57.354756Z"
    }
   }
  },
  {
   "cell_type": "code",
   "execution_count": 732,
   "outputs": [
    {
     "name": "stdout",
     "output_type": "stream",
     "text": [
      "Come back once you have the minimum age for driving.\n",
      "License approved: False\n"
     ]
    }
   ],
   "source": [
    "first_name = \"John\"\n",
    "last_name = \"Smith\"\n",
    "age = 20\n",
    "grade = 8\n",
    "driving_licence_approved = False\n",
    "\n",
    "MIN_AGE = 21\n",
    "MIN_GRADE = 6  # Grades go from 0 to 10\n",
    "\n",
    "old_enough = age >= MIN_AGE\n",
    "passed_test = grade >= MIN_GRADE\n",
    "\n",
    "if old_enough and passed_test:\n",
    "    driving_licence_approved = True\n",
    "elif old_enough and not passed_test:\n",
    "    print(\"Please try again the driving exam.\")\n",
    "else:  # Execute this block if none of the above blocks is executed\n",
    "    print(\"Come back once you have the minimum age for driving.\")\n",
    "\n",
    "print(f\"License approved: {driving_licence_approved}\")"
   ],
   "metadata": {
    "collapsed": false,
    "ExecuteTime": {
     "end_time": "2023-07-15T11:03:04.062082Z",
     "start_time": "2023-07-15T11:02:57.359123Z"
    }
   }
  },
  {
   "cell_type": "markdown",
   "source": [
    "Did you spot them? Our new flow components are `elif` and `else`.\n",
    "You may be thinking “Wait, what? What does elif even mean? 😳”. Let’s look at the example in more detail.\n",
    "\n",
    "1. When the `if` statement evaluates to `True` and is executed, all the remaining `elif` and `else` elements are ignored. So, `if old_enough and passed_test`, then the licence is approved. When the code inside the `if` statement is not executed, the next flow evaluation is checked.\n",
    "\n",
    "2. In this case, the next evaluation is the `elif`, which stands for *else if*. Same as before, when the code of an `elif` statement is executed, the remaining elements are ignored. So, `elif old_enough and not passed_test`, then we should ask John to \"try again the driving exam\".\n",
    "\n",
    "3. Finally, *if none* of the `if` and `elif` statements are executed, then the `else` statement will *always* be executed. So, `else`, we should ask John to \"come back once he has the minimum age for driving\".\n",
    "\n",
    "There can be only one `if` and one `else` statements connected, but you can add as many `elif` statements as you want in between.\n",
    "\n",
    "Another change we made was to **extract** the comparison operations into variables with explicit names. More concretely, we changed this format:\n",
    "\n",
    "`if age >= MIN_AGE and grade >= MIN_GRADE:`\n",
    "\n",
    "to this format:\n",
    "\n",
    "```\n",
    "old_enough = age >= MIN_AGE\n",
    "passed_test = grade >= MIN_GRADE\n",
    "\n",
    "if old_enough and passed_test:\n",
    "````\n",
    "\n",
    "The second format has more lines of code, but it's more clear.\n",
    "Do you see how naming your variables intuitively can make your code read almost like the English language? You are starting to like the Python syntax, aren't you? 😏"
   ],
   "metadata": {
    "collapsed": false
   }
  },
  {
   "cell_type": "markdown",
   "source": [
    "#### Exercise:\n",
    "1. Copy the code of the cell above into the cell below.\n",
    "2. Help John to get his driving license by updating his age.\n",
    "3. Include one additional `elif` statement that prints \"Please include First Name and Last Name\" if either the first name `or` the last name are empty strings. Checking that all inputs to your program are correct is called **validation**.\n",
    "\n",
    "4. Run the cell to print the results.\n",
    "\n",
    "- **Going further**: Extract the validation of the name strings into two additional variables. The new variables should have meaningful names that facilitate reading the code in the new `elif ` statement. For example: `elif no_firstname and no_lastname:`"
   ],
   "metadata": {
    "collapsed": false
   }
  },
  {
   "cell_type": "code",
   "execution_count": 733,
   "outputs": [
    {
     "name": "stdout",
     "output_type": "stream",
     "text": [
      "True\n"
     ]
    }
   ],
   "source": [
    "name = \"\"\n",
    "print(len(name) == 0)"
   ],
   "metadata": {
    "collapsed": false,
    "ExecuteTime": {
     "end_time": "2023-07-15T11:03:04.161645Z",
     "start_time": "2023-07-15T11:02:57.425534Z"
    }
   }
  },
  {
   "cell_type": "code",
   "execution_count": 734,
   "outputs": [
    {
     "name": "stdout",
     "output_type": "stream",
     "text": [
      "5\n",
      "4\n",
      "Hello World for Erica\n"
     ]
    }
   ],
   "source": [
    "def get_length(my_input):\n",
    "    result = 0\n",
    "\n",
    "    for letter in my_input:\n",
    "        result+=1\n",
    "\n",
    "    return result\n",
    "\n",
    "def greet_me():\n",
    "    print('Hello World for Erica')\n",
    "\n",
    "\n",
    "###################\n",
    "\n",
    "apple_length = get_length('apple')\n",
    "pear_length = get_length('pear')\n",
    "\n",
    "print(apple_length)\n",
    "print(pear_length)\n",
    "greet_me()"
   ],
   "metadata": {
    "collapsed": false,
    "ExecuteTime": {
     "end_time": "2023-07-15T11:03:04.161912Z",
     "start_time": "2023-07-15T11:02:57.430513Z"
    }
   }
  },
  {
   "cell_type": "code",
   "execution_count": 735,
   "outputs": [
    {
     "name": "stdout",
     "output_type": "stream",
     "text": [
      "License approved: True\n"
     ]
    }
   ],
   "source": [
    "first_name = \"John\"\n",
    "last_name = \"Smith\"\n",
    "age = 21\n",
    "grade = 8\n",
    "driving_licence_approved = False\n",
    "no_first_name = len(first_name)==0\n",
    "no_last_name = len(last_name)==0\n",
    "\n",
    "MIN_AGE = 21\n",
    "MIN_GRADE = 6  # Grades go from 0 to 10\n",
    "\n",
    "old_enough = age >= MIN_AGE\n",
    "passed_test = grade >= MIN_GRADE\n",
    "\n",
    "if old_enough and passed_test:\n",
    "    driving_licence_approved = True\n",
    "elif old_enough and not passed_test:\n",
    "    print(\"Please try again the driving exam.\")\n",
    "elif no_first_name or no_last_name:\n",
    "    print(\"Please include First Name and Last Name\")\n",
    "else:  # Execute this block if none of the above blocks is executed\n",
    "    print(\"Come back once you have the minimum age for driving.\")\n",
    "\n",
    "print(f\"License approved: {driving_licence_approved}\")"
   ],
   "metadata": {
    "collapsed": false,
    "ExecuteTime": {
     "end_time": "2023-07-15T11:03:04.162066Z",
     "start_time": "2023-07-15T11:02:57.432813Z"
    }
   }
  },
  {
   "cell_type": "markdown",
   "source": [
    "### 2.3. Loops\n",
    "\n",
    "Sometimes you want to repeat the same operations a number of times before other code instructions. In this case loops are fantastic.\n",
    "Imagine that you have an online shopping cart with 5 items and you want to know the total price. The website could use a loop to iterate over your items and add the price of each one to get the total price.\n",
    "There are two types of loops that you will be using: `while` loops and `for` loops.\n",
    "`while` loops are used when you want to execute code as long as a condition is true.\n",
    "`for` loops are used when you want to execute code for a specific number of times.\n",
    "Let's see some examples.\n",
    "\n",
    "#### While loops\n",
    "\n",
    "`while` loops have a similar structure to `if` statements. They start with the keyword `while`, then evaluate a condition and if it is true execute the code block below. Otherwise, they stop looping and continue with the following instructions after their code block."
   ],
   "metadata": {
    "collapsed": false
   }
  },
  {
   "cell_type": "code",
   "execution_count": 736,
   "outputs": [
    {
     "name": "stdout",
     "output_type": "stream",
     "text": [
      "5\n"
     ]
    }
   ],
   "source": [
    "counter = 0\n",
    "\n",
    "while counter != 5:\n",
    "    counter += 1\n",
    "\n",
    "print(counter)"
   ],
   "metadata": {
    "collapsed": false,
    "ExecuteTime": {
     "end_time": "2023-07-15T11:03:04.173620Z",
     "start_time": "2023-07-15T11:02:57.465210Z"
    }
   }
  },
  {
   "cell_type": "code",
   "execution_count": 737,
   "outputs": [
    {
     "name": "stdout",
     "output_type": "stream",
     "text": [
      "1\n",
      "2\n",
      "3\n",
      "3\n"
     ]
    }
   ],
   "source": [
    "counter = 0\n",
    "while counter !=3:\n",
    "    counter +=1\n",
    "    print(counter)\n",
    "\n",
    "print(counter)"
   ],
   "metadata": {
    "collapsed": false,
    "ExecuteTime": {
     "end_time": "2023-07-15T11:03:04.173811Z",
     "start_time": "2023-07-15T11:02:57.469648Z"
    }
   }
  },
  {
   "cell_type": "markdown",
   "source": [
    "Be careful not to create **infinite loops**.\n",
    "Yes, you could create infinite loops that could crash your computer 😱\n",
    "This would be the case if you would start the counter with the value `6` or higher, because in every loop the counter would continue growing indefinitely (`6, 7, 8, 1000...`) as all the following numbers are always different to `5`.\n",
    "In this case, you could avoid this problem by changing the comparison operator from `counter != 5` to `counter < 5`, as the comparison operator will return `False` in all cases that the counter is greater than `5`.\n",
    "Infinite loops can be used sometimes, but if not used carefully they can run longer than expected and crash your computer once it runs out off memory (`OOM`).\n",
    "Sometimes, you will see `while` loops, so it is good that you know them, but we recommend you to avoid them and always use `for` loops."
   ],
   "metadata": {
    "collapsed": false
   }
  },
  {
   "cell_type": "markdown",
   "source": [
    "#### Exercise:\n",
    "1. Copy the code of the cell above into the cell below.\n",
    "2. Change the comparison operator from *not equal* to *less than*.\n",
    "3. Run the cell to print the results."
   ],
   "metadata": {
    "collapsed": false
   }
  },
  {
   "cell_type": "code",
   "execution_count": 738,
   "outputs": [
    {
     "name": "stdout",
     "output_type": "stream",
     "text": [
      "6\n"
     ]
    }
   ],
   "source": [
    "counter = 6\n",
    "\n",
    "while counter < 5:\n",
    "    counter += 1\n",
    "\n",
    "print(counter)"
   ],
   "metadata": {
    "collapsed": false,
    "ExecuteTime": {
     "end_time": "2023-07-15T11:03:04.212514Z",
     "start_time": "2023-07-15T11:02:57.541388Z"
    }
   }
  },
  {
   "cell_type": "markdown",
   "source": [
    "#### For loops\n",
    "\n",
    "Differently to `while` loops, `for` loops only are executed a pre-defined number of times, so they are *safer*. More concretely, you can use *for* loops to process elements of **iterable** objects. These objects can be lists, numeric arrays or rows in tables. Let's start with a simple case:"
   ],
   "metadata": {
    "collapsed": false
   }
  },
  {
   "cell_type": "code",
   "execution_count": 739,
   "outputs": [
    {
     "name": "stdout",
     "output_type": "stream",
     "text": [
      "banana\n",
      "apple\n",
      "orange\n"
     ]
    }
   ],
   "source": [
    "fruits_basket = [\"banana\", \"apple\", \"orange\"]\n",
    "\n",
    "for fruit in fruits_basket:\n",
    "    print(fruit)"
   ],
   "metadata": {
    "collapsed": false,
    "ExecuteTime": {
     "end_time": "2023-07-15T11:03:04.261385Z",
     "start_time": "2023-07-15T11:02:57.581524Z"
    }
   }
  },
  {
   "cell_type": "markdown",
   "source": [
    "In the code above, you **iterate** over the **elements** of a list.\n",
    "In each loop, you assign the value of an element in the list to the **temporary** variable `fruit`.\n",
    "Notice that the iteration keeps the order in which the elements in the list are defined.\n",
    "You can see this order more explicitly with the built-in function `enumerate()`.\n",
    "This function iterates over your list (or any other iterable object) and returns an index and the value of the element with that index. An example will clarify this:"
   ],
   "metadata": {
    "collapsed": false
   }
  },
  {
   "cell_type": "code",
   "execution_count": 740,
   "outputs": [
    {
     "name": "stdout",
     "output_type": "stream",
     "text": [
      "0 banana\n",
      "1 apple\n",
      "2 orange\n"
     ]
    }
   ],
   "source": [
    "fruits_basket = [\"banana\", \"apple\", \"orange\"]\n",
    "\n",
    "for index, value in enumerate(fruits_basket):\n",
    "    print(index, value)"
   ],
   "metadata": {
    "collapsed": false,
    "ExecuteTime": {
     "end_time": "2023-07-15T11:03:04.268149Z",
     "start_time": "2023-07-15T11:02:57.621694Z"
    }
   }
  },
  {
   "cell_type": "markdown",
   "source": [
    "Python has **zero-based indexing**, so every time it counts or *enumerates*, it starts with `0`.\n",
    "Another way of using for loops is with ranges. For example, `range(3)` will return three numbers, 0, 1 and 2."
   ],
   "metadata": {
    "collapsed": false
   }
  },
  {
   "cell_type": "code",
   "execution_count": 741,
   "outputs": [
    {
     "name": "stdout",
     "output_type": "stream",
     "text": [
      "0\n",
      "1\n",
      "2\n"
     ]
    }
   ],
   "source": [
    "for number in range(3):\n",
    "    print(number)"
   ],
   "metadata": {
    "collapsed": false,
    "ExecuteTime": {
     "end_time": "2023-07-15T11:03:04.310169Z",
     "start_time": "2023-07-15T11:02:57.660955Z"
    }
   }
  },
  {
   "cell_type": "markdown",
   "source": [
    "Additionally, you can interrupt loops (and *if* statements) with the commands `break` and `continue`.\n",
    "`break` stops the loop completely, and `continue` immediately starts the next iteration, skipping any remaining lines in the code block.\n",
    "You can observe both behaviors in the following example."
   ],
   "metadata": {
    "collapsed": false
   }
  },
  {
   "cell_type": "code",
   "execution_count": 742,
   "outputs": [
    {
     "name": "stdout",
     "output_type": "stream",
     "text": [
      "1\n",
      "3\n",
      "5\n"
     ]
    }
   ],
   "source": [
    "for number in range(10):\n",
    "    even_number = (number % 2) == 0\n",
    "    if even_number:\n",
    "        continue\n",
    "    elif number > 5:\n",
    "        break\n",
    "    else:\n",
    "        print(number)"
   ],
   "metadata": {
    "collapsed": false,
    "ExecuteTime": {
     "end_time": "2023-07-15T11:03:04.317Z",
     "start_time": "2023-07-15T11:02:57.701057Z"
    }
   }
  },
  {
   "cell_type": "markdown",
   "source": [
    "Let's unpack the code above. First, `even_number` evaluates to `True` when `number` is an even number. We set the function for an even number as follows: `(number % 2) == 0`, meaning that the number divided by 2 has a reminder of 0. In this case, the parentheses have no meaning to Python as there is no name written before them, they are being used simply to make the code more explicit and easier to read by people.\n",
    "\n",
    "**Remember:** Writing shorter code makes it more elegant, but clear communication is more important than elegance.\n",
    "Remember our golden rule: always aim to write code that is easy to read by other people.\n",
    "\n",
    "Next, the *if* statement checks whether the number is even, and skips the rest of the code block if this is true.\n",
    "However, it doesn't stop the *for* loop, but only jumps to the following iteration.\n",
    "On the other hand, the *for* loop stops when the `elif` evaluates to `True`, as its code block has the `break` instruction.\n",
    "Finally, if none of the previous evaluations is true, the `else` code block is executed.\n",
    "So, you can describe the code above in plain English as follows:\n",
    "- Starting with 0 and ending with 9, print the odd integers smaller than 5 😊"
   ],
   "metadata": {
    "collapsed": false
   }
  },
  {
   "cell_type": "markdown",
   "source": [
    "#### Exercise:\n",
    "1. In the cell below, write a for loop that:\n",
    "  - Prints the even integers between -3 and 3.\n",
    "  - Prints \"Odd\" instead of the odd numbers.\n",
    "2. Run the cell to see the results."
   ],
   "metadata": {
    "collapsed": false
   }
  },
  {
   "cell_type": "code",
   "execution_count": 743,
   "outputs": [
    {
     "name": "stdout",
     "output_type": "stream",
     "text": [
      "Odd\n",
      "-2\n",
      "Odd\n",
      "0\n",
      "Odd\n",
      "2\n"
     ]
    }
   ],
   "source": [
    "counter = -3\n",
    "\n",
    "while counter <3:\n",
    "    if counter %2==0:\n",
    "        print (counter)\n",
    "    else:\n",
    "        print (\"Odd\")\n",
    "    counter +=1\n"
   ],
   "metadata": {
    "collapsed": false,
    "ExecuteTime": {
     "end_time": "2023-07-15T11:03:04.359748Z",
     "start_time": "2023-07-15T11:02:57.776659Z"
    }
   }
  },
  {
   "cell_type": "markdown",
   "source": [
    "### 2.4. Functions\n",
    "\n",
    "You have already used some functions, like `print()` or `range()`, but what about creating your own ones? In the following example, we have a function that can take one or two numbers in. When it takes one number, it multiplies times 2 and returns the result. When it takes two numbers, it multiplies them together and returns the result. Below the function definition, the function is called two times, with different parameters each time, and then the results are printed. Analyze the differences in the printed results before you continue."
   ],
   "metadata": {
    "collapsed": false
   }
  },
  {
   "cell_type": "code",
   "execution_count": 744,
   "outputs": [
    {
     "name": "stdout",
     "output_type": "stream",
     "text": [
      "Result: 6, Multiplier: 2\n",
      "Result: 12, Multiplier: 4\n"
     ]
    }
   ],
   "source": [
    "def multiply(number, multiplier=2):\n",
    "    result = number * multiplier\n",
    "    return result, multiplier\n",
    "\n",
    "result, multiplier = multiply(3)\n",
    "print(f\"Result: {result}, Multiplier: {multiplier}\")\n",
    "\n",
    "result, multiplier = multiply(3, 4)\n",
    "print(f\"Result: {result}, Multiplier: {multiplier}\")"
   ],
   "metadata": {
    "collapsed": false,
    "ExecuteTime": {
     "end_time": "2023-07-15T11:03:04.366557Z",
     "start_time": "2023-07-15T11:02:57.817344Z"
    }
   }
  },
  {
   "cell_type": "markdown",
   "source": [
    "Here you have a recipe to create your own functions:\n",
    "\n",
    "1. The keyword to indicate Python that you are creating, or **defining** a function is `def`.\n",
    "2. Then you include an empty space followed by the name that you want to give to your function (follow the same rules we learned for naming variables), and then include a pair of parentheses `()`. In our example, these elements are `def multiply()`.\n",
    "3. The parentheses can be empty in between, or you can have one or multiple **arguments** if the function needs external information to do its job. For example `def multiply(number)`.\n",
    "4. Furthermore, you can assign **default** values to the arguments, that will be used unless you override them when you call the function. For example `def multiply(multiplier=2)`.\n",
    "5. Then, like in conditionals and loops, conclude the line by adding a colon (`:`).\n",
    "6. Below, also add four spaces before each line to indicate the function scope, and write down the computations that you want the function to perform. In our example, these elements are:\n",
    "```\n",
    "def multiply(number, multiplier=2):\n",
    "        result = number * multiplier\n",
    "```\n",
    "7. Finally, you can return one or multiple values with the keyword `return`, but this is optional. If you want to return multiple values, write them after the keyword `return` separating each value with a comma. The function in our example `return result, multiplier`, returns a tuple with two values, `result` and `multiplier`.\n",
    "\n",
    "As a side note, the variables that you indicate when you define a function are called **arguments** (`def multiply(number, multiplier):`), and the values that you pass when you call it are called **parameters** (`multiply(3, 4)`).\n",
    "Now you can **call** your function in the same way we have called other functions like `range()`, and store its result in a variable."
   ],
   "metadata": {
    "collapsed": false
   }
  },
  {
   "cell_type": "markdown",
   "source": [
    "#### Exercise:\n",
    "1. Write a function that:\n",
    "  - Takes three numbers as an argument.\n",
    "  - Adds the first two numbers and assigns this value to an intermediate variable.\n",
    "  - Then, multiplies the intermediate variable times the third argument, and assigns this value to a final variable.\n",
    "  - Finally, it returns both, the intermediate and the final variables.\n",
    "2. Call the function and assign the returned values to two variables.\n",
    "3. Print the value of both variables.\n",
    "3. Run the cell to see the results."
   ],
   "metadata": {
    "collapsed": false
   }
  },
  {
   "cell_type": "code",
   "execution_count": 745,
   "outputs": [
    {
     "name": "stdout",
     "output_type": "stream",
     "text": [
      "3\n",
      "9\n"
     ]
    }
   ],
   "source": [
    "def abrakadabra (number_one,number_two,number_three):\n",
    "    temp= number_one + number_two\n",
    "    last_one= temp * number_three\n",
    "\n",
    "    return temp, last_one\n",
    "\n",
    "\n",
    "result_one,result_two = abrakadabra (1,2,3)\n",
    "print(result_one)\n",
    "print(result_two)\n",
    "\n",
    "\n"
   ],
   "metadata": {
    "collapsed": false,
    "ExecuteTime": {
     "end_time": "2023-07-15T11:03:04.410629Z",
     "start_time": "2023-07-15T11:02:57.893483Z"
    }
   }
  },
  {
   "cell_type": "markdown",
   "source": [
    "# Introduction to Coding for AI"
   ],
   "metadata": {
    "collapsed": false
   }
  },
  {
   "cell_type": "markdown",
   "source": [
    "## 3. Data Structures and Handling Errors"
   ],
   "metadata": {
    "collapsed": false
   }
  },
  {
   "cell_type": "markdown",
   "source": [
    "### 3.1. Methods for data types\n",
    "\n",
    "You may remember that in Notebook 1, we’ve already seen the basic data types string (`str`) for text, integer (`int`) and float (`float`) for numbers, and boolean (`bool`) for logical values. Strings are a particularly flexible data type that can be converted into other types, so the next step is to learn in more detail the **methods** that we can use with them. If you need a refresher, you can find an introduction to methods in our first notebook."
   ],
   "metadata": {
    "collapsed": false
   }
  },
  {
   "cell_type": "markdown",
   "source": [
    "#### Strings\n",
    "\n",
    "Let’s retake our first data type: strings. There are many operations that you can do with them, so we’ll start by introducing some of the most common methods. First, we’ll check out methods that don’t require arguments, then those that do, and finally methods that involve lists. Let’s go!\n",
    "\n",
    "#### String methods that don’t require arguments\n",
    "\n",
    "We’ll start by looking at the string methods that need arguments, meaning no extra information is needed except the variable itself. These methods are:\n",
    "\n",
    "- `.lower()`: Converts a string into lower case.\n",
    "- `.upper()`: Converts a string into upper case.\n",
    "- `.title()`: Converts the first character of each word to upper case.\n",
    "- `.strip()`: Trimms white spaces at both ends of a string.\n",
    "\n",
    "Below is an example that will show you how each of these methods work:"
   ],
   "metadata": {
    "collapsed": false
   }
  },
  {
   "cell_type": "code",
   "execution_count": 746,
   "outputs": [
    {
     "name": "stdout",
     "output_type": "stream",
     "text": [
      "string_variable:            Apples and oranges   \n",
      "string_variable.lower():    apples and oranges   \n",
      "string_variable.upper():    APPLES AND ORANGES   \n",
      "string_variable.strip(): Apples and oranges\n",
      "string_variable.strip().upper(): APPLES AND ORANGES\n"
     ]
    }
   ],
   "source": [
    "string_variable = \"   Apples and oranges   \"\n",
    "\n",
    "print(f\"string_variable:         {string_variable}\")\n",
    "print(f\"string_variable.lower(): {string_variable.lower()}\")\n",
    "print(f\"string_variable.upper(): {string_variable.upper()}\")\n",
    "print(f\"string_variable.strip(): {string_variable.strip()}\")\n",
    "\n",
    "print(f\"string_variable.strip().upper(): {string_variable.strip().upper()}\")"
   ],
   "metadata": {
    "collapsed": false,
    "ExecuteTime": {
     "end_time": "2023-07-15T11:03:04.455221Z",
     "start_time": "2023-07-15T11:02:58.041790Z"
    }
   }
  },
  {
   "cell_type": "code",
   "execution_count": 747,
   "outputs": [
    {
     "name": "stdout",
     "output_type": "stream",
     "text": [
      "Hello Erica how are u?\n",
      "Hello {name} how are u?\n"
     ]
    }
   ],
   "source": [
    "name = \"Erica\"\n",
    "print('Hello ' + name + \" how are u?\")\n",
    "print('Hello {name} how are u?')\n"
   ],
   "metadata": {
    "collapsed": false,
    "ExecuteTime": {
     "end_time": "2023-07-15T11:03:04.455455Z",
     "start_time": "2023-07-15T11:02:58.044511Z"
    }
   }
  },
  {
   "cell_type": "markdown",
   "source": [
    "Tip: you can chain methods like this: `string_variable.strip().upper()`, just as we did for the last code line in the example above. 😉\n",
    "\n",
    "Quite straightforward, isn’t it? Now, have a go at it yourself in the exercise below."
   ],
   "metadata": {
    "collapsed": false
   }
  },
  {
   "cell_type": "markdown",
   "source": [
    "#### Exercise:\n",
    "1. Copy the code of the cell above into the cell below.\n",
    "2. Similarly to the way we are testing the method `.upper()`, add a line to test the method `.title()`.\n",
    "3. Run the cell to print the results."
   ],
   "metadata": {
    "collapsed": false
   }
  },
  {
   "cell_type": "code",
   "execution_count": 748,
   "outputs": [
    {
     "name": "stdout",
     "output_type": "stream",
     "text": [
      "string_variable:            Apples and oranges   \n",
      "string_variable.lower():    apples and oranges   \n",
      "string_variable.upper():    APPLES AND ORANGES   \n",
      "string_variable.titel():    APPLES AND ORANGES   \n",
      "string_variable.strip(): Apples and oranges\n",
      "string_variable.strip().upper(): APPLES AND ORANGES\n"
     ]
    }
   ],
   "source": [
    "string_variable = \"   Apples and oranges   \"\n",
    "\n",
    "print(f\"string_variable:         {string_variable}\")\n",
    "print(f\"string_variable.lower(): {string_variable.lower()}\")\n",
    "print(f\"string_variable.upper(): {string_variable.upper()}\")\n",
    "print(f\"string_variable.titel(): {string_variable.upper()}\")\n",
    "print(f\"string_variable.strip(): {string_variable.strip()}\")\n",
    "\n",
    "print(f\"string_variable.strip().upper(): {string_variable.strip().upper()}\")"
   ],
   "metadata": {
    "collapsed": false,
    "ExecuteTime": {
     "end_time": "2023-07-15T11:03:04.461604Z",
     "start_time": "2023-07-15T11:02:58.116679Z"
    }
   }
  },
  {
   "cell_type": "markdown",
   "source": [
    "#### String methods that require arguments\n",
    "\n",
    "Now let’s take a look at string methods that require arguments, meaning external information is needed:\n",
    "\n",
    "- `.count()`: Returns the number of times a specified value occurs in a string.\n",
    "- `.index()`: Searches the string for a specified value and returns the index of the **first** position where it was found.\n",
    "- `.replace()`: Returns a string where a specified value is replaced with a specified value.\n",
    "- `.zfill()`: Fills the string with zeroes on the left to reach the specified total length. This is useful to standardize file names. For example, sometimes it helps to rename a list of files from (`image_9.png`, `image_10.png`, ..., `image_123.png`), to (`image_009.png`, `image_010.png`, ..., `image_123.png`).\n",
    "\n",
    "Remember that Python is case-sensitive, so all methods treat differently `a` and `A`.\n",
    "That’s what we’ll be checking out in the example below:"
   ],
   "metadata": {
    "collapsed": false
   }
  },
  {
   "cell_type": "code",
   "execution_count": 749,
   "outputs": [
    {
     "name": "stdout",
     "output_type": "stream",
     "text": [
      "\n",
      " characters_string: \n",
      " Apples and oranges\n",
      "\n",
      " characters_string.count('a'): \n",
      " 2\n",
      "\n",
      " characters_string.index('a'): \n",
      " 7\n",
      "\n",
      " characters_string.replace('a', 'A'): \n",
      " Apples And orAnges\n",
      "\n",
      " numbers_string: \n",
      " 123\n",
      "\n",
      " numbers_string.zfill(5): \n",
      " 00123\n"
     ]
    }
   ],
   "source": [
    "characters_string = \"Apples and oranges\"\n",
    "\n",
    "print(f\"\\n characters_string: \\n {characters_string}\")\n",
    "print(f\"\\n characters_string.count('a'): \\n {characters_string.count('a')}\")\n",
    "print(f\"\\n characters_string.index('a'): \\n {characters_string.index('a')}\")\n",
    "print(f\"\\n characters_string.replace('a', 'A'): \\n {characters_string.replace('a', 'A')}\")\n",
    "\n",
    "numbers_string = \"123\"\n",
    "\n",
    "print(f\"\\n numbers_string: \\n {numbers_string}\")\n",
    "print(f'\\n numbers_string.zfill(5): \\n {numbers_string.zfill(5)}')"
   ],
   "metadata": {
    "collapsed": false,
    "ExecuteTime": {
     "end_time": "2023-07-15T11:03:04.492510Z",
     "start_time": "2023-07-15T11:02:58.157762Z"
    }
   }
  },
  {
   "cell_type": "markdown",
   "source": [
    "#### Exercise:\n",
    "1. Copy the code of the cell above into the cell below.\n",
    "2. Replace the variable `characters_string` with a sentence that includes multiple times the name of a number. For example `five`.\n",
    "3. Replace the parameter `a` with the number name that appears multiple times in your sentence.\n",
    "4. Replace the parameter 'A' with the number version of the number name that you use in point 2. For example `5`.\n",
    "2. Replace `numbers_string` with three letters and use  `.zfill()` to add three zeros on their left.\n",
    "3. Run the cell to print the results."
   ],
   "metadata": {
    "collapsed": false
   }
  },
  {
   "cell_type": "code",
   "execution_count": 750,
   "outputs": [
    {
     "name": "stdout",
     "output_type": "stream",
     "text": [
      "\n",
      " characters_string: \n",
      " fivefivefivefivefivefivefivefivefivefive\n",
      "\n",
      " characters_string.count('e'): \n",
      " 10\n",
      "\n",
      " characters_string.index('e'): \n",
      " 3\n",
      "\n",
      " characters_string.replace('e', '5'): \n",
      " fiv5fiv5fiv5fiv5fiv5fiv5fiv5fiv5fiv5fiv5\n",
      "\n",
      " numbers_string: \n",
      " abc\n",
      "\n",
      " numbers_string.zfill(6): \n",
      " 000abc\n"
     ]
    }
   ],
   "source": [
    "characters_string = \"five\"*10\n",
    "\n",
    "print(f\"\\n characters_string: \\n {characters_string}\")\n",
    "print(f\"\\n characters_string.count('e'): \\n {characters_string.count('e')}\")\n",
    "print(f\"\\n characters_string.index('e'): \\n {characters_string.index('e')}\")\n",
    "print(f\"\\n characters_string.replace('e', '5'): \\n {characters_string.replace('e', '5')}\")\n",
    "\n",
    "numbers_string = \"abc\"\n",
    "\n",
    "print(f\"\\n numbers_string: \\n {numbers_string}\")\n",
    "print(f'\\n numbers_string.zfill(6): \\n {numbers_string.zfill(6)}')"
   ],
   "metadata": {
    "collapsed": false,
    "ExecuteTime": {
     "end_time": "2023-07-15T11:03:04.498877Z",
     "start_time": "2023-07-15T11:02:58.197671Z"
    }
   }
  },
  {
   "cell_type": "markdown",
   "source": [
    "#### String methods that involve *lists*\n",
    "\n",
    "Lastly, there are a couple of methods for strings that either produce a list of strings or require a list of strings as input. These are\n",
    "\n",
    "- `.split()`: Splits the string at the specified separator, and returns a list. The default separator is a white space.\n",
    "- `.join()`: Uses the string object to join the elements of the iterable used as input.\n",
    "\n",
    "Let's see an example of eahc method."
   ],
   "metadata": {
    "collapsed": false
   }
  },
  {
   "cell_type": "code",
   "execution_count": 751,
   "outputs": [
    {
     "name": "stdout",
     "output_type": "stream",
     "text": [
      "\n",
      "\"A basket with mangos\".split(): \n",
      "['A', 'basket', 'with', 'mangos']\n",
      "\n",
      "\" \".join([\"A\", \"basket\", \"with\", \"mangos\"]): \n",
      "A basket with mangos\n"
     ]
    }
   ],
   "source": [
    "print(f'\\n\"A basket with mangos\".split(): \\n{\"A basket with mangos\".split(\" \")}')\n",
    "print(f'\\n\" \".join([\"A\", \"basket\", \"with\", \"mangos\"]): \\n{\" \".join([\"A\", \"basket\", \"with\", \"mangos\"])}')"
   ],
   "metadata": {
    "collapsed": false,
    "ExecuteTime": {
     "end_time": "2023-07-15T11:03:04.543256Z",
     "start_time": "2023-07-15T11:02:58.238321Z"
    }
   }
  },
  {
   "cell_type": "markdown",
   "source": [
    "#### Exercise:\n",
    "1. Copy the code of the cell above into the cell below.\n",
    "2. Replace `\"A basket with mangos\"` with a comma-separated list of fruits and split it on the commas instead of the spaces.\n",
    "3. Join again the new list of fruits, but with underscores (`_`) between each word.\n",
    "4. Run the cell to print the results."
   ],
   "metadata": {
    "collapsed": false
   }
  },
  {
   "cell_type": "code",
   "execution_count": 752,
   "outputs": [
    {
     "name": "stdout",
     "output_type": "stream",
     "text": [
      "\n",
      "\"Mango,Apple,Kiwi\".split(\",\"): ['Mango', 'Apple', 'Kiwi']\n",
      "\n",
      "\" \".join([\"Mango\", \"Apple\", \"Kiwi\"]): Mango_Apple_Kiwi\n"
     ]
    }
   ],
   "source": [
    "print(f'\\n\"Mango,Apple,Kiwi\".split(\",\"): {\"Mango,Apple,Kiwi\".split(\",\")}')\n",
    "print(f'\\n\" \".join([\"Mango\", \"Apple\", \"Kiwi\"]): {\"_\".join([\"Mango\", \"Apple\", \"Kiwi\"])}')"
   ],
   "metadata": {
    "collapsed": false,
    "ExecuteTime": {
     "end_time": "2023-07-15T11:03:04.550026Z",
     "start_time": "2023-07-15T11:02:58.278569Z"
    }
   }
  },
  {
   "cell_type": "markdown",
   "source": [
    "#### Escape characters\n",
    "\n",
    "Also you can see we have introduced a new funny-looking command: `\\n`.\n",
    "Commands that start with a backslash `\\` are called **escape characters**, and this one, in particular, is called *new line*. In text documents, `\\n` indicates the computer that it should break a text line right there, and start a new line below. Here are other common escape characters:\n",
    "\n",
    "- `\\'` and `\\\"`: Single and double quotes. This is helpful when you need to add quotes inside quotes. For example, to print the text *Let's write \"quotes\"!* you can use the following string to avoid confusing Python: `print(\"Let's write \\\"quotes\\\"!\")`.\n",
    "- `\\\\`: Backslash. Useful when you actually want to print a backslash.\n",
    "- `\\n`: New line. Creates a new line in the text.\n",
    "- `\\t`: Tab. Aligns text with tab space that has the same length as eight spaces. It can help to make your prints prettier when multiple lines have different lengths, like tables."
   ],
   "metadata": {
    "collapsed": false
   }
  },
  {
   "cell_type": "code",
   "execution_count": 753,
   "outputs": [
    {
     "name": "stdout",
     "output_type": "stream",
     "text": [
      "No tab.\n",
      "1\t Tab with 1 leading character.\n",
      "123\t Tab with 3 leading characters.\n",
      "12345\t Tab with 5 leading characters.\n",
      "1234567\t Tab with 7 leading characters.\n",
      "12345678\t Tab with 8 leading characters.\n",
      "\n",
      "Pretty table:\n",
      "| 1\t| 12\t| 123\t|\n",
      "| 12\t| 123\t| 1234\t|\n",
      "| 123\t| 1234\t| 12345\t|\n"
     ]
    }
   ],
   "source": [
    "print(\"No tab.\")\n",
    "print(\"1\\t Tab with 1 leading character.\")\n",
    "print(\"123\\t Tab with 3 leading characters.\")\n",
    "print(\"12345\\t Tab with 5 leading characters.\")\n",
    "print(\"1234567\\t Tab with 7 leading characters.\")\n",
    "print(\"12345678\\t Tab with 8 leading characters.\")\n",
    "\n",
    "print(\"\\nPretty table:\")\n",
    "print(\"| 1\\t| 12\\t| 123\\t|\")\n",
    "print(\"| 12\\t| 123\\t| 1234\\t|\")\n",
    "print(\"| 123\\t| 1234\\t| 12345\\t|\")"
   ],
   "metadata": {
    "collapsed": false,
    "ExecuteTime": {
     "end_time": "2023-07-15T11:03:04.592964Z",
     "start_time": "2023-07-15T11:02:58.319488Z"
    }
   }
  },
  {
   "cell_type": "markdown",
   "source": [
    "#### Built-in functions for multiple data types\n",
    "\n",
    "#### len()\n",
    "\n",
    "Another built-in method that you will be using often is `len()`, as frequently you'll want to know how long is a string of how many elements you have in a list.\n",
    "It simply returns the length of the **iterable** object that you pass as an argument, so it works with strings, but also with lists, tuples, and other objects that you will see later on."
   ],
   "metadata": {
    "collapsed": false
   }
  },
  {
   "cell_type": "code",
   "execution_count": 754,
   "outputs": [
    {
     "name": "stdout",
     "output_type": "stream",
     "text": [
      "\n",
      " Length of: \n",
      " ['Apples', 'and', 'oranges'] \n",
      " is: 3\n",
      "\n",
      " Length of: \n",
      " Apples and oranges \n",
      " is: 18\n"
     ]
    }
   ],
   "source": [
    "list_variable = [\"Apples\", \"and\", \"oranges\"]\n",
    "print(f\"\\n Length of: \\n {list_variable} \\n is: {len(list_variable)}\")\n",
    "\n",
    "string_variable = \"Apples and oranges\"\n",
    "print(f\"\\n Length of: \\n {string_variable} \\n is: {len(string_variable)}\")"
   ],
   "metadata": {
    "collapsed": false,
    "ExecuteTime": {
     "end_time": "2023-07-15T11:03:04.599803Z",
     "start_time": "2023-07-15T11:02:58.359324Z"
    }
   }
  },
  {
   "cell_type": "markdown",
   "source": [
    "#### Casting\n",
    "\n",
    "Data is not just numbers. Data can be words, dates, or even numbers that are stored as text or strings.\n",
    "Can you see the issue here? You can't make arithmetic operations with text! But no worries, with Python you can solve the problem by **casting** each value into a number.\n",
    "\n",
    "Let's see how in the example below:"
   ],
   "metadata": {
    "collapsed": false
   }
  },
  {
   "cell_type": "code",
   "execution_count": 755,
   "outputs": [
    {
     "name": "stdout",
     "output_type": "stream",
     "text": [
      "Value: -5, Type: <class 'int'>\n",
      "Value: 3.14, Type: <class 'float'>\n",
      "Value: True, Type: <class 'bool'>\n"
     ]
    }
   ],
   "source": [
    "integer_variable = int(\"-5\")\n",
    "float_variable = float(\"3.14\")\n",
    "boolean_variable = bool(\"True\")\n",
    "\n",
    "print(f\"Value: {integer_variable}, Type: {type(integer_variable)}\")\n",
    "print(f\"Value: {float_variable}, Type: {type(float_variable)}\")\n",
    "print(f\"Value: {boolean_variable}, Type: {type(boolean_variable)}\")"
   ],
   "metadata": {
    "collapsed": false,
    "ExecuteTime": {
     "end_time": "2023-07-15T11:03:04.642624Z",
     "start_time": "2023-07-15T11:02:58.399147Z"
    }
   }
  },
  {
   "cell_type": "markdown",
   "source": [
    "Actually, you can perform two arithmetic operations with strings, but they behave differently than numbers.\n",
    "You can add, or concatenate, **two strings** with a `+`, meaning that Python places one after the other,\n",
    "and you can multiply **a string** and **an integer** with a `*`, meaning that `\"A\" * 3` returns `AAA`."
   ],
   "metadata": {
    "collapsed": false
   }
  },
  {
   "cell_type": "code",
   "execution_count": 756,
   "outputs": [
    {
     "name": "stdout",
     "output_type": "stream",
     "text": [
      "12\n"
     ]
    }
   ],
   "source": [
    "number_1 = \"1\"\n",
    "number_2 = \"2\"\n",
    "\n",
    "print(number_1 + number_2)"
   ],
   "metadata": {
    "collapsed": false,
    "ExecuteTime": {
     "end_time": "2023-07-15T11:03:04.648339Z",
     "start_time": "2023-07-15T11:02:58.439903Z"
    }
   }
  },
  {
   "cell_type": "markdown",
   "source": [
    "So, to treat our variables as numbers we have to cast them as follows:"
   ],
   "metadata": {
    "collapsed": false
   }
  },
  {
   "cell_type": "code",
   "execution_count": 757,
   "outputs": [
    {
     "name": "stdout",
     "output_type": "stream",
     "text": [
      "3\n",
      "0.5\n",
      "3.0\n",
      "0.5\n"
     ]
    }
   ],
   "source": [
    "number_1 = int(\"1\")\n",
    "number_2 = int(\"2\")\n",
    "\n",
    "print(number_1 + number_2)\n",
    "print(number_1 / number_2)\n",
    "\n",
    "number_1 = float(\"1\")\n",
    "number_2 = float(\"2\")\n",
    "\n",
    "print(number_1 + number_2)\n",
    "print(number_1 / number_2)"
   ],
   "metadata": {
    "collapsed": false,
    "ExecuteTime": {
     "end_time": "2023-07-15T11:03:04.677189Z",
     "start_time": "2023-07-15T11:02:58.480425Z"
    }
   }
  },
  {
   "cell_type": "markdown",
   "source": [
    "Notice that when you perform addition, substraction or multiplicaiton with integers, the result is an integer, but when you perform division, the result is automatically converted to a float. Otherwise, `1 / 2` would return `0` instead of `0.5`, because integers only take the integer part of numbers. Convenient, isn’t it?"
   ],
   "metadata": {
    "collapsed": false
   }
  },
  {
   "cell_type": "markdown",
   "source": [
    "#### Exercise:\n",
    "\n",
    "1. Copy the code of the cell above into the cell below.\n",
    "2. Cast the result of the four arithmetic operations into integers.\n",
    "3. Run the cell to print and compare the results with the cell above."
   ],
   "metadata": {
    "collapsed": false
   }
  },
  {
   "cell_type": "code",
   "execution_count": 758,
   "outputs": [
    {
     "name": "stdout",
     "output_type": "stream",
     "text": [
      "3\n",
      "0\n",
      "3\n",
      "0\n"
     ]
    }
   ],
   "source": [
    "number_1 = int(\"1\")\n",
    "number_2 = int(\"2\")\n",
    "\n",
    "result1 = number_1 + number_2\n",
    "print(result1)\n",
    "\n",
    "\n",
    "result2 = number_1 / number_2\n",
    "result2 = int(result2)\n",
    "print(result2)\n",
    "\n",
    "number_1 = float(\"1\")\n",
    "number_2 = float(\"2\")\n",
    "\n",
    "result3 = number_1 + number_2\n",
    "result3= int(result3)\n",
    "print(result3)\n",
    "\n",
    "result4 = number_1 / number_2\n",
    "print(int(result4))"
   ],
   "metadata": {
    "collapsed": false,
    "ExecuteTime": {
     "end_time": "2023-07-15T11:03:04.683370Z",
     "start_time": "2023-07-15T11:02:58.556775Z"
    }
   }
  },
  {
   "cell_type": "markdown",
   "source": [
    "#### Numbers\n",
    "\n",
    "Being able to easily manipulate numbers is very useful, especially with larger datasets. Python comes with a bunch of handy built-in functions for handling numbers. Let’s see them in more detail:\n",
    "\n",
    "- `max()`: Returns the largest number in an iterator.\n",
    "- `min()`: Returns the smallest number in an iterator.\n",
    "- `sum()`: Sums all the numbers in an iterator.\n",
    "- `abs()`: Returns the absolute value of a single number (meaning that it ignores negative signs, so `abs(-3.14)` returns `3.14`).\n",
    "- `round(number, n_digits=None)`: Rounds a single number. It's worth noting that you can input two paameters to this funciton, `number` and `n_digits`. The value of `number` is rounded to the closest multiple of 10 to the power minus `n_digits`. Additionaly, if two multiples are equally close to `number`, the rounding is done toward the even choice. So, for example, as `n_digits`is `None` by default, `round(1.5)` rounds up and returns `2`, and `round(2.5)` rounds down and returns `2` as well!\n",
    "\n",
    "Take a look at the examples."
   ],
   "metadata": {
    "collapsed": false
   }
  },
  {
   "cell_type": "code",
   "execution_count": 759,
   "outputs": [
    {
     "name": "stdout",
     "output_type": "stream",
     "text": [
      "data = [-10, -5.5, 0, 5.5, 10]\n",
      "\n",
      "max(   data    ) returns: 10\n",
      "min(   data    ) returns: -10\n",
      "sum(   data    ) returns: 0.0\n",
      "abs(   data[1] ) returns: 5.5\n",
      "round( data[1] ) returns: -6\n"
     ]
    }
   ],
   "source": [
    "data = [-10, -5.5, 0, 5.5, 10]\n",
    "print(f\"data = {data}\\n\")\n",
    "\n",
    "print(f\"max(   data    ) returns: {max(data)}\")\n",
    "print(f\"min(   data    ) returns: {min(data)}\")\n",
    "print(f\"sum(   data    ) returns: {sum(data)}\")\n",
    "print(f\"abs(   data[1] ) returns: {abs(data[1])}\")\n",
    "print(f\"round( data[1] ) returns: {round(data[1])}\")"
   ],
   "metadata": {
    "collapsed": false,
    "ExecuteTime": {
     "end_time": "2023-07-15T11:03:04.728462Z",
     "start_time": "2023-07-15T11:02:58.596671Z"
    }
   }
  },
  {
   "cell_type": "markdown",
   "source": [
    "#### Exercise:\n",
    "1. Copy the code of the cell above into the cell below.\n",
    "2. Replace the list of numbers with a list of ten negative floats.\n",
    "3. In the methods `abs()` and `round()` we are passing the second element of the list `data`. Replace this input with the last element in the list `data`.\n",
    "4. Run the cell to print the results."
   ],
   "metadata": {
    "collapsed": false
   }
  },
  {
   "cell_type": "code",
   "execution_count": 760,
   "outputs": [
    {
     "name": "stdout",
     "output_type": "stream",
     "text": [
      "data = [-12, -3, -4, -5.5, -6, -7, -8, -9, -11, -14]\n",
      "\n",
      "max(   data    ) returns: -3\n",
      "min(   data    ) returns: -14\n",
      "sum(   data    ) returns: -79.5\n",
      "abs(   data[9] ) returns: 14\n",
      "round( data[9] ) returns: -14\n"
     ]
    }
   ],
   "source": [
    "data = [-12, -3, -4, -5.5,-6,-7,-8,-9,-11,-14]\n",
    "print(f\"data = {data}\\n\")\n",
    "\n",
    "print(f\"max(   data    ) returns: {max(data)}\")\n",
    "print(f\"min(   data    ) returns: {min(data)}\")\n",
    "print(f\"sum(   data    ) returns: {sum(data)}\")\n",
    "print(f\"abs(   data[9] ) returns: {abs(data[9])}\")\n",
    "print(f\"round( data[9] ) returns: {round(data[9])}\")"
   ],
   "metadata": {
    "collapsed": false,
    "ExecuteTime": {
     "end_time": "2023-07-15T11:03:04.775187Z",
     "start_time": "2023-07-15T11:02:58.638264Z"
    }
   }
  },
  {
   "cell_type": "markdown",
   "source": [
    "### 3.2. Methods for data structures\n",
    "\n",
    "The next topics that we’ll revisit in more detail are sequences and mappings; particularly lists and dictionaries.\n",
    "\n",
    "\n",
    "#### Lists\n",
    "\n",
    "We have seen that lists are sequences of strings, numbers, or a mixture of various data types.\n",
    "Now you will learn how to manipulate them.\n",
    "These are some of the methods that you will be using more often with lists.\n",
    "\n",
    "#### List methods that return a value\n",
    "\n",
    "- `.index()`: Returns the index of the **first** element with the specified value.\n",
    "- `.count()`: Returns the number of elements with the specified value.\n",
    "\n",
    "Here are a couple of examples:"
   ],
   "metadata": {
    "collapsed": false
   }
  },
  {
   "cell_type": "code",
   "execution_count": 761,
   "outputs": [
    {
     "name": "stdout",
     "output_type": "stream",
     "text": [
      "cities_to_visit = ['Berlin', 'Madrid', 'Paris', 'Rome', 'Berlin']\n",
      "\n",
      "cities_to_visit.index('Berlin') returns: 0\n",
      "cities_to_visit.count('Berlin') returns: 2\n"
     ]
    }
   ],
   "source": [
    "cities_to_visit = [\"Berlin\", \"Madrid\", \"Paris\", \"Rome\", \"Berlin\"]\n",
    "print(f\"cities_to_visit = {cities_to_visit}\\n\")\n",
    "\n",
    "print(f\"cities_to_visit.index('Berlin') returns: {cities_to_visit.index('Berlin')}\")\n",
    "print(f\"cities_to_visit.count('Berlin') returns: {cities_to_visit.count('Berlin')}\")"
   ],
   "metadata": {
    "collapsed": false,
    "ExecuteTime": {
     "end_time": "2023-07-15T11:03:04.781784Z",
     "start_time": "2023-07-15T11:02:58.677755Z"
    }
   }
  },
  {
   "cell_type": "markdown",
   "source": [
    "#### List methods that work **in-place**\n",
    "(we'll explain in a moment)\n",
    "\n",
    "- `.sort()`: Sorts the list.\n",
    "- `.reverse()`: Reverses the order of the list.\n",
    "- `.insert()`: Adds an element at the specified position.\n",
    "- `.remove()`: Removes an element at the specified position.\n",
    "- `.extend()`: Add the elements of a list (or any iterable), to the end of the current list.\n",
    "- `.append()`: Adds an element at the end of the list.\n",
    "\n",
    "Methods that work *in-place* return `None` so, if you pass them as an argument to a `print()` funtion, you will always print `None`. If you want to visualize their results, execute them in a line and print the variable in the following line. Some examples:"
   ],
   "metadata": {
    "collapsed": false
   }
  },
  {
   "cell_type": "code",
   "execution_count": 762,
   "outputs": [
    {
     "name": "stdout",
     "output_type": "stream",
     "text": [
      "cities_to_visit = ['Berlin', 'Madrid', 'Paris', 'Berlin']\n",
      "\n",
      "cities_to_visit.sort()              returns: ['Berlin', 'Berlin', 'Madrid', 'Paris']\n",
      "cities_to_visit.reverse()           returns: ['Paris', 'Madrid', 'Berlin', 'Berlin']\n",
      "cities_to_visit.insert(1, 'Athene') returns: ['Paris', 'Athene', 'Madrid', 'Berlin', 'Berlin']\n",
      "cities_to_visit.remove('Berlin')    returns: ['Paris', 'Athene', 'Madrid', 'Berlin']\n",
      "cities_to_visit.extend(['Rome'])    returns: ['Paris', 'Athene', 'Madrid', 'Berlin', 'Rome']\n",
      "cities_to_visit.append(['Rome'])    returns: ['Paris', 'Athene', 'Madrid', 'Berlin', 'Rome', ['Rome']]\n"
     ]
    }
   ],
   "source": [
    "cities_to_visit = [\"Berlin\", \"Madrid\", \"Paris\", \"Berlin\"]\n",
    "print(f\"cities_to_visit = {cities_to_visit}\\n\")\n",
    "\n",
    "cities_to_visit.sort()\n",
    "print(f\"cities_to_visit.sort()              returns: {cities_to_visit}\")\n",
    "\n",
    "cities_to_visit.reverse()\n",
    "print(f\"cities_to_visit.reverse()           returns: {cities_to_visit}\")\n",
    "\n",
    "cities_to_visit.insert(1, 'Athene')\n",
    "print(f\"cities_to_visit.insert(1, 'Athene') returns: {cities_to_visit}\")\n",
    "\n",
    "cities_to_visit.remove('Berlin')\n",
    "print(f\"cities_to_visit.remove('Berlin')    returns: {cities_to_visit}\")\n",
    "\n",
    "cities_to_visit.extend(['Rome'])\n",
    "print(f\"cities_to_visit.extend(['Rome'])    returns: {cities_to_visit}\")\n",
    "\n",
    "cities_to_visit.append(['Rome'])\n",
    "print(f\"cities_to_visit.append(['Rome'])    returns: {cities_to_visit}\")"
   ],
   "metadata": {
    "collapsed": false,
    "ExecuteTime": {
     "end_time": "2023-07-15T11:03:04.826757Z",
     "start_time": "2023-07-15T11:02:58.718907Z"
    }
   }
  },
  {
   "cell_type": "markdown",
   "source": [
    "Notice that `data.extend(['d'])` merges both lists, and `data.append(['d'])` concatenates them, so you have a list with another list inside.\n",
    "If you pass a string instead of a list as the argument, then the effect is the same:\n",
    "`data.extend(['d'])` and `data.append('d')` produce the same result."
   ],
   "metadata": {
    "collapsed": false
   }
  },
  {
   "cell_type": "markdown",
   "source": [
    "#### Exercise:\n",
    "1. Copy the code of the cell above into the cell below.\n",
    "2. Replace the list of cities with the names of famous artists.\n",
    "3. Adapt the code so that all methods run without producing errors.\n",
    "4. Run the cell to print the results."
   ],
   "metadata": {
    "collapsed": false
   }
  },
  {
   "cell_type": "code",
   "execution_count": 763,
   "outputs": [
    {
     "name": "stdout",
     "output_type": "stream",
     "text": [
      "artists_to_listen = ['Pink', 'Shakira', 'Lady Gaga', 'Bowie']\n",
      "\n",
      "artists_to_listen.sort()              returns: ['Bowie', 'Lady Gaga', 'Pink', 'Shakira']\n",
      "artists_to_listen.reverse()           returns: ['Shakira', 'Pink', 'Lady Gaga', 'Bowie']\n",
      "artists_to_listen.insert(0, 'Pitbull') returns: ['Pitbull', 'Shakira', 'Pink', 'Lady Gaga', 'Bowie']\n",
      "artists_to_listen.remove('Pink')    returns: ['Pitbull', 'Shakira', 'Lady Gaga', 'Bowie']\n",
      "artists_to_listen.extend(['Dua Lipa'])    returns: ['Pitbull', 'Shakira', 'Lady Gaga', 'Bowie', 'Dua Lipa']\n",
      "artists_to_listen.append(['Christina'])    returns: ['Pitbull', 'Shakira', 'Lady Gaga', 'Bowie', 'Dua Lipa', ['Christina']]\n"
     ]
    }
   ],
   "source": [
    "artists_to_listen = [\"Pink\", \"Shakira\", \"Lady Gaga\", \"Bowie\"]\n",
    "print(f\"artists_to_listen = {artists_to_listen}\\n\")\n",
    "\n",
    "artists_to_listen.sort()\n",
    "print(f\"artists_to_listen.sort()              returns: {artists_to_listen}\")\n",
    "\n",
    "artists_to_listen.reverse()\n",
    "print(f\"artists_to_listen.reverse()           returns: {artists_to_listen}\")\n",
    "\n",
    "artists_to_listen.insert(0,'Pitbull')\n",
    "print(f\"artists_to_listen.insert(0, 'Pitbull') returns: {artists_to_listen}\")\n",
    "\n",
    "artists_to_listen.remove('Pink')\n",
    "print(f\"artists_to_listen.remove('Pink')    returns: {artists_to_listen}\")\n",
    "\n",
    "artists_to_listen.extend(['Dua Lipa'])\n",
    "print(f\"artists_to_listen.extend(['Dua Lipa'])    returns: {artists_to_listen}\")\n",
    "\n",
    "artists_to_listen.append(['Christina'])\n",
    "print(f\"artists_to_listen.append(['Christina'])    returns: {artists_to_listen}\")"
   ],
   "metadata": {
    "collapsed": false,
    "ExecuteTime": {
     "end_time": "2023-07-15T11:03:04.833509Z",
     "start_time": "2023-07-15T11:02:58.796032Z"
    }
   }
  },
  {
   "cell_type": "markdown",
   "source": [
    "#### Indexing\n",
    "\n",
    "Elements inside lists are ordered, so when you want to retrieve the value of an element, you use its index.\n",
    "The index is an **integer** passed to the variable as an argument, like with functions, but instead of using parentheses, we use a pair of brackets `[]`.\n",
    "Remember that Python has **zero-based** indexing, so `data[0]` returns the first element of data.\n",
    "If you use negative integers, you start counting from the end to the beginning, so `data[-1]` returns the last element."
   ],
   "metadata": {
    "collapsed": false
   }
  },
  {
   "cell_type": "code",
   "execution_count": 764,
   "outputs": [
    {
     "name": "stdout",
     "output_type": "stream",
     "text": [
      "cities_to_visit = ['Madrid', 'Paris', 'Berlin', 'Rome', 'Athene']\n",
      "\n",
      "cities_to_visit[0]  gives us the FIRST       element: Madrid\n",
      "cities_to_visit[1]  gives us the SECOND      element: Paris\n",
      "cities_to_visit[-2] gives us the SECOND LAST element: Rome\n",
      "cities_to_visit[-1] gives us the LAST        element: Athene\n"
     ]
    }
   ],
   "source": [
    "cities_to_visit = [\"Madrid\", \"Paris\", \"Berlin\", \"Rome\", \"Athene\"]\n",
    "print(f\"cities_to_visit = {cities_to_visit}\\n\")\n",
    "\n",
    "print(f\"cities_to_visit[0]  gives us the FIRST       element: {cities_to_visit[0]}\")\n",
    "print(f\"cities_to_visit[1]  gives us the SECOND      element: {cities_to_visit[1]}\")\n",
    "print(f\"cities_to_visit[-2] gives us the SECOND LAST element: {cities_to_visit[-2]}\")\n",
    "print(f\"cities_to_visit[-1] gives us the LAST        element: {cities_to_visit[-1]}\")"
   ],
   "metadata": {
    "collapsed": false,
    "ExecuteTime": {
     "end_time": "2023-07-15T11:03:04.876246Z",
     "start_time": "2023-07-15T11:02:58.835176Z"
    }
   }
  },
  {
   "cell_type": "markdown",
   "source": [
    "You can also use indexing to modify the value of an element:"
   ],
   "metadata": {
    "collapsed": false
   }
  },
  {
   "cell_type": "code",
   "execution_count": 765,
   "outputs": [
    {
     "name": "stdout",
     "output_type": "stream",
     "text": [
      "['Madrid', 'Paris', 'Berlin', 'Rome', 'Athene']\n",
      "['Lisbon', 'Paris', 'Berlin', 'Rome', 'Athene']\n"
     ]
    }
   ],
   "source": [
    "cities_to_visit = [\"Madrid\", \"Paris\", \"Berlin\", \"Rome\", \"Athene\"]\n",
    "print(cities_to_visit)\n",
    "\n",
    "cities_to_visit[0] = \"Lisbon\"\n",
    "print(cities_to_visit)"
   ],
   "metadata": {
    "collapsed": false,
    "ExecuteTime": {
     "end_time": "2023-07-15T11:03:04.883028Z",
     "start_time": "2023-07-15T11:02:58.874376Z"
    }
   }
  },
  {
   "cell_type": "markdown",
   "source": [
    "#### Slicing\n",
    "\n",
    "With slicing, instead of indicating a single value with an index, you indicate a range of values with a `start` and an `end` **integer** separated by a **colon** (`:`), such as `data[start:end]`.\n",
    "The returned elements go from `start` up to, **but not including**, `end`.\n",
    "See the examples below:"
   ],
   "metadata": {
    "collapsed": false
   }
  },
  {
   "cell_type": "code",
   "execution_count": 766,
   "outputs": [
    {
     "name": "stdout",
     "output_type": "stream",
     "text": [
      "cities_to_visit = ['Madrid', 'Paris', 'Berlin', 'Rome', 'Athene']\n",
      "\n",
      "cities_to_visit[0:2]   returns: ['Madrid', 'Paris']\n",
      "cities_to_visit[:2]    returns: ['Madrid', 'Paris']\n",
      "cities_to_visit[1:3]   returns: ['Paris', 'Berlin']\n",
      "cities_to_visit[-3:-1] returns: ['Berlin', 'Rome']\n",
      "cities_to_visit[-3:]   returns: ['Berlin', 'Rome', 'Athene']\n",
      "cities_to_visit[:]     returns: ['Madrid', 'Paris', 'Berlin', 'Rome', 'Athene']\n"
     ]
    }
   ],
   "source": [
    "cities_to_visit = [\"Madrid\", \"Paris\", \"Berlin\", \"Rome\", \"Athene\"]\n",
    "\n",
    "print(f\"cities_to_visit = {cities_to_visit}\\n\")\n",
    "print(f\"cities_to_visit[0:2]   returns: {cities_to_visit[0:2]}\")\n",
    "print(f\"cities_to_visit[:2]    returns: {cities_to_visit[:2]}\")\n",
    "print(f\"cities_to_visit[1:3]   returns: {cities_to_visit[1:3]}\")\n",
    "print(f\"cities_to_visit[-3:-1] returns: {cities_to_visit[-3:-1]}\")\n",
    "print(f\"cities_to_visit[-3:]   returns: {cities_to_visit[-3:]}\")\n",
    "print(f\"cities_to_visit[:]     returns: {cities_to_visit[:]}\")"
   ],
   "metadata": {
    "collapsed": false,
    "ExecuteTime": {
     "end_time": "2023-07-15T11:03:04.926296Z",
     "start_time": "2023-07-15T11:02:58.915159Z"
    }
   }
  },
  {
   "cell_type": "markdown",
   "source": [
    "As we mentioned at the beginning, **tuples** have basically the same functionality as lists, so *indexing* and *slicing* work the same on tuples as on lists.\n",
    "\n",
    "As a reminder, the difference between them is that once you define a tuple you can not modify it, a characteristic called **immutability**.\n",
    "It's good that you know tuples, as you will see them every now and there, but you will only be using their most basic functionality, so for now, just think of tuples as immutable lists."
   ],
   "metadata": {
    "collapsed": false
   }
  },
  {
   "cell_type": "markdown",
   "source": [
    "#### Exercise:\n",
    "1. Copy the code of the cell above into the cell below.\n",
    "2. Replace the list of cities with names of famous sports people.\n",
    "3. Change all of the indices to compare the outputs.\n",
    "4. Run the cell to print the results."
   ],
   "metadata": {
    "collapsed": false
   }
  },
  {
   "cell_type": "code",
   "execution_count": 767,
   "outputs": [
    {
     "name": "stdout",
     "output_type": "stream",
     "text": [
      "sports_people = ['Federer', 'Williams', 'Ronaldo', 'Jordan', 'Nadal']\n",
      "\n",
      "sports_people[0:2]   returns: ['Federer', 'Williams']\n",
      "sports_people[:2]    returns: ['Federer', 'Williams']\n",
      "sports_people[1:3]   returns: ['Williams', 'Ronaldo']\n",
      "sports_people[-3:-1] returns: ['Ronaldo', 'Jordan']\n",
      "sports_people[-3:]   returns: ['Ronaldo', 'Jordan', 'Nadal']\n",
      "sports_people[:]     returns: ['Federer', 'Williams', 'Ronaldo', 'Jordan', 'Nadal']\n"
     ]
    }
   ],
   "source": [
    "sports_people = [\"Federer\", \"Williams\", \"Ronaldo\", \"Jordan\", \"Nadal\"]\n",
    "\n",
    "print(f\"sports_people = {sports_people}\\n\")\n",
    "print(f\"sports_people[0:2]   returns: {sports_people[0:2]}\")\n",
    "print(f\"sports_people[:2]    returns: {sports_people[:2]}\")\n",
    "print(f\"sports_people[1:3]   returns: {sports_people[1:3]}\")\n",
    "print(f\"sports_people[-3:-1] returns: {sports_people[-3:-1]}\")\n",
    "print(f\"sports_people[-3:]   returns: {sports_people[-3:]}\")\n",
    "print(f\"sports_people[:]     returns: {sports_people[:]}\")"
   ],
   "metadata": {
    "collapsed": false,
    "ExecuteTime": {
     "end_time": "2023-07-15T11:03:04.932994Z",
     "start_time": "2023-07-15T11:02:58.990991Z"
    }
   }
  },
  {
   "cell_type": "markdown",
   "source": [
    "#### Dictionaries\n",
    "\n",
    "Now it’s time for us to discover more about dictionaries!\n",
    "As we’ve seen in Notebook 1, dictionaries are a mapping data type.\n",
    "These are data structures that give a name to each value, so you can indicate the value that you want with a string instead of an index.\n",
    "The names are called **keys** and the values, you guessed, are called **values**.\n",
    "So, you could build an English language dictionary by using the words as keys, and the definitions as the values.\n",
    "For our purposes, you will only be using strings to define keys, and you can use any other object to define values.\n",
    "Something very important to remember is that keys are unique, while the same value can be used for multiple keys.\n",
    "For example, `\"improve\": \"to become better\"` and `\"advance\": \"to become better\"`, have the same value (`to become better`), but unique keys (`improve` and `advance`).\n",
    "\n",
    "How do we define an instance of a dictionary to Python?\n",
    "The syntax to define a dictionary is by using a pair of curly braces (`{}`), and inside we can include **key-value pairs** separating each with a comma.\n",
    "Then, instead of defining the value of a key with an equal sign (`=`), we use a colon (`:`).\n",
    "For example:\n",
    "```\n",
    "dictionary_of_words = {\"improve\": \"to become better\", \"advance\": \"to become better\"}\n",
    "```\n",
    "\n",
    "Another note on syntax: white spaces between enclosing symbols are ignored by Python.\n",
    "So, as long as you are writing inside a pair of parentheses `()`, square brackets `[]`, or curly braces `{}`, you can split a line of code into multiple lines and Python will still understand your instruction.\n",
    "As an example, you can also split the previous definition\n",
    "\n",
    "```\n",
    "dictionary_of_words = {\"improve\": \"to become better\", \"advance\": \"to become better\"}\n",
    "```\n",
    "into multiple lines to make the code easier to read:\n",
    "```\n",
    "dictionary_of_words = {\n",
    "    \"improve\": \"to become better\",\n",
    "    \"advance\": \"to become better\"\n",
    "    }\n",
    "```\n",
    "\n",
    "Let's see some more examples."
   ],
   "metadata": {
    "collapsed": false
   }
  },
  {
   "cell_type": "code",
   "execution_count": 768,
   "outputs": [
    {
     "name": "stdout",
     "output_type": "stream",
     "text": [
      "{'key_1': 'value_1', 'key_2': 'value_2'}\n",
      "dict_keys(['key_1', 'key_2'])\n",
      "dict_values(['value_1', 'value_2'])\n",
      "value_2\n",
      "key_2\n"
     ]
    }
   ],
   "source": [
    "dictionary_variable = {\n",
    "    \"key_1\": \"value_1\",\n",
    "    \"key_2\": \"value_2\"\n",
    "}\n",
    "\n",
    "def findKeyByValue(object_to_search, value):\n",
    "     for key in object_to_search.keys():\n",
    "            if dictionary_variable[key] == value:\n",
    "                return key\n",
    "\n",
    "\n",
    "print(dictionary_variable)\n",
    "print(dictionary_variable.keys())\n",
    "print(dictionary_variable.values())\n",
    "print(dictionary_variable[\"key_2\"])\n",
    "\n",
    "key_we_want = findKeyByValue(dictionary_variable, \"value_2\")\n",
    "print(key_we_want)\n",
    "\n"
   ],
   "metadata": {
    "collapsed": false,
    "ExecuteTime": {
     "end_time": "2023-07-15T11:03:04.976475Z",
     "start_time": "2023-07-15T11:02:59.031763Z"
    }
   }
  },
  {
   "cell_type": "markdown",
   "source": [
    "Notice that you can get a list of keys with the `.keys()` method, and a list of values with the `.values()` method.\n",
    "To get the value of a key you use a notation similar to lists:"
   ],
   "metadata": {
    "collapsed": false
   }
  },
  {
   "cell_type": "code",
   "execution_count": 769,
   "outputs": [
    {
     "name": "stdout",
     "output_type": "stream",
     "text": [
      "value_1\n"
     ]
    }
   ],
   "source": [
    "dictionary_variable = {\n",
    "    \"key_1\": \"value_1\",\n",
    "    \"key_2\": \"value_2\"\n",
    "}\n",
    "\n",
    "print(dictionary_variable[\"key_1\"])"
   ],
   "metadata": {
    "collapsed": false,
    "ExecuteTime": {
     "end_time": "2023-07-15T11:03:04.983325Z",
     "start_time": "2023-07-15T11:02:59.071499Z"
    }
   }
  },
  {
   "cell_type": "markdown",
   "source": [
    "To create a new key-value pair or to update the value of a key you use the same notation:"
   ],
   "metadata": {
    "collapsed": false
   }
  },
  {
   "cell_type": "code",
   "execution_count": 770,
   "outputs": [
    {
     "name": "stdout",
     "output_type": "stream",
     "text": [
      "{'key_1': 123, 'key_2': 'value_2', 'key_3': 456}\n"
     ]
    }
   ],
   "source": [
    "dictionary_variable = {\n",
    "    \"key_1\": \"value_1\",\n",
    "    \"key_2\": \"value_2\"\n",
    "}\n",
    "\n",
    "# Update a value:\n",
    "dictionary_variable[\"key_1\"] = 123\n",
    "\n",
    "# Create new key-value pair:\n",
    "dictionary_variable[\"key_3\"] = 456\n",
    "\n",
    "print(dictionary_variable)"
   ],
   "metadata": {
    "collapsed": false,
    "ExecuteTime": {
     "end_time": "2023-07-15T11:03:05.027467Z",
     "start_time": "2023-07-15T11:02:59.111740Z"
    }
   }
  },
  {
   "cell_type": "markdown",
   "source": [
    "#### Exercise:\n",
    "1. Create a new dictionary with three keys, each with the name of a country.\n",
    "2. Assign a number to each key to represent the population of the country.\n",
    "3. In a new line, update the population of a country with a new number.\n",
    "4. In a new line, add a fourth country and its corresponding population.\n",
    "5. Run the cell to print the results.\n",
    "\n",
    "- **Going further**: Google how to delete elements of Python dictionaries. In a new line, delete the country with the largest population."
   ],
   "metadata": {
    "collapsed": false
   }
  },
  {
   "cell_type": "code",
   "execution_count": 771,
   "outputs": [
    {
     "name": "stdout",
     "output_type": "stream",
     "text": [
      "{'albania': 2.8, 'austria': '9', 'Germany': '38', 'America': 331}\n"
     ]
    }
   ],
   "source": [
    "country_dictionary = {\n",
    "    \"albania\": \"3\",\n",
    "    \"austria\" :\"9\",\n",
    "    \"Germany\" : \"38\"\n",
    "}\n",
    "\n",
    "#Update the value:\n",
    "country_dictionary[\"albania\"] = 2.8\n",
    "#Add new country:\n",
    "country_dictionary[\"America\"]=331\n",
    "print (country_dictionary)"
   ],
   "metadata": {
    "collapsed": false,
    "ExecuteTime": {
     "end_time": "2023-07-15T11:03:05.034165Z",
     "start_time": "2023-07-15T11:02:59.151546Z"
    }
   }
  },
  {
   "cell_type": "markdown",
   "source": [
    "Be careful to pass an existing key to the dictionary when you read it, such ass `print(dictionary_variable[\"key_1\"])` in the example above, otherwise, you will get an error and **crash** your program.\n",
    "For example, `print(dictionary_variable[\"key-1\"])` would raise an error as `\"key-1\"` doesn't exist in the dictionary.\n",
    "You can try it out! Uncomment the last line in the following cell and run it to see the error.\n",
    "Once you read it, comment out the last line again so that we can run all cells without the notebook stopping in this line (this is only necessary to help the tutors to evaluate your notebooks faster)."
   ],
   "metadata": {
    "collapsed": false
   }
  },
  {
   "cell_type": "code",
   "execution_count": 772,
   "outputs": [
    {
     "name": "stdout",
     "output_type": "stream",
     "text": [
      "value_1\n"
     ]
    }
   ],
   "source": [
    "dictionary_variable = {\n",
    "    \"key_1\": \"value_1\",\n",
    "    \"key_2\": \"value_2\"\n",
    "}\n",
    "\n",
    "#Uncoment, run the cell, and comment back the following line:\n",
    "print(dictionary_variable[\"key_1\"])"
   ],
   "metadata": {
    "collapsed": false,
    "ExecuteTime": {
     "end_time": "2023-07-15T11:03:05.074015Z",
     "start_time": "2023-07-15T11:02:59.191829Z"
    }
   }
  },
  {
   "cell_type": "markdown",
   "source": [
    "### 3.3. Handling errors\n",
    "\n",
    "This bring us to the following topic: **error handling**.\n",
    "Errors can be frustrating when coding, but if you take a breath and learn to handle them, you'll see that error messages are not your enemies 😉. In fact, their purpose is to help you fix errors in your code.\n",
    "Python has a tool called **try-except** that allows you to continue running your program even if something unexpected goes wrong. *Try-except* statements can have the following elements:\n",
    "\n",
    "- `try`: Lets you test a block of code for errors.\n",
    "- `except`: Lets you handle the error.\n",
    "- `else`: Lets you execute code when there is no error.\n",
    "- `finally`: Lets you execute code, regardless of the result of the try-except blocks.\n",
    "\n",
    "Let's take a look at a simple case using the try-except statement in the example below."
   ],
   "metadata": {
    "collapsed": false
   }
  },
  {
   "cell_type": "code",
   "execution_count": 773,
   "outputs": [
    {
     "name": "stdout",
     "output_type": "stream",
     "text": [
      "An error occurred: 'key-1'\n"
     ]
    }
   ],
   "source": [
    "dictionary_variable = {\n",
    "    \"key_1\": \"value_1\",\n",
    "    \"key_2\": \"value_2\",\n",
    "    \"key_3\": \"value_3\",\n",
    "}\n",
    "\n",
    "try:\n",
    "    print(dictionary_variable[\"key-1\"])\n",
    "except Exception as e:\n",
    "    print(f\"An error occurred: {e}\")"
   ],
   "metadata": {
    "collapsed": false,
    "ExecuteTime": {
     "end_time": "2023-07-15T11:03:05.080376Z",
     "start_time": "2023-07-15T11:02:59.232024Z"
    }
   }
  },
  {
   "cell_type": "markdown",
   "source": [
    "Particulary, take a look at the line `except Exception as e:`. The word `Exception` is telling Python to capture the part of the code that causes an error and store it in the variable `e`.\n",
    "Before we mentioned that variables should be explicit. In this case, we use the name `e` as it is a convention among Python developers to name this *Exception* variable *e*. So, when you find it in code later on, now you know what it stands for.\n",
    "Now that we've seen how it works, let's elaborate further and include additional blocks:"
   ],
   "metadata": {
    "collapsed": false
   }
  },
  {
   "cell_type": "code",
   "execution_count": 774,
   "outputs": [
    {
     "name": "stdout",
     "output_type": "stream",
     "text": [
      "An error occurred: 'key-1'\n",
      "The try-except has concluded\n"
     ]
    }
   ],
   "source": [
    "try:\n",
    "    dictionary_variable = {\n",
    "        \"key_1\": \"value_1\",\n",
    "        \"key_2\": \"value_2\",\n",
    "        \"key_3\": \"value_3\",\n",
    "    }\n",
    "    key_name = \"key-1\"\n",
    "    print(dictionary_variable[key_name])\n",
    "except Exception as e:\n",
    "    print(f\"An error occurred: {e}\")\n",
    "else:\n",
    "    print(\"Code run correctly\")\n",
    "finally:\n",
    "    print(\"The try-except has concluded\")"
   ],
   "metadata": {
    "collapsed": false,
    "ExecuteTime": {
     "end_time": "2023-07-15T11:03:05.109302Z",
     "start_time": "2023-07-15T11:02:59.273125Z"
    }
   }
  },
  {
   "cell_type": "markdown",
   "source": [
    "Now you’ve seen how the try-except statement can help you handling errors in Python. Ready to give it a try yourself in the exercise below?"
   ],
   "metadata": {
    "collapsed": false
   }
  },
  {
   "cell_type": "markdown",
   "source": [
    "#### Exercise:\n",
    "1. Copy the code of the cell above into the cell below.\n",
    "2. Fix the typo in the `key_name`.\n",
    "3. Run the cell to see the results.\n",
    "\n",
    "- **Going further**: Change the data type of the dictionary **keys** to a number, a tuple, and a list and see which one raises an error. Try to understand the error message and how it tries to point you to the fault in the code."
   ],
   "metadata": {
    "collapsed": false
   }
  },
  {
   "cell_type": "code",
   "execution_count": 775,
   "outputs": [
    {
     "name": "stdout",
     "output_type": "stream",
     "text": [
      "2\n",
      "Code run correctly\n",
      "The try-except has concluded\n"
     ]
    }
   ],
   "source": [
    "try:\n",
    "    dictionary_variable = {\n",
    "        \"key_1\": 2,\n",
    "        \"key_2\": (3,5),\n",
    "        \"key_3\": [1,2,3,4],\n",
    "    }\n",
    "    key_name = \"key_1\"\n",
    "    print(dictionary_variable[key_name])\n",
    "except Exception as e:\n",
    "    print(f\"An error occurred: {e}\")\n",
    "else:\n",
    "    print(\"Code run correctly\")\n",
    "finally:\n",
    "    print(\"The try-except has concluded\")"
   ],
   "metadata": {
    "collapsed": false,
    "ExecuteTime": {
     "end_time": "2023-07-15T11:03:05.115895Z",
     "start_time": "2023-07-15T11:02:59.349767Z"
    }
   }
  },
  {
   "cell_type": "markdown",
   "source": [
    "And with this, you arrived at the end of notebook 3. You’ve been learning a lot, congratulations! In the next notebook, we’ll look at how to create basic class and module structures. The juicy part is coming!"
   ],
   "metadata": {
    "collapsed": false
   }
  },
  {
   "cell_type": "markdown",
   "source": [
    "# Introduction to Coding for AI"
   ],
   "metadata": {
    "collapsed": false
   }
  },
  {
   "cell_type": "markdown",
   "source": [
    "## 4. Custom classes and modules"
   ],
   "metadata": {
    "collapsed": false
   }
  },
  {
   "cell_type": "markdown",
   "source": [
    "### 4.1. Classes\n",
    "\n",
    "Earlier we mentioned that Python is an object-oriented programming language.\n",
    "Meaning that almost everything in Python is an object, with its properties and methods.\n",
    "A **Class** is like a *blueprint* for creating objects of a certain kind, providing us the properties and methods.\n",
    "The **properties are the variables** inside the class, and the **methods are the functions** inside the class.\n",
    "The basic class structure that you will use in Machine Learning (ML) has the following components:"
   ],
   "metadata": {
    "collapsed": false
   }
  },
  {
   "cell_type": "code",
   "execution_count": 776,
   "outputs": [
    {
     "name": "stdout",
     "output_type": "stream",
     "text": [
      "Class initialized.\n",
      "John\n",
      "John\n",
      "New name set: Peter\n",
      "Peter\n"
     ]
    }
   ],
   "source": [
    "class Person():\n",
    "\n",
    "    def __init__(self, name, age,):\n",
    "        self.name = name\n",
    "        self.age = age\n",
    "        print(\"Class initialized.\")\n",
    "\n",
    "    def set_name(self, name):\n",
    "        self.name = name\n",
    "        self.print_new_name()\n",
    "\n",
    "    def get_name(self):\n",
    "        return self.name\n",
    "\n",
    "    def print_new_name(self):\n",
    "        print(f\"New name set: {self.name}\")\n",
    "\n",
    "# Create an instance of the class Person():\n",
    "person_instance = Person(\"John\", 30)\n",
    "\n",
    "# Print its property name:\n",
    "print(person_instance.name)\n",
    "print(person_instance.get_name())\n",
    "\n",
    "# Change its property name:\n",
    "person_instance.name = \"Peter\"\n",
    "person_instance.set_name(\"Peter\")\n",
    "\n",
    "# Print its property name:\n",
    "print(person_instance.name)"
   ],
   "metadata": {
    "collapsed": false,
    "ExecuteTime": {
     "end_time": "2023-07-15T11:03:05.166502Z",
     "start_time": "2023-07-15T11:02:59.498435Z"
    }
   }
  },
  {
   "cell_type": "code",
   "execution_count": 777,
   "outputs": [
    {
     "name": "stdout",
     "output_type": "stream",
     "text": [
      "Car bmw is open\n"
     ]
    }
   ],
   "source": [
    "class Car():\n",
    "    def __init__(self,name):\n",
    "        self.name = name\n",
    "\n",
    "    def open (self):\n",
    "        print(f\"Car {self.name} is open\")\n",
    "\n",
    "car_instance = Car(\"bmw\")\n",
    "\n",
    "car_instance.open()"
   ],
   "metadata": {
    "collapsed": false,
    "ExecuteTime": {
     "end_time": "2023-07-15T11:03:05.166714Z",
     "start_time": "2023-07-15T11:02:59.504259Z"
    }
   }
  },
  {
   "cell_type": "markdown",
   "source": [
    "It may look a bit complicated but don’t worry, we’ll unpack it, bit by bit. Let’s start by looking at the three main components of a class code:\n",
    "\n",
    "**class Name()**\n",
    "\n",
    "- Similarly to functions, classes are defined with a keyword. In this case it's `class`.\n",
    "- Afterwards, you write the class name preferably using *CamelCase* notation. This means that, differently to functions, you capitalize the first letter of each word and you don't use underscores to separate words. For example, `Person` and `PersonData` are correct according to [Python style guide](https://peps.python.org/pep-0008). You can find out more about popular notation styles in this [article](https://betterprogramming.pub/string-case-styles-camel-pascal-snake-and-kebab-case-981407998841).\n",
    "- Finally, you add a pair of parentheses (`()`) and a colon (`:`) to end the line and begin a code block below.\n",
    "\n",
    "**\\_\\_init\\_\\_( )** to initialize your class\n",
    "\n",
    "- Functions inside classes are called methods. In this example, you see that a method named `__init__()` is being defined inside the class, and it stands for *initialize*.\n",
    "```\n",
    "    def __init__(self, name, age):\n",
    "        self.name = name\n",
    "        self.age = age\n",
    "        print(\"Class initialized.\")\n",
    "```\n",
    "- This function is executed every time an **instance** of the class is created (also known as *instantiated*) and it can take arguments if desired. Use this place to assign values to properties of the class, or to execute other operations that are necessary every time an instance is created.\n",
    "- Notice that, differently from functions, you don't indicate the arguments inside the parentheses next to the class name. Instead, indicate the arguments inside the parentheses of the `__init__()`. You pass these arguments when you create an instance of the class.\n",
    "\n",
    "**self**\n",
    "\n",
    "If you read the code at the beginning, you’ve seen that the word `self` appears in many places. What is it? `self` is a reference to the class instances you create and is used to access properties and methods inside the class. The important things to remember are:\n",
    "- When working inside of a class, always add `self`. before the name of properties. Do this when you **define properties** (like in `self.name = \"name\"`), and when you **call properties** (like in `return self.name`).\n",
    "- Always use `self` as the *first* argument when you **define methods** inside a class (like in `def set_name(self, name)`).\n",
    "- Never include `self` in the arguments when you **call methods** of a class (like in `self.print_new_name()`).\n",
    "- When interacting with an **instance** of a class, never use `self` to access its properties (like in `print(person_instance.name)`) or its methods (like in `print(person_instance.get_name())`).\n",
    "\n",
    "There is plenty of new information here. Let’s do some exercises to get the feeling of it. 🤓"
   ],
   "metadata": {
    "collapsed": false
   }
  },
  {
   "cell_type": "markdown",
   "source": [
    "#### Exercise:\n",
    "\n",
    "In the cell below you’ll find a code to play with and modify for this exercise.\n",
    "\n",
    "1. Add methods to set the value (also called a *setter*) and to get the value (also called a *getter*) of `age`.\n",
    "2. Add a new property called `last_name` and also pass this value as an argument next time you instantiate the class.\n",
    "3. After you create an instance of the class, change the value of `last_name`.\n",
    "4. Print name and last_name together in one line.\n",
    "5. Run the cell to see the results.\n",
    "\n",
    "- **Going further**: Create a new method in the class called `is_the_same()`. This method should take as arguments *name*, *last_name* and *age*, and print \"Same person.\" if the all the values are the same as the corresponding properties of the class. Otherwise, the method should print \"Different person\"."
   ],
   "metadata": {
    "collapsed": false
   }
  },
  {
   "cell_type": "code",
   "execution_count": 778,
   "outputs": [
    {
     "name": "stdout",
     "output_type": "stream",
     "text": [
      "Class initialized.\n",
      "John\n",
      "John\n",
      "New name set: Peter\n",
      "Peter\n"
     ]
    }
   ],
   "source": [
    "class Person():\n",
    "\n",
    "    def __init__(self, name, age):\n",
    "        self.name = name\n",
    "        self.age = age\n",
    "        print(\"Class initialized.\")\n",
    "\n",
    "    def set_name(self, name):\n",
    "        self.name = name\n",
    "        self.print_new_name()\n",
    "\n",
    "\n",
    "    def set_age(self, age):\n",
    "        self.age = age\n",
    "        self.print_new_age()\n",
    "\n",
    "    def get_age(self):\n",
    "        return self.age\n",
    "\n",
    "\n",
    "    def get_name(self):\n",
    "        return self.name\n",
    "\n",
    "    def print_new_name(self):\n",
    "        print(f\"New name set: {self.name}\")\n",
    "\n",
    "# Create an instance of the class Person():\n",
    "person_instance = Person(\"John\", 30)\n",
    "\n",
    "# Print its property name:\n",
    "print(person_instance.name)\n",
    "print(person_instance.get_name())\n",
    "\n",
    "# Change its property name:\n",
    "person_instance.name = \"Peter\"\n",
    "person_instance.set_name(\"Peter\")\n",
    "\n",
    "# Print its property name:\n",
    "print(person_instance.name)"
   ],
   "metadata": {
    "collapsed": false,
    "ExecuteTime": {
     "end_time": "2023-07-15T11:03:05.218092Z",
     "start_time": "2023-07-15T11:02:59.574767Z"
    }
   }
  },
  {
   "cell_type": "code",
   "execution_count": 779,
   "outputs": [
    {
     "name": "stdout",
     "output_type": "stream",
     "text": [
      "Class initialized.\n",
      "Ben 3\n",
      "Ben 20\n"
     ]
    }
   ],
   "source": [
    "class Person():\n",
    "\n",
    "    def __init__(self, name, age):\n",
    "        self.name = name\n",
    "        self.age = age\n",
    "        print(\"Class initialized.\")\n",
    "\n",
    "    def set_name(self, name):\n",
    "        self.name = name\n",
    "        self.print_new_name()\n",
    "\n",
    "\n",
    "    def set_age(self, age):\n",
    "        self.age = age\n",
    "\n",
    "    def get_age(self):\n",
    "        return self.age\n",
    "\n",
    "\n",
    "    def get_name(self):\n",
    "        return self.name\n",
    "\n",
    "    def print_new_name(self):\n",
    "        print(f\"New name set: {self.name}\")\n",
    "\n",
    "\n",
    "person = Person(\"Ben\",3)\n",
    "print(person.get_name(), person.get_age())\n",
    "\n",
    "person.set_age (20)\n",
    "print(person.get_name(), person.get_age())"
   ],
   "metadata": {
    "collapsed": false,
    "ExecuteTime": {
     "end_time": "2023-07-15T11:03:05.218304Z",
     "start_time": "2023-07-15T11:02:59.580731Z"
    }
   }
  },
  {
   "cell_type": "markdown",
   "source": [
    "### 4.2. Custom modules"
   ],
   "metadata": {
    "collapsed": false
   }
  },
  {
   "cell_type": "markdown",
   "source": [
    "Now it’s time for some magic. Ready? First, think of how the code below differs from the previous ones. Now, run the cell below."
   ],
   "metadata": {
    "collapsed": false
   }
  },
  {
   "cell_type": "code",
   "execution_count": 780,
   "outputs": [
    {
     "name": "stdout",
     "output_type": "stream",
     "text": [
      "Class initialized.\n",
      "John\n",
      "John\n",
      "New name set: Peter\n",
      "Peter\n"
     ]
    }
   ],
   "source": [
    "from library import Person\n",
    "\n",
    "# Create an instance of the class Person():\n",
    "person_instance = Person(\"John\", 30)\n",
    "\n",
    "# Print its property name:\n",
    "print(person_instance.name)\n",
    "print(person_instance.get_name())\n",
    "\n",
    "# Change its property name:\n",
    "person_instance.name = \"Peter\"\n",
    "person_instance.set_name(\"Peter\")\n",
    "\n",
    "# Print its property name:\n",
    "print(person_instance.name)"
   ],
   "metadata": {
    "collapsed": false,
    "ExecuteTime": {
     "end_time": "2023-07-15T11:03:05.272830Z",
     "start_time": "2023-07-15T11:02:59.648212Z"
    }
   }
  },
  {
   "cell_type": "markdown",
   "source": [
    "Ta daaa! You were able to create an instance of the class that you just wrote without having to add all the code again. How can this be? The reason is that in the same directory where this Jupyter Notebook is located, there is also a file called `library.py` and inside this file, there is the code of the class `Person()` you created.\n",
    "\n",
    "The file `library.py` is a **library**, and the class `Person()` inside this file is a **module**. This explains the syntax `from library import Person`, as you are telling Python to import the module called `Person` from the library called `library`.\n",
    "\n",
    "You can see what is inside `library.py` with the code below:"
   ],
   "metadata": {
    "collapsed": false
   }
  },
  {
   "cell_type": "code",
   "execution_count": 781,
   "outputs": [
    {
     "name": "stdout",
     "output_type": "stream",
     "text": [
      "class Person():\n",
      "    \n",
      "    def __init__(self, name, age):\n",
      "        self.name = name\n",
      "        self.age = age\n",
      "        print(\"Class initialized.\")\n",
      "    \n",
      "    def set_name(self, name):\n",
      "        self.name = name\n",
      "        self.print_new_name()\n",
      "    \n",
      "    def get_name(self):\n",
      "        return self.name\n",
      "\n",
      "    def print_new_name(self):\n",
      "        print(f\"New name set: {self.name}\")\n",
      "\n",
      "def multiply_function(number, multiplier=2):\n",
      "    result = number * multiplier\n",
      "    return result, multiplier\n",
      "\n",
      "numeric_variable = 123\n",
      "\n",
      "text_variable = \"456\"\n",
      "\n",
      "import numpy as np\n",
      "import pandas as pd\n",
      "import matplotlib.pyplot as plt\n",
      "\n",
      "def make_heatmap(searcher, n_values, p_values, t_delta):\n",
      "\n",
      "    results = pd.DataFrame.from_dict(searcher.cv_results_)\n",
      "    \n",
      "    results[\"params_str\"] = results.params.apply(str)\n",
      "    \n",
      "    scores_matrix = results.sort_values(\"iter\").pivot_table(\n",
      "        index=\"param_n_neighbors\",\n",
      "        columns=\"param_p\",\n",
      "        values=\"mean_test_score\",\n",
      "        aggfunc=\"last\",\n",
      "    )\n",
      "\n",
      "    fig, ax = plt.subplots(figsize=(5, 5))\n",
      "    plt.grid(False)\n",
      "    \n",
      "    im = ax.imshow(scores_matrix, cmap=plt.cm.Blues)\n",
      "\n",
      "    ax.set_xticks(np.arange(len(p_values)))\n",
      "    ax.set_xticklabels([str(x) for x in p_values])\n",
      "    ax.set_xlabel(\"Minkowski Distance\", fontsize=14)\n",
      "\n",
      "    ax.set_yticks(np.arange(len(n_values)))\n",
      "    ax.set_yticklabels([str(x) for x in n_values])\n",
      "    ax.set_ylabel(\"Neighbors\", fontsize=14)\n",
      "\n",
      "    # Rotate the tick labels and set their alignment.\n",
      "    plt.setp(ax.get_xticklabels(), rotation=45, ha=\"right\", rotation_mode=\"anchor\")\n",
      "\n",
      "    iterations = results.pivot_table(\n",
      "        index=\"param_n_neighbors\", columns=\"param_p\", values=\"iter\", aggfunc=\"max\"\n",
      "    ).values\n",
      "    for i in range(len(n_values)):\n",
      "        for j in range(len(p_values)):\n",
      "            plt.text(\n",
      "                j,\n",
      "                i,\n",
      "                iterations[i, j],\n",
      "                ha=\"center\",\n",
      "                va=\"center\",\n",
      "                color=\"w\",\n",
      "                fontsize=160,\n",
      "            )\n",
      "    \n",
      "    # Color bar:\n",
      "    fig.subplots_adjust(right=1)\n",
      "    cbar_ax = fig.add_axes([0.85, 0.15, 0.05, 0.7])\n",
      "    fig.colorbar(im, cax=cbar_ax)\n",
      "    cbar_ax.set_ylabel(\"mean_test_score\", rotation=-90, va=\"bottom\", fontsize=14)\n",
      "    \n",
      "    ax.set_title(f\"Successive Halving\\ntime = {t_delta:.2f} sec\", fontsize=14)\n",
      "    plt.show()\n",
      "\n"
     ]
    }
   ],
   "source": [
    "with open(\"library.py\") as file:\n",
    "    print(file.read())\n"
   ],
   "metadata": {
    "collapsed": false,
    "ExecuteTime": {
     "end_time": "2023-07-15T11:03:05.308945Z",
     "start_time": "2023-07-15T11:02:59.687946Z"
    }
   }
  },
  {
   "cell_type": "markdown",
   "source": [
    "As you can see, *libraries* can contain modules, functions, and values, and the syntax for importing them is the same. Take a look at the code below:"
   ],
   "metadata": {
    "collapsed": false
   }
  },
  {
   "cell_type": "code",
   "execution_count": 782,
   "outputs": [
    {
     "name": "stdout",
     "output_type": "stream",
     "text": [
      "(12, 4)\n",
      "123\n",
      "456\n"
     ]
    }
   ],
   "source": [
    "from library import multiply_function, numeric_variable, text_variable\n",
    "\n",
    "print(multiply_function(3, 4))\n",
    "print(numeric_variable)\n",
    "print(text_variable)"
   ],
   "metadata": {
    "collapsed": false,
    "ExecuteTime": {
     "end_time": "2023-07-15T11:03:05.315318Z",
     "start_time": "2023-07-15T11:02:59.728183Z"
    }
   }
  },
  {
   "cell_type": "markdown",
   "source": [
    "Now that you know what a class is, how to create one, and that they end up in a library, have a go at the exercise below. 🤓"
   ],
   "metadata": {
    "collapsed": false
   }
  },
  {
   "cell_type": "markdown",
   "source": [
    "#### Exercise:\n",
    "1. Create a copy of `library.py` and name it `person.py`.\n",
    "2. Replace the class Person() in person.py with the augmented version that you wrote in the previous exercise.\n",
    "3. Go back to the previous exercise,  copy the solution code and paste it into the cell below.\n",
    "4. Delete the code defining the class, but keep all the operations below it.\n",
    "5. Import the module Person from person.py\n",
    "3. Run the cell to see the results.\n",
    "\n",
    "Congratulations! You have created your first software library!"
   ],
   "metadata": {
    "collapsed": false
   }
  },
  {
   "cell_type": "code",
   "execution_count": 783,
   "outputs": [
    {
     "name": "stdout",
     "output_type": "stream",
     "text": [
      "(12, 4)\n",
      "123\n",
      "456\n"
     ]
    }
   ],
   "source": [
    "from person import multiply_function, numeric_variable, text_variable\n",
    "\n",
    "print(multiply_function(3, 4))\n",
    "print(numeric_variable)\n",
    "print(text_variable)"
   ],
   "metadata": {
    "collapsed": false,
    "ExecuteTime": {
     "end_time": "2023-07-15T11:03:05.360147Z",
     "start_time": "2023-07-15T11:02:59.804258Z"
    }
   }
  },
  {
   "cell_type": "markdown",
   "source": [
    "# Introduction to Coding for AI"
   ],
   "metadata": {
    "collapsed": false
   }
  },
  {
   "cell_type": "markdown",
   "source": [
    "## 5. Data processing\n",
    "\n",
    "So far we have been working with very small data snippets, but of course, datasets are normally stored in files or databases. In our challenge, we’ll focus on tabular data, which is a very common and flexible format that allows you to process text and numerical values. Think of the data you normally find in spreadsheets.\n",
    "\n",
    "Let’s take a look at some of the common data formats for handling tabular data in real-world situations: TXT, CSV, and JSON."
   ],
   "metadata": {
    "collapsed": false
   }
  },
  {
   "cell_type": "markdown",
   "source": [
    "### 5.1. Directory tree\n",
    "\n",
    "All the data in your computer has a directory tree structure. For example, you can see the content of our challenge directory in your file explorer:\n",
    "\n",
    "<img src=\"../data/content/directory_tree.png\" width=\"90%\"/>\n",
    "\n",
    "And then think of the directory tree representing these files as the following one:\n",
    "\n",
    "```\n",
    "Introduction to Coding for AI/\n",
    "│\n",
    "├─ data/\n",
    "│  │\n",
    "│  ├─ content/\n",
    "│  │  ├─ image_1.png\n",
    "│  │  ├─ image_2.png\n",
    "│  │  ├─ image_3.png\n",
    "│  │  ├─ ...\n",
    "│  │\n",
    "│  ├─ datasets/\n",
    "│     ├─ dataset_1.csv\n",
    "│     ├─ dataset_2.json\n",
    "│     ├─ dataset_3.xlxs\n",
    "│     ├─ ...\n",
    "│\n",
    "├─ notebooks/\n",
    "   ├─ notebook_1.ipynb\n",
    "   ├─ notebook_2.ipynb\n",
    "   ├─ notebook_3.ipynb\n",
    "   ├─ ...\n",
    "```\n",
    "\n",
    "The first step to load data from your computer is to tell Python where to search for it. Here we will import a module called `glob` from the standard library also called `glob`. *glob* reads all the files inside the **folder** (also called **directory**) that you specify and returns a list with their paths."
   ],
   "metadata": {
    "collapsed": false
   }
  },
  {
   "cell_type": "code",
   "execution_count": 797,
   "outputs": [
    {
     "name": "stdout",
     "output_type": "stream",
     "text": [
      "all_file_paths_here:\n",
      "['./lesson_2.ipynb', './person.py', './library.py', './lesson_4.ipynb', './lesson_3.ipynb', './lesson_1.ipynb', './__pycache__', './Coding_Journey.ipynb', './Introduction to Coding for AI']\n",
      "\n",
      "python_file_paths_here:\n",
      "['./person.py', './library.py']\n",
      "\n",
      "all_file_paths_above:\n",
      "['../demo', '../screenshots', '../python assignments', '../ericafirst', '../memoryMap', '../lesson3.ipynb', '../username']\n",
      "\n"
     ]
    }
   ],
   "source": [
    "from glob import glob\n",
    "\n",
    "all_file_paths_here = glob(\"./*\")\n",
    "python_file_paths_here = glob(\"./*.py\")\n",
    "all_file_paths_above = glob(\"../*\")\n",
    "\n",
    "print(f\"all_file_paths_here:\\n{all_file_paths_here}\\n\")\n",
    "print(f\"python_file_paths_here:\\n{python_file_paths_here}\\n\")\n",
    "print(f\"all_file_paths_above:\\n{all_file_paths_above}\\n\")"
   ],
   "metadata": {
    "collapsed": false,
    "ExecuteTime": {
     "end_time": "2023-07-15T11:03:23.096112Z",
     "start_time": "2023-07-15T11:03:23.054535Z"
    }
   }
  },
  {
   "cell_type": "markdown",
   "source": [
    "The string we passed to `glob` starts with one dot and a forward slash (`./`). The dot (`.`) means **here**, the current directory where this Jupyter Notebook is located in your directory tree, and the forward slash (`/`) indicates that there is a directory there. Similarly, you use two dots (`../`) to tell Python that it should go one directory level **above**, and from there start following the rest of the path. You can repeat these two dots as many times as you want to go up in your directory tree, so `../../../` would go up three levels for example.\n",
    "\n",
    "Next we see a star (`*`) and a star followed by the file extension of python files (`.py`). The star alone (`*`) means **everything**, so it tells `glob` to add all files and folders to the list that it will return. However, when the star is written next to other characters, its meaning changes. So, (`*.py`) indicates to `glob` to add all files ending with `.py` to the list that it will return.\n",
    "\n",
    "To recap, to open files located in the same directory as the notebook, use one dot only, so `./file.text` searches for `file.text` in the current directory, and `./folder/file.text` searches for `file.text` in a folder called `folder` located in the same place as the jupyter notebook."
   ],
   "metadata": {
    "collapsed": false
   }
  },
  {
   "cell_type": "markdown",
   "source": [
    "#### Exercise:\n",
    "1. Copy the code of the cell above into the cell below.\n",
    "2. Add a command that gets the list of all jupyter notebook files (`.ipynb`) in the current directory.\n",
    "3. Store this list in a variable with a suitable name and print them.\n",
    "4. Run the cell to show the results."
   ],
   "metadata": {
    "collapsed": false
   }
  },
  {
   "cell_type": "code",
   "execution_count": 799,
   "outputs": [
    {
     "name": "stdout",
     "output_type": "stream",
     "text": [
      "all_file_paths_here:\n",
      "['./lesson_2.ipynb', './person.py', './library.py', './lesson_4.ipynb', './lesson_3.ipynb', './lesson_1.ipynb', './__pycache__', './Coding_Journey.ipynb', './Introduction to Coding for AI']\n",
      "\n",
      "python_file_paths_here:\n",
      "['./person.py', './library.py']\n",
      "\n",
      "all_file_paths_above:\n",
      "['../demo', '../screenshots', '../python assignments', '../ericafirst', '../memoryMap', '../lesson3.ipynb', '../username']\n",
      "\n",
      "jupyter_file_paths_here:\n",
      "['./lesson_2.ipynb', './lesson_4.ipynb', './lesson_3.ipynb', './lesson_1.ipynb', './Coding_Journey.ipynb']\n",
      "\n"
     ]
    }
   ],
   "source": [
    "from glob import glob\n",
    "\n",
    "all_file_paths_here = glob(\"./*\")\n",
    "python_file_paths_here = glob(\"./*.py\")\n",
    "all_file_paths_above = glob(\"../*\")\n",
    "jupyter_file_paths_here = glob(\"./*.ipynb\")\n",
    "\n",
    "print(f\"all_file_paths_here:\\n{all_file_paths_here}\\n\")\n",
    "print(f\"python_file_paths_here:\\n{python_file_paths_here}\\n\")\n",
    "print(f\"all_file_paths_above:\\n{all_file_paths_above}\\n\")\n",
    "print(f\"jupyter_file_paths_here:\\n{jupyter_file_paths_here}\\n\")"
   ],
   "metadata": {
    "collapsed": false,
    "ExecuteTime": {
     "end_time": "2023-07-15T11:20:40.319194Z",
     "start_time": "2023-07-15T11:20:40.275047Z"
    }
   }
  },
  {
   "cell_type": "markdown",
   "source": [
    "### 5.2. Text Data\n",
    "\n",
    "In the following sections, we'll see how to **read** data from files, **transform** it to be ready for analysis, and **write** it back to your hard drive. Let's begin with an example of text data."
   ],
   "metadata": {
    "collapsed": false
   }
  },
  {
   "cell_type": "markdown",
   "source": [
    "#### 5.2.1. Read\n",
    "\n",
    "In the file that contains the notebooks, there is also a directory with datasets. We’ll start with a dataset called `spam.txt` that contains a collection of SMS messages. This dataset is a simplified version of the original SMS Spam Collection Dataset found in [Kaggle](https://www.kaggle.com/datasets/uciml/sms-spam-collection-dataset).\n",
    "In the dataset, each line contains the SMS text as well as the category (class) spam or ham. In case you don't know it, ham means that the SMS is ok and not spam.\n",
    "Emails already have a spam filter, but wouldn't it be great if phone companies could do the same? That's what we'll try to help them with.\n",
    "Let's start by reading the data, below is the method to read text files line-by-line, check it out:"
   ],
   "metadata": {
    "collapsed": false
   }
  },
  {
   "cell_type": "code",
   "execution_count": 800,
   "outputs": [
    {
     "ename": "FileNotFoundError",
     "evalue": "[Errno 2] No such file or directory: '../data/datasets/spam.txt'",
     "output_type": "error",
     "traceback": [
      "\u001B[0;31m---------------------------------------------------------------------------\u001B[0m",
      "\u001B[0;31mFileNotFoundError\u001B[0m                         Traceback (most recent call last)",
      "Cell \u001B[0;32mIn[800], line 1\u001B[0m\n\u001B[0;32m----> 1\u001B[0m \u001B[38;5;28;01mwith\u001B[39;00m \u001B[38;5;28;43mopen\u001B[39;49m\u001B[43m(\u001B[49m\u001B[38;5;124;43m\"\u001B[39;49m\u001B[38;5;124;43m../data/datasets/spam.txt\u001B[39;49m\u001B[38;5;124;43m\"\u001B[39;49m\u001B[43m,\u001B[49m\u001B[43m \u001B[49m\u001B[38;5;124;43m\"\u001B[39;49m\u001B[38;5;124;43mr\u001B[39;49m\u001B[38;5;124;43m\"\u001B[39;49m\u001B[43m)\u001B[49m \u001B[38;5;28;01mas\u001B[39;00m file_handle:\n\u001B[1;32m      2\u001B[0m     first_line \u001B[38;5;241m=\u001B[39m file_handle\u001B[38;5;241m.\u001B[39mreadline()\n\u001B[1;32m      3\u001B[0m     \u001B[38;5;28mprint\u001B[39m(first_line)  \u001B[38;5;66;03m# String formatted by print()\u001B[39;00m\n",
      "File \u001B[0;32m~/anaconda3/lib/python3.10/site-packages/IPython/core/interactiveshell.py:282\u001B[0m, in \u001B[0;36m_modified_open\u001B[0;34m(file, *args, **kwargs)\u001B[0m\n\u001B[1;32m    275\u001B[0m \u001B[38;5;28;01mif\u001B[39;00m file \u001B[38;5;129;01min\u001B[39;00m {\u001B[38;5;241m0\u001B[39m, \u001B[38;5;241m1\u001B[39m, \u001B[38;5;241m2\u001B[39m}:\n\u001B[1;32m    276\u001B[0m     \u001B[38;5;28;01mraise\u001B[39;00m \u001B[38;5;167;01mValueError\u001B[39;00m(\n\u001B[1;32m    277\u001B[0m         \u001B[38;5;124mf\u001B[39m\u001B[38;5;124m\"\u001B[39m\u001B[38;5;124mIPython won\u001B[39m\u001B[38;5;124m'\u001B[39m\u001B[38;5;124mt let you open fd=\u001B[39m\u001B[38;5;132;01m{\u001B[39;00mfile\u001B[38;5;132;01m}\u001B[39;00m\u001B[38;5;124m by default \u001B[39m\u001B[38;5;124m\"\u001B[39m\n\u001B[1;32m    278\u001B[0m         \u001B[38;5;124m\"\u001B[39m\u001B[38;5;124mas it is likely to crash IPython. If you know what you are doing, \u001B[39m\u001B[38;5;124m\"\u001B[39m\n\u001B[1;32m    279\u001B[0m         \u001B[38;5;124m\"\u001B[39m\u001B[38;5;124myou can use builtins\u001B[39m\u001B[38;5;124m'\u001B[39m\u001B[38;5;124m open.\u001B[39m\u001B[38;5;124m\"\u001B[39m\n\u001B[1;32m    280\u001B[0m     )\n\u001B[0;32m--> 282\u001B[0m \u001B[38;5;28;01mreturn\u001B[39;00m \u001B[43mio_open\u001B[49m\u001B[43m(\u001B[49m\u001B[43mfile\u001B[49m\u001B[43m,\u001B[49m\u001B[43m \u001B[49m\u001B[38;5;241;43m*\u001B[39;49m\u001B[43margs\u001B[49m\u001B[43m,\u001B[49m\u001B[43m \u001B[49m\u001B[38;5;241;43m*\u001B[39;49m\u001B[38;5;241;43m*\u001B[39;49m\u001B[43mkwargs\u001B[49m\u001B[43m)\u001B[49m\n",
      "\u001B[0;31mFileNotFoundError\u001B[0m: [Errno 2] No such file or directory: '../data/datasets/spam.txt'"
     ]
    }
   ],
   "source": [
    "with open(\"../data/datasets/spam.txt\", \"r\") as file_handle:\n",
    "    first_line = file_handle.readline()\n",
    "    print(first_line)  # String formatted by print()\n",
    "    print(repr(first_line))  # Raw, printable representation of the string"
   ],
   "metadata": {
    "collapsed": false,
    "ExecuteTime": {
     "end_time": "2023-07-15T11:26:05.426024Z",
     "start_time": "2023-07-15T11:26:05.357775Z"
    }
   }
  },
  {
   "cell_type": "markdown",
   "source": [
    "Let’s unpack this code through the steps’ description below:\n",
    "\n",
    "**with ... as ...**\n",
    "\n",
    "The statement `with <object> as <handle>:` means that the code that you place after `with` has to return an object, and that you will assign this object to the variable indicated in `<handle>`. In our case, the built-in function `open()` returns an object associated with the file you are opening. When Python opens a file, it must close it once it has finished working with it, otherwise, the file could become corrupted. One way of doing this is by calling the method `<object.close()>`, but to simplify our code, when we use the `with ... :` method it creates a code block in the next line after the colon. Once your program finishes working inside this code block and goes out again, the `with` automatically closes the file for you.\n",
    "\n",
    "**open( )**\n",
    "\n",
    "The statement `open(\"<path/to/filename.extension>\", \"mode\")` opens a file with the **mode** that you indicate. The modes that we are interested in are `r`, `w` and `a`.\n",
    "  - `r`: Only reads the file. This is a safe option to avoid messing up  the data.\n",
    "  - `w`: Creates a file to write. Be careful, if the file exists already it will delete its content first. Better avoid this, unless you are sure of it!\n",
    "  - `a`: Opens a file to write, but instead of overwritting its content, everything you write is appended at the end of the file.\n",
    "\n",
    "**.readline( )**\n",
    "\n",
    "Next we see that `first_line = file_handle.readline()` reads one line from the `file_handle` and stores it in the variable `print_line`. In the example, we only execute `.readline()` one time, so we only read the first line in the file. What if you want to read multiple lines? In that case, you can execute it inside a `for` loop (we’ll see the syntax in the following example). There is also a method called `.readlines()`, the plural, that reads all the lines in the file, but it’s not advised when you work with very large files! It’s good for you to know this method exists, but to stay away from trouble, let’s only use the first method and always read one line at a time. slow and steady wins the race 😉\n",
    "\n",
    "**repr( )**\n",
    "\n",
    "Even if the `print()` function doesn't show it, there is a \"\\n\" at the end of each line in texts.\n",
    "In the example, we use the function `repr()` to show it.\n",
    "We'll explain a bit what is `repr()` now, but the main point for you to remember, is that at the end of each line of text in a file, there is a *hidden* character `\\n`.\n",
    "\n",
    "Notice how the first print command (`print(first_line)`) formats the string in `print_line`, so instead of showing `\\n` at the end of the line, it **adds** a new line. Conversely, the second print command (`print(repr(first_line))`) uses `repr()` to get the *printable representation* of the string. This means that instead of interpreting the escape characters inside strings, `print()` will show all charachters inside the string, or it *raw* content."
   ],
   "metadata": {
    "collapsed": false
   }
  },
  {
   "cell_type": "markdown",
   "source": [
    "#### 5.2.2. Transform\n",
    "\n",
    "Now let's start doing some processing of the text in this file. As an exercise, let's create a list with the SMS texts and a list with the corresponding *classes* (*ham* or *spam*). **Attention:** in the context of *Python programming language*, a *class* is a code structure. In the context of *Machine Learning*, a *class* is the category of something. In the latter case, the SMS text may belong to the class *ham* or to the class *spam*.\n",
    "\n",
    "**String parsing**\n",
    "\n",
    "The first step is to know how to process, or **parse**, each line of text. In the previous cell we saw the first line in the file, so assuming all lines have the same structure, we can create a program that:\n",
    "\n",
    "1. Splits the SMS text from the SMS class using the string `\". The class of this SMS is: \"` as a separator.\n",
    "2. The SMS text is ready, so now we just need to remove the `\\n` trailing the class name `ham`.\n",
    "3. Then store the SMS in one list and its class in another."
   ],
   "metadata": {
    "collapsed": false
   }
  },
  {
   "cell_type": "code",
   "execution_count": 786,
   "outputs": [
    {
     "ename": "FileNotFoundError",
     "evalue": "[Errno 2] No such file or directory: '../data/datasets/spam.txt'",
     "output_type": "error",
     "traceback": [
      "\u001B[0;31m---------------------------------------------------------------------------\u001B[0m",
      "\u001B[0;31mFileNotFoundError\u001B[0m                         Traceback (most recent call last)",
      "Cell \u001B[0;32mIn[786], line 7\u001B[0m\n\u001B[1;32m      4\u001B[0m sms_texts \u001B[38;5;241m=\u001B[39m []\n\u001B[1;32m      5\u001B[0m sms_classes \u001B[38;5;241m=\u001B[39m []\n\u001B[0;32m----> 7\u001B[0m \u001B[38;5;28;01mwith\u001B[39;00m \u001B[38;5;28;43mopen\u001B[39;49m\u001B[43m(\u001B[49m\u001B[38;5;124;43m\"\u001B[39;49m\u001B[38;5;124;43m../data/datasets/spam.txt\u001B[39;49m\u001B[38;5;124;43m\"\u001B[39;49m\u001B[43m,\u001B[49m\u001B[43m \u001B[49m\u001B[38;5;124;43m\"\u001B[39;49m\u001B[38;5;124;43mr\u001B[39;49m\u001B[38;5;124;43m\"\u001B[39;49m\u001B[43m)\u001B[49m \u001B[38;5;28;01mas\u001B[39;00m file_handle:\n\u001B[1;32m      9\u001B[0m     counter \u001B[38;5;241m=\u001B[39m \u001B[38;5;241m0\u001B[39m\n\u001B[1;32m     10\u001B[0m     \u001B[38;5;28;01mfor\u001B[39;00m line \u001B[38;5;129;01min\u001B[39;00m file_handle:\n",
      "File \u001B[0;32m~/anaconda3/lib/python3.10/site-packages/IPython/core/interactiveshell.py:282\u001B[0m, in \u001B[0;36m_modified_open\u001B[0;34m(file, *args, **kwargs)\u001B[0m\n\u001B[1;32m    275\u001B[0m \u001B[38;5;28;01mif\u001B[39;00m file \u001B[38;5;129;01min\u001B[39;00m {\u001B[38;5;241m0\u001B[39m, \u001B[38;5;241m1\u001B[39m, \u001B[38;5;241m2\u001B[39m}:\n\u001B[1;32m    276\u001B[0m     \u001B[38;5;28;01mraise\u001B[39;00m \u001B[38;5;167;01mValueError\u001B[39;00m(\n\u001B[1;32m    277\u001B[0m         \u001B[38;5;124mf\u001B[39m\u001B[38;5;124m\"\u001B[39m\u001B[38;5;124mIPython won\u001B[39m\u001B[38;5;124m'\u001B[39m\u001B[38;5;124mt let you open fd=\u001B[39m\u001B[38;5;132;01m{\u001B[39;00mfile\u001B[38;5;132;01m}\u001B[39;00m\u001B[38;5;124m by default \u001B[39m\u001B[38;5;124m\"\u001B[39m\n\u001B[1;32m    278\u001B[0m         \u001B[38;5;124m\"\u001B[39m\u001B[38;5;124mas it is likely to crash IPython. If you know what you are doing, \u001B[39m\u001B[38;5;124m\"\u001B[39m\n\u001B[1;32m    279\u001B[0m         \u001B[38;5;124m\"\u001B[39m\u001B[38;5;124myou can use builtins\u001B[39m\u001B[38;5;124m'\u001B[39m\u001B[38;5;124m open.\u001B[39m\u001B[38;5;124m\"\u001B[39m\n\u001B[1;32m    280\u001B[0m     )\n\u001B[0;32m--> 282\u001B[0m \u001B[38;5;28;01mreturn\u001B[39;00m \u001B[43mio_open\u001B[49m\u001B[43m(\u001B[49m\u001B[43mfile\u001B[49m\u001B[43m,\u001B[49m\u001B[43m \u001B[49m\u001B[38;5;241;43m*\u001B[39;49m\u001B[43margs\u001B[49m\u001B[43m,\u001B[49m\u001B[43m \u001B[49m\u001B[38;5;241;43m*\u001B[39;49m\u001B[38;5;241;43m*\u001B[39;49m\u001B[43mkwargs\u001B[49m\u001B[43m)\u001B[49m\n",
      "\u001B[0;31mFileNotFoundError\u001B[0m: [Errno 2] No such file or directory: '../data/datasets/spam.txt'"
     ]
    }
   ],
   "source": [
    "# Important:\n",
    "# Declare the lists before you use them,\n",
    "# otherwise you'll get an error:\n",
    "sms_texts = []\n",
    "sms_classes = []\n",
    "\n",
    "with open(\"../data/datasets/spam.txt\", \"r\") as file_handle:\n",
    "\n",
    "    counter = 0\n",
    "    for line in file_handle:\n",
    "\n",
    "        sms_text, sms_class = line.split(\". The class of this SMS is: \")\n",
    "\n",
    "        sms_class = sms_class[:-1]  # Remove \"\\n\"\n",
    "\n",
    "        sms_texts.append(sms_text)\n",
    "        sms_classes.append(sms_class)\n",
    "\n",
    "        counter += 1\n",
    "\n",
    "print(f\"Total number of instances: {counter}\")\n",
    "print(f\"First SMS:\\n{sms_texts[0]}\")\n",
    "print(f\"First class:\\n{repr(sms_classes[0])}\")"
   ],
   "metadata": {
    "collapsed": false,
    "ExecuteTime": {
     "start_time": "2023-07-15T11:03:00.156281Z"
    }
   }
  },
  {
   "cell_type": "markdown",
   "source": [
    "All the elements in the program above are already known to us. Let's go briefly over them to make sure everything is clear.\n",
    "\n",
    "- First we initialize our data structures, which are the two lists where we'll store our clean data after processing it. We must always initialize data structures before modifying them, otherwise, Python will produce an error.\n",
    "- Then we open the file and start reading its text, line by line. The variable `file_handle` is an **iterator**, so when we place it in a `for` loop it returns item after item until no more elements are left.\n",
    "- Next, we split each text line with a string **pattern**. In our case, we know that the same text is always repeated between each SMS and its class: `\". The class of this SMS is: \"`, including a space at the end of the string.\n",
    "- Afterwards, we remove the last character `\\n` from the string `ham\\n` and store the *cleaned* string `ham` back in the variable `sms_class`. For this we *slice* the string; remember when we saw *slicing*? We use the command `sms_class[:-1]`, which is the same as `sms_class[0:-1]`, so the start index is `0` and the end index is `-1`. In other words, we keep all the characters in the string, from index `0` and up to, *but not including*, the last index to remove the last character `\\n`.\n",
    "- Finally, we append the string `sms_text` in the list `sms_texts`, and the string `sms_class` in the list `sms_classes`.\n",
    "- Notice that before the `for` loop, we initialize a `counter` and then increase its value by `1` after each `for` loop. In this way, we can count how many lines are in our text file."
   ],
   "metadata": {
    "collapsed": false
   }
  },
  {
   "cell_type": "markdown",
   "source": [
    "for index, line in enumerate(file_handle):"
   ],
   "metadata": {
    "collapsed": false
   }
  },
  {
   "cell_type": "markdown",
   "source": [
    "#### Exercise:\n",
    "1. Copy the code of the cell above into the cell below.\n",
    "2. Replace the two lists `sms_texts` and `sms_classes` with four new lists:\n",
    "  - A list for storing the text of ham messages.\n",
    "  - A list for storing the text of spam messages.\n",
    "  - A list for storing the class of ham messages.\n",
    "  - A list for storing the class of spam messages.\n",
    "3. Count how many *ham* and how many *spam* elements are in the dataset and print the answers.\n",
    "4. Run the cell to show the results.\n",
    "\n",
    "- **Going further**: Instead of having four separate lists, create a dictionary with four keys. Each key should be a string with the name of the variable, its corresponding value should be the list with data. For example, `sms_texts = []` and `sms_classes = []` would become `data_dictionary = {\"sms_texts\": [], \"sms_classes\": []}`. Therefore, `sms_texts.append(sms_text)` would become `data_dictionary[\"sms_texts\"].append(sms_text)`."
   ],
   "metadata": {
    "collapsed": false
   }
  },
  {
   "cell_type": "code",
   "execution_count": 786,
   "outputs": [],
   "source": [],
   "metadata": {
    "collapsed": false,
    "ExecuteTime": {
     "end_time": "2023-07-15T11:03:05.466952Z",
     "start_time": "2023-07-15T11:03:00.255941Z"
    }
   }
  },
  {
   "cell_type": "markdown",
   "source": [
    "#### 5.2.3. Write"
   ],
   "metadata": {
    "collapsed": false
   }
  },
  {
   "cell_type": "markdown",
   "source": [
    "The last step of our text data processing is to save the data.\n",
    "Below you can see that we repeat the same processing we did before, and afterward we create two new files to save the SMS texts and the SMS classes separately.\n",
    "\n",
    "Also, notice that when we write each line, we append a new line character `\\n` at the very end, so that the next line we write starts in a new line below. There are two ways for adding `\\n` at the end of the SMS text, by inserting into the SMS text or by appending it at the end of the SMS text.\n",
    "To insert it, we can use the formatting method that we have used before: `f\"{sms_text}\\n\"`, and to append it we can use the `+` sign as it concatenates the two strings on its left and right sides: `sms_text + \"\\n\"`.\n",
    "Both methods produce the same result, so we use the `+` method as in this case is the simplest."
   ],
   "metadata": {
    "collapsed": false
   }
  },
  {
   "cell_type": "code",
   "execution_count": 787,
   "outputs": [
    {
     "ename": "FileNotFoundError",
     "evalue": "[Errno 2] No such file or directory: '../data/datasets/spam.txt'",
     "output_type": "error",
     "traceback": [
      "\u001B[0;31m---------------------------------------------------------------------------\u001B[0m",
      "\u001B[0;31mFileNotFoundError\u001B[0m                         Traceback (most recent call last)",
      "Cell \u001B[0;32mIn[787], line 4\u001B[0m\n\u001B[1;32m      2\u001B[0m sms_texts \u001B[38;5;241m=\u001B[39m []\n\u001B[1;32m      3\u001B[0m sms_classes \u001B[38;5;241m=\u001B[39m []\n\u001B[0;32m----> 4\u001B[0m \u001B[38;5;28;01mwith\u001B[39;00m \u001B[38;5;28;43mopen\u001B[39;49m\u001B[43m(\u001B[49m\u001B[38;5;124;43m\"\u001B[39;49m\u001B[38;5;124;43m../data/datasets/spam.txt\u001B[39;49m\u001B[38;5;124;43m\"\u001B[39;49m\u001B[43m,\u001B[49m\u001B[43m \u001B[49m\u001B[38;5;124;43m\"\u001B[39;49m\u001B[38;5;124;43mr\u001B[39;49m\u001B[38;5;124;43m\"\u001B[39;49m\u001B[43m)\u001B[49m \u001B[38;5;28;01mas\u001B[39;00m file_handle:\n\u001B[1;32m      5\u001B[0m     \u001B[38;5;28;01mfor\u001B[39;00m line \u001B[38;5;129;01min\u001B[39;00m file_handle:\n\u001B[1;32m      6\u001B[0m         sms_text, sms_class \u001B[38;5;241m=\u001B[39m line\u001B[38;5;241m.\u001B[39msplit(\u001B[38;5;124m\"\u001B[39m\u001B[38;5;124m. The class of this SMS is: \u001B[39m\u001B[38;5;124m\"\u001B[39m)\n",
      "File \u001B[0;32m~/anaconda3/lib/python3.10/site-packages/IPython/core/interactiveshell.py:282\u001B[0m, in \u001B[0;36m_modified_open\u001B[0;34m(file, *args, **kwargs)\u001B[0m\n\u001B[1;32m    275\u001B[0m \u001B[38;5;28;01mif\u001B[39;00m file \u001B[38;5;129;01min\u001B[39;00m {\u001B[38;5;241m0\u001B[39m, \u001B[38;5;241m1\u001B[39m, \u001B[38;5;241m2\u001B[39m}:\n\u001B[1;32m    276\u001B[0m     \u001B[38;5;28;01mraise\u001B[39;00m \u001B[38;5;167;01mValueError\u001B[39;00m(\n\u001B[1;32m    277\u001B[0m         \u001B[38;5;124mf\u001B[39m\u001B[38;5;124m\"\u001B[39m\u001B[38;5;124mIPython won\u001B[39m\u001B[38;5;124m'\u001B[39m\u001B[38;5;124mt let you open fd=\u001B[39m\u001B[38;5;132;01m{\u001B[39;00mfile\u001B[38;5;132;01m}\u001B[39;00m\u001B[38;5;124m by default \u001B[39m\u001B[38;5;124m\"\u001B[39m\n\u001B[1;32m    278\u001B[0m         \u001B[38;5;124m\"\u001B[39m\u001B[38;5;124mas it is likely to crash IPython. If you know what you are doing, \u001B[39m\u001B[38;5;124m\"\u001B[39m\n\u001B[1;32m    279\u001B[0m         \u001B[38;5;124m\"\u001B[39m\u001B[38;5;124myou can use builtins\u001B[39m\u001B[38;5;124m'\u001B[39m\u001B[38;5;124m open.\u001B[39m\u001B[38;5;124m\"\u001B[39m\n\u001B[1;32m    280\u001B[0m     )\n\u001B[0;32m--> 282\u001B[0m \u001B[38;5;28;01mreturn\u001B[39;00m \u001B[43mio_open\u001B[49m\u001B[43m(\u001B[49m\u001B[43mfile\u001B[49m\u001B[43m,\u001B[49m\u001B[43m \u001B[49m\u001B[38;5;241;43m*\u001B[39;49m\u001B[43margs\u001B[49m\u001B[43m,\u001B[49m\u001B[43m \u001B[49m\u001B[38;5;241;43m*\u001B[39;49m\u001B[38;5;241;43m*\u001B[39;49m\u001B[43mkwargs\u001B[49m\u001B[43m)\u001B[49m\n",
      "\u001B[0;31mFileNotFoundError\u001B[0m: [Errno 2] No such file or directory: '../data/datasets/spam.txt'"
     ]
    }
   ],
   "source": [
    "# Preprocess data:\n",
    "sms_texts = []\n",
    "sms_classes = []\n",
    "with open(\"../data/datasets/spam.txt\", \"r\") as file_handle:\n",
    "    for line in file_handle:\n",
    "        sms_text, sms_class = line.split(\". The class of this SMS is: \")\n",
    "        sms_class = sms_class[:-1]\n",
    "        sms_texts.append(sms_text)\n",
    "        sms_classes.append(sms_class)\n",
    "\n",
    "# Save data:\n",
    "filename = \"../data/datasets/sms_texts.txt\"\n",
    "data_list = sms_texts\n",
    "with open(filename, \"w\") as file_handle:\n",
    "    for item in data_list:\n",
    "        line = item + \"\\n\"\n",
    "        file_handle.write(line)\n",
    "\n",
    "# Save data:\n",
    "filename = \"../data/datasets/spam_classes.txt\"\n",
    "data_list = sms_classes\n",
    "with open(filename, \"w\") as file_handle:\n",
    "    for item in data_list:\n",
    "        line = item + \"\\n\"\n",
    "        file_handle.write(line)"
   ],
   "metadata": {
    "collapsed": false,
    "ExecuteTime": {
     "start_time": "2023-07-15T11:03:00.344569Z"
    }
   }
  },
  {
   "cell_type": "markdown",
   "source": [
    "You can also see that instead of typing the file path inside the `open()` function, we define it as a variable above it. Also, instead of using a different variable name for the list inside the `for` loop, we pass it the same variable name `data_list`.\n",
    "This optimization of code to make it more reusable is called code **refactoring**, and replacing values inside pieces of code with variables is called **extracting** parameters.\n",
    "More concretely, we can reuse the code for writing a file if we specify the `filename` and the `data_list`."
   ],
   "metadata": {
    "collapsed": false
   }
  },
  {
   "cell_type": "markdown",
   "source": [
    "#### Exercise:\n",
    "1. Copy the code of the cell above into the cell below.\n",
    "2. Below the code, create a *function* with the arguments `filename` and `data_list`.\n",
    "3. Below the function definition, call the function two times. The first time, provide it with the parameters to save the SMS texts, and the second time, provide it with the parameters to save the SMS classes. For example, if you name the function save_data(), you should call it as follows: `save_data(filename, data_list)`.\n",
    "4. Run the cell to execute the code.\n",
    "\n",
    "- **Going further**: If you feel more adventurous, create a class called `DataCenter`. The class should have two methods:\n",
    "  1. `preprocess_sms()` reusing the code we wrote for processing our SMS data. It should take as parameters the `filename` to open, and the `cut_pattern` used to split the *text* from the *class*. Finally, it should return two lists: `sms_texts` and `sms_classes`.\n",
    "  2. `save_data()` reusing the code we wrote for saving text data.\n",
    "\n",
    "Then create an instance of the class, call one time the `preprocess_sms()` method, and call two times the `save_data()` method to save the SMS texts and the SMS classes."
   ],
   "metadata": {
    "collapsed": false
   }
  },
  {
   "cell_type": "code",
   "execution_count": 787,
   "outputs": [],
   "source": [],
   "metadata": {
    "collapsed": false,
    "ExecuteTime": {
     "end_time": "2023-07-15T11:03:05.513467Z",
     "start_time": "2023-07-15T11:03:00.406249Z"
    }
   }
  },
  {
   "cell_type": "markdown",
   "source": [
    "### 5.3. CSV Data\n",
    "\n",
    "Reading and writing took lots of steps in the code we used above. Considering that all these steps are repeated often, it would be a good idea to standardize the read-and-write procedures in a single module. What about standardizing also the *cut pattern* that we use to separate the different features in our data? This is where Comma-Separated Values or **CSV** files come in handy. Furthermore, to simplify the read-and-write procedures, we'll use **Pandas**, an external library that specializes in tabular data. Normally, you have to install external libraries manually, but in our case, Anaconda comes with all the Data Science libraries we need, including Pandas.\n",
    "\n",
    "Reading and writing took lots of steps in the code we used above. However, all these steps are repeated often, so it would be a good idea to standardize the read-and-write procedures in a reusable function. But what about the cut pattern we use to separate different features in our data? Fret not, we can standardize these too, and that's where Comma-Separated Values (CSV) files come in handy.\n",
    "\n",
    "Yes, but isn't this going to be complicated? No, it doesn't have to be, because we'll use Pandas 🐼, an external library that specializes in tabular data. While you normally would have to install external libraries manually, Anaconda is prepared to provide you with all the Data Science libraries we need.\n",
    "\n",
    "So, let's get into coding and import this useful Pandas library."
   ],
   "metadata": {
    "collapsed": false
   }
  },
  {
   "cell_type": "markdown",
   "source": [
    "#### 5.3.1 Read\n",
    "\n",
    "Let's go straight to an example."
   ],
   "metadata": {
    "collapsed": false
   }
  },
  {
   "cell_type": "code",
   "execution_count": 788,
   "outputs": [
    {
     "ename": "FileNotFoundError",
     "evalue": "[Errno 2] No such file or directory: '../data/datasets/spam.csv'",
     "output_type": "error",
     "traceback": [
      "\u001B[0;31m---------------------------------------------------------------------------\u001B[0m",
      "\u001B[0;31mFileNotFoundError\u001B[0m                         Traceback (most recent call last)",
      "Cell \u001B[0;32mIn[788], line 3\u001B[0m\n\u001B[1;32m      1\u001B[0m \u001B[38;5;28;01mimport\u001B[39;00m \u001B[38;5;21;01mpandas\u001B[39;00m \u001B[38;5;28;01mas\u001B[39;00m \u001B[38;5;21;01mpd\u001B[39;00m\n\u001B[0;32m----> 3\u001B[0m data \u001B[38;5;241m=\u001B[39m \u001B[43mpd\u001B[49m\u001B[38;5;241;43m.\u001B[39;49m\u001B[43mread_csv\u001B[49m\u001B[43m(\u001B[49m\u001B[38;5;124;43m\"\u001B[39;49m\u001B[38;5;124;43m../data/datasets/spam.csv\u001B[39;49m\u001B[38;5;124;43m\"\u001B[39;49m\u001B[43m)\u001B[49m\n\u001B[1;32m      5\u001B[0m \u001B[38;5;28mprint\u001B[39m(\u001B[38;5;124mf\u001B[39m\u001B[38;5;124m\"\u001B[39m\u001B[38;5;124mType of data: \u001B[39m\u001B[38;5;132;01m{\u001B[39;00m\u001B[38;5;28mtype\u001B[39m(data)\u001B[38;5;132;01m}\u001B[39;00m\u001B[38;5;124m\"\u001B[39m)\n\u001B[1;32m      6\u001B[0m data\u001B[38;5;241m.\u001B[39mhead()\n",
      "File \u001B[0;32m~/anaconda3/lib/python3.10/site-packages/pandas/util/_decorators.py:211\u001B[0m, in \u001B[0;36mdeprecate_kwarg.<locals>._deprecate_kwarg.<locals>.wrapper\u001B[0;34m(*args, **kwargs)\u001B[0m\n\u001B[1;32m    209\u001B[0m     \u001B[38;5;28;01melse\u001B[39;00m:\n\u001B[1;32m    210\u001B[0m         kwargs[new_arg_name] \u001B[38;5;241m=\u001B[39m new_arg_value\n\u001B[0;32m--> 211\u001B[0m \u001B[38;5;28;01mreturn\u001B[39;00m \u001B[43mfunc\u001B[49m\u001B[43m(\u001B[49m\u001B[38;5;241;43m*\u001B[39;49m\u001B[43margs\u001B[49m\u001B[43m,\u001B[49m\u001B[43m \u001B[49m\u001B[38;5;241;43m*\u001B[39;49m\u001B[38;5;241;43m*\u001B[39;49m\u001B[43mkwargs\u001B[49m\u001B[43m)\u001B[49m\n",
      "File \u001B[0;32m~/anaconda3/lib/python3.10/site-packages/pandas/util/_decorators.py:331\u001B[0m, in \u001B[0;36mdeprecate_nonkeyword_arguments.<locals>.decorate.<locals>.wrapper\u001B[0;34m(*args, **kwargs)\u001B[0m\n\u001B[1;32m    325\u001B[0m \u001B[38;5;28;01mif\u001B[39;00m \u001B[38;5;28mlen\u001B[39m(args) \u001B[38;5;241m>\u001B[39m num_allow_args:\n\u001B[1;32m    326\u001B[0m     warnings\u001B[38;5;241m.\u001B[39mwarn(\n\u001B[1;32m    327\u001B[0m         msg\u001B[38;5;241m.\u001B[39mformat(arguments\u001B[38;5;241m=\u001B[39m_format_argument_list(allow_args)),\n\u001B[1;32m    328\u001B[0m         \u001B[38;5;167;01mFutureWarning\u001B[39;00m,\n\u001B[1;32m    329\u001B[0m         stacklevel\u001B[38;5;241m=\u001B[39mfind_stack_level(),\n\u001B[1;32m    330\u001B[0m     )\n\u001B[0;32m--> 331\u001B[0m \u001B[38;5;28;01mreturn\u001B[39;00m \u001B[43mfunc\u001B[49m\u001B[43m(\u001B[49m\u001B[38;5;241;43m*\u001B[39;49m\u001B[43margs\u001B[49m\u001B[43m,\u001B[49m\u001B[43m \u001B[49m\u001B[38;5;241;43m*\u001B[39;49m\u001B[38;5;241;43m*\u001B[39;49m\u001B[43mkwargs\u001B[49m\u001B[43m)\u001B[49m\n",
      "File \u001B[0;32m~/anaconda3/lib/python3.10/site-packages/pandas/io/parsers/readers.py:950\u001B[0m, in \u001B[0;36mread_csv\u001B[0;34m(filepath_or_buffer, sep, delimiter, header, names, index_col, usecols, squeeze, prefix, mangle_dupe_cols, dtype, engine, converters, true_values, false_values, skipinitialspace, skiprows, skipfooter, nrows, na_values, keep_default_na, na_filter, verbose, skip_blank_lines, parse_dates, infer_datetime_format, keep_date_col, date_parser, dayfirst, cache_dates, iterator, chunksize, compression, thousands, decimal, lineterminator, quotechar, quoting, doublequote, escapechar, comment, encoding, encoding_errors, dialect, error_bad_lines, warn_bad_lines, on_bad_lines, delim_whitespace, low_memory, memory_map, float_precision, storage_options)\u001B[0m\n\u001B[1;32m    935\u001B[0m kwds_defaults \u001B[38;5;241m=\u001B[39m _refine_defaults_read(\n\u001B[1;32m    936\u001B[0m     dialect,\n\u001B[1;32m    937\u001B[0m     delimiter,\n\u001B[0;32m   (...)\u001B[0m\n\u001B[1;32m    946\u001B[0m     defaults\u001B[38;5;241m=\u001B[39m{\u001B[38;5;124m\"\u001B[39m\u001B[38;5;124mdelimiter\u001B[39m\u001B[38;5;124m\"\u001B[39m: \u001B[38;5;124m\"\u001B[39m\u001B[38;5;124m,\u001B[39m\u001B[38;5;124m\"\u001B[39m},\n\u001B[1;32m    947\u001B[0m )\n\u001B[1;32m    948\u001B[0m kwds\u001B[38;5;241m.\u001B[39mupdate(kwds_defaults)\n\u001B[0;32m--> 950\u001B[0m \u001B[38;5;28;01mreturn\u001B[39;00m \u001B[43m_read\u001B[49m\u001B[43m(\u001B[49m\u001B[43mfilepath_or_buffer\u001B[49m\u001B[43m,\u001B[49m\u001B[43m \u001B[49m\u001B[43mkwds\u001B[49m\u001B[43m)\u001B[49m\n",
      "File \u001B[0;32m~/anaconda3/lib/python3.10/site-packages/pandas/io/parsers/readers.py:605\u001B[0m, in \u001B[0;36m_read\u001B[0;34m(filepath_or_buffer, kwds)\u001B[0m\n\u001B[1;32m    602\u001B[0m _validate_names(kwds\u001B[38;5;241m.\u001B[39mget(\u001B[38;5;124m\"\u001B[39m\u001B[38;5;124mnames\u001B[39m\u001B[38;5;124m\"\u001B[39m, \u001B[38;5;28;01mNone\u001B[39;00m))\n\u001B[1;32m    604\u001B[0m \u001B[38;5;66;03m# Create the parser.\u001B[39;00m\n\u001B[0;32m--> 605\u001B[0m parser \u001B[38;5;241m=\u001B[39m \u001B[43mTextFileReader\u001B[49m\u001B[43m(\u001B[49m\u001B[43mfilepath_or_buffer\u001B[49m\u001B[43m,\u001B[49m\u001B[43m \u001B[49m\u001B[38;5;241;43m*\u001B[39;49m\u001B[38;5;241;43m*\u001B[39;49m\u001B[43mkwds\u001B[49m\u001B[43m)\u001B[49m\n\u001B[1;32m    607\u001B[0m \u001B[38;5;28;01mif\u001B[39;00m chunksize \u001B[38;5;129;01mor\u001B[39;00m iterator:\n\u001B[1;32m    608\u001B[0m     \u001B[38;5;28;01mreturn\u001B[39;00m parser\n",
      "File \u001B[0;32m~/anaconda3/lib/python3.10/site-packages/pandas/io/parsers/readers.py:1442\u001B[0m, in \u001B[0;36mTextFileReader.__init__\u001B[0;34m(self, f, engine, **kwds)\u001B[0m\n\u001B[1;32m   1439\u001B[0m     \u001B[38;5;28mself\u001B[39m\u001B[38;5;241m.\u001B[39moptions[\u001B[38;5;124m\"\u001B[39m\u001B[38;5;124mhas_index_names\u001B[39m\u001B[38;5;124m\"\u001B[39m] \u001B[38;5;241m=\u001B[39m kwds[\u001B[38;5;124m\"\u001B[39m\u001B[38;5;124mhas_index_names\u001B[39m\u001B[38;5;124m\"\u001B[39m]\n\u001B[1;32m   1441\u001B[0m \u001B[38;5;28mself\u001B[39m\u001B[38;5;241m.\u001B[39mhandles: IOHandles \u001B[38;5;241m|\u001B[39m \u001B[38;5;28;01mNone\u001B[39;00m \u001B[38;5;241m=\u001B[39m \u001B[38;5;28;01mNone\u001B[39;00m\n\u001B[0;32m-> 1442\u001B[0m \u001B[38;5;28mself\u001B[39m\u001B[38;5;241m.\u001B[39m_engine \u001B[38;5;241m=\u001B[39m \u001B[38;5;28;43mself\u001B[39;49m\u001B[38;5;241;43m.\u001B[39;49m\u001B[43m_make_engine\u001B[49m\u001B[43m(\u001B[49m\u001B[43mf\u001B[49m\u001B[43m,\u001B[49m\u001B[43m \u001B[49m\u001B[38;5;28;43mself\u001B[39;49m\u001B[38;5;241;43m.\u001B[39;49m\u001B[43mengine\u001B[49m\u001B[43m)\u001B[49m\n",
      "File \u001B[0;32m~/anaconda3/lib/python3.10/site-packages/pandas/io/parsers/readers.py:1735\u001B[0m, in \u001B[0;36mTextFileReader._make_engine\u001B[0;34m(self, f, engine)\u001B[0m\n\u001B[1;32m   1733\u001B[0m     \u001B[38;5;28;01mif\u001B[39;00m \u001B[38;5;124m\"\u001B[39m\u001B[38;5;124mb\u001B[39m\u001B[38;5;124m\"\u001B[39m \u001B[38;5;129;01mnot\u001B[39;00m \u001B[38;5;129;01min\u001B[39;00m mode:\n\u001B[1;32m   1734\u001B[0m         mode \u001B[38;5;241m+\u001B[39m\u001B[38;5;241m=\u001B[39m \u001B[38;5;124m\"\u001B[39m\u001B[38;5;124mb\u001B[39m\u001B[38;5;124m\"\u001B[39m\n\u001B[0;32m-> 1735\u001B[0m \u001B[38;5;28mself\u001B[39m\u001B[38;5;241m.\u001B[39mhandles \u001B[38;5;241m=\u001B[39m \u001B[43mget_handle\u001B[49m\u001B[43m(\u001B[49m\n\u001B[1;32m   1736\u001B[0m \u001B[43m    \u001B[49m\u001B[43mf\u001B[49m\u001B[43m,\u001B[49m\n\u001B[1;32m   1737\u001B[0m \u001B[43m    \u001B[49m\u001B[43mmode\u001B[49m\u001B[43m,\u001B[49m\n\u001B[1;32m   1738\u001B[0m \u001B[43m    \u001B[49m\u001B[43mencoding\u001B[49m\u001B[38;5;241;43m=\u001B[39;49m\u001B[38;5;28;43mself\u001B[39;49m\u001B[38;5;241;43m.\u001B[39;49m\u001B[43moptions\u001B[49m\u001B[38;5;241;43m.\u001B[39;49m\u001B[43mget\u001B[49m\u001B[43m(\u001B[49m\u001B[38;5;124;43m\"\u001B[39;49m\u001B[38;5;124;43mencoding\u001B[39;49m\u001B[38;5;124;43m\"\u001B[39;49m\u001B[43m,\u001B[49m\u001B[43m \u001B[49m\u001B[38;5;28;43;01mNone\u001B[39;49;00m\u001B[43m)\u001B[49m\u001B[43m,\u001B[49m\n\u001B[1;32m   1739\u001B[0m \u001B[43m    \u001B[49m\u001B[43mcompression\u001B[49m\u001B[38;5;241;43m=\u001B[39;49m\u001B[38;5;28;43mself\u001B[39;49m\u001B[38;5;241;43m.\u001B[39;49m\u001B[43moptions\u001B[49m\u001B[38;5;241;43m.\u001B[39;49m\u001B[43mget\u001B[49m\u001B[43m(\u001B[49m\u001B[38;5;124;43m\"\u001B[39;49m\u001B[38;5;124;43mcompression\u001B[39;49m\u001B[38;5;124;43m\"\u001B[39;49m\u001B[43m,\u001B[49m\u001B[43m \u001B[49m\u001B[38;5;28;43;01mNone\u001B[39;49;00m\u001B[43m)\u001B[49m\u001B[43m,\u001B[49m\n\u001B[1;32m   1740\u001B[0m \u001B[43m    \u001B[49m\u001B[43mmemory_map\u001B[49m\u001B[38;5;241;43m=\u001B[39;49m\u001B[38;5;28;43mself\u001B[39;49m\u001B[38;5;241;43m.\u001B[39;49m\u001B[43moptions\u001B[49m\u001B[38;5;241;43m.\u001B[39;49m\u001B[43mget\u001B[49m\u001B[43m(\u001B[49m\u001B[38;5;124;43m\"\u001B[39;49m\u001B[38;5;124;43mmemory_map\u001B[39;49m\u001B[38;5;124;43m\"\u001B[39;49m\u001B[43m,\u001B[49m\u001B[43m \u001B[49m\u001B[38;5;28;43;01mFalse\u001B[39;49;00m\u001B[43m)\u001B[49m\u001B[43m,\u001B[49m\n\u001B[1;32m   1741\u001B[0m \u001B[43m    \u001B[49m\u001B[43mis_text\u001B[49m\u001B[38;5;241;43m=\u001B[39;49m\u001B[43mis_text\u001B[49m\u001B[43m,\u001B[49m\n\u001B[1;32m   1742\u001B[0m \u001B[43m    \u001B[49m\u001B[43merrors\u001B[49m\u001B[38;5;241;43m=\u001B[39;49m\u001B[38;5;28;43mself\u001B[39;49m\u001B[38;5;241;43m.\u001B[39;49m\u001B[43moptions\u001B[49m\u001B[38;5;241;43m.\u001B[39;49m\u001B[43mget\u001B[49m\u001B[43m(\u001B[49m\u001B[38;5;124;43m\"\u001B[39;49m\u001B[38;5;124;43mencoding_errors\u001B[39;49m\u001B[38;5;124;43m\"\u001B[39;49m\u001B[43m,\u001B[49m\u001B[43m \u001B[49m\u001B[38;5;124;43m\"\u001B[39;49m\u001B[38;5;124;43mstrict\u001B[39;49m\u001B[38;5;124;43m\"\u001B[39;49m\u001B[43m)\u001B[49m\u001B[43m,\u001B[49m\n\u001B[1;32m   1743\u001B[0m \u001B[43m    \u001B[49m\u001B[43mstorage_options\u001B[49m\u001B[38;5;241;43m=\u001B[39;49m\u001B[38;5;28;43mself\u001B[39;49m\u001B[38;5;241;43m.\u001B[39;49m\u001B[43moptions\u001B[49m\u001B[38;5;241;43m.\u001B[39;49m\u001B[43mget\u001B[49m\u001B[43m(\u001B[49m\u001B[38;5;124;43m\"\u001B[39;49m\u001B[38;5;124;43mstorage_options\u001B[39;49m\u001B[38;5;124;43m\"\u001B[39;49m\u001B[43m,\u001B[49m\u001B[43m \u001B[49m\u001B[38;5;28;43;01mNone\u001B[39;49;00m\u001B[43m)\u001B[49m\u001B[43m,\u001B[49m\n\u001B[1;32m   1744\u001B[0m \u001B[43m\u001B[49m\u001B[43m)\u001B[49m\n\u001B[1;32m   1745\u001B[0m \u001B[38;5;28;01massert\u001B[39;00m \u001B[38;5;28mself\u001B[39m\u001B[38;5;241m.\u001B[39mhandles \u001B[38;5;129;01mis\u001B[39;00m \u001B[38;5;129;01mnot\u001B[39;00m \u001B[38;5;28;01mNone\u001B[39;00m\n\u001B[1;32m   1746\u001B[0m f \u001B[38;5;241m=\u001B[39m \u001B[38;5;28mself\u001B[39m\u001B[38;5;241m.\u001B[39mhandles\u001B[38;5;241m.\u001B[39mhandle\n",
      "File \u001B[0;32m~/anaconda3/lib/python3.10/site-packages/pandas/io/common.py:856\u001B[0m, in \u001B[0;36mget_handle\u001B[0;34m(path_or_buf, mode, encoding, compression, memory_map, is_text, errors, storage_options)\u001B[0m\n\u001B[1;32m    851\u001B[0m \u001B[38;5;28;01melif\u001B[39;00m \u001B[38;5;28misinstance\u001B[39m(handle, \u001B[38;5;28mstr\u001B[39m):\n\u001B[1;32m    852\u001B[0m     \u001B[38;5;66;03m# Check whether the filename is to be opened in binary mode.\u001B[39;00m\n\u001B[1;32m    853\u001B[0m     \u001B[38;5;66;03m# Binary mode does not support 'encoding' and 'newline'.\u001B[39;00m\n\u001B[1;32m    854\u001B[0m     \u001B[38;5;28;01mif\u001B[39;00m ioargs\u001B[38;5;241m.\u001B[39mencoding \u001B[38;5;129;01mand\u001B[39;00m \u001B[38;5;124m\"\u001B[39m\u001B[38;5;124mb\u001B[39m\u001B[38;5;124m\"\u001B[39m \u001B[38;5;129;01mnot\u001B[39;00m \u001B[38;5;129;01min\u001B[39;00m ioargs\u001B[38;5;241m.\u001B[39mmode:\n\u001B[1;32m    855\u001B[0m         \u001B[38;5;66;03m# Encoding\u001B[39;00m\n\u001B[0;32m--> 856\u001B[0m         handle \u001B[38;5;241m=\u001B[39m \u001B[38;5;28;43mopen\u001B[39;49m\u001B[43m(\u001B[49m\n\u001B[1;32m    857\u001B[0m \u001B[43m            \u001B[49m\u001B[43mhandle\u001B[49m\u001B[43m,\u001B[49m\n\u001B[1;32m    858\u001B[0m \u001B[43m            \u001B[49m\u001B[43mioargs\u001B[49m\u001B[38;5;241;43m.\u001B[39;49m\u001B[43mmode\u001B[49m\u001B[43m,\u001B[49m\n\u001B[1;32m    859\u001B[0m \u001B[43m            \u001B[49m\u001B[43mencoding\u001B[49m\u001B[38;5;241;43m=\u001B[39;49m\u001B[43mioargs\u001B[49m\u001B[38;5;241;43m.\u001B[39;49m\u001B[43mencoding\u001B[49m\u001B[43m,\u001B[49m\n\u001B[1;32m    860\u001B[0m \u001B[43m            \u001B[49m\u001B[43merrors\u001B[49m\u001B[38;5;241;43m=\u001B[39;49m\u001B[43merrors\u001B[49m\u001B[43m,\u001B[49m\n\u001B[1;32m    861\u001B[0m \u001B[43m            \u001B[49m\u001B[43mnewline\u001B[49m\u001B[38;5;241;43m=\u001B[39;49m\u001B[38;5;124;43m\"\u001B[39;49m\u001B[38;5;124;43m\"\u001B[39;49m\u001B[43m,\u001B[49m\n\u001B[1;32m    862\u001B[0m \u001B[43m        \u001B[49m\u001B[43m)\u001B[49m\n\u001B[1;32m    863\u001B[0m     \u001B[38;5;28;01melse\u001B[39;00m:\n\u001B[1;32m    864\u001B[0m         \u001B[38;5;66;03m# Binary mode\u001B[39;00m\n\u001B[1;32m    865\u001B[0m         handle \u001B[38;5;241m=\u001B[39m \u001B[38;5;28mopen\u001B[39m(handle, ioargs\u001B[38;5;241m.\u001B[39mmode)\n",
      "\u001B[0;31mFileNotFoundError\u001B[0m: [Errno 2] No such file or directory: '../data/datasets/spam.csv'"
     ]
    }
   ],
   "source": [
    "import pandas as pd\n",
    "\n",
    "data = pd.read_csv(\"../data/datasets/spam.csv\")\n",
    "\n",
    "print(f\"Type of data: {type(data)}\")\n",
    "data.head()"
   ],
   "metadata": {
    "collapsed": false,
    "ExecuteTime": {
     "start_time": "2023-07-15T11:03:00.527619Z"
    }
   }
  },
  {
   "cell_type": "markdown",
   "source": [
    "Done! Great isn't it! 😊\n",
    "\n",
    "When we write `import pandas as pd`, the `pd` is just a way to assign a shorter name to the module. This helps to make the code look cleaner and saves time when writing lots of code. For example, when calling the method to read CSV files, now we can write `pd.read_csv()` instead of the longer `pandas.read_csv()`.\n",
    "\n",
    "Finally, when you call the method `.head()` of the object `data`, it displays the top five rows of your data with a pretty-looking table that makes it easier to inspect the data. By the way, the data type of the object returned by `pd.read_csv()` is called `DataFrame`. You can inspect it with the function `type()` as before:"
   ],
   "metadata": {
    "collapsed": false
   }
  },
  {
   "cell_type": "markdown",
   "source": [
    "#### 5.3.2 Transform\n",
    "\n",
    "Below you can see how `spam.txt` changes from `spam.csv`, the CSV version of our dataset. We'll print two lines of the CSV file as the first line has the name of each feature (`sms` and `class`). In the second line you can see that the cut pattern `. The class of this SMS is: ` is gone. This pattern is no longer needed, as it has been replaced by other markers, such as placing the features (texts and classes) between double quotes (`\" \"`), and by separating each feature with a comma (hence the name CSV). This means that we no longer need to transform our data, this is already done when we use CSV conventions."
   ],
   "metadata": {
    "collapsed": false
   }
  },
  {
   "cell_type": "code",
   "execution_count": 789,
   "outputs": [
    {
     "ename": "FileNotFoundError",
     "evalue": "[Errno 2] No such file or directory: '../data/datasets/spam.txt'",
     "output_type": "error",
     "traceback": [
      "\u001B[0;31m---------------------------------------------------------------------------\u001B[0m",
      "\u001B[0;31mFileNotFoundError\u001B[0m                         Traceback (most recent call last)",
      "Cell \u001B[0;32mIn[789], line 1\u001B[0m\n\u001B[0;32m----> 1\u001B[0m \u001B[38;5;28;01mwith\u001B[39;00m \u001B[38;5;28;43mopen\u001B[39;49m\u001B[43m(\u001B[49m\u001B[38;5;124;43m\"\u001B[39;49m\u001B[38;5;124;43m../data/datasets/spam.txt\u001B[39;49m\u001B[38;5;124;43m\"\u001B[39;49m\u001B[43m,\u001B[49m\u001B[43m \u001B[49m\u001B[38;5;124;43m\"\u001B[39;49m\u001B[38;5;124;43mr\u001B[39;49m\u001B[38;5;124;43m\"\u001B[39;49m\u001B[43m)\u001B[49m \u001B[38;5;28;01mas\u001B[39;00m file_handle:\n\u001B[1;32m      2\u001B[0m     line \u001B[38;5;241m=\u001B[39m \u001B[38;5;28mrepr\u001B[39m(file_handle\u001B[38;5;241m.\u001B[39mreadline())\n\u001B[1;32m      3\u001B[0m     \u001B[38;5;28mprint\u001B[39m(line, \u001B[38;5;124m\"\u001B[39m\u001B[38;5;130;01m\\n\u001B[39;00m\u001B[38;5;124m\"\u001B[39m)\n",
      "File \u001B[0;32m~/anaconda3/lib/python3.10/site-packages/IPython/core/interactiveshell.py:282\u001B[0m, in \u001B[0;36m_modified_open\u001B[0;34m(file, *args, **kwargs)\u001B[0m\n\u001B[1;32m    275\u001B[0m \u001B[38;5;28;01mif\u001B[39;00m file \u001B[38;5;129;01min\u001B[39;00m {\u001B[38;5;241m0\u001B[39m, \u001B[38;5;241m1\u001B[39m, \u001B[38;5;241m2\u001B[39m}:\n\u001B[1;32m    276\u001B[0m     \u001B[38;5;28;01mraise\u001B[39;00m \u001B[38;5;167;01mValueError\u001B[39;00m(\n\u001B[1;32m    277\u001B[0m         \u001B[38;5;124mf\u001B[39m\u001B[38;5;124m\"\u001B[39m\u001B[38;5;124mIPython won\u001B[39m\u001B[38;5;124m'\u001B[39m\u001B[38;5;124mt let you open fd=\u001B[39m\u001B[38;5;132;01m{\u001B[39;00mfile\u001B[38;5;132;01m}\u001B[39;00m\u001B[38;5;124m by default \u001B[39m\u001B[38;5;124m\"\u001B[39m\n\u001B[1;32m    278\u001B[0m         \u001B[38;5;124m\"\u001B[39m\u001B[38;5;124mas it is likely to crash IPython. If you know what you are doing, \u001B[39m\u001B[38;5;124m\"\u001B[39m\n\u001B[1;32m    279\u001B[0m         \u001B[38;5;124m\"\u001B[39m\u001B[38;5;124myou can use builtins\u001B[39m\u001B[38;5;124m'\u001B[39m\u001B[38;5;124m open.\u001B[39m\u001B[38;5;124m\"\u001B[39m\n\u001B[1;32m    280\u001B[0m     )\n\u001B[0;32m--> 282\u001B[0m \u001B[38;5;28;01mreturn\u001B[39;00m \u001B[43mio_open\u001B[49m\u001B[43m(\u001B[49m\u001B[43mfile\u001B[49m\u001B[43m,\u001B[49m\u001B[43m \u001B[49m\u001B[38;5;241;43m*\u001B[39;49m\u001B[43margs\u001B[49m\u001B[43m,\u001B[49m\u001B[43m \u001B[49m\u001B[38;5;241;43m*\u001B[39;49m\u001B[38;5;241;43m*\u001B[39;49m\u001B[43mkwargs\u001B[49m\u001B[43m)\u001B[49m\n",
      "\u001B[0;31mFileNotFoundError\u001B[0m: [Errno 2] No such file or directory: '../data/datasets/spam.txt'"
     ]
    }
   ],
   "source": [
    "with open(\"../data/datasets/spam.txt\", \"r\") as file_handle:\n",
    "    line = repr(file_handle.readline())\n",
    "    print(line, \"\\n\")\n",
    "\n",
    "with open(\"../data/datasets/spam.csv\", \"r\") as file_handle:\n",
    "    line = repr(file_handle.readline())\n",
    "    print(line)\n",
    "    line = repr(file_handle.readline())\n",
    "    print(line)"
   ],
   "metadata": {
    "collapsed": false,
    "ExecuteTime": {
     "start_time": "2023-07-15T11:03:00.570673Z"
    }
   }
  },
  {
   "cell_type": "markdown",
   "source": [
    "#### 5.3.3 Write\n",
    "\n",
    "Finally, we can also save our features (texts and classes) as individual files. For this, we select the respective column in our dataframe and use Pandas to save it.\n",
    "\n",
    "#### Note:\n",
    "We are importing pandas again and reading the data again, even though we already did this in the previous cell and the data is already in memory. We did the same when we defined our custom functions and we’ll keep repeating these loads and definitions. Why? Simply to make the cells in the notebook stand-alone, so you can run them independently and without having to run all the cells above first."
   ],
   "metadata": {
    "collapsed": false
   }
  },
  {
   "cell_type": "code",
   "execution_count": 790,
   "outputs": [
    {
     "ename": "FileNotFoundError",
     "evalue": "[Errno 2] No such file or directory: '../data/datasets/spam.csv'",
     "output_type": "error",
     "traceback": [
      "\u001B[0;31m---------------------------------------------------------------------------\u001B[0m",
      "\u001B[0;31mFileNotFoundError\u001B[0m                         Traceback (most recent call last)",
      "Cell \u001B[0;32mIn[790], line 3\u001B[0m\n\u001B[1;32m      1\u001B[0m \u001B[38;5;28;01mimport\u001B[39;00m \u001B[38;5;21;01mpandas\u001B[39;00m \u001B[38;5;28;01mas\u001B[39;00m \u001B[38;5;21;01mpd\u001B[39;00m\n\u001B[0;32m----> 3\u001B[0m data \u001B[38;5;241m=\u001B[39m \u001B[43mpd\u001B[49m\u001B[38;5;241;43m.\u001B[39;49m\u001B[43mread_csv\u001B[49m\u001B[43m(\u001B[49m\u001B[38;5;124;43m\"\u001B[39;49m\u001B[38;5;124;43m../data/datasets/spam.csv\u001B[39;49m\u001B[38;5;124;43m\"\u001B[39;49m\u001B[43m)\u001B[49m\n\u001B[1;32m      5\u001B[0m data\u001B[38;5;241m.\u001B[39mto_csv(\u001B[38;5;124m\"\u001B[39m\u001B[38;5;124m../data/datasets/sms_texts.csv\u001B[39m\u001B[38;5;124m\"\u001B[39m, columns\u001B[38;5;241m=\u001B[39m[\u001B[38;5;124m\"\u001B[39m\u001B[38;5;124msms\u001B[39m\u001B[38;5;124m\"\u001B[39m], index\u001B[38;5;241m=\u001B[39m\u001B[38;5;28;01mFalse\u001B[39;00m)\n\u001B[1;32m      6\u001B[0m data\u001B[38;5;241m.\u001B[39mto_csv(\u001B[38;5;124m\"\u001B[39m\u001B[38;5;124m../data/datasets/sms_classes.csv\u001B[39m\u001B[38;5;124m\"\u001B[39m, columns\u001B[38;5;241m=\u001B[39m[\u001B[38;5;124m\"\u001B[39m\u001B[38;5;124mclass\u001B[39m\u001B[38;5;124m\"\u001B[39m], index\u001B[38;5;241m=\u001B[39m\u001B[38;5;28;01mFalse\u001B[39;00m)\n",
      "File \u001B[0;32m~/anaconda3/lib/python3.10/site-packages/pandas/util/_decorators.py:211\u001B[0m, in \u001B[0;36mdeprecate_kwarg.<locals>._deprecate_kwarg.<locals>.wrapper\u001B[0;34m(*args, **kwargs)\u001B[0m\n\u001B[1;32m    209\u001B[0m     \u001B[38;5;28;01melse\u001B[39;00m:\n\u001B[1;32m    210\u001B[0m         kwargs[new_arg_name] \u001B[38;5;241m=\u001B[39m new_arg_value\n\u001B[0;32m--> 211\u001B[0m \u001B[38;5;28;01mreturn\u001B[39;00m \u001B[43mfunc\u001B[49m\u001B[43m(\u001B[49m\u001B[38;5;241;43m*\u001B[39;49m\u001B[43margs\u001B[49m\u001B[43m,\u001B[49m\u001B[43m \u001B[49m\u001B[38;5;241;43m*\u001B[39;49m\u001B[38;5;241;43m*\u001B[39;49m\u001B[43mkwargs\u001B[49m\u001B[43m)\u001B[49m\n",
      "File \u001B[0;32m~/anaconda3/lib/python3.10/site-packages/pandas/util/_decorators.py:331\u001B[0m, in \u001B[0;36mdeprecate_nonkeyword_arguments.<locals>.decorate.<locals>.wrapper\u001B[0;34m(*args, **kwargs)\u001B[0m\n\u001B[1;32m    325\u001B[0m \u001B[38;5;28;01mif\u001B[39;00m \u001B[38;5;28mlen\u001B[39m(args) \u001B[38;5;241m>\u001B[39m num_allow_args:\n\u001B[1;32m    326\u001B[0m     warnings\u001B[38;5;241m.\u001B[39mwarn(\n\u001B[1;32m    327\u001B[0m         msg\u001B[38;5;241m.\u001B[39mformat(arguments\u001B[38;5;241m=\u001B[39m_format_argument_list(allow_args)),\n\u001B[1;32m    328\u001B[0m         \u001B[38;5;167;01mFutureWarning\u001B[39;00m,\n\u001B[1;32m    329\u001B[0m         stacklevel\u001B[38;5;241m=\u001B[39mfind_stack_level(),\n\u001B[1;32m    330\u001B[0m     )\n\u001B[0;32m--> 331\u001B[0m \u001B[38;5;28;01mreturn\u001B[39;00m \u001B[43mfunc\u001B[49m\u001B[43m(\u001B[49m\u001B[38;5;241;43m*\u001B[39;49m\u001B[43margs\u001B[49m\u001B[43m,\u001B[49m\u001B[43m \u001B[49m\u001B[38;5;241;43m*\u001B[39;49m\u001B[38;5;241;43m*\u001B[39;49m\u001B[43mkwargs\u001B[49m\u001B[43m)\u001B[49m\n",
      "File \u001B[0;32m~/anaconda3/lib/python3.10/site-packages/pandas/io/parsers/readers.py:950\u001B[0m, in \u001B[0;36mread_csv\u001B[0;34m(filepath_or_buffer, sep, delimiter, header, names, index_col, usecols, squeeze, prefix, mangle_dupe_cols, dtype, engine, converters, true_values, false_values, skipinitialspace, skiprows, skipfooter, nrows, na_values, keep_default_na, na_filter, verbose, skip_blank_lines, parse_dates, infer_datetime_format, keep_date_col, date_parser, dayfirst, cache_dates, iterator, chunksize, compression, thousands, decimal, lineterminator, quotechar, quoting, doublequote, escapechar, comment, encoding, encoding_errors, dialect, error_bad_lines, warn_bad_lines, on_bad_lines, delim_whitespace, low_memory, memory_map, float_precision, storage_options)\u001B[0m\n\u001B[1;32m    935\u001B[0m kwds_defaults \u001B[38;5;241m=\u001B[39m _refine_defaults_read(\n\u001B[1;32m    936\u001B[0m     dialect,\n\u001B[1;32m    937\u001B[0m     delimiter,\n\u001B[0;32m   (...)\u001B[0m\n\u001B[1;32m    946\u001B[0m     defaults\u001B[38;5;241m=\u001B[39m{\u001B[38;5;124m\"\u001B[39m\u001B[38;5;124mdelimiter\u001B[39m\u001B[38;5;124m\"\u001B[39m: \u001B[38;5;124m\"\u001B[39m\u001B[38;5;124m,\u001B[39m\u001B[38;5;124m\"\u001B[39m},\n\u001B[1;32m    947\u001B[0m )\n\u001B[1;32m    948\u001B[0m kwds\u001B[38;5;241m.\u001B[39mupdate(kwds_defaults)\n\u001B[0;32m--> 950\u001B[0m \u001B[38;5;28;01mreturn\u001B[39;00m \u001B[43m_read\u001B[49m\u001B[43m(\u001B[49m\u001B[43mfilepath_or_buffer\u001B[49m\u001B[43m,\u001B[49m\u001B[43m \u001B[49m\u001B[43mkwds\u001B[49m\u001B[43m)\u001B[49m\n",
      "File \u001B[0;32m~/anaconda3/lib/python3.10/site-packages/pandas/io/parsers/readers.py:605\u001B[0m, in \u001B[0;36m_read\u001B[0;34m(filepath_or_buffer, kwds)\u001B[0m\n\u001B[1;32m    602\u001B[0m _validate_names(kwds\u001B[38;5;241m.\u001B[39mget(\u001B[38;5;124m\"\u001B[39m\u001B[38;5;124mnames\u001B[39m\u001B[38;5;124m\"\u001B[39m, \u001B[38;5;28;01mNone\u001B[39;00m))\n\u001B[1;32m    604\u001B[0m \u001B[38;5;66;03m# Create the parser.\u001B[39;00m\n\u001B[0;32m--> 605\u001B[0m parser \u001B[38;5;241m=\u001B[39m \u001B[43mTextFileReader\u001B[49m\u001B[43m(\u001B[49m\u001B[43mfilepath_or_buffer\u001B[49m\u001B[43m,\u001B[49m\u001B[43m \u001B[49m\u001B[38;5;241;43m*\u001B[39;49m\u001B[38;5;241;43m*\u001B[39;49m\u001B[43mkwds\u001B[49m\u001B[43m)\u001B[49m\n\u001B[1;32m    607\u001B[0m \u001B[38;5;28;01mif\u001B[39;00m chunksize \u001B[38;5;129;01mor\u001B[39;00m iterator:\n\u001B[1;32m    608\u001B[0m     \u001B[38;5;28;01mreturn\u001B[39;00m parser\n",
      "File \u001B[0;32m~/anaconda3/lib/python3.10/site-packages/pandas/io/parsers/readers.py:1442\u001B[0m, in \u001B[0;36mTextFileReader.__init__\u001B[0;34m(self, f, engine, **kwds)\u001B[0m\n\u001B[1;32m   1439\u001B[0m     \u001B[38;5;28mself\u001B[39m\u001B[38;5;241m.\u001B[39moptions[\u001B[38;5;124m\"\u001B[39m\u001B[38;5;124mhas_index_names\u001B[39m\u001B[38;5;124m\"\u001B[39m] \u001B[38;5;241m=\u001B[39m kwds[\u001B[38;5;124m\"\u001B[39m\u001B[38;5;124mhas_index_names\u001B[39m\u001B[38;5;124m\"\u001B[39m]\n\u001B[1;32m   1441\u001B[0m \u001B[38;5;28mself\u001B[39m\u001B[38;5;241m.\u001B[39mhandles: IOHandles \u001B[38;5;241m|\u001B[39m \u001B[38;5;28;01mNone\u001B[39;00m \u001B[38;5;241m=\u001B[39m \u001B[38;5;28;01mNone\u001B[39;00m\n\u001B[0;32m-> 1442\u001B[0m \u001B[38;5;28mself\u001B[39m\u001B[38;5;241m.\u001B[39m_engine \u001B[38;5;241m=\u001B[39m \u001B[38;5;28;43mself\u001B[39;49m\u001B[38;5;241;43m.\u001B[39;49m\u001B[43m_make_engine\u001B[49m\u001B[43m(\u001B[49m\u001B[43mf\u001B[49m\u001B[43m,\u001B[49m\u001B[43m \u001B[49m\u001B[38;5;28;43mself\u001B[39;49m\u001B[38;5;241;43m.\u001B[39;49m\u001B[43mengine\u001B[49m\u001B[43m)\u001B[49m\n",
      "File \u001B[0;32m~/anaconda3/lib/python3.10/site-packages/pandas/io/parsers/readers.py:1735\u001B[0m, in \u001B[0;36mTextFileReader._make_engine\u001B[0;34m(self, f, engine)\u001B[0m\n\u001B[1;32m   1733\u001B[0m     \u001B[38;5;28;01mif\u001B[39;00m \u001B[38;5;124m\"\u001B[39m\u001B[38;5;124mb\u001B[39m\u001B[38;5;124m\"\u001B[39m \u001B[38;5;129;01mnot\u001B[39;00m \u001B[38;5;129;01min\u001B[39;00m mode:\n\u001B[1;32m   1734\u001B[0m         mode \u001B[38;5;241m+\u001B[39m\u001B[38;5;241m=\u001B[39m \u001B[38;5;124m\"\u001B[39m\u001B[38;5;124mb\u001B[39m\u001B[38;5;124m\"\u001B[39m\n\u001B[0;32m-> 1735\u001B[0m \u001B[38;5;28mself\u001B[39m\u001B[38;5;241m.\u001B[39mhandles \u001B[38;5;241m=\u001B[39m \u001B[43mget_handle\u001B[49m\u001B[43m(\u001B[49m\n\u001B[1;32m   1736\u001B[0m \u001B[43m    \u001B[49m\u001B[43mf\u001B[49m\u001B[43m,\u001B[49m\n\u001B[1;32m   1737\u001B[0m \u001B[43m    \u001B[49m\u001B[43mmode\u001B[49m\u001B[43m,\u001B[49m\n\u001B[1;32m   1738\u001B[0m \u001B[43m    \u001B[49m\u001B[43mencoding\u001B[49m\u001B[38;5;241;43m=\u001B[39;49m\u001B[38;5;28;43mself\u001B[39;49m\u001B[38;5;241;43m.\u001B[39;49m\u001B[43moptions\u001B[49m\u001B[38;5;241;43m.\u001B[39;49m\u001B[43mget\u001B[49m\u001B[43m(\u001B[49m\u001B[38;5;124;43m\"\u001B[39;49m\u001B[38;5;124;43mencoding\u001B[39;49m\u001B[38;5;124;43m\"\u001B[39;49m\u001B[43m,\u001B[49m\u001B[43m \u001B[49m\u001B[38;5;28;43;01mNone\u001B[39;49;00m\u001B[43m)\u001B[49m\u001B[43m,\u001B[49m\n\u001B[1;32m   1739\u001B[0m \u001B[43m    \u001B[49m\u001B[43mcompression\u001B[49m\u001B[38;5;241;43m=\u001B[39;49m\u001B[38;5;28;43mself\u001B[39;49m\u001B[38;5;241;43m.\u001B[39;49m\u001B[43moptions\u001B[49m\u001B[38;5;241;43m.\u001B[39;49m\u001B[43mget\u001B[49m\u001B[43m(\u001B[49m\u001B[38;5;124;43m\"\u001B[39;49m\u001B[38;5;124;43mcompression\u001B[39;49m\u001B[38;5;124;43m\"\u001B[39;49m\u001B[43m,\u001B[49m\u001B[43m \u001B[49m\u001B[38;5;28;43;01mNone\u001B[39;49;00m\u001B[43m)\u001B[49m\u001B[43m,\u001B[49m\n\u001B[1;32m   1740\u001B[0m \u001B[43m    \u001B[49m\u001B[43mmemory_map\u001B[49m\u001B[38;5;241;43m=\u001B[39;49m\u001B[38;5;28;43mself\u001B[39;49m\u001B[38;5;241;43m.\u001B[39;49m\u001B[43moptions\u001B[49m\u001B[38;5;241;43m.\u001B[39;49m\u001B[43mget\u001B[49m\u001B[43m(\u001B[49m\u001B[38;5;124;43m\"\u001B[39;49m\u001B[38;5;124;43mmemory_map\u001B[39;49m\u001B[38;5;124;43m\"\u001B[39;49m\u001B[43m,\u001B[49m\u001B[43m \u001B[49m\u001B[38;5;28;43;01mFalse\u001B[39;49;00m\u001B[43m)\u001B[49m\u001B[43m,\u001B[49m\n\u001B[1;32m   1741\u001B[0m \u001B[43m    \u001B[49m\u001B[43mis_text\u001B[49m\u001B[38;5;241;43m=\u001B[39;49m\u001B[43mis_text\u001B[49m\u001B[43m,\u001B[49m\n\u001B[1;32m   1742\u001B[0m \u001B[43m    \u001B[49m\u001B[43merrors\u001B[49m\u001B[38;5;241;43m=\u001B[39;49m\u001B[38;5;28;43mself\u001B[39;49m\u001B[38;5;241;43m.\u001B[39;49m\u001B[43moptions\u001B[49m\u001B[38;5;241;43m.\u001B[39;49m\u001B[43mget\u001B[49m\u001B[43m(\u001B[49m\u001B[38;5;124;43m\"\u001B[39;49m\u001B[38;5;124;43mencoding_errors\u001B[39;49m\u001B[38;5;124;43m\"\u001B[39;49m\u001B[43m,\u001B[49m\u001B[43m \u001B[49m\u001B[38;5;124;43m\"\u001B[39;49m\u001B[38;5;124;43mstrict\u001B[39;49m\u001B[38;5;124;43m\"\u001B[39;49m\u001B[43m)\u001B[49m\u001B[43m,\u001B[49m\n\u001B[1;32m   1743\u001B[0m \u001B[43m    \u001B[49m\u001B[43mstorage_options\u001B[49m\u001B[38;5;241;43m=\u001B[39;49m\u001B[38;5;28;43mself\u001B[39;49m\u001B[38;5;241;43m.\u001B[39;49m\u001B[43moptions\u001B[49m\u001B[38;5;241;43m.\u001B[39;49m\u001B[43mget\u001B[49m\u001B[43m(\u001B[49m\u001B[38;5;124;43m\"\u001B[39;49m\u001B[38;5;124;43mstorage_options\u001B[39;49m\u001B[38;5;124;43m\"\u001B[39;49m\u001B[43m,\u001B[49m\u001B[43m \u001B[49m\u001B[38;5;28;43;01mNone\u001B[39;49;00m\u001B[43m)\u001B[49m\u001B[43m,\u001B[49m\n\u001B[1;32m   1744\u001B[0m \u001B[43m\u001B[49m\u001B[43m)\u001B[49m\n\u001B[1;32m   1745\u001B[0m \u001B[38;5;28;01massert\u001B[39;00m \u001B[38;5;28mself\u001B[39m\u001B[38;5;241m.\u001B[39mhandles \u001B[38;5;129;01mis\u001B[39;00m \u001B[38;5;129;01mnot\u001B[39;00m \u001B[38;5;28;01mNone\u001B[39;00m\n\u001B[1;32m   1746\u001B[0m f \u001B[38;5;241m=\u001B[39m \u001B[38;5;28mself\u001B[39m\u001B[38;5;241m.\u001B[39mhandles\u001B[38;5;241m.\u001B[39mhandle\n",
      "File \u001B[0;32m~/anaconda3/lib/python3.10/site-packages/pandas/io/common.py:856\u001B[0m, in \u001B[0;36mget_handle\u001B[0;34m(path_or_buf, mode, encoding, compression, memory_map, is_text, errors, storage_options)\u001B[0m\n\u001B[1;32m    851\u001B[0m \u001B[38;5;28;01melif\u001B[39;00m \u001B[38;5;28misinstance\u001B[39m(handle, \u001B[38;5;28mstr\u001B[39m):\n\u001B[1;32m    852\u001B[0m     \u001B[38;5;66;03m# Check whether the filename is to be opened in binary mode.\u001B[39;00m\n\u001B[1;32m    853\u001B[0m     \u001B[38;5;66;03m# Binary mode does not support 'encoding' and 'newline'.\u001B[39;00m\n\u001B[1;32m    854\u001B[0m     \u001B[38;5;28;01mif\u001B[39;00m ioargs\u001B[38;5;241m.\u001B[39mencoding \u001B[38;5;129;01mand\u001B[39;00m \u001B[38;5;124m\"\u001B[39m\u001B[38;5;124mb\u001B[39m\u001B[38;5;124m\"\u001B[39m \u001B[38;5;129;01mnot\u001B[39;00m \u001B[38;5;129;01min\u001B[39;00m ioargs\u001B[38;5;241m.\u001B[39mmode:\n\u001B[1;32m    855\u001B[0m         \u001B[38;5;66;03m# Encoding\u001B[39;00m\n\u001B[0;32m--> 856\u001B[0m         handle \u001B[38;5;241m=\u001B[39m \u001B[38;5;28;43mopen\u001B[39;49m\u001B[43m(\u001B[49m\n\u001B[1;32m    857\u001B[0m \u001B[43m            \u001B[49m\u001B[43mhandle\u001B[49m\u001B[43m,\u001B[49m\n\u001B[1;32m    858\u001B[0m \u001B[43m            \u001B[49m\u001B[43mioargs\u001B[49m\u001B[38;5;241;43m.\u001B[39;49m\u001B[43mmode\u001B[49m\u001B[43m,\u001B[49m\n\u001B[1;32m    859\u001B[0m \u001B[43m            \u001B[49m\u001B[43mencoding\u001B[49m\u001B[38;5;241;43m=\u001B[39;49m\u001B[43mioargs\u001B[49m\u001B[38;5;241;43m.\u001B[39;49m\u001B[43mencoding\u001B[49m\u001B[43m,\u001B[49m\n\u001B[1;32m    860\u001B[0m \u001B[43m            \u001B[49m\u001B[43merrors\u001B[49m\u001B[38;5;241;43m=\u001B[39;49m\u001B[43merrors\u001B[49m\u001B[43m,\u001B[49m\n\u001B[1;32m    861\u001B[0m \u001B[43m            \u001B[49m\u001B[43mnewline\u001B[49m\u001B[38;5;241;43m=\u001B[39;49m\u001B[38;5;124;43m\"\u001B[39;49m\u001B[38;5;124;43m\"\u001B[39;49m\u001B[43m,\u001B[49m\n\u001B[1;32m    862\u001B[0m \u001B[43m        \u001B[49m\u001B[43m)\u001B[49m\n\u001B[1;32m    863\u001B[0m     \u001B[38;5;28;01melse\u001B[39;00m:\n\u001B[1;32m    864\u001B[0m         \u001B[38;5;66;03m# Binary mode\u001B[39;00m\n\u001B[1;32m    865\u001B[0m         handle \u001B[38;5;241m=\u001B[39m \u001B[38;5;28mopen\u001B[39m(handle, ioargs\u001B[38;5;241m.\u001B[39mmode)\n",
      "\u001B[0;31mFileNotFoundError\u001B[0m: [Errno 2] No such file or directory: '../data/datasets/spam.csv'"
     ]
    }
   ],
   "source": [
    "import pandas as pd\n",
    "\n",
    "data = pd.read_csv(\"../data/datasets/spam.csv\")\n",
    "\n",
    "data.to_csv(\"../data/datasets/sms_texts.csv\", columns=[\"sms\"], index=False)\n",
    "data.to_csv(\"../data/datasets/sms_classes.csv\", columns=[\"class\"], index=False)"
   ],
   "metadata": {
    "collapsed": false,
    "ExecuteTime": {
     "start_time": "2023-07-15T11:03:00.658577Z"
    }
   }
  },
  {
   "cell_type": "markdown",
   "source": [
    "Two lines of code, amazing. The `.to_csv()` can take additional parameters, like `columns` to indicate a list with the names of the columns that you want to save, or `index` to indicate if you want to add index numbers in your CSV file or not. How can we know all the parameters that are possible to pass to this method? The best way to understand a library is through its documentation. It may look a bit complex, but after a few minutes, you will become comfortable reading it.\n",
    "\n",
    "For example, [here](https://pandas.pydata.org/docs/reference/api/pandas.DataFrame.to_csv.html) you can find the documentation for `.to_csv()`. At the top, you can see the definition of the method, and the default value for its arguments. Below you will find a detailed description of each parameter and at the bottom some example exercises.\n",
    "\n",
    "Part of being a software developer is reading the libraries' documentation and searching for answers in technical forums. Ask any software developer engineer, and they will tell you they do this on a daily basis! It takes a bit of time to get used to these kinds of documents and navigate them confidently, but once you come to grips with their common structure, it becomes much easier and more enjoyable. Seriously, it's a promise 😉\n",
    "\n",
    "So let's get some practice and do the exercise below."
   ],
   "metadata": {
    "collapsed": false
   }
  },
  {
   "cell_type": "markdown",
   "source": [
    "#### Exercise:\n",
    "1. Google \"pandas read excel\" and \"pandas write dataframe to excel\", and find the pages in the official Pandas documentation that describe these two methods.\n",
    "    - **Tip:** The main page of the Pandas' official documentation is https://pandas.pydata.org/pandas-docs/stable/reference/\n",
    "2. At the top of the documentation pages, you can find the **signature** of the methods. The signature shows you the parameters that you can pass to the methods. Read the arguments that each function has, and notice the default values of each.\n",
    "3. At the top of the documentation pages you can find examples of how to use the methods.\n",
    "3. In the cell below, load the file `\"../data/datasets/spam.xlsx\"` and\n",
    "    - save the column `\"sms\"` in a file called `\"../data/datasets/sms_texts.xlsx\"`\n",
    "    - save the column `\"class\"` in a file called `\"../data/datasets/sms_classes.xlsx\"`"
   ],
   "metadata": {
    "collapsed": false
   }
  },
  {
   "cell_type": "markdown",
   "source": [],
   "metadata": {
    "collapsed": false
   }
  },
  {
   "cell_type": "markdown",
   "source": [
    "### 5.4. JSON Data\n",
    "\n",
    "Finally, we'll see another popular format used to transfer data between processes, databases, and to communicate between different programming languages: JSON (JavaScript Object Notation).\n",
    "More concretely, JSON is a standard file and data-interchange format that uses human-readable text to store and transmit data objects consisting of **attribute–value pairs** (like **key-value pairs** in Python dictionaries) and **arrays** (like **lists** in Python).\n",
    "The good news is that the JSON format is very similar to Python dictionaries, so you are already familiar with its structure.\n",
    "When a JSON only has one item, Python converts it into a dictionary, and when it has multiple items, Python converts it into a list of dictionaries. These are examples of JSON objects:\n",
    "\n",
    "```\n",
    "single_user = {\n",
    "    \"name\": \"John\",\n",
    "    \"last_name\": \"Smith\",\n",
    "    \"age\": 24,\n",
    "    \"hobby\": {\n",
    "        \"reading\" : true,\n",
    "        \"gaming\" : false,\n",
    "        \"sport\" : \"football\"\n",
    "    },\n",
    "    \"children\" : [\"Peter\", \"Laura\"]\n",
    "}\n",
    "\n",
    "multiple users = [\n",
    "    {\"name\": \"John\", ...},\n",
    "    {\"name\": \"Jessica\", ...},\n",
    "    {\"name\": \"Peter\", ...}\n",
    "]\n",
    "```\n",
    "\n",
    "Let's go over some subtle differences between JSON and Python:\n",
    "- Wwhat in Python is a dictionary (`dict`), in JSON is called an `Object`.\n",
    "- A `list` in Python is called an `Array` in JSON.\n",
    "- The value `None` in Python is called `null` in JSON.\n",
    "- `True` and `False` have the first letter capitalized, but in JSON they are all lowercase.\n",
    "\n",
    "| Python |  JSON  |\n",
    "|:------:|:------:|\n",
    "|  dict  | Object |\n",
    "|  list  |  Array |\n",
    "|  True  |  true  |\n",
    "|  False |  false |\n",
    "|  None  |  null  |"
   ],
   "metadata": {
    "collapsed": false
   }
  },
  {
   "cell_type": "markdown",
   "source": [
    "#### 5.4.1 Read\n",
    "\n",
    "\n",
    "To load JSON data into a Python dictionary (or a list when there are multiple key-value pairs), you need to import the module `json`.\n",
    "You can use this module to read a file or to decode information in a text string.\n",
    "To start, let's read the same dataset we used in the CSV example (the SMS ham/spam one 😉), but in JSON format.\n",
    "For this, you can use the method `.load()`"
   ],
   "metadata": {
    "collapsed": false
   }
  },
  {
   "cell_type": "code",
   "execution_count": 791,
   "outputs": [
    {
     "ename": "FileNotFoundError",
     "evalue": "[Errno 2] No such file or directory: '../data/datasets/spam.json'",
     "output_type": "error",
     "traceback": [
      "\u001B[0;31m---------------------------------------------------------------------------\u001B[0m",
      "\u001B[0;31mFileNotFoundError\u001B[0m                         Traceback (most recent call last)",
      "Cell \u001B[0;32mIn[791], line 4\u001B[0m\n\u001B[1;32m      1\u001B[0m \u001B[38;5;28;01mimport\u001B[39;00m \u001B[38;5;21;01mjson\u001B[39;00m\n\u001B[1;32m      3\u001B[0m \u001B[38;5;66;03m# Read a FILE:\u001B[39;00m\n\u001B[0;32m----> 4\u001B[0m \u001B[38;5;28;01mwith\u001B[39;00m \u001B[38;5;28;43mopen\u001B[39;49m\u001B[43m(\u001B[49m\u001B[38;5;124;43m\"\u001B[39;49m\u001B[38;5;124;43m../data/datasets/spam.json\u001B[39;49m\u001B[38;5;124;43m\"\u001B[39;49m\u001B[43m,\u001B[49m\u001B[43m \u001B[49m\u001B[38;5;124;43m\"\u001B[39;49m\u001B[38;5;124;43mr\u001B[39;49m\u001B[38;5;124;43m\"\u001B[39;49m\u001B[43m)\u001B[49m \u001B[38;5;28;01mas\u001B[39;00m file_handle:\n\u001B[1;32m      5\u001B[0m     data \u001B[38;5;241m=\u001B[39m json\u001B[38;5;241m.\u001B[39mload(file_handle)\n\u001B[1;32m      6\u001B[0m     \u001B[38;5;28mprint\u001B[39m(\u001B[38;5;124mf\u001B[39m\u001B[38;5;124m\"\u001B[39m\u001B[38;5;124mThe type of data is: \u001B[39m\u001B[38;5;130;01m\\n\u001B[39;00m\u001B[38;5;124m \u001B[39m\u001B[38;5;132;01m{\u001B[39;00m\u001B[38;5;28mtype\u001B[39m(data)\u001B[38;5;132;01m}\u001B[39;00m\u001B[38;5;124m\"\u001B[39m)\n",
      "File \u001B[0;32m~/anaconda3/lib/python3.10/site-packages/IPython/core/interactiveshell.py:282\u001B[0m, in \u001B[0;36m_modified_open\u001B[0;34m(file, *args, **kwargs)\u001B[0m\n\u001B[1;32m    275\u001B[0m \u001B[38;5;28;01mif\u001B[39;00m file \u001B[38;5;129;01min\u001B[39;00m {\u001B[38;5;241m0\u001B[39m, \u001B[38;5;241m1\u001B[39m, \u001B[38;5;241m2\u001B[39m}:\n\u001B[1;32m    276\u001B[0m     \u001B[38;5;28;01mraise\u001B[39;00m \u001B[38;5;167;01mValueError\u001B[39;00m(\n\u001B[1;32m    277\u001B[0m         \u001B[38;5;124mf\u001B[39m\u001B[38;5;124m\"\u001B[39m\u001B[38;5;124mIPython won\u001B[39m\u001B[38;5;124m'\u001B[39m\u001B[38;5;124mt let you open fd=\u001B[39m\u001B[38;5;132;01m{\u001B[39;00mfile\u001B[38;5;132;01m}\u001B[39;00m\u001B[38;5;124m by default \u001B[39m\u001B[38;5;124m\"\u001B[39m\n\u001B[1;32m    278\u001B[0m         \u001B[38;5;124m\"\u001B[39m\u001B[38;5;124mas it is likely to crash IPython. If you know what you are doing, \u001B[39m\u001B[38;5;124m\"\u001B[39m\n\u001B[1;32m    279\u001B[0m         \u001B[38;5;124m\"\u001B[39m\u001B[38;5;124myou can use builtins\u001B[39m\u001B[38;5;124m'\u001B[39m\u001B[38;5;124m open.\u001B[39m\u001B[38;5;124m\"\u001B[39m\n\u001B[1;32m    280\u001B[0m     )\n\u001B[0;32m--> 282\u001B[0m \u001B[38;5;28;01mreturn\u001B[39;00m \u001B[43mio_open\u001B[49m\u001B[43m(\u001B[49m\u001B[43mfile\u001B[49m\u001B[43m,\u001B[49m\u001B[43m \u001B[49m\u001B[38;5;241;43m*\u001B[39;49m\u001B[43margs\u001B[49m\u001B[43m,\u001B[49m\u001B[43m \u001B[49m\u001B[38;5;241;43m*\u001B[39;49m\u001B[38;5;241;43m*\u001B[39;49m\u001B[43mkwargs\u001B[49m\u001B[43m)\u001B[49m\n",
      "\u001B[0;31mFileNotFoundError\u001B[0m: [Errno 2] No such file or directory: '../data/datasets/spam.json'"
     ]
    }
   ],
   "source": [
    "import json\n",
    "\n",
    "# Read a FILE:\n",
    "with open(\"../data/datasets/spam.json\", \"r\") as file_handle:\n",
    "    data = json.load(file_handle)\n",
    "    print(f\"The type of data is: \\n {type(data)}\")\n",
    "    print(f\"The number of elements in the data is: \\n {len(data)}\")\n",
    "    print(f\"The first element in the data is: \\n {data[0]}\")"
   ],
   "metadata": {
    "collapsed": false,
    "ExecuteTime": {
     "start_time": "2023-07-15T11:03:00.798938Z"
    }
   }
  },
  {
   "cell_type": "markdown",
   "source": [
    "Wow, the results for the first element in the data looks crammed and not an easy read!. But as you should know by now, in programming languages, there’s always a solution 😉. If you would like to improve the way dictionaries are printed, you can import the module `PrettyPrinter` from the library `pprint`. Once you import this module:\n",
    "- Create an instance of it in the same way you created instances of classes before. For example, `pp = PrettyPrinter()` creates an instance called `pp`.\n",
    "- Then, use the instance object to call the method `pprint()`. For example, you can execute `pp.pprint(dictionary)` to print more *prettily* the contents of the dictionary.\n",
    "\n",
    "Take a look at the following example:"
   ],
   "metadata": {
    "collapsed": false
   }
  },
  {
   "cell_type": "code",
   "execution_count": 792,
   "outputs": [
    {
     "ename": "FileNotFoundError",
     "evalue": "[Errno 2] No such file or directory: '../data/datasets/spam.json'",
     "output_type": "error",
     "traceback": [
      "\u001B[0;31m---------------------------------------------------------------------------\u001B[0m",
      "\u001B[0;31mFileNotFoundError\u001B[0m                         Traceback (most recent call last)",
      "Cell \u001B[0;32mIn[792], line 7\u001B[0m\n\u001B[1;32m      4\u001B[0m pp \u001B[38;5;241m=\u001B[39m PrettyPrinter()\n\u001B[1;32m      6\u001B[0m \u001B[38;5;66;03m# Read a FILE:\u001B[39;00m\n\u001B[0;32m----> 7\u001B[0m \u001B[38;5;28;01mwith\u001B[39;00m \u001B[38;5;28;43mopen\u001B[39;49m\u001B[43m(\u001B[49m\u001B[38;5;124;43m\"\u001B[39;49m\u001B[38;5;124;43m../data/datasets/spam.json\u001B[39;49m\u001B[38;5;124;43m\"\u001B[39;49m\u001B[43m,\u001B[49m\u001B[43m \u001B[49m\u001B[38;5;124;43m\"\u001B[39;49m\u001B[38;5;124;43mr\u001B[39;49m\u001B[38;5;124;43m\"\u001B[39;49m\u001B[43m)\u001B[49m \u001B[38;5;28;01mas\u001B[39;00m file_handle:\n\u001B[1;32m      8\u001B[0m     data \u001B[38;5;241m=\u001B[39m json\u001B[38;5;241m.\u001B[39mload(file_handle)\n\u001B[1;32m      9\u001B[0m     \u001B[38;5;28mprint\u001B[39m(\u001B[38;5;124m\"\u001B[39m\u001B[38;5;124mThe first element in the data is:\u001B[39m\u001B[38;5;124m\"\u001B[39m)\n",
      "File \u001B[0;32m~/anaconda3/lib/python3.10/site-packages/IPython/core/interactiveshell.py:282\u001B[0m, in \u001B[0;36m_modified_open\u001B[0;34m(file, *args, **kwargs)\u001B[0m\n\u001B[1;32m    275\u001B[0m \u001B[38;5;28;01mif\u001B[39;00m file \u001B[38;5;129;01min\u001B[39;00m {\u001B[38;5;241m0\u001B[39m, \u001B[38;5;241m1\u001B[39m, \u001B[38;5;241m2\u001B[39m}:\n\u001B[1;32m    276\u001B[0m     \u001B[38;5;28;01mraise\u001B[39;00m \u001B[38;5;167;01mValueError\u001B[39;00m(\n\u001B[1;32m    277\u001B[0m         \u001B[38;5;124mf\u001B[39m\u001B[38;5;124m\"\u001B[39m\u001B[38;5;124mIPython won\u001B[39m\u001B[38;5;124m'\u001B[39m\u001B[38;5;124mt let you open fd=\u001B[39m\u001B[38;5;132;01m{\u001B[39;00mfile\u001B[38;5;132;01m}\u001B[39;00m\u001B[38;5;124m by default \u001B[39m\u001B[38;5;124m\"\u001B[39m\n\u001B[1;32m    278\u001B[0m         \u001B[38;5;124m\"\u001B[39m\u001B[38;5;124mas it is likely to crash IPython. If you know what you are doing, \u001B[39m\u001B[38;5;124m\"\u001B[39m\n\u001B[1;32m    279\u001B[0m         \u001B[38;5;124m\"\u001B[39m\u001B[38;5;124myou can use builtins\u001B[39m\u001B[38;5;124m'\u001B[39m\u001B[38;5;124m open.\u001B[39m\u001B[38;5;124m\"\u001B[39m\n\u001B[1;32m    280\u001B[0m     )\n\u001B[0;32m--> 282\u001B[0m \u001B[38;5;28;01mreturn\u001B[39;00m \u001B[43mio_open\u001B[49m\u001B[43m(\u001B[49m\u001B[43mfile\u001B[49m\u001B[43m,\u001B[49m\u001B[43m \u001B[49m\u001B[38;5;241;43m*\u001B[39;49m\u001B[43margs\u001B[49m\u001B[43m,\u001B[49m\u001B[43m \u001B[49m\u001B[38;5;241;43m*\u001B[39;49m\u001B[38;5;241;43m*\u001B[39;49m\u001B[43mkwargs\u001B[49m\u001B[43m)\u001B[49m\n",
      "\u001B[0;31mFileNotFoundError\u001B[0m: [Errno 2] No such file or directory: '../data/datasets/spam.json'"
     ]
    }
   ],
   "source": [
    "import json\n",
    "\n",
    "from pprint import PrettyPrinter\n",
    "pp = PrettyPrinter()\n",
    "\n",
    "# Read a FILE:\n",
    "with open(\"../data/datasets/spam.json\", \"r\") as file_handle:\n",
    "    data = json.load(file_handle)\n",
    "    print(\"The first element in the data is:\")\n",
    "    pp.pprint(data[0])"
   ],
   "metadata": {
    "collapsed": false,
    "ExecuteTime": {
     "start_time": "2023-07-15T11:03:00.839683Z"
    }
   }
  },
  {
   "cell_type": "markdown",
   "source": [
    "Much better, isn’t it? You can now instantly see the `class` in the first line, and separately the `sms` text on the second."
   ],
   "metadata": {
    "collapsed": false
   }
  },
  {
   "cell_type": "markdown",
   "source": [
    "#### 5.4.2 Transform\n",
    "\n",
    "Great, the data is in a dictionary and you can read it, so why don’t we look at how to process it. For example, let’s add a feature called `binary_class` with the value `0` when the text is `spam`, and with the value `1` when the text is `ham`. For this, we can iterate over our list of dictionaries with a *for* loop, or use pandas.\n",
    "\n",
    "Frequently, data has missing values, so it could be the case that some texts have no `class` value.\n",
    "It is important to catch these cases and decide what to do with them, otherwise, your program could crash when trying to add a number with a `None` for example.\n",
    "There are multiple alternatives to solve this issue. You could remove the rows that have any missing value (although you may end up with no data!), or you could replace them with educated guesses, for example with the average value in the column, or the average between the two adjacent rows. This process of filling in missing values is called **imputation**.\n",
    "Observe in both of the methods below the alternative ways to verify that your data is complete."
   ],
   "metadata": {
    "collapsed": false
   }
  },
  {
   "cell_type": "code",
   "execution_count": 793,
   "outputs": [
    {
     "ename": "FileNotFoundError",
     "evalue": "[Errno 2] No such file or directory: '../data/datasets/spam.json'",
     "output_type": "error",
     "traceback": [
      "\u001B[0;31m---------------------------------------------------------------------------\u001B[0m",
      "\u001B[0;31mFileNotFoundError\u001B[0m                         Traceback (most recent call last)",
      "Cell \u001B[0;32mIn[793], line 10\u001B[0m\n\u001B[1;32m      6\u001B[0m pp \u001B[38;5;241m=\u001B[39m PrettyPrinter()\n\u001B[1;32m      9\u001B[0m \u001B[38;5;66;03m# LOAD the data:\u001B[39;00m\n\u001B[0;32m---> 10\u001B[0m \u001B[38;5;28;01mwith\u001B[39;00m \u001B[38;5;28;43mopen\u001B[39;49m\u001B[43m(\u001B[49m\u001B[38;5;124;43m\"\u001B[39;49m\u001B[38;5;124;43m../data/datasets/spam.json\u001B[39;49m\u001B[38;5;124;43m\"\u001B[39;49m\u001B[43m,\u001B[49m\u001B[43m \u001B[49m\u001B[38;5;124;43m\"\u001B[39;49m\u001B[38;5;124;43mr\u001B[39;49m\u001B[38;5;124;43m\"\u001B[39;49m\u001B[43m)\u001B[49m \u001B[38;5;28;01mas\u001B[39;00m file_handle:\n\u001B[1;32m     11\u001B[0m     data \u001B[38;5;241m=\u001B[39m json\u001B[38;5;241m.\u001B[39mload(file_handle)\n\u001B[1;32m     13\u001B[0m \u001B[38;5;66;03m# INSPECT the data:\u001B[39;00m\n",
      "File \u001B[0;32m~/anaconda3/lib/python3.10/site-packages/IPython/core/interactiveshell.py:282\u001B[0m, in \u001B[0;36m_modified_open\u001B[0;34m(file, *args, **kwargs)\u001B[0m\n\u001B[1;32m    275\u001B[0m \u001B[38;5;28;01mif\u001B[39;00m file \u001B[38;5;129;01min\u001B[39;00m {\u001B[38;5;241m0\u001B[39m, \u001B[38;5;241m1\u001B[39m, \u001B[38;5;241m2\u001B[39m}:\n\u001B[1;32m    276\u001B[0m     \u001B[38;5;28;01mraise\u001B[39;00m \u001B[38;5;167;01mValueError\u001B[39;00m(\n\u001B[1;32m    277\u001B[0m         \u001B[38;5;124mf\u001B[39m\u001B[38;5;124m\"\u001B[39m\u001B[38;5;124mIPython won\u001B[39m\u001B[38;5;124m'\u001B[39m\u001B[38;5;124mt let you open fd=\u001B[39m\u001B[38;5;132;01m{\u001B[39;00mfile\u001B[38;5;132;01m}\u001B[39;00m\u001B[38;5;124m by default \u001B[39m\u001B[38;5;124m\"\u001B[39m\n\u001B[1;32m    278\u001B[0m         \u001B[38;5;124m\"\u001B[39m\u001B[38;5;124mas it is likely to crash IPython. If you know what you are doing, \u001B[39m\u001B[38;5;124m\"\u001B[39m\n\u001B[1;32m    279\u001B[0m         \u001B[38;5;124m\"\u001B[39m\u001B[38;5;124myou can use builtins\u001B[39m\u001B[38;5;124m'\u001B[39m\u001B[38;5;124m open.\u001B[39m\u001B[38;5;124m\"\u001B[39m\n\u001B[1;32m    280\u001B[0m     )\n\u001B[0;32m--> 282\u001B[0m \u001B[38;5;28;01mreturn\u001B[39;00m \u001B[43mio_open\u001B[49m\u001B[43m(\u001B[49m\u001B[43mfile\u001B[49m\u001B[43m,\u001B[49m\u001B[43m \u001B[49m\u001B[38;5;241;43m*\u001B[39;49m\u001B[43margs\u001B[49m\u001B[43m,\u001B[49m\u001B[43m \u001B[49m\u001B[38;5;241;43m*\u001B[39;49m\u001B[38;5;241;43m*\u001B[39;49m\u001B[43mkwargs\u001B[49m\u001B[43m)\u001B[49m\n",
      "\u001B[0;31mFileNotFoundError\u001B[0m: [Errno 2] No such file or directory: '../data/datasets/spam.json'"
     ]
    }
   ],
   "source": [
    "# Iterating over a list of dictionaries with a for loop\n",
    "\n",
    "import json\n",
    "\n",
    "from pprint import PrettyPrinter\n",
    "pp = PrettyPrinter()\n",
    "\n",
    "\n",
    "# LOAD the data:\n",
    "with open(\"../data/datasets/spam.json\", \"r\") as file_handle:\n",
    "    data = json.load(file_handle)\n",
    "\n",
    "# INSPECT the data:\n",
    "print(f'The type of \"data\" is:\\n  {type(data)}')\n",
    "print(f'The type of each item in \"data\" is:\\n  {type(data[0])}')\n",
    "print(\"\\nThe first element in the ORIGINAL data is:\")\n",
    "pp.pprint(data[0])\n",
    "\n",
    "# TRANSFORM the data:\n",
    "for index, item in enumerate(data):\n",
    "    if item[\"class\"] == \"spam\":\n",
    "        data[index][\"binary_class\"] = 0\n",
    "    elif item[\"class\"] == \"ham\":\n",
    "        data[index][\"binary_class\"] = 1\n",
    "    else:\n",
    "        # Warn if there are missing values:\n",
    "        print(f'The class must be \"spam\" or \"ham\". The class of item {index} is: {item[\"class\"]}')\n",
    "\n",
    "# VERIFY the data:\n",
    "print(\"\\nThe first element in the TRANSFORMED data is:\")\n",
    "pp.pprint(data[0])"
   ],
   "metadata": {
    "collapsed": false,
    "ExecuteTime": {
     "start_time": "2023-07-15T11:03:00.927079Z"
    }
   }
  },
  {
   "cell_type": "markdown",
   "source": [
    "When we create our new `binary_class` feature, we don't want to modify the temporary variable returned in the `for` loop, but we want to modify the original data object.\n",
    "To do this, we use the function `enumerate()` that we introduced in notebook '2. Flow and Functions*.\n",
    "This function helps us because it returns the `index` and the `item` of the list in each iteration, so we evaluate our logical conditions on the `item`, and then we modify the corresponding item in `data` by pointing to it with its `index`.\n",
    "Notice that you can use consecutive pairs of brackets `[]` to go deeper in the data structure. For example:\n",
    "- `data` returns a list.\n",
    "- `data[index]` returns a dictionary.\n",
    "- `data[index][\"binary_class\"]` returns a number.\n",
    "\n",
    "Now let's see how to perform the same procedure in a simplified way by using Pandas."
   ],
   "metadata": {
    "collapsed": false
   }
  },
  {
   "cell_type": "code",
   "execution_count": 794,
   "outputs": [
    {
     "ename": "FileNotFoundError",
     "evalue": "File ../data/datasets/spam.json does not exist",
     "output_type": "error",
     "traceback": [
      "\u001B[0;31m---------------------------------------------------------------------------\u001B[0m",
      "\u001B[0;31mFileNotFoundError\u001B[0m                         Traceback (most recent call last)",
      "Cell \u001B[0;32mIn[794], line 7\u001B[0m\n\u001B[1;32m      3\u001B[0m \u001B[38;5;28;01mimport\u001B[39;00m \u001B[38;5;21;01mpandas\u001B[39;00m \u001B[38;5;28;01mas\u001B[39;00m \u001B[38;5;21;01mpd\u001B[39;00m\n\u001B[1;32m      6\u001B[0m \u001B[38;5;66;03m# LOAD the data:\u001B[39;00m\n\u001B[0;32m----> 7\u001B[0m data \u001B[38;5;241m=\u001B[39m \u001B[43mpd\u001B[49m\u001B[38;5;241;43m.\u001B[39;49m\u001B[43mread_json\u001B[49m\u001B[43m(\u001B[49m\u001B[38;5;124;43m\"\u001B[39;49m\u001B[38;5;124;43m../data/datasets/spam.json\u001B[39;49m\u001B[38;5;124;43m\"\u001B[39;49m\u001B[43m)\u001B[49m\n\u001B[1;32m      9\u001B[0m \u001B[38;5;66;03m# INSPECT the data:\u001B[39;00m\n\u001B[1;32m     10\u001B[0m \u001B[38;5;28mprint\u001B[39m(data\u001B[38;5;241m.\u001B[39mhead(), \u001B[38;5;124m\"\u001B[39m\u001B[38;5;130;01m\\n\u001B[39;00m\u001B[38;5;124m\"\u001B[39m)\n",
      "File \u001B[0;32m~/anaconda3/lib/python3.10/site-packages/pandas/util/_decorators.py:211\u001B[0m, in \u001B[0;36mdeprecate_kwarg.<locals>._deprecate_kwarg.<locals>.wrapper\u001B[0;34m(*args, **kwargs)\u001B[0m\n\u001B[1;32m    209\u001B[0m     \u001B[38;5;28;01melse\u001B[39;00m:\n\u001B[1;32m    210\u001B[0m         kwargs[new_arg_name] \u001B[38;5;241m=\u001B[39m new_arg_value\n\u001B[0;32m--> 211\u001B[0m \u001B[38;5;28;01mreturn\u001B[39;00m \u001B[43mfunc\u001B[49m\u001B[43m(\u001B[49m\u001B[38;5;241;43m*\u001B[39;49m\u001B[43margs\u001B[49m\u001B[43m,\u001B[49m\u001B[43m \u001B[49m\u001B[38;5;241;43m*\u001B[39;49m\u001B[38;5;241;43m*\u001B[39;49m\u001B[43mkwargs\u001B[49m\u001B[43m)\u001B[49m\n",
      "File \u001B[0;32m~/anaconda3/lib/python3.10/site-packages/pandas/util/_decorators.py:331\u001B[0m, in \u001B[0;36mdeprecate_nonkeyword_arguments.<locals>.decorate.<locals>.wrapper\u001B[0;34m(*args, **kwargs)\u001B[0m\n\u001B[1;32m    325\u001B[0m \u001B[38;5;28;01mif\u001B[39;00m \u001B[38;5;28mlen\u001B[39m(args) \u001B[38;5;241m>\u001B[39m num_allow_args:\n\u001B[1;32m    326\u001B[0m     warnings\u001B[38;5;241m.\u001B[39mwarn(\n\u001B[1;32m    327\u001B[0m         msg\u001B[38;5;241m.\u001B[39mformat(arguments\u001B[38;5;241m=\u001B[39m_format_argument_list(allow_args)),\n\u001B[1;32m    328\u001B[0m         \u001B[38;5;167;01mFutureWarning\u001B[39;00m,\n\u001B[1;32m    329\u001B[0m         stacklevel\u001B[38;5;241m=\u001B[39mfind_stack_level(),\n\u001B[1;32m    330\u001B[0m     )\n\u001B[0;32m--> 331\u001B[0m \u001B[38;5;28;01mreturn\u001B[39;00m \u001B[43mfunc\u001B[49m\u001B[43m(\u001B[49m\u001B[38;5;241;43m*\u001B[39;49m\u001B[43margs\u001B[49m\u001B[43m,\u001B[49m\u001B[43m \u001B[49m\u001B[38;5;241;43m*\u001B[39;49m\u001B[38;5;241;43m*\u001B[39;49m\u001B[43mkwargs\u001B[49m\u001B[43m)\u001B[49m\n",
      "File \u001B[0;32m~/anaconda3/lib/python3.10/site-packages/pandas/io/json/_json.py:733\u001B[0m, in \u001B[0;36mread_json\u001B[0;34m(path_or_buf, orient, typ, dtype, convert_axes, convert_dates, keep_default_dates, numpy, precise_float, date_unit, encoding, encoding_errors, lines, chunksize, compression, nrows, storage_options)\u001B[0m\n\u001B[1;32m    730\u001B[0m \u001B[38;5;28;01mif\u001B[39;00m convert_axes \u001B[38;5;129;01mis\u001B[39;00m \u001B[38;5;28;01mNone\u001B[39;00m \u001B[38;5;129;01mand\u001B[39;00m orient \u001B[38;5;241m!=\u001B[39m \u001B[38;5;124m\"\u001B[39m\u001B[38;5;124mtable\u001B[39m\u001B[38;5;124m\"\u001B[39m:\n\u001B[1;32m    731\u001B[0m     convert_axes \u001B[38;5;241m=\u001B[39m \u001B[38;5;28;01mTrue\u001B[39;00m\n\u001B[0;32m--> 733\u001B[0m json_reader \u001B[38;5;241m=\u001B[39m \u001B[43mJsonReader\u001B[49m\u001B[43m(\u001B[49m\n\u001B[1;32m    734\u001B[0m \u001B[43m    \u001B[49m\u001B[43mpath_or_buf\u001B[49m\u001B[43m,\u001B[49m\n\u001B[1;32m    735\u001B[0m \u001B[43m    \u001B[49m\u001B[43morient\u001B[49m\u001B[38;5;241;43m=\u001B[39;49m\u001B[43morient\u001B[49m\u001B[43m,\u001B[49m\n\u001B[1;32m    736\u001B[0m \u001B[43m    \u001B[49m\u001B[43mtyp\u001B[49m\u001B[38;5;241;43m=\u001B[39;49m\u001B[43mtyp\u001B[49m\u001B[43m,\u001B[49m\n\u001B[1;32m    737\u001B[0m \u001B[43m    \u001B[49m\u001B[43mdtype\u001B[49m\u001B[38;5;241;43m=\u001B[39;49m\u001B[43mdtype\u001B[49m\u001B[43m,\u001B[49m\n\u001B[1;32m    738\u001B[0m \u001B[43m    \u001B[49m\u001B[43mconvert_axes\u001B[49m\u001B[38;5;241;43m=\u001B[39;49m\u001B[43mconvert_axes\u001B[49m\u001B[43m,\u001B[49m\n\u001B[1;32m    739\u001B[0m \u001B[43m    \u001B[49m\u001B[43mconvert_dates\u001B[49m\u001B[38;5;241;43m=\u001B[39;49m\u001B[43mconvert_dates\u001B[49m\u001B[43m,\u001B[49m\n\u001B[1;32m    740\u001B[0m \u001B[43m    \u001B[49m\u001B[43mkeep_default_dates\u001B[49m\u001B[38;5;241;43m=\u001B[39;49m\u001B[43mkeep_default_dates\u001B[49m\u001B[43m,\u001B[49m\n\u001B[1;32m    741\u001B[0m \u001B[43m    \u001B[49m\u001B[43mnumpy\u001B[49m\u001B[38;5;241;43m=\u001B[39;49m\u001B[43mnumpy\u001B[49m\u001B[43m,\u001B[49m\n\u001B[1;32m    742\u001B[0m \u001B[43m    \u001B[49m\u001B[43mprecise_float\u001B[49m\u001B[38;5;241;43m=\u001B[39;49m\u001B[43mprecise_float\u001B[49m\u001B[43m,\u001B[49m\n\u001B[1;32m    743\u001B[0m \u001B[43m    \u001B[49m\u001B[43mdate_unit\u001B[49m\u001B[38;5;241;43m=\u001B[39;49m\u001B[43mdate_unit\u001B[49m\u001B[43m,\u001B[49m\n\u001B[1;32m    744\u001B[0m \u001B[43m    \u001B[49m\u001B[43mencoding\u001B[49m\u001B[38;5;241;43m=\u001B[39;49m\u001B[43mencoding\u001B[49m\u001B[43m,\u001B[49m\n\u001B[1;32m    745\u001B[0m \u001B[43m    \u001B[49m\u001B[43mlines\u001B[49m\u001B[38;5;241;43m=\u001B[39;49m\u001B[43mlines\u001B[49m\u001B[43m,\u001B[49m\n\u001B[1;32m    746\u001B[0m \u001B[43m    \u001B[49m\u001B[43mchunksize\u001B[49m\u001B[38;5;241;43m=\u001B[39;49m\u001B[43mchunksize\u001B[49m\u001B[43m,\u001B[49m\n\u001B[1;32m    747\u001B[0m \u001B[43m    \u001B[49m\u001B[43mcompression\u001B[49m\u001B[38;5;241;43m=\u001B[39;49m\u001B[43mcompression\u001B[49m\u001B[43m,\u001B[49m\n\u001B[1;32m    748\u001B[0m \u001B[43m    \u001B[49m\u001B[43mnrows\u001B[49m\u001B[38;5;241;43m=\u001B[39;49m\u001B[43mnrows\u001B[49m\u001B[43m,\u001B[49m\n\u001B[1;32m    749\u001B[0m \u001B[43m    \u001B[49m\u001B[43mstorage_options\u001B[49m\u001B[38;5;241;43m=\u001B[39;49m\u001B[43mstorage_options\u001B[49m\u001B[43m,\u001B[49m\n\u001B[1;32m    750\u001B[0m \u001B[43m    \u001B[49m\u001B[43mencoding_errors\u001B[49m\u001B[38;5;241;43m=\u001B[39;49m\u001B[43mencoding_errors\u001B[49m\u001B[43m,\u001B[49m\n\u001B[1;32m    751\u001B[0m \u001B[43m\u001B[49m\u001B[43m)\u001B[49m\n\u001B[1;32m    753\u001B[0m \u001B[38;5;28;01mif\u001B[39;00m chunksize:\n\u001B[1;32m    754\u001B[0m     \u001B[38;5;28;01mreturn\u001B[39;00m json_reader\n",
      "File \u001B[0;32m~/anaconda3/lib/python3.10/site-packages/pandas/io/json/_json.py:818\u001B[0m, in \u001B[0;36mJsonReader.__init__\u001B[0;34m(self, filepath_or_buffer, orient, typ, dtype, convert_axes, convert_dates, keep_default_dates, numpy, precise_float, date_unit, encoding, lines, chunksize, compression, nrows, storage_options, encoding_errors)\u001B[0m\n\u001B[1;32m    815\u001B[0m     \u001B[38;5;28;01mif\u001B[39;00m \u001B[38;5;129;01mnot\u001B[39;00m \u001B[38;5;28mself\u001B[39m\u001B[38;5;241m.\u001B[39mlines:\n\u001B[1;32m    816\u001B[0m         \u001B[38;5;28;01mraise\u001B[39;00m \u001B[38;5;167;01mValueError\u001B[39;00m(\u001B[38;5;124m\"\u001B[39m\u001B[38;5;124mnrows can only be passed if lines=True\u001B[39m\u001B[38;5;124m\"\u001B[39m)\n\u001B[0;32m--> 818\u001B[0m data \u001B[38;5;241m=\u001B[39m \u001B[38;5;28;43mself\u001B[39;49m\u001B[38;5;241;43m.\u001B[39;49m\u001B[43m_get_data_from_filepath\u001B[49m\u001B[43m(\u001B[49m\u001B[43mfilepath_or_buffer\u001B[49m\u001B[43m)\u001B[49m\n\u001B[1;32m    819\u001B[0m \u001B[38;5;28mself\u001B[39m\u001B[38;5;241m.\u001B[39mdata \u001B[38;5;241m=\u001B[39m \u001B[38;5;28mself\u001B[39m\u001B[38;5;241m.\u001B[39m_preprocess_data(data)\n",
      "File \u001B[0;32m~/anaconda3/lib/python3.10/site-packages/pandas/io/json/_json.py:874\u001B[0m, in \u001B[0;36mJsonReader._get_data_from_filepath\u001B[0;34m(self, filepath_or_buffer)\u001B[0m\n\u001B[1;32m    866\u001B[0m     filepath_or_buffer \u001B[38;5;241m=\u001B[39m \u001B[38;5;28mself\u001B[39m\u001B[38;5;241m.\u001B[39mhandles\u001B[38;5;241m.\u001B[39mhandle\n\u001B[1;32m    867\u001B[0m \u001B[38;5;28;01melif\u001B[39;00m (\n\u001B[1;32m    868\u001B[0m     \u001B[38;5;28misinstance\u001B[39m(filepath_or_buffer, \u001B[38;5;28mstr\u001B[39m)\n\u001B[1;32m    869\u001B[0m     \u001B[38;5;129;01mand\u001B[39;00m filepath_or_buffer\u001B[38;5;241m.\u001B[39mlower()\u001B[38;5;241m.\u001B[39mendswith(\n\u001B[0;32m   (...)\u001B[0m\n\u001B[1;32m    872\u001B[0m     \u001B[38;5;129;01mand\u001B[39;00m \u001B[38;5;129;01mnot\u001B[39;00m file_exists(filepath_or_buffer)\n\u001B[1;32m    873\u001B[0m ):\n\u001B[0;32m--> 874\u001B[0m     \u001B[38;5;28;01mraise\u001B[39;00m \u001B[38;5;167;01mFileNotFoundError\u001B[39;00m(\u001B[38;5;124mf\u001B[39m\u001B[38;5;124m\"\u001B[39m\u001B[38;5;124mFile \u001B[39m\u001B[38;5;132;01m{\u001B[39;00mfilepath_or_buffer\u001B[38;5;132;01m}\u001B[39;00m\u001B[38;5;124m does not exist\u001B[39m\u001B[38;5;124m\"\u001B[39m)\n\u001B[1;32m    876\u001B[0m \u001B[38;5;28;01mreturn\u001B[39;00m filepath_or_buffer\n",
      "\u001B[0;31mFileNotFoundError\u001B[0m: File ../data/datasets/spam.json does not exist"
     ]
    }
   ],
   "source": [
    "# Applying a function to a Pandas data frame\n",
    "\n",
    "import pandas as pd\n",
    "\n",
    "\n",
    "# LOAD the data:\n",
    "data = pd.read_json(\"../data/datasets/spam.json\")\n",
    "\n",
    "# INSPECT the data:\n",
    "print(data.head(), \"\\n\")\n",
    "\n",
    "# TRANSFORM the data:\n",
    "data[\"binary_class\"] = data.apply(\n",
    "    lambda row: 0 if row[\"class\"] == \"spam\" else 1,\n",
    "    axis=1\n",
    ")\n",
    "\n",
    "# VERIFY the data:\n",
    "print(data.head(), \"\\n\")\n",
    "\n",
    "# Warn if there are missing values:\n",
    "nan_values = data[\"binary_class\"].isnull().sum()\n",
    "print(f\"Number of missing values: {nan_values}\")"
   ],
   "metadata": {
    "collapsed": false,
    "ExecuteTime": {
     "start_time": "2023-07-15T11:03:00.994196Z"
    }
   }
  },
  {
   "cell_type": "markdown",
   "source": [
    "Let’s unpack what we’ve done. Here we use the method `.read_json()` to load the JSON data directly into a Pandas data frame named `data`.\n",
    "Afterward, in `# TRANSFORM the data` we create a new column with the same notation used to create a new *key-value* pair in a dictionary: `dictionary[\"new_key\"] = new_value` or `pandas_dataframe[\"new_column\"] = new_series_of_values`.\n",
    "\n",
    "To create the new series of values that will be assigned to our new column `binary_class`, we use the method `.apply()` on `data`.\n",
    "This method applies a **function** iteratively over the **columns** or the **rows** of a Pandas data frame.\n",
    "\n",
    "In the first parameter, we pass the function to `.apply()` with a syntax called **lambda function**.\n",
    "Lambda functions are the same as regular functions, but have a shortened syntax that makes our code shorter and easier to read.\n",
    "The syntax of *lambda* functions is: `lambda input: computation`. Notice that you start with the keyword `lambda` to define the function, and the result you get for each row is the value returned by the `computation`.\n",
    "In our case, the computation is `0 if row[\"class\"] == \"spam\" else 1`, so our lambda function returns `0` when the row `class` is `spam`, and returns `1` when the row `class` is `ham`.\n",
    "\n",
    "In the second parameter passed to `.apply()`, we indicate that we want to iterate over rows.\n",
    "`.apply()` iterates over columns when its parameter `axis=0`, and iterates over rows when its parameter `axis=1`.\n",
    "As we want to check the value of `class` in each row, we set `axis=1`.\n",
    "\n",
    "And there you go, you now know how to process data with JSON, and scan any dataset for missing values. 😉"
   ],
   "metadata": {
    "collapsed": false
   }
  },
  {
   "cell_type": "markdown",
   "source": [
    "#### 5.4.3 Write\n",
    "\n",
    "Finally, we are ready with our new data, the next step is to save it back as a JSON. These are the methods for storing dictionaries and Pandas data frames:"
   ],
   "metadata": {
    "collapsed": false
   }
  },
  {
   "cell_type": "code",
   "execution_count": 795,
   "outputs": [
    {
     "ename": "FileNotFoundError",
     "evalue": "[Errno 2] No such file or directory: '../data/datasets/spam.json'",
     "output_type": "error",
     "traceback": [
      "\u001B[0;31m---------------------------------------------------------------------------\u001B[0m",
      "\u001B[0;31mFileNotFoundError\u001B[0m                         Traceback (most recent call last)",
      "Cell \u001B[0;32mIn[795], line 6\u001B[0m\n\u001B[1;32m      1\u001B[0m \u001B[38;5;66;03m# Save a dictionary as a JSON\u001B[39;00m\n\u001B[1;32m      3\u001B[0m \u001B[38;5;28;01mimport\u001B[39;00m \u001B[38;5;21;01mjson\u001B[39;00m\n\u001B[0;32m----> 6\u001B[0m \u001B[38;5;28;01mwith\u001B[39;00m \u001B[38;5;28;43mopen\u001B[39;49m\u001B[43m(\u001B[49m\u001B[38;5;124;43m\"\u001B[39;49m\u001B[38;5;124;43m../data/datasets/spam.json\u001B[39;49m\u001B[38;5;124;43m\"\u001B[39;49m\u001B[43m,\u001B[49m\u001B[43m \u001B[49m\u001B[38;5;124;43m\"\u001B[39;49m\u001B[38;5;124;43mr\u001B[39;49m\u001B[38;5;124;43m\"\u001B[39;49m\u001B[43m)\u001B[49m \u001B[38;5;28;01mas\u001B[39;00m file_handle:\n\u001B[1;32m      7\u001B[0m     data \u001B[38;5;241m=\u001B[39m json\u001B[38;5;241m.\u001B[39mload(file_handle)\n\u001B[1;32m      9\u001B[0m \u001B[38;5;28;01mfor\u001B[39;00m index, item \u001B[38;5;129;01min\u001B[39;00m \u001B[38;5;28menumerate\u001B[39m(data):\n",
      "File \u001B[0;32m~/anaconda3/lib/python3.10/site-packages/IPython/core/interactiveshell.py:282\u001B[0m, in \u001B[0;36m_modified_open\u001B[0;34m(file, *args, **kwargs)\u001B[0m\n\u001B[1;32m    275\u001B[0m \u001B[38;5;28;01mif\u001B[39;00m file \u001B[38;5;129;01min\u001B[39;00m {\u001B[38;5;241m0\u001B[39m, \u001B[38;5;241m1\u001B[39m, \u001B[38;5;241m2\u001B[39m}:\n\u001B[1;32m    276\u001B[0m     \u001B[38;5;28;01mraise\u001B[39;00m \u001B[38;5;167;01mValueError\u001B[39;00m(\n\u001B[1;32m    277\u001B[0m         \u001B[38;5;124mf\u001B[39m\u001B[38;5;124m\"\u001B[39m\u001B[38;5;124mIPython won\u001B[39m\u001B[38;5;124m'\u001B[39m\u001B[38;5;124mt let you open fd=\u001B[39m\u001B[38;5;132;01m{\u001B[39;00mfile\u001B[38;5;132;01m}\u001B[39;00m\u001B[38;5;124m by default \u001B[39m\u001B[38;5;124m\"\u001B[39m\n\u001B[1;32m    278\u001B[0m         \u001B[38;5;124m\"\u001B[39m\u001B[38;5;124mas it is likely to crash IPython. If you know what you are doing, \u001B[39m\u001B[38;5;124m\"\u001B[39m\n\u001B[1;32m    279\u001B[0m         \u001B[38;5;124m\"\u001B[39m\u001B[38;5;124myou can use builtins\u001B[39m\u001B[38;5;124m'\u001B[39m\u001B[38;5;124m open.\u001B[39m\u001B[38;5;124m\"\u001B[39m\n\u001B[1;32m    280\u001B[0m     )\n\u001B[0;32m--> 282\u001B[0m \u001B[38;5;28;01mreturn\u001B[39;00m \u001B[43mio_open\u001B[49m\u001B[43m(\u001B[49m\u001B[43mfile\u001B[49m\u001B[43m,\u001B[49m\u001B[43m \u001B[49m\u001B[38;5;241;43m*\u001B[39;49m\u001B[43margs\u001B[49m\u001B[43m,\u001B[49m\u001B[43m \u001B[49m\u001B[38;5;241;43m*\u001B[39;49m\u001B[38;5;241;43m*\u001B[39;49m\u001B[43mkwargs\u001B[49m\u001B[43m)\u001B[49m\n",
      "\u001B[0;31mFileNotFoundError\u001B[0m: [Errno 2] No such file or directory: '../data/datasets/spam.json'"
     ]
    }
   ],
   "source": [
    "# Save a dictionary as a JSON\n",
    "\n",
    "import json\n",
    "\n",
    "\n",
    "with open(\"../data/datasets/spam.json\", \"r\") as file_handle:\n",
    "    data = json.load(file_handle)\n",
    "\n",
    "for index, item in enumerate(data):\n",
    "    if item[\"class\"] == \"spam\":\n",
    "        data[index][\"binary_class\"] = 0\n",
    "    elif item[\"class\"] == \"ham\":\n",
    "\n",
    "        data[index][\"binary_class\"] = 1\n",
    "    else:\n",
    "        pass\n",
    "\n",
    "# SAVE the data:\n",
    "with open(\"../data/datasets/spam_dictionary.json\", \"w\") as file_handle:\n",
    "    json.dump(data, file_handle, indent=2)"
   ],
   "metadata": {
    "collapsed": false,
    "ExecuteTime": {
     "start_time": "2023-07-15T11:03:01.041966Z"
    }
   }
  },
  {
   "cell_type": "markdown",
   "source": [
    "To have more clarity in this example code about saving data, we skip the step of checking for missing values, but you should always perform it Flow control elements (for, if, else, etc.) can’t be left empty, they always must have an instruction. Therefore, we write `pass` to tell Python that we don’t want to do anything and simply continue to the next step in the code."
   ],
   "metadata": {
    "collapsed": false
   }
  },
  {
   "cell_type": "code",
   "execution_count": 796,
   "outputs": [
    {
     "ename": "FileNotFoundError",
     "evalue": "File ../data/datasets/spam.json does not exist",
     "output_type": "error",
     "traceback": [
      "\u001B[0;31m---------------------------------------------------------------------------\u001B[0m",
      "\u001B[0;31mFileNotFoundError\u001B[0m                         Traceback (most recent call last)",
      "Cell \u001B[0;32mIn[796], line 6\u001B[0m\n\u001B[1;32m      1\u001B[0m \u001B[38;5;66;03m# Save a Pandas data frame as a JSON\u001B[39;00m\n\u001B[1;32m      3\u001B[0m \u001B[38;5;28;01mimport\u001B[39;00m \u001B[38;5;21;01mpandas\u001B[39;00m \u001B[38;5;28;01mas\u001B[39;00m \u001B[38;5;21;01mpd\u001B[39;00m\n\u001B[0;32m----> 6\u001B[0m data \u001B[38;5;241m=\u001B[39m \u001B[43mpd\u001B[49m\u001B[38;5;241;43m.\u001B[39;49m\u001B[43mread_json\u001B[49m\u001B[43m(\u001B[49m\u001B[38;5;124;43m\"\u001B[39;49m\u001B[38;5;124;43m../data/datasets/spam.json\u001B[39;49m\u001B[38;5;124;43m\"\u001B[39;49m\u001B[43m)\u001B[49m\n\u001B[1;32m      8\u001B[0m data[\u001B[38;5;124m\"\u001B[39m\u001B[38;5;124mbinary_class\u001B[39m\u001B[38;5;124m\"\u001B[39m] \u001B[38;5;241m=\u001B[39m data\u001B[38;5;241m.\u001B[39mapply(\n\u001B[1;32m      9\u001B[0m     \u001B[38;5;28;01mlambda\u001B[39;00m row: \u001B[38;5;241m0\u001B[39m \u001B[38;5;28;01mif\u001B[39;00m row[\u001B[38;5;124m\"\u001B[39m\u001B[38;5;124mclass\u001B[39m\u001B[38;5;124m\"\u001B[39m] \u001B[38;5;241m==\u001B[39m \u001B[38;5;124m\"\u001B[39m\u001B[38;5;124mspam\u001B[39m\u001B[38;5;124m\"\u001B[39m \u001B[38;5;28;01melse\u001B[39;00m \u001B[38;5;241m1\u001B[39m,\n\u001B[1;32m     10\u001B[0m     axis\u001B[38;5;241m=\u001B[39m\u001B[38;5;241m1\u001B[39m\n\u001B[1;32m     11\u001B[0m )\n\u001B[1;32m     13\u001B[0m \u001B[38;5;66;03m# SAVE the data:\u001B[39;00m\n",
      "File \u001B[0;32m~/anaconda3/lib/python3.10/site-packages/pandas/util/_decorators.py:211\u001B[0m, in \u001B[0;36mdeprecate_kwarg.<locals>._deprecate_kwarg.<locals>.wrapper\u001B[0;34m(*args, **kwargs)\u001B[0m\n\u001B[1;32m    209\u001B[0m     \u001B[38;5;28;01melse\u001B[39;00m:\n\u001B[1;32m    210\u001B[0m         kwargs[new_arg_name] \u001B[38;5;241m=\u001B[39m new_arg_value\n\u001B[0;32m--> 211\u001B[0m \u001B[38;5;28;01mreturn\u001B[39;00m \u001B[43mfunc\u001B[49m\u001B[43m(\u001B[49m\u001B[38;5;241;43m*\u001B[39;49m\u001B[43margs\u001B[49m\u001B[43m,\u001B[49m\u001B[43m \u001B[49m\u001B[38;5;241;43m*\u001B[39;49m\u001B[38;5;241;43m*\u001B[39;49m\u001B[43mkwargs\u001B[49m\u001B[43m)\u001B[49m\n",
      "File \u001B[0;32m~/anaconda3/lib/python3.10/site-packages/pandas/util/_decorators.py:331\u001B[0m, in \u001B[0;36mdeprecate_nonkeyword_arguments.<locals>.decorate.<locals>.wrapper\u001B[0;34m(*args, **kwargs)\u001B[0m\n\u001B[1;32m    325\u001B[0m \u001B[38;5;28;01mif\u001B[39;00m \u001B[38;5;28mlen\u001B[39m(args) \u001B[38;5;241m>\u001B[39m num_allow_args:\n\u001B[1;32m    326\u001B[0m     warnings\u001B[38;5;241m.\u001B[39mwarn(\n\u001B[1;32m    327\u001B[0m         msg\u001B[38;5;241m.\u001B[39mformat(arguments\u001B[38;5;241m=\u001B[39m_format_argument_list(allow_args)),\n\u001B[1;32m    328\u001B[0m         \u001B[38;5;167;01mFutureWarning\u001B[39;00m,\n\u001B[1;32m    329\u001B[0m         stacklevel\u001B[38;5;241m=\u001B[39mfind_stack_level(),\n\u001B[1;32m    330\u001B[0m     )\n\u001B[0;32m--> 331\u001B[0m \u001B[38;5;28;01mreturn\u001B[39;00m \u001B[43mfunc\u001B[49m\u001B[43m(\u001B[49m\u001B[38;5;241;43m*\u001B[39;49m\u001B[43margs\u001B[49m\u001B[43m,\u001B[49m\u001B[43m \u001B[49m\u001B[38;5;241;43m*\u001B[39;49m\u001B[38;5;241;43m*\u001B[39;49m\u001B[43mkwargs\u001B[49m\u001B[43m)\u001B[49m\n",
      "File \u001B[0;32m~/anaconda3/lib/python3.10/site-packages/pandas/io/json/_json.py:733\u001B[0m, in \u001B[0;36mread_json\u001B[0;34m(path_or_buf, orient, typ, dtype, convert_axes, convert_dates, keep_default_dates, numpy, precise_float, date_unit, encoding, encoding_errors, lines, chunksize, compression, nrows, storage_options)\u001B[0m\n\u001B[1;32m    730\u001B[0m \u001B[38;5;28;01mif\u001B[39;00m convert_axes \u001B[38;5;129;01mis\u001B[39;00m \u001B[38;5;28;01mNone\u001B[39;00m \u001B[38;5;129;01mand\u001B[39;00m orient \u001B[38;5;241m!=\u001B[39m \u001B[38;5;124m\"\u001B[39m\u001B[38;5;124mtable\u001B[39m\u001B[38;5;124m\"\u001B[39m:\n\u001B[1;32m    731\u001B[0m     convert_axes \u001B[38;5;241m=\u001B[39m \u001B[38;5;28;01mTrue\u001B[39;00m\n\u001B[0;32m--> 733\u001B[0m json_reader \u001B[38;5;241m=\u001B[39m \u001B[43mJsonReader\u001B[49m\u001B[43m(\u001B[49m\n\u001B[1;32m    734\u001B[0m \u001B[43m    \u001B[49m\u001B[43mpath_or_buf\u001B[49m\u001B[43m,\u001B[49m\n\u001B[1;32m    735\u001B[0m \u001B[43m    \u001B[49m\u001B[43morient\u001B[49m\u001B[38;5;241;43m=\u001B[39;49m\u001B[43morient\u001B[49m\u001B[43m,\u001B[49m\n\u001B[1;32m    736\u001B[0m \u001B[43m    \u001B[49m\u001B[43mtyp\u001B[49m\u001B[38;5;241;43m=\u001B[39;49m\u001B[43mtyp\u001B[49m\u001B[43m,\u001B[49m\n\u001B[1;32m    737\u001B[0m \u001B[43m    \u001B[49m\u001B[43mdtype\u001B[49m\u001B[38;5;241;43m=\u001B[39;49m\u001B[43mdtype\u001B[49m\u001B[43m,\u001B[49m\n\u001B[1;32m    738\u001B[0m \u001B[43m    \u001B[49m\u001B[43mconvert_axes\u001B[49m\u001B[38;5;241;43m=\u001B[39;49m\u001B[43mconvert_axes\u001B[49m\u001B[43m,\u001B[49m\n\u001B[1;32m    739\u001B[0m \u001B[43m    \u001B[49m\u001B[43mconvert_dates\u001B[49m\u001B[38;5;241;43m=\u001B[39;49m\u001B[43mconvert_dates\u001B[49m\u001B[43m,\u001B[49m\n\u001B[1;32m    740\u001B[0m \u001B[43m    \u001B[49m\u001B[43mkeep_default_dates\u001B[49m\u001B[38;5;241;43m=\u001B[39;49m\u001B[43mkeep_default_dates\u001B[49m\u001B[43m,\u001B[49m\n\u001B[1;32m    741\u001B[0m \u001B[43m    \u001B[49m\u001B[43mnumpy\u001B[49m\u001B[38;5;241;43m=\u001B[39;49m\u001B[43mnumpy\u001B[49m\u001B[43m,\u001B[49m\n\u001B[1;32m    742\u001B[0m \u001B[43m    \u001B[49m\u001B[43mprecise_float\u001B[49m\u001B[38;5;241;43m=\u001B[39;49m\u001B[43mprecise_float\u001B[49m\u001B[43m,\u001B[49m\n\u001B[1;32m    743\u001B[0m \u001B[43m    \u001B[49m\u001B[43mdate_unit\u001B[49m\u001B[38;5;241;43m=\u001B[39;49m\u001B[43mdate_unit\u001B[49m\u001B[43m,\u001B[49m\n\u001B[1;32m    744\u001B[0m \u001B[43m    \u001B[49m\u001B[43mencoding\u001B[49m\u001B[38;5;241;43m=\u001B[39;49m\u001B[43mencoding\u001B[49m\u001B[43m,\u001B[49m\n\u001B[1;32m    745\u001B[0m \u001B[43m    \u001B[49m\u001B[43mlines\u001B[49m\u001B[38;5;241;43m=\u001B[39;49m\u001B[43mlines\u001B[49m\u001B[43m,\u001B[49m\n\u001B[1;32m    746\u001B[0m \u001B[43m    \u001B[49m\u001B[43mchunksize\u001B[49m\u001B[38;5;241;43m=\u001B[39;49m\u001B[43mchunksize\u001B[49m\u001B[43m,\u001B[49m\n\u001B[1;32m    747\u001B[0m \u001B[43m    \u001B[49m\u001B[43mcompression\u001B[49m\u001B[38;5;241;43m=\u001B[39;49m\u001B[43mcompression\u001B[49m\u001B[43m,\u001B[49m\n\u001B[1;32m    748\u001B[0m \u001B[43m    \u001B[49m\u001B[43mnrows\u001B[49m\u001B[38;5;241;43m=\u001B[39;49m\u001B[43mnrows\u001B[49m\u001B[43m,\u001B[49m\n\u001B[1;32m    749\u001B[0m \u001B[43m    \u001B[49m\u001B[43mstorage_options\u001B[49m\u001B[38;5;241;43m=\u001B[39;49m\u001B[43mstorage_options\u001B[49m\u001B[43m,\u001B[49m\n\u001B[1;32m    750\u001B[0m \u001B[43m    \u001B[49m\u001B[43mencoding_errors\u001B[49m\u001B[38;5;241;43m=\u001B[39;49m\u001B[43mencoding_errors\u001B[49m\u001B[43m,\u001B[49m\n\u001B[1;32m    751\u001B[0m \u001B[43m\u001B[49m\u001B[43m)\u001B[49m\n\u001B[1;32m    753\u001B[0m \u001B[38;5;28;01mif\u001B[39;00m chunksize:\n\u001B[1;32m    754\u001B[0m     \u001B[38;5;28;01mreturn\u001B[39;00m json_reader\n",
      "File \u001B[0;32m~/anaconda3/lib/python3.10/site-packages/pandas/io/json/_json.py:818\u001B[0m, in \u001B[0;36mJsonReader.__init__\u001B[0;34m(self, filepath_or_buffer, orient, typ, dtype, convert_axes, convert_dates, keep_default_dates, numpy, precise_float, date_unit, encoding, lines, chunksize, compression, nrows, storage_options, encoding_errors)\u001B[0m\n\u001B[1;32m    815\u001B[0m     \u001B[38;5;28;01mif\u001B[39;00m \u001B[38;5;129;01mnot\u001B[39;00m \u001B[38;5;28mself\u001B[39m\u001B[38;5;241m.\u001B[39mlines:\n\u001B[1;32m    816\u001B[0m         \u001B[38;5;28;01mraise\u001B[39;00m \u001B[38;5;167;01mValueError\u001B[39;00m(\u001B[38;5;124m\"\u001B[39m\u001B[38;5;124mnrows can only be passed if lines=True\u001B[39m\u001B[38;5;124m\"\u001B[39m)\n\u001B[0;32m--> 818\u001B[0m data \u001B[38;5;241m=\u001B[39m \u001B[38;5;28;43mself\u001B[39;49m\u001B[38;5;241;43m.\u001B[39;49m\u001B[43m_get_data_from_filepath\u001B[49m\u001B[43m(\u001B[49m\u001B[43mfilepath_or_buffer\u001B[49m\u001B[43m)\u001B[49m\n\u001B[1;32m    819\u001B[0m \u001B[38;5;28mself\u001B[39m\u001B[38;5;241m.\u001B[39mdata \u001B[38;5;241m=\u001B[39m \u001B[38;5;28mself\u001B[39m\u001B[38;5;241m.\u001B[39m_preprocess_data(data)\n",
      "File \u001B[0;32m~/anaconda3/lib/python3.10/site-packages/pandas/io/json/_json.py:874\u001B[0m, in \u001B[0;36mJsonReader._get_data_from_filepath\u001B[0;34m(self, filepath_or_buffer)\u001B[0m\n\u001B[1;32m    866\u001B[0m     filepath_or_buffer \u001B[38;5;241m=\u001B[39m \u001B[38;5;28mself\u001B[39m\u001B[38;5;241m.\u001B[39mhandles\u001B[38;5;241m.\u001B[39mhandle\n\u001B[1;32m    867\u001B[0m \u001B[38;5;28;01melif\u001B[39;00m (\n\u001B[1;32m    868\u001B[0m     \u001B[38;5;28misinstance\u001B[39m(filepath_or_buffer, \u001B[38;5;28mstr\u001B[39m)\n\u001B[1;32m    869\u001B[0m     \u001B[38;5;129;01mand\u001B[39;00m filepath_or_buffer\u001B[38;5;241m.\u001B[39mlower()\u001B[38;5;241m.\u001B[39mendswith(\n\u001B[0;32m   (...)\u001B[0m\n\u001B[1;32m    872\u001B[0m     \u001B[38;5;129;01mand\u001B[39;00m \u001B[38;5;129;01mnot\u001B[39;00m file_exists(filepath_or_buffer)\n\u001B[1;32m    873\u001B[0m ):\n\u001B[0;32m--> 874\u001B[0m     \u001B[38;5;28;01mraise\u001B[39;00m \u001B[38;5;167;01mFileNotFoundError\u001B[39;00m(\u001B[38;5;124mf\u001B[39m\u001B[38;5;124m\"\u001B[39m\u001B[38;5;124mFile \u001B[39m\u001B[38;5;132;01m{\u001B[39;00mfilepath_or_buffer\u001B[38;5;132;01m}\u001B[39;00m\u001B[38;5;124m does not exist\u001B[39m\u001B[38;5;124m\"\u001B[39m)\n\u001B[1;32m    876\u001B[0m \u001B[38;5;28;01mreturn\u001B[39;00m filepath_or_buffer\n",
      "\u001B[0;31mFileNotFoundError\u001B[0m: File ../data/datasets/spam.json does not exist"
     ]
    }
   ],
   "source": [
    "# Save a Pandas data frame as a JSON\n",
    "\n",
    "import pandas as pd\n",
    "\n",
    "\n",
    "data = pd.read_json(\"../data/datasets/spam.json\")\n",
    "\n",
    "data[\"binary_class\"] = data.apply(\n",
    "    lambda row: 0 if row[\"class\"] == \"spam\" else 1,\n",
    "    axis=1\n",
    ")\n",
    "\n",
    "# SAVE the data:\n",
    "data.to_json(\"../data/datasets/spam_dataframe.json\", indent=2, orient=\"records\")"
   ],
   "metadata": {
    "collapsed": false,
    "ExecuteTime": {
     "start_time": "2023-07-15T11:03:01.083734Z"
    }
   }
  },
  {
   "cell_type": "markdown",
   "source": [
    "The last line shows the method to save a Pandas data frame as a JSON, and it has two additional parameters.\n",
    "`indent=2` adds two indentation spaces to make the JSON file easier to read, and `orient=\"records\"` tells Pandas to store it with the common pattern for data records.\n",
    "\n",
    "JSON is a universal translator between programming languages and you'll encounter it often when receiving and sending data. Now you are ready to start communicating with databases around the world! 😎"
   ],
   "metadata": {
    "collapsed": false
   }
  },
  {
   "cell_type": "markdown",
   "source": [
    "#### Exercise:\n",
    "1. Open the JSON file in a simple text editor. Don't use Excel, but instead use the default text editors **textEdit** in Mac, or **Notepad** in Windows.\n",
    "2. Open the [official documentation](https://pandas.pydata.org/pandas-docs/stable/reference/api/pandas.DataFrame.to_json.html) for `.to_json()` and find the alternative values that you can pass to the parameter `orient`.\n",
    "3. Copy the code of the cell above into the cell below.\n",
    "4. Save the data with all the different `orient` values (one line of code per value) and compare the output format in your text editor.\n",
    "4. Run the cell to execute the code."
   ],
   "metadata": {
    "collapsed": false
   }
  },
  {
   "cell_type": "code",
   "execution_count": 796,
   "outputs": [],
   "source": [],
   "metadata": {
    "collapsed": false,
    "ExecuteTime": {
     "end_time": "2023-07-15T11:03:05.757138Z",
     "start_time": "2023-07-15T11:03:01.148077Z"
    }
   }
  }
 ],
 "metadata": {
  "kernelspec": {
   "display_name": "Python 3 (ipykernel)",
   "language": "python",
   "name": "python3"
  },
  "language_info": {
   "codemirror_mode": {
    "name": "ipython",
    "version": 3
   },
   "file_extension": ".py",
   "mimetype": "text/x-python",
   "name": "python",
   "nbconvert_exporter": "python",
   "pygments_lexer": "ipython3",
   "version": "3.10.9"
  }
 },
 "nbformat": 4,
 "nbformat_minor": 5
}
