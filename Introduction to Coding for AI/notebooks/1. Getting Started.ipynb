{
 "cells": [
  {
   "cell_type": "markdown",
   "id": "5fb33345",
   "metadata": {},
   "source": [
    "# Introduction to Coding for AI"
   ]
  },
  {
   "cell_type": "markdown",
   "id": "333a5cdd",
   "metadata": {},
   "source": [
    "## 1. Getting Started "
   ]
  },
  {
   "cell_type": "markdown",
   "id": "8ee42935",
   "metadata": {},
   "source": [
    "### 1.6. Run your first code\n",
    "\n",
    "Your first task is to write `print(\"This is code\")` in the cell below, and then click on the **Run** button with the arrow to execute the code. Make sure that the drop-down menu in the icons bar says `Code`. Then you will see that the text `This is code` will be printed below the cell. You can also execute code selecting a cell and pressing `Shift + Enter`."
   ]
  },
  {
   "cell_type": "code",
   "execution_count": 1,
   "id": "d2a48203",
   "metadata": {},
   "outputs": [
    {
     "name": "stdout",
     "output_type": "stream",
     "text": [
      "This is code\n"
     ]
    }
   ],
   "source": [
    "print(\"This is code\")"
   ]
  },
  {
   "cell_type": "markdown",
   "id": "4901cbd7",
   "metadata": {},
   "source": [
    "Congratulations! You have just run the first Python code in the course 🙂\n",
    "\n",
    "Next, add a new cell below by clicking on the menu `Insert` → `Insert Cell Below`.\n",
    "Alternatively, click outside the cell so that the line surrounding it goes from green to blue color, and then press `b` on the keyboard to add a new cell *below*, or `a` to add a new cell *above*.\n",
    "The colors only indicate if you are currently editing a cell (green) or if you are *outside* the cell and can move between cells when using the keyboard arrows.\n",
    "You can also move cells *up* and *down* using the corresponding arrows in the icons bar.\n",
    "\n",
    "Go to the new cell you added below, click on the drop-down menu in the icons bar and select `Markdown`.\n",
    "Then type `### **This** is *markdown*` and run the cell. Do you see the difference? Differently form Code cells, Markdown cells display their output on top of the markdown code instead of below it.\n",
    "\n",
    "Now that you know how Jupyter notebooks work, you are ready to start diving into Python!"
   ]
  },
  {
   "cell_type": "markdown",
   "id": "82065b1d",
   "metadata": {},
   "source": [
    "### 1.7. Python elements\n",
    "\n",
    "To be able to efficiently use Python, there are a few elements you need to know and understand. Just like you would have to know verbs, nouns, or pronouns in English to form a sentence.\n",
    "Let's start by learning that Python is an **object oriented** programming language.\n",
    "This means that almost everything in Python is an object with **properties** and **methods**.\n",
    "Properties are characteristics or values that belong to an object, and methods are functions that execute actions.\n",
    "You can think of objects as a microwave. It has *properties* like \"Heating Time\" that you can set to \"1 Minute\" or \"30 Seconds\", and it also has *methods* like \"Start\" and \"Stop\". We will elaborate more on methods later on.\n",
    "To start, the first elements of Python that we will show you are **variables**, **data types**, **functions**, and **modules**. As everything in Python, all of them are objects.\n",
    "\n",
    "- **Variables** are names that indicate the places in the memory of your computer where data is stored.\n",
    "They are *case-sensitive*, meaning `firstname`, `Firstname` and `firstName` are all different variables.\n",
    "\n",
    "There are some rules and policies for naming variables. Here are some *DOs*:\n",
    "- Variable names should be descriptive and meaningful. Use `last_name` instead of `ln`.\n",
    "- Explicit names make code more maintainable.\n",
    "- Use lower-case letters and underscores to make them more readable.\n",
    "\n",
    "Here are some *DON'Ts*:\n",
    "- Variables can't start with numbers.\n",
    "- Variables can't have spaces. If you need multiple words use underscore instead: `_`\n",
    "- Variables can't use some reserved words, such as `True`, `False` or `import`, because they are used by the programming language itself, and using them also as names for variables would confuse Python and make it unusable.\n",
    "\n",
    "Below you can see the full list of reserved keywords:"
   ]
  },
  {
   "cell_type": "code",
   "execution_count": 2,
   "id": "d94c6eb7",
   "metadata": {},
   "outputs": [
    {
     "name": "stdout",
     "output_type": "stream",
     "text": [
      "['False', 'None', 'True', 'and', 'as', 'assert', 'async', 'await', 'break', 'class', 'continue', 'def', 'del', 'elif', 'else', 'except', 'finally', 'for', 'from', 'global', 'if', 'import', 'in', 'is', 'lambda', 'nonlocal', 'not', 'or', 'pass', 'raise', 'return', 'try', 'while', 'with', 'yield']\n"
     ]
    }
   ],
   "source": [
    "import keyword\n",
    "print(keyword.kwlist)"
   ]
  },
  {
   "cell_type": "markdown",
   "id": "0c5af39b",
   "metadata": {},
   "source": [
    "Otherwise, you can name your variables however you like!\n",
    "\n",
    "- **Data types** are the values that data can have. For example, data can be numbers, text, or booleans (True or False).\n",
    "\n",
    "In the following cell you can see an example of variables being assigned different data types:"
   ]
  },
  {
   "cell_type": "code",
   "execution_count": 4,
   "id": "09dc8707",
   "metadata": {},
   "outputs": [
    {
     "name": "stdout",
     "output_type": "stream",
     "text": [
      "numeric_variable: 123\n",
      "text_variable: 456\n"
     ]
    }
   ],
   "source": [
    "numeric_variable = 123\n",
    "text_variable = \"456\"\n",
    "\n",
    "print(\"numeric_variable:\", numeric_variable)\n",
    "print(\"text_variable:\", text_variable)"
   ]
  },
  {
   "cell_type": "markdown",
   "id": "866182a2",
   "metadata": {},
   "source": [
    "Both data types look the same when printed in the cell, so how can you differentiate them?\n",
    "\n",
    "- **Functions** are reusable pieces of code that carry out tasks. You have seen now a couple of times the function `print()`. Notice that **functions** are words, like variables, but end with a pair of brackets `()`.\n",
    "Some times they take in *arguments*, like in the case of `print()` which takes a string or a variable with the value that you want to display.\n",
    "\n",
    "The second **built-in** function that you will see is `type()`. Built-in means that this function is part of Python itself and you can run it without having to take it from other modules.\n",
    "\n",
    "- **Modules**, or **libraries**, are collections of code that you can reuse to create a program.\n",
    "Sometimes they are readily available, like the modules that you can import from the Python **Standard library**, and sometimes you need to install external libraries to be able to import them, like the libraries you will use for writing Machine Learning code.\n",
    "\n",
    "**Import** means that you load the code to the memory of your computer, and is executed with the command `import`.\n",
    "You can import modules that include multiple functions, or import single functions directly.\n",
    "Being able to import single funtions instead of entire modules helps to use less memory, which can help to avoid slowing down your computer."
   ]
  },
  {
   "cell_type": "code",
   "execution_count": 7,
   "id": "793f6379",
   "metadata": {},
   "outputs": [
    {
     "name": "stdout",
     "output_type": "stream",
     "text": [
      "Type of numeric_variable: <class 'int'>\n",
      "Type of text_variable: <class 'str'>\n"
     ]
    }
   ],
   "source": [
    "type_of_numeric_variable = type(numeric_variable)\n",
    "type_of_text_variable = type(text_variable)\n",
    "\n",
    "print(\"Type of numeric_variable:\", type_of_numeric_variable )\n",
    "print(\"Type of text_variable:\",type_of_text_variable )"
   ]
  },
  {
   "cell_type": "markdown",
   "id": "5f23d7a1",
   "metadata": {},
   "source": [
    "### 1.8. Data types\n",
    "\n",
    "The basic data types that we are interested in this course are:\n",
    "\n",
    "- Text:\t`str`\n",
    "\n",
    "The data type of text is called **string**, and it is defined by using quotes or double quotes around text (like `'Text string'` or `\"Text string\"`). You can also use three double-quotes (`\"\"\"`) to define string blocks as seen in the example below.\n",
    "\n",
    "- Numeric:\t`int`, `float`\n",
    "\n",
    "The data type of numbers can be **integers** (`0`, `27`, `-3`) or **floats** when numbers have a decimal point (`0.0`, `27.5`, `-3.1416`).\n",
    "\n",
    "- Boolean:\t`bool`\n",
    "\n",
    "They are only two Boolean values: `True` and `False`. We will talk more about **booleans** a bit later as they require a more detailed explanation.\n",
    "\n",
    "- None:\t`NoneType`\n",
    "\n",
    "Finally, we have the **None** type. You can think of None as a placeholder for missing values."
   ]
  },
  {
   "cell_type": "markdown",
   "id": "45811d6d",
   "metadata": {},
   "source": [
    "You can define most data types with a long or a short notation:"
   ]
  },
  {
   "cell_type": "code",
   "execution_count": 8,
   "id": "7bea319d",
   "metadata": {},
   "outputs": [],
   "source": [
    "string_variable = \"Hello World\"\n",
    "string_variable = str(\"Hello World\")\n",
    "string_variable = \"\"\"\n",
    "Hello\n",
    "World\n",
    "\"\"\"\n",
    "\n",
    "integer_variable = 20\n",
    "integer_variable = int(20)\n",
    "\n",
    "float_variable = 20.5\n",
    "float_variable = float(20.5)\n",
    "\n",
    "boolean_variable = True\n",
    "boolean_variable = bool(1)\n",
    "\n",
    "none_variable = None"
   ]
  },
  {
   "cell_type": "markdown",
   "id": "6e56e933",
   "metadata": {},
   "source": [
    "#### Exercise:\n",
    "1. Copy the code in the cell above into the cell below.\n",
    "2. Change the name of the variables.\n",
    "3. Change the values of the variables, but keep the same corresponding data types.\n",
    "4. Print the data type of each variable using the `type()` function."
   ]
  },
  {
   "cell_type": "code",
   "execution_count": 19,
   "id": "144bcadf",
   "metadata": {},
   "outputs": [
    {
     "name": "stdout",
     "output_type": "stream",
     "text": [
      "<class 'str'>\n",
      "\n",
      "Hello\n",
      "World\n",
      "\n",
      "<class 'int'>\n",
      "<class 'bool'>\n",
      "<class 'NoneType'>\n"
     ]
    }
   ],
   "source": [
    "string_einhorn = \"Hello World\"\n",
    "string_einhorn = str(\"Hello World\")\n",
    "string_einhorn = \"\"\"\n",
    "Hello\n",
    "World\n",
    "\"\"\"\n",
    "\n",
    "integer_twenty = 20\n",
    "integer_twenty = int(20)\n",
    "\n",
    "float_boat = 20.5\n",
    "float_float = float(20.5)\n",
    "\n",
    "boolean_variable = True\n",
    "boolean_variable = bool(1)\n",
    "\n",
    "none_variable = None\n",
    "\n",
    "string_einhorn_type_abra= type(string_einhorn)\n",
    "print(string_einhorn_type_abra)\n",
    "print(string_einhorn)\n",
    "\n",
    "integer_twenty_type= type(integer_twenty)\n",
    "print(integer_twenty_type)\n",
    "\n",
    "boolean_variable_type= type(boolean_variable)\n",
    "print(boolean_variable_type)\n",
    "\n",
    "none_variable_type=type(none_variable)\n",
    "print(none_variable_type)\n",
    "\n"
   ]
  },
  {
   "cell_type": "markdown",
   "id": "5650d5e4",
   "metadata": {},
   "source": [
    "Additionally to the data types above, there are other types that are used to hold multiple values. Think of it like having boxes with numbers, strings or combinations of various other data types. Some examples are:\n",
    "\n",
    "- Sequences:\t`list`, `tuple`, `range`\n",
    "\n",
    "A **list** is a sequence of objects (strings, numbers, other lists, etc.). For example `mixed_list = [1, -3.1, None, True, \"cherry\"]`\n",
    "\n",
    "A **tuple** is the same as a list, but we can't modify its elements. This property is called immutability and you will learn later on when this property is useful.\n",
    "\n",
    "A **range** is a sequence of numbers. For example `range(5)` iterates over the sequence of numbers `0, 1, 2, 3, 4`.\n",
    "\n",
    "- Mappings:\t`dict`\n",
    "\n",
    "A **dictionary** is a collection of variables that, together with their definitions, are assigned to a single variable. Dictionaries map **keys** and **values** in the same way that English-language dictionaries map **words** to their **definitions**. For example, `{\"name\": \"John\", \"age\": 42}` is a dictionary with the keys `name` and `John`, and the corresponding values `John` and `42`.\n",
    "\n",
    "\n",
    "- Collections:\t`set`\n",
    "\n",
    "A **set** is the collection of unique elements in a sequence. For example, the set of the following list `[1, 2, 2, 3, 3, 3]` is `{1, 2, 3}`.\n",
    "\n",
    "These data types can also be defined in multiple ways:"
   ]
  },
  {
   "cell_type": "code",
   "execution_count": 5,
   "id": "b6cdf9dc",
   "metadata": {},
   "outputs": [],
   "source": [
    "list_variable = [\"apple\", \"banana\", \"cherry\"]\n",
    "list_variable = list((\"apple\", \"banana\", \"cherry\"))\n",
    "\n",
    "tuple_variable = (\"apple\", \"banana\", \"cherry\")\n",
    "tuple_variable = tuple((\"apple\", \"banana\", \"cherry\"))\n",
    "\n",
    "range_variable = range(5)\n",
    "\n",
    "dictionary_variable = {\"name\": \"John\", \"age\": 42}\n",
    "dictionary_variable = dict(name=\"John\", age=42)\n",
    "\n",
    "set_variable = {\"apple\", \"banana\", \"cherry\"}\n",
    "set_variable = set((\"apple\", \"banana\", \"cherry\"))"
   ]
  },
  {
   "cell_type": "markdown",
   "id": "cb23f02f",
   "metadata": {},
   "source": [
    "#### Exercise:\n",
    "1. Copy the code in the cell above into the cell below.\n",
    "2. Change the name of the variables.\n",
    "3. Change the values of the variables, but keep the same corresponding data types.\n",
    "4. Print the data type of each variable using the `type()` function."
   ]
  },
  {
   "cell_type": "code",
   "execution_count": 25,
   "id": "d7453d7e",
   "metadata": {},
   "outputs": [
    {
     "name": "stdout",
     "output_type": "stream",
     "text": [
      "<class 'list'>\n",
      "<class 'tuple'>\n",
      "<class 'dict'>\n",
      "<class 'set'>\n"
     ]
    }
   ],
   "source": [
    "list_fruit = [\"apple\", \"banana\", \"cherry\"]\n",
    "list_fruit = list((\"apple\", \"banana\", \"cherry\"))\n",
    "list_fruit_type= type(list_fruit)\n",
    "print(list_fruit_type)\n",
    "\n",
    "tuple_fruit = (\"apple\", \"banana\", \"cherry\")\n",
    "tuple_fruit = tuple((\"apple\", \"banana\", \"cherry\"))\n",
    "tuple_fruit_type = type(tuple_fruit)\n",
    "print(tuple_fruit_type)\n",
    "\n",
    "range_row = range(5)\n",
    "\n",
    "dictionary_person = {\"name\": \"John\", \"age\": 42}\n",
    "dictionary_person = dict(name=\"John\", age=42)\n",
    "dictionary_person_type = type(dictionary_person)\n",
    "print(dictionary_person_type)\n",
    "\n",
    "set_fruit = {\"apple\", \"banana\", \"cherry\"}\n",
    "set_fruit = set((\"apple\", \"banana\", \"cherry\"))\n",
    "set_fruit_type = type(set_fruit)\n",
    "print(set_fruit_type)"
   ]
  },
  {
   "cell_type": "markdown",
   "id": "19b7fc4c",
   "metadata": {},
   "source": [
    "Coming back to Booleans, the values used to indicate `True` or `False`.\n",
    "Notice that they start with a capital letter and don't use quotes, so `true` and `\"True\"` are not Boolean values.\n",
    "Booleans also have degrees of *truthiness*. What do we mean? For example, numbers `0` and `0.0` are the only numbers considered *falsy*, all other numbers are considered *truthy*. Think of it as absence vs presence, nothing vs something, `0` vs `1`, or an empty object vs a non-empty object.\n",
    "\n",
    "Other *falsy* values are:\n",
    "- Empty strings `\"\"`\n",
    "- `None`\n",
    "- Empty lists: `[]`\n",
    "- Empty tuples: `()`\n",
    "- Empty ranges: `range(0)`\n",
    "- Empty dictionaries: `{}`\n",
    "- Empty sets: `set()`\n",
    "\n"
   ]
  },
  {
   "cell_type": "code",
   "execution_count": 6,
   "id": "a85c12be",
   "metadata": {},
   "outputs": [
    {
     "name": "stdout",
     "output_type": "stream",
     "text": [
      "False\n",
      "False\n",
      "<class 'bool'>\n"
     ]
    }
   ],
   "source": [
    "boolean_variable = False\n",
    "print(boolean_variable)\n",
    "\n",
    "boolean_variable = bool(0)\n",
    "print(boolean_variable)\n",
    "\n",
    "print(type(boolean_variable))"
   ]
  },
  {
   "cell_type": "markdown",
   "id": "2b117ce5",
   "metadata": {},
   "source": [
    "#### Exercise:\n",
    "1. Create 5 variables with different falsy values in the cell below.\n",
    "2. Print the value of each variable."
   ]
  },
  {
   "cell_type": "code",
   "execution_count": 40,
   "id": "d058db7f",
   "metadata": {},
   "outputs": [
    {
     "name": "stdout",
     "output_type": "stream",
     "text": [
      "False\n",
      "False\n",
      "False\n",
      "False\n",
      "False\n",
      "True\n",
      "True\n",
      "True\n",
      "Erica 30\n",
      "True\n"
     ]
    }
   ],
   "source": [
    "a= \"\"\n",
    "b= 0\n",
    "c= []\n",
    "d= {}\n",
    "e= None\n",
    "\n",
    "print (bool(a))\n",
    "print (bool(b))\n",
    "print (bool(c))\n",
    "print (bool(d))\n",
    "print (bool(e))\n",
    "\n",
    "a= \"3\"\n",
    "b= -1\n",
    "c= [3]\n",
    "d= {\"name\":\"Erica\", \"age\": 30}\n",
    "e= 5\n",
    "\n",
    "print (bool(a))\n",
    "print (bool(b))\n",
    "print (bool(c))\n",
    "print (d[\"name\"], d[\"age\"])\n",
    "print (bool(e))\n",
    "\n",
    "\n",
    "\n"
   ]
  },
  {
   "cell_type": "markdown",
   "id": "6ce5e6d5",
   "metadata": {},
   "source": [
    "### 1.8. Operators\n",
    "\n",
    "Now that you know data types, you may wonder what to do with them. All the manipulations that you can apply to values are done through **operators**. Some of the most common operators are:\n",
    "- Arithmetic: As the name says it, they allow you to do arithmetic operations, such as `+` or `-`.\n",
    "- Assignment: These operators assign values to variables, like the equal sign (`=`).\n",
    "- Comparison: They compare if two values are the same, such as *equal* (`==`) or *not equal* (`!=`), and return `True` or `False` accordingly.\n",
    "- Identity: They also compare two values: `is` or `is not`, but are not exactly the same as `==` or `!=`. Is good to know them, but to avoid potential errors, always use comparison operators instead.\n",
    "- Logical: These operators are used to connect multiple logical evaluations. For example, if you want to evaluate if a fruit is both, round and orange, you use the operator `and`.\n",
    "- Membership: Checks if a sequence of objects is present in another object. For example, `\"ap\" in \"apple\"` returns `True` as the characters `\"ap\"` are present in the string of characters `\"apple\"`.\n",
    "\n",
    "Let's go one by one with some examples."
   ]
  },
  {
   "cell_type": "markdown",
   "id": "4e25daa0",
   "metadata": {},
   "source": [
    "#### Arithmetic\n",
    "\n",
    "- `+`: Addition (`x + y`)\n",
    "- `-`: Subtraction (`x - y`)\n",
    "- `*`: Multiplication (`x * y`)\n",
    "- `/`: Division (`x / y`)\n",
    "- `%`: Modulus, returns the remainder of a division (`x % y`), or the value on the right side of the decimal point. For example, if you divide 3 cookies between 3 children the remainder is 0 (`3 % 3`), but if you divide them between 2 children the remainder is different to zero (`3 % 2`). This operation helps, for example, when you want to know if a number is even or odd.\n",
    "- `//`: Floor division, ignores the decimals (`x // y`)\n",
    "- `**`: Exponentiation (`x ** y`)\n",
    "\n",
    "Some examples are:"
   ]
  },
  {
   "cell_type": "code",
   "execution_count": 7,
   "id": "9e7b65b7",
   "metadata": {},
   "outputs": [
    {
     "name": "stdout",
     "output_type": "stream",
     "text": [
      "x +  y =  7\n",
      "x -  y =  3\n",
      "x *  y =  10\n",
      "x /  y =  2.5\n",
      "x %  y =  1\n",
      "x // y =  2\n",
      "x ** y =  25\n"
     ]
    }
   ],
   "source": [
    "x = 5\n",
    "y = 2\n",
    "\n",
    "print(\"x +  y = \", x +  y)\n",
    "print(\"x -  y = \", x -  y)\n",
    "print(\"x *  y = \", x *  y)\n",
    "print(\"x /  y = \", x /  y)\n",
    "print(\"x %  y = \", x %  y)\n",
    "print(\"x // y = \", x // y)\n",
    "print(\"x ** y = \", x ** y)"
   ]
  },
  {
   "cell_type": "code",
   "execution_count": 41,
   "id": "f7758892",
   "metadata": {},
   "outputs": [
    {
     "name": "stdout",
     "output_type": "stream",
     "text": [
      "x +  y =  7\n",
      "x -  y =  1\n",
      "x *  y =  12\n",
      "x /  y =  1.3333333333333333\n",
      "x %  y =  1\n",
      "x // y =  1\n",
      "x ** y =  64\n"
     ]
    }
   ],
   "source": [
    "x = 4\n",
    "y = 3\n",
    "\n",
    "print(\"x +  y = \", x +  y)\n",
    "print(\"x -  y = \", x -  y)\n",
    "print(\"x *  y = \", x *  y)\n",
    "print(\"x /  y = \", x /  y)\n",
    "print(\"x %  y = \", x %  y)\n",
    "print(\"x // y = \", x // y)\n",
    "print(\"x ** y = \", x ** y)"
   ]
  },
  {
   "cell_type": "markdown",
   "id": "b8fbe543",
   "metadata": {},
   "source": [
    "#### Exercise:\n",
    "1. Copy the code in the cell above into the cell below.\n",
    "2. Change the values of the variables.\n",
    "3. Print new results.\n",
    "\n",
    "- **Going further**: Let’s explore the methods and try some new things out. Add a cell below and find out which operations can also be used with two strings, and which can be used with one string and one number. "
   ]
  },
  {
   "cell_type": "code",
   "execution_count": 56,
   "id": "a1a17385",
   "metadata": {},
   "outputs": [
    {
     "name": "stdout",
     "output_type": "stream",
     "text": [
      "x +  y =  helloh\n",
      "x *  y =  hellohellohellohello\n"
     ]
    }
   ],
   "source": [
    "x = \"hello\"\n",
    "y = \"h\"\n",
    "\n",
    "print(\"x +  y = \", x +  y)\n",
    "#print(\"x -  y = \", x -  y)\n",
    "#print(\"x *  y = \", x *  y)\n",
    "#print(\"x /  y = \", x /  y)\n",
    "#print(\"x %  y = \", x %  y)\n",
    "#print(\"x // y = \", x // y)\n",
    "#print(\"x ** y = \", x ** y)\n",
    "\n",
    "x = \"hello\"\n",
    "y = 4\n",
    "\n",
    "#print(\"x +  y = \", x +  y)\n",
    "#print(\"x -  y = \", x -  y)\n",
    "print(\"x *  y = \", x *  y)\n",
    "#print(\"x /  y = \", x /  y)\n",
    "#print(\"x %  y = \", x %  y)\n",
    "#print(\"x // y = \", x // y)\n",
    "#print(\"x ** y = \", x ** y)"
   ]
  },
  {
   "cell_type": "markdown",
   "id": "8c1320c5",
   "metadata": {},
   "source": [
    "#### Assignment\n",
    "\n",
    "- `=`: `x = 10`\n",
    "- `+=`: `x += 5` is the same as `x = x + 5`\n",
    "- `-=`: `x -= 5` is the same as `x = x - 5`\n",
    "- `*=`: `x *= 5` is the same as `x = x * 5`\n",
    "- `/=`: `x /= 5` is the same as `x = x / 5`\n",
    "\n",
    "Some examples are:"
   ]
  },
  {
   "cell_type": "code",
   "execution_count": 8,
   "id": "899d45a9",
   "metadata": {},
   "outputs": [
    {
     "name": "stdout",
     "output_type": "stream",
     "text": [
      "x += 5 =  15\n",
      "x = x + 5 =  15\n"
     ]
    }
   ],
   "source": [
    "x = 10\n",
    "x += 5\n",
    "print(\"x += 5 = \", x)\n",
    "\n",
    "x = 10\n",
    "x = x + 5\n",
    "print(\"x = x + 5 = \", x)"
   ]
  },
  {
   "cell_type": "markdown",
   "id": "20918eca",
   "metadata": {},
   "source": [
    "#### Exercise:\n",
    "1. Copy the code in the cell above into the cell below.\n",
    "2. Perform the same two computations for each of the assignment operators (`+=`, `-=`, `*=`, `/=`).\n",
    "3. Print new results."
   ]
  },
  {
   "cell_type": "code",
   "execution_count": 61,
   "id": "6f26b9a2",
   "metadata": {},
   "outputs": [
    {
     "name": "stdout",
     "output_type": "stream",
     "text": [
      "x += 5 =  6\n",
      "x -= 5 =  -3\n",
      "x *= 5 =  18\n",
      "x /= 5 =  0.4\n"
     ]
    }
   ],
   "source": [
    "x = 1\n",
    "x += 5\n",
    "print(\"x += 5 = \", x)\n",
    "\n",
    "x = 2\n",
    "x -= 5\n",
    "print(\"x -= 5 = \", x)\n",
    "\n",
    "x = 3\n",
    "x *= 6\n",
    "print(\"x *= 5 = \", x)\n",
    "\n",
    "x = 2\n",
    "x /= 5\n",
    "print(\"x /= 5 = \", x)\n"
   ]
  },
  {
   "cell_type": "markdown",
   "id": "f2e96f1d",
   "metadata": {},
   "source": [
    "#### Comparison\n",
    "\n",
    "- `==`: Equal (`x == y`)\n",
    "- `!=`: Not equal (`x != y`)\n",
    "- `>`: Greater than (`x > y`)\n",
    "- `<`: Less than (`x < y`)\n",
    "- `>=`: Greater than or equal to (`x >= y`)\n",
    "- `<=`: Less than or equal to (`x <= y`)\n",
    "\n",
    "Some examples are:"
   ]
  },
  {
   "cell_type": "code",
   "execution_count": 62,
   "id": "37871020",
   "metadata": {},
   "outputs": [
    {
     "name": "stdout",
     "output_type": "stream",
     "text": [
      "x == y =  False\n",
      "x != y =  True\n",
      "x >  y =  True\n",
      "x <  y =  False\n",
      "x >= y =  True\n",
      "x <= y =  False\n"
     ]
    }
   ],
   "source": [
    "x = 5\n",
    "y = 2\n",
    "\n",
    "print(\"x == y = \", x == y)\n",
    "print(\"x != y = \", x != y)\n",
    "print(\"x >  y = \", x >  y)\n",
    "print(\"x <  y = \", x <  y)\n",
    "print(\"x >= y = \", x >= y)\n",
    "print(\"x <= y = \", x <= y)"
   ]
  },
  {
   "cell_type": "markdown",
   "id": "c96c788c",
   "metadata": {},
   "source": [
    "#### Exercise:\n",
    "1. Copy the code in the cell above into the cell below.\n",
    "2. Change the values of the variables.\n",
    "3. Print new results.\n",
    "\n",
    "- **Going further**: Add a cel below and find out which operations can also be used with two strings."
   ]
  },
  {
   "cell_type": "code",
   "execution_count": 71,
   "id": "a2cf52d9",
   "metadata": {},
   "outputs": [
    {
     "name": "stdout",
     "output_type": "stream",
     "text": [
      "x == y =  False\n",
      "x != y =  True\n",
      "x >  y =  False\n",
      "x <  y =  True\n",
      "x >= y =  False\n",
      "x <= y =  True\n",
      "x == y =  False\n",
      "x != y =  True\n",
      "x == y =  False\n",
      "x != y =  True\n",
      "x >  y =  True\n",
      "x <  y =  False\n",
      "x >= y =  True\n",
      "x <= y =  False\n"
     ]
    }
   ],
   "source": [
    "x = 3\n",
    "y = 4\n",
    "\n",
    "print(\"x == y = \", x == y)\n",
    "print(\"x != y = \", x != y)\n",
    "print(\"x >  y = \", x >  y)\n",
    "print(\"x <  y = \", x <  y)\n",
    "print(\"x >= y = \", x >= y)\n",
    "print(\"x <= y = \", x <= y)\n",
    "\n",
    "x = \"hello\"\n",
    "y = 4\n",
    "\n",
    "print(\"x == y = \", x == y)\n",
    "print(\"x != y = \", x != y)\n",
    "#print(\"x >  y = \", x >  y)\n",
    "#print(\"x <  y = \", x <  y)\n",
    "#print(\"x >= y = \", x >= y)\n",
    "#print(\"x <= y = \", x <= y)\n",
    "\n",
    "x = \"hello\"\n",
    "y = \"h\"\n",
    "\n",
    "print(\"x == y = \", x == y)\n",
    "print(\"x != y = \", x != y)\n",
    "print(\"x >  y = \", x >  y)\n",
    "print(\"x <  y = \", x <  y)\n",
    "print(\"x >= y = \", x >= y)\n",
    "print(\"x <= y = \", x <= y)"
   ]
  },
  {
   "cell_type": "markdown",
   "id": "9f0257c6",
   "metadata": {},
   "source": [
    "#### Identity\n",
    "\n",
    "- `is`: Returns `True` if both variables are the same object (`x is y`)\n",
    "- `is not`: Returns `True` if both variables are not the same object (`x is not y`)\n",
    "\n",
    "Some examples are:"
   ]
  },
  {
   "cell_type": "code",
   "execution_count": 75,
   "id": "3d50d806",
   "metadata": {},
   "outputs": [
    {
     "name": "stdout",
     "output_type": "stream",
     "text": [
      "False\n",
      "True\n"
     ]
    }
   ],
   "source": [
    "a = [1,2]\n",
    "b = [1,2]\n",
    "c=a\n",
    "print(a is b)\n",
    "print(c is a)"
   ]
  },
  {
   "cell_type": "code",
   "execution_count": 10,
   "id": "694fe3d6",
   "metadata": {},
   "outputs": [
    {
     "name": "stdout",
     "output_type": "stream",
     "text": [
      "x is y =  False\n",
      "x is not y =  True\n"
     ]
    }
   ],
   "source": [
    "x = 5\n",
    "y = 2\n",
    "\n",
    "print(\"x is y = \", x is y)\n",
    "print(\"x is not y = \", x is not y)"
   ]
  },
  {
   "cell_type": "markdown",
   "id": "0e651a97",
   "metadata": {},
   "source": [
    "#### Exercise:\n",
    "1. Copy the code in the cell above into the cell below.\n",
    "2. Change the values of the variables to\n",
    "  - Task 1: `x = 5`, `y = 5` and print the results.\n",
    "  - Task 2: `x = 5`, `y = 5.0` and print the results.\n",
    "3. Tasks 3 and 4: For a little experiment, let's make a small change to our original code from step 1:\n",
    "  - Instead of `x is y`, use `x == y`\n",
    "  - Instead of `x is not y`, use `x != y`\n",
    "  \n",
    "Once you've done that, repeat step 2.\n",
    "\n",
    "You will see different results when you compare side-by-side the four tasks.\n",
    "The reason behind this peculiar situation is that the `==` operator compares the value of two objects, whereas the `is` operator checks whether two variables point to the same object in memory.\n",
    "It is good to know identity operators exist, but they can cause code bugs if we don't use them carefully. The moral of the lesson is, as a beginner, better use *comparison* operators and avoid using *identity* operators."
   ]
  },
  {
   "cell_type": "code",
   "execution_count": 78,
   "id": "34e7ad7f",
   "metadata": {},
   "outputs": [
    {
     "name": "stdout",
     "output_type": "stream",
     "text": [
      "x is y =  True\n",
      "x is not y =  False\n",
      "x is y =  False\n",
      "x is not y =  True\n",
      "x == y =  False\n",
      "x != y =  True\n"
     ]
    }
   ],
   "source": [
    "x = 5\n",
    "y = 5\n",
    "\n",
    "print(\"x is y = \", x is y)\n",
    "print(\"x is not y = \", x is not y)\n",
    "\n",
    "x = 5\n",
    "y = 5.0\n",
    "\n",
    "print(\"x is y = \", x is y)\n",
    "print(\"x is not y = \", x is not y)\n",
    "\n",
    "x = 5\n",
    "y = 2\n",
    "\n",
    "print(\"x == y = \", x == y)\n",
    "print(\"x != y = \", x != y)"
   ]
  },
  {
   "cell_type": "markdown",
   "id": "6f637170",
   "metadata": {},
   "source": [
    "#### Logical\n",
    "\n",
    "- `and`: Returns `True` if both statements are true (`x > 5 and x < 10`)\n",
    "- `or`: Returns `True` if one of the statements is true (`x < 5 or x > 10`)\n",
    "- `not`: Reverse the result. Returns `False` if the result is true (`not(x < 5 or x > 10)`)\n",
    "\n",
    "Some examples are:"
   ]
  },
  {
   "cell_type": "code",
   "execution_count": 11,
   "id": "a86799fd",
   "metadata": {},
   "outputs": [
    {
     "name": "stdout",
     "output_type": "stream",
     "text": [
      "    x > a and x < b  =  True\n",
      "    x < a or  x > b  =  False\n",
      "not(x < a or  x > b) =  True\n"
     ]
    }
   ],
   "source": [
    "a = 5\n",
    "x = 8\n",
    "b = 10\n",
    "\n",
    "print(\"    x > a and x < b  = \",     x > a and x < b)\n",
    "print(\"    x < a or  x > b  = \",     x < a or  x > b)\n",
    "print(\"not(x < a or  x > b) = \", not(x < a or  x > b))"
   ]
  },
  {
   "cell_type": "markdown",
   "id": "99b750d4",
   "metadata": {},
   "source": [
    "#### Exercise:\n",
    "1. Copy the code in the cell above into the cell below.\n",
    "2. Change the values of the variables.\n",
    "3. Print new results."
   ]
  },
  {
   "cell_type": "code",
   "execution_count": 1,
   "id": "f7da2f33",
   "metadata": {},
   "outputs": [
    {
     "name": "stdout",
     "output_type": "stream",
     "text": [
      "    x > a and x < b  =  True\n",
      "    x < a or  x > b  =  False\n",
      "not(x < a or  x > b) =  True\n"
     ]
    }
   ],
   "source": [
    "a = 1\n",
    "x = 2\n",
    "b = 3\n",
    "\n",
    "print(\"    x > a and x < b  = \",     x > a and x < b)\n",
    "print(\"    x < a or  x > b  = \",     x < a or  x > b)\n",
    "print(\"not(x < a or  x > b) = \", not(x < a or  x > b))"
   ]
  },
  {
   "cell_type": "markdown",
   "id": "51a296c1",
   "metadata": {},
   "source": [
    "#### Membership\n",
    "\n",
    "- `in`: Returns `True` if a sequence with the specified value is present in another object (`x in y`)\n",
    "- `not in`: Returns `True` if a sequence with the specified value is not present in another object (`x not in y`)\n",
    "\n",
    "Some examples are:"
   ]
  },
  {
   "cell_type": "code",
   "execution_count": 12,
   "id": "948a5dc8",
   "metadata": {},
   "outputs": [
    {
     "name": "stdout",
     "output_type": "stream",
     "text": [
      "True\n",
      "False\n"
     ]
    }
   ],
   "source": [
    "x = 5\n",
    "y = [-10, -5, 0, 5, 10]\n",
    "\n",
    "print(x in y)\n",
    "print(x not in y)"
   ]
  },
  {
   "cell_type": "markdown",
   "id": "51b24e4b",
   "metadata": {},
   "source": [
    "#### Exercise:\n",
    "1. Copy the code in the cell above into the cell below.\n",
    "2. Change the values of the variables.\n",
    "3. Print new results.\n",
    "\n",
    "- **Going further**: Add a cell below and repeat the operations with strings."
   ]
  },
  {
   "cell_type": "code",
   "execution_count": 2,
   "id": "54554f3b",
   "metadata": {},
   "outputs": [
    {
     "name": "stdout",
     "output_type": "stream",
     "text": [
      "False\n",
      "True\n"
     ]
    }
   ],
   "source": [
    "x = 2\n",
    "y = [-4, -2, 1, 3, 7]\n",
    "\n",
    "print(x in y)\n",
    "print(x not in y)"
   ]
  },
  {
   "cell_type": "markdown",
   "id": "7fa6deb4",
   "metadata": {},
   "source": [
    "This concludes the first milestone! Great job reaching this point. In the following notebook, you will learn about creating your own functions and flows. 😊"
   ]
  },
  {
   "cell_type": "code",
   "execution_count": null,
   "id": "4bd52924",
   "metadata": {},
   "outputs": [],
   "source": []
  }
 ],
 "metadata": {
  "kernelspec": {
   "display_name": "Python 3 (ipykernel)",
   "language": "python",
   "name": "python3"
  },
  "language_info": {
   "codemirror_mode": {
    "name": "ipython",
    "version": 3
   },
   "file_extension": ".py",
   "mimetype": "text/x-python",
   "name": "python",
   "nbconvert_exporter": "python",
   "pygments_lexer": "ipython3",
   "version": "3.10.9"
  }
 },
 "nbformat": 4,
 "nbformat_minor": 5
}
