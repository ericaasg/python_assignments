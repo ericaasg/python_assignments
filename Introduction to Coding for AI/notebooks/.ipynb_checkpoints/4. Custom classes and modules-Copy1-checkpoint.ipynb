{
 "cells": [
  {
   "cell_type": "markdown",
   "id": "e68492be",
   "metadata": {},
   "source": [
    "# Introduction to Coding for AI"
   ]
  },
  {
   "cell_type": "markdown",
   "id": "471f1b63",
   "metadata": {},
   "source": [
    "## 4. Custom classes and modules"
   ]
  },
  {
   "cell_type": "markdown",
   "id": "f5fc55a1",
   "metadata": {},
   "source": [
    "### 4.1. Classes\n",
    "\n",
    "Earlier we mentioned that Python is an object-oriented programming language.\n",
    "Meaning that almost everything in Python is an object, with its properties and methods.\n",
    "A **Class** is like a *blueprint* for creating objects of a certain kind, providing us the properties and methods.\n",
    "The **properties are the variables** inside the class, and the **methods are the functions** inside the class.\n",
    "The basic class structure that you will use in Machine Learning (ML) has the following components:"
   ]
  },
  {
   "cell_type": "code",
   "execution_count": 4,
   "id": "a5e7eb0e",
   "metadata": {},
   "outputs": [
    {
     "name": "stdout",
     "output_type": "stream",
     "text": [
      "Class initialized.\n",
      "John\n",
      "John\n",
      "New name set: Peter\n",
      "Peter\n"
     ]
    }
   ],
   "source": [
    "class Person():\n",
    "    \n",
    "    def __init__(self, name, age,):\n",
    "        self.name = name\n",
    "        self.age = age\n",
    "        print(\"Class initialized.\")\n",
    "    \n",
    "    def set_name(self, name):\n",
    "        self.name = name\n",
    "        self.print_new_name()\n",
    "\n",
    "    def get_name(self):\n",
    "        return self.name\n",
    "\n",
    "    def print_new_name(self):\n",
    "        print(f\"New name set: {self.name}\")\n",
    "\n",
    "# Create an instance of the class Person():\n",
    "person_instance = Person(\"John\", 30)\n",
    "\n",
    "# Print its property name:\n",
    "print(person_instance.name)\n",
    "print(person_instance.get_name())\n",
    "\n",
    "# Change its property name:\n",
    "person_instance.name = \"Peter\"\n",
    "person_instance.set_name(\"Peter\")\n",
    "\n",
    "# Print its property name:\n",
    "print(person_instance.name)"
   ]
  },
  {
   "cell_type": "code",
   "execution_count": 7,
   "id": "733c61a6",
   "metadata": {},
   "outputs": [
    {
     "name": "stdout",
     "output_type": "stream",
     "text": [
      "Car bmw is open\n"
     ]
    }
   ],
   "source": [
    "class Car():\n",
    "    def __init__(self,name):\n",
    "        self.name = name\n",
    "        \n",
    "    def open (self):\n",
    "        print(f\"Car {self.name} is open\")\n",
    "\n",
    "car_instance = Car(\"bmw\")\n",
    "\n",
    "car_instance.open()"
   ]
  },
  {
   "cell_type": "markdown",
   "id": "23456472",
   "metadata": {},
   "source": [
    "It may look a bit complicated but don’t worry, we’ll unpack it, bit by bit. Let’s start by looking at the three main components of a class code:\n",
    "\n",
    "**class Name()**\n",
    "\n",
    "- Similarly to functions, classes are defined with a keyword. In this case it's `class`.\n",
    "- Afterwards, you write the class name preferably using *CamelCase* notation. This means that, differently to functions, you capitalize the first letter of each word and you don't use underscores to separate words. For example, `Person` and `PersonData` are correct according to [Python style guide](https://peps.python.org/pep-0008). You can find out more about popular notation styles in this [article](https://betterprogramming.pub/string-case-styles-camel-pascal-snake-and-kebab-case-981407998841).\n",
    "- Finally, you add a pair of parentheses (`()`) and a colon (`:`) to end the line and begin a code block below.\n",
    "\n",
    "**\\_\\_init\\_\\_( )** to initialize your class\n",
    "\n",
    "- Functions inside classes are called methods. In this example, you see that a method named `__init__()` is being defined inside the class, and it stands for *initialize*.\n",
    "```\n",
    "    def __init__(self, name, age):\n",
    "        self.name = name\n",
    "        self.age = age\n",
    "        print(\"Class initialized.\")\n",
    "```\n",
    "- This function is executed every time an **instance** of the class is created (also known as *instantiated*) and it can take arguments if desired. Use this place to assign values to properties of the class, or to execute other operations that are necessary every time an instance is created.\n",
    "- Notice that, differently from functions, you don't indicate the arguments inside the parentheses next to the class name. Instead, indicate the arguments inside the parentheses of the `__init__()`. You pass these arguments when you create an instance of the class.\n",
    "\n",
    "**self**\n",
    "\n",
    "If you read the code at the beginning, you’ve seen that the word `self` appears in many places. What is it? `self` is a reference to the class instances you create and is used to access properties and methods inside the class. The important things to remember are:\n",
    "- When working inside of a class, always add `self`. before the name of properties. Do this when you **define properties** (like in `self.name = \"name\"`), and when you **call properties** (like in `return self.name`).\n",
    "- Always use `self` as the *first* argument when you **define methods** inside a class (like in `def set_name(self, name)`).\n",
    "- Never include `self` in the arguments when you **call methods** of a class (like in `self.print_new_name()`).\n",
    "- When interacting with an **instance** of a class, never use `self` to access its properties (like in `print(person_instance.name)`) or its methods (like in `print(person_instance.get_name())`). \n",
    "\n",
    "There is plenty of new information here. Let’s do some exercises to get the feeling of it. 🤓"
   ]
  },
  {
   "cell_type": "markdown",
   "id": "8b7df446",
   "metadata": {},
   "source": [
    "#### Exercise:\n",
    "\n",
    "In the cell below you’ll find a code to play with and modify for this exercise.\n",
    "\n",
    "1. Add methods to set the value (also called a *setter*) and to get the value (also called a *getter*) of `age`.\n",
    "2. Add a new property called `last_name` and also pass this value as an argument next time you instantiate the class.\n",
    "3. After you create an instance of the class, change the value of `last_name`.\n",
    "4. Print name and last_name together in one line.\n",
    "5. Run the cell to see the results.\n",
    "\n",
    "- **Going further**: Create a new method in the class called `is_the_same()`. This method should take as arguments *name*, *last_name* and *age*, and print \"Same person.\" if the all the values are the same as the corresponding properties of the class. Otherwise, the method should print \"Different person\"."
   ]
  },
  {
   "cell_type": "code",
   "execution_count": 2,
   "id": "cffa354a",
   "metadata": {},
   "outputs": [
    {
     "name": "stdout",
     "output_type": "stream",
     "text": [
      "Class initialized.\n",
      "John\n",
      "John\n",
      "New name set: Peter\n",
      "Peter\n"
     ]
    }
   ],
   "source": [
    "class Person():\n",
    "    \n",
    "    def __init__(self, name, age):\n",
    "        self.name = name\n",
    "        self.age = age\n",
    "        print(\"Class initialized.\")\n",
    "    \n",
    "    def set_name(self, name):\n",
    "        self.name = name\n",
    "        self.print_new_name()\n",
    "  \n",
    "    \n",
    "    def set_age(self, age):\n",
    "        self.age = age\n",
    "        self.print_new_age()\n",
    "        \n",
    "    def get_age(self):\n",
    "        return self.age\n",
    "\n",
    "\n",
    "    def get_name(self):\n",
    "        return self.name\n",
    "\n",
    "    def print_new_name(self):\n",
    "        print(f\"New name set: {self.name}\")\n",
    "\n",
    "# Create an instance of the class Person():\n",
    "person_instance = Person(\"John\", 30)\n",
    "\n",
    "# Print its property name:\n",
    "print(person_instance.name)\n",
    "print(person_instance.get_name())\n",
    "\n",
    "# Change its property name:\n",
    "person_instance.name = \"Peter\"\n",
    "person_instance.set_name(\"Peter\")\n",
    "\n",
    "# Print its property name:\n",
    "print(person_instance.name)"
   ]
  },
  {
   "cell_type": "code",
   "execution_count": 11,
   "id": "3db18858",
   "metadata": {},
   "outputs": [
    {
     "name": "stdout",
     "output_type": "stream",
     "text": [
      "Class initialized.\n",
      "Ben 3\n",
      "Ben 20\n"
     ]
    }
   ],
   "source": [
    "class Person():\n",
    "    \n",
    "    def __init__(self, name, age):\n",
    "        self.name = name\n",
    "        self.age = age\n",
    "        print(\"Class initialized.\")\n",
    "    \n",
    "    def set_name(self, name):\n",
    "        self.name = name\n",
    "        self.print_new_name()\n",
    "  \n",
    "    \n",
    "    def set_age(self, age):\n",
    "        self.age = age\n",
    "        \n",
    "    def get_age(self):\n",
    "        return self.age\n",
    "\n",
    "\n",
    "    def get_name(self):\n",
    "        return self.name\n",
    "\n",
    "    def print_new_name(self):\n",
    "        print(f\"New name set: {self.name}\")\n",
    "        \n",
    "        \n",
    "person = Person(\"Ben\",3)\n",
    "print(person.get_name(), person.get_age())\n",
    "\n",
    "person.set_age (20)\n",
    "print(person.get_name(), person.get_age())"
   ]
  },
  {
   "cell_type": "markdown",
   "id": "55fb236e",
   "metadata": {},
   "source": [
    "### 4.2. Custom modules"
   ]
  },
  {
   "cell_type": "markdown",
   "id": "d651edc7",
   "metadata": {},
   "source": [
    "Now it’s time for some magic. Ready? First, think of how the code below differs from the previous ones. Now, run the cell below. "
   ]
  },
  {
   "cell_type": "code",
   "execution_count": 3,
   "id": "248dd823",
   "metadata": {},
   "outputs": [
    {
     "name": "stdout",
     "output_type": "stream",
     "text": [
      "Class initialized.\n",
      "John\n",
      "John\n",
      "New name set: Peter\n",
      "Peter\n"
     ]
    }
   ],
   "source": [
    "from library import Person\n",
    "\n",
    "# Create an instance of the class Person():\n",
    "person_instance = Person(\"John\", 30)\n",
    "\n",
    "# Print its property name:\n",
    "print(person_instance.name)\n",
    "print(person_instance.get_name())\n",
    "\n",
    "# Change its property name:\n",
    "person_instance.name = \"Peter\"\n",
    "person_instance.set_name(\"Peter\")\n",
    "\n",
    "# Print its property name:\n",
    "print(person_instance.name)"
   ]
  },
  {
   "cell_type": "markdown",
   "id": "3f74ad0d",
   "metadata": {},
   "source": [
    "Ta daaa! You were able to create an instance of the class that you just wrote without having to add all the code again. How can this be? The reason is that in the same directory where this Jupyter Notebook is located, there is also a file called `library.py` and inside this file, there is the code of the class `Person()` you created.\n",
    "\n",
    "The file `library.py` is a **library**, and the class `Person()` inside this file is a **module**. This explains the syntax `from library import Person`, as you are telling Python to import the module called `Person` from the library called `library`.\n",
    "\n",
    "You can see what is inside `library.py` with the code below:"
   ]
  },
  {
   "cell_type": "code",
   "execution_count": 1,
   "id": "42f7698b",
   "metadata": {},
   "outputs": [
    {
     "name": "stdout",
     "output_type": "stream",
     "text": [
      "class Person():\n",
      "    \n",
      "    def __init__(self, name, age):\n",
      "        self.name = name\n",
      "        self.age = age\n",
      "        print(\"Class initialized.\")\n",
      "    \n",
      "    def set_name(self, name):\n",
      "        self.name = name\n",
      "        self.print_new_name()\n",
      "    \n",
      "    def get_name(self):\n",
      "        return self.name\n",
      "\n",
      "    def print_new_name(self):\n",
      "        print(f\"New name set: {self.name}\")\n",
      "\n",
      "def multiply_function(number, multiplier=2):\n",
      "    result = number * multiplier\n",
      "    return result, multiplier\n",
      "\n",
      "numeric_variable = 123\n",
      "\n",
      "text_variable = \"456\"\n",
      "\n"
     ]
    }
   ],
   "source": [
    "with open(\"library.py\") as file:\n",
    "    print(file.read())\n"
   ]
  },
  {
   "cell_type": "markdown",
   "id": "6b371018",
   "metadata": {},
   "source": [
    "As you can see, *libraries* can contain modules, functions, and values, and the syntax for importing them is the same. Take a look at the code below:"
   ]
  },
  {
   "cell_type": "code",
   "execution_count": 2,
   "id": "bd9b7bec",
   "metadata": {},
   "outputs": [
    {
     "name": "stdout",
     "output_type": "stream",
     "text": [
      "(12, 4)\n",
      "123\n",
      "456\n"
     ]
    }
   ],
   "source": [
    "from library import multiply_function, numeric_variable, text_variable\n",
    "\n",
    "print(multiply_function(3, 4))\n",
    "print(numeric_variable)\n",
    "print(text_variable)"
   ]
  },
  {
   "cell_type": "markdown",
   "id": "f6af1877",
   "metadata": {},
   "source": [
    "Now that you know what a class is, how to create one, and that they end up in a library, have a go at the exercise below. 🤓"
   ]
  },
  {
   "cell_type": "markdown",
   "id": "17c15e45",
   "metadata": {},
   "source": [
    "#### Exercise:\n",
    "1. Create a copy of `library.py` and name it `person.py`.\n",
    "2. Replace the class Person() in person.py with the augmented version that you wrote in the previous exercise.\n",
    "3. Go back to the previous exercise,  copy the solution code and paste it into the cell below.\n",
    "4. Delete the code defining the class, but keep all the operations below it.\n",
    "5. Import the module Person from person.py\n",
    "3. Run the cell to see the results.\n",
    "\n",
    "Congratulations! You have created your first software library!"
   ]
  },
  {
   "cell_type": "code",
   "execution_count": 2,
   "id": "41937ffc",
   "metadata": {},
   "outputs": [
    {
     "name": "stdout",
     "output_type": "stream",
     "text": [
      "(12, 4)\n",
      "123\n",
      "456\n"
     ]
    }
   ],
   "source": [
    "from person import multiply_function, numeric_variable, text_variable\n",
    "\n",
    "print(multiply_function(3, 4))\n",
    "print(numeric_variable)\n",
    "print(text_variable)"
   ]
  },
  {
   "cell_type": "code",
   "execution_count": null,
   "id": "a44ce91c",
   "metadata": {},
   "outputs": [],
   "source": []
  }
 ],
 "metadata": {
  "kernelspec": {
   "display_name": "Python 3 (ipykernel)",
   "language": "python",
   "name": "python3"
  },
  "language_info": {
   "codemirror_mode": {
    "name": "ipython",
    "version": 3
   },
   "file_extension": ".py",
   "mimetype": "text/x-python",
   "name": "python",
   "nbconvert_exporter": "python",
   "pygments_lexer": "ipython3",
   "version": "3.10.9"
  }
 },
 "nbformat": 4,
 "nbformat_minor": 5
}
