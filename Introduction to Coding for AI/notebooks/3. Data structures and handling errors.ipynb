{
 "cells": [
  {
   "cell_type": "markdown",
   "id": "e68492be",
   "metadata": {},
   "source": [
    "# Introduction to Coding for AI"
   ]
  },
  {
   "cell_type": "markdown",
   "id": "471f1b63",
   "metadata": {},
   "source": [
    "## 3. Data Structures and Handling Errors"
   ]
  },
  {
   "cell_type": "markdown",
   "id": "e830c3ef",
   "metadata": {},
   "source": [
    "### 3.1. Methods for data types\n",
    "\n",
    "You may remember that in Notebook 1, we’ve already seen the basic data types string (`str`) for text, integer (`int`) and float (`float`) for numbers, and boolean (`bool`) for logical values. Strings are a particularly flexible data type that can be converted into other types, so the next step is to learn in more detail the **methods** that we can use with them. If you need a refresher, you can find an introduction to methods in our first notebook. "
   ]
  },
  {
   "cell_type": "markdown",
   "id": "53d0220c",
   "metadata": {},
   "source": [
    "#### Strings\n",
    "\n",
    "Let’s retake our first data type: strings. There are many operations that you can do with them, so we’ll start by introducing some of the most common methods. First, we’ll check out methods that don’t require arguments, then those that do, and finally methods that involve lists. Let’s go!  \n",
    "\n",
    "#### String methods that don’t require arguments \n",
    "\n",
    "We’ll start by looking at the string methods that need arguments, meaning no extra information is needed except the variable itself. These methods are:\n",
    "\n",
    "- `.lower()`: Converts a string into lower case.\n",
    "- `.upper()`: Converts a string into upper case.\n",
    "- `.title()`: Converts the first character of each word to upper case.\n",
    "- `.strip()`: Trimms white spaces at both ends of a string.\n",
    "\n",
    "Below is an example that will show you how each of these methods work:"
   ]
  },
  {
   "cell_type": "code",
   "execution_count": 1,
   "id": "a04ad8ff",
   "metadata": {},
   "outputs": [
    {
     "name": "stdout",
     "output_type": "stream",
     "text": [
      "string_variable:            Apples and oranges   \n",
      "string_variable.lower():    apples and oranges   \n",
      "string_variable.upper():    APPLES AND ORANGES   \n",
      "string_variable.strip(): Apples and oranges\n",
      "string_variable.strip().upper(): APPLES AND ORANGES\n"
     ]
    }
   ],
   "source": [
    "string_variable = \"   Apples and oranges   \"\n",
    "\n",
    "print(f\"string_variable:         {string_variable}\")\n",
    "print(f\"string_variable.lower(): {string_variable.lower()}\")\n",
    "print(f\"string_variable.upper(): {string_variable.upper()}\")\n",
    "print(f\"string_variable.strip(): {string_variable.strip()}\")\n",
    "\n",
    "print(f\"string_variable.strip().upper(): {string_variable.strip().upper()}\")"
   ]
  },
  {
   "cell_type": "markdown",
   "id": "efe99b1f",
   "metadata": {},
   "source": [
    "Tip: you can chain methods like this: `string_variable.strip().upper()`, just as we did for the last code line in the example above. 😉\n",
    "\n",
    "Quite straightforward, isn’t it? Now, have a go at it yourself in the exercise below."
   ]
  },
  {
   "cell_type": "markdown",
   "id": "9ebd544d",
   "metadata": {},
   "source": [
    "#### Exercise:\n",
    "1. Copy the code of the cell above into the cell below.\n",
    "2. Similarly to the way we are testing the method `.upper()`, add a line to test the method `.title()`.\n",
    "3. Run the cell to print the results."
   ]
  },
  {
   "cell_type": "code",
   "execution_count": null,
   "id": "e1efaa5e",
   "metadata": {},
   "outputs": [],
   "source": []
  },
  {
   "cell_type": "markdown",
   "id": "d5e57295",
   "metadata": {},
   "source": [
    "#### String methods that require arguments\n",
    "\n",
    "Now let’s take a look at string methods that require arguments, meaning external information is needed:\n",
    "\n",
    "- `.count()`: Returns the number of times a specified value occurs in a string.\n",
    "- `.index()`: Searches the string for a specified value and returns the index of the **first** position where it was found.\n",
    "- `.replace()`: Returns a string where a specified value is replaced with a specified value.\n",
    "- `.zfill()`: Fills the string with zeroes on the left to reach the specified total length. This is useful to standardize file names. For example, sometimes it helps to rename a list of files from (`image_9.png`, `image_10.png`, ..., `image_123.png`), to (`image_009.png`, `image_010.png`, ..., `image_123.png`).\n",
    "\n",
    "Remember that Python is case-sensitive, so all methods treat differently `a` and `A`.\n",
    "That’s what we’ll be checking out in the example below: "
   ]
  },
  {
   "cell_type": "code",
   "execution_count": 2,
   "id": "08492fd6",
   "metadata": {},
   "outputs": [
    {
     "name": "stdout",
     "output_type": "stream",
     "text": [
      "\n",
      " characters_string: \n",
      " Apples and oranges\n",
      "\n",
      " characters_string.count('a'): \n",
      " 2\n",
      "\n",
      " characters_string.index('a'): \n",
      " 7\n",
      "\n",
      " characters_string.replace('a', 'A'): \n",
      " Apples And orAnges\n",
      "\n",
      " numbers_string: \n",
      " 123\n",
      "\n",
      " numbers_string.zfill(5): \n",
      " 00123\n"
     ]
    }
   ],
   "source": [
    "characters_string = \"Apples and oranges\"\n",
    "\n",
    "print(f\"\\n characters_string: \\n {characters_string}\")\n",
    "print(f\"\\n characters_string.count('a'): \\n {characters_string.count('a')}\")\n",
    "print(f\"\\n characters_string.index('a'): \\n {characters_string.index('a')}\")\n",
    "print(f\"\\n characters_string.replace('a', 'A'): \\n {characters_string.replace('a', 'A')}\")\n",
    "\n",
    "numbers_string = \"123\"\n",
    "\n",
    "print(f\"\\n numbers_string: \\n {numbers_string}\")\n",
    "print(f'\\n numbers_string.zfill(5): \\n {numbers_string.zfill(5)}')"
   ]
  },
  {
   "cell_type": "markdown",
   "id": "33cb1675",
   "metadata": {},
   "source": [
    "#### Exercise:\n",
    "1. Copy the code of the cell above into the cell below.\n",
    "2. Replace the variable `characters_string` with a sentence that includes multiple times the name of a number. For example `five`.\n",
    "3. Replace the parameter `a` with the number name that appears multiple times in your sentence.\n",
    "4. Replace the parameter 'A' with the number version of the number name that you use in point 2. For example `5`.\n",
    "2. Replace `numbers_string` with three letters and use  `.zfill()` to add three zeros on their left.\n",
    "3. Run the cell to print the results."
   ]
  },
  {
   "cell_type": "code",
   "execution_count": null,
   "id": "6be7386b",
   "metadata": {},
   "outputs": [],
   "source": []
  },
  {
   "cell_type": "markdown",
   "id": "e49615cc",
   "metadata": {},
   "source": [
    "#### String methods that involve *lists*\n",
    "\n",
    "Lastly, there are a couple of methods for strings that either produce a list of strings or require a list of strings as input. These are\n",
    "\n",
    "- `.split()`: Splits the string at the specified separator, and returns a list. The default separator is a white space.\n",
    "- `.join()`: Uses the string object to join the elements of the iterable used as input.\n",
    "\n",
    "Let's see an example of eahc method."
   ]
  },
  {
   "cell_type": "code",
   "execution_count": 3,
   "id": "939e4847",
   "metadata": {},
   "outputs": [
    {
     "name": "stdout",
     "output_type": "stream",
     "text": [
      "\n",
      "\"A basket with mangos\".split(): \n",
      "['A', 'basket', 'with', 'mangos']\n",
      "\n",
      "\" \".join([\"A\", \"basket\", \"with\", \"mangos\"]): \n",
      "A basket with mangos\n"
     ]
    }
   ],
   "source": [
    "print(f'\\n\"A basket with mangos\".split(): \\n{\"A basket with mangos\".split(\" \")}')\n",
    "print(f'\\n\" \".join([\"A\", \"basket\", \"with\", \"mangos\"]): \\n{\" \".join([\"A\", \"basket\", \"with\", \"mangos\"])}')"
   ]
  },
  {
   "cell_type": "markdown",
   "id": "15c0b2fd",
   "metadata": {},
   "source": [
    "#### Exercise:\n",
    "1. Copy the code of the cell above into the cell below.\n",
    "2. Replace `\"A basket with mangos\"` with a comma-separated list of fruits and split it on the commas instead of the spaces.\n",
    "3. Join again the new list of fruits, but with underscores (`_`) between each word.\n",
    "4. Run the cell to print the results."
   ]
  },
  {
   "cell_type": "code",
   "execution_count": null,
   "id": "f1f50b20",
   "metadata": {},
   "outputs": [],
   "source": []
  },
  {
   "cell_type": "markdown",
   "id": "53f7cae6",
   "metadata": {},
   "source": [
    "#### Escape characters\n",
    "\n",
    "Also you can see we have introduced a new funny-looking command: `\\n`.\n",
    "Commands that start with a backslash `\\` are called **escape characters**, and this one, in particular, is called *new line*. In text documents, `\\n` indicates the computer that it should break a text line right there, and start a new line below. Here are other common escape characters:\n",
    "\n",
    "- `\\'` and `\\\"`: Single and double quotes. This is helpful when you need to add quotes inside quotes. For example, to print the text *Let's write \"quotes\"!* you can use the following string to avoid confusing Python: `print(\"Let's write \\\"quotes\\\"!\")`.\n",
    "- `\\\\`: Backslash. Useful when you actually want to print a backslash.\n",
    "- `\\n`: New line. Creates a new line in the text.\n",
    "- `\\t`: Tab. Aligns text with tab space that has the same length as eight spaces. It can help to make your prints prettier when multiple lines have different lengths, like tables."
   ]
  },
  {
   "cell_type": "code",
   "execution_count": 4,
   "id": "5b754be7",
   "metadata": {},
   "outputs": [
    {
     "name": "stdout",
     "output_type": "stream",
     "text": [
      "No tab.\n",
      "1\t Tab with 1 leading character.\n",
      "123\t Tab with 3 leading characters.\n",
      "12345\t Tab with 5 leading characters.\n",
      "1234567\t Tab with 7 leading characters.\n",
      "12345678\t Tab with 8 leading characters.\n",
      "\n",
      "Pretty table:\n",
      "| 1\t| 12\t| 123\t|\n",
      "| 12\t| 123\t| 1234\t|\n",
      "| 123\t| 1234\t| 12345\t|\n"
     ]
    }
   ],
   "source": [
    "print(\"No tab.\")\n",
    "print(\"1\\t Tab with 1 leading character.\")\n",
    "print(\"123\\t Tab with 3 leading characters.\")\n",
    "print(\"12345\\t Tab with 5 leading characters.\")\n",
    "print(\"1234567\\t Tab with 7 leading characters.\")\n",
    "print(\"12345678\\t Tab with 8 leading characters.\")\n",
    "\n",
    "print(\"\\nPretty table:\")\n",
    "print(\"| 1\\t| 12\\t| 123\\t|\")\n",
    "print(\"| 12\\t| 123\\t| 1234\\t|\")\n",
    "print(\"| 123\\t| 1234\\t| 12345\\t|\")"
   ]
  },
  {
   "cell_type": "markdown",
   "id": "750645d6",
   "metadata": {},
   "source": [
    "#### Built-in functions for multiple data types\n",
    "\n",
    "#### len()\n",
    "\n",
    "Another built-in method that you will be using often is `len()`, as frequently you'll want to know how long is a string of how many elements you have in a list.\n",
    "It simply returns the length of the **iterable** object that you pass as an argument, so it works with strings, but also with lists, tuples, and other objects that you will see later on."
   ]
  },
  {
   "cell_type": "code",
   "execution_count": 5,
   "id": "407536ca",
   "metadata": {},
   "outputs": [
    {
     "name": "stdout",
     "output_type": "stream",
     "text": [
      "\n",
      " Length of: \n",
      " ['Apples', 'and', 'oranges'] \n",
      " is: 3\n",
      "\n",
      " Length of: \n",
      " Apples and oranges \n",
      " is: 18\n"
     ]
    }
   ],
   "source": [
    "list_variable = [\"Apples\", \"and\", \"oranges\"]\n",
    "print(f\"\\n Length of: \\n {list_variable} \\n is: {len(list_variable)}\")\n",
    "\n",
    "string_variable = \"Apples and oranges\"\n",
    "print(f\"\\n Length of: \\n {string_variable} \\n is: {len(string_variable)}\")"
   ]
  },
  {
   "cell_type": "markdown",
   "id": "84f18004",
   "metadata": {},
   "source": [
    "#### Casting\n",
    "\n",
    "Data is not just numbers. Data can be words, dates, or even numbers that are stored as text or strings. \n",
    "Can you see the issue here? You can't make arithmetic operations with text! But no worries, with Python you can solve the problem by **casting** each value into a number. \n",
    "\n",
    "Let's see how in the example below:"
   ]
  },
  {
   "cell_type": "code",
   "execution_count": 6,
   "id": "7ac76c56",
   "metadata": {},
   "outputs": [
    {
     "name": "stdout",
     "output_type": "stream",
     "text": [
      "Value: -5, Type: <class 'int'>\n",
      "Value: 3.14, Type: <class 'float'>\n",
      "Value: True, Type: <class 'bool'>\n"
     ]
    }
   ],
   "source": [
    "integer_variable = int(\"-5\")\n",
    "float_variable = float(\"3.14\")\n",
    "boolean_variable = bool(\"True\")\n",
    "\n",
    "print(f\"Value: {integer_variable}, Type: {type(integer_variable)}\")\n",
    "print(f\"Value: {float_variable}, Type: {type(float_variable)}\")\n",
    "print(f\"Value: {boolean_variable}, Type: {type(boolean_variable)}\")"
   ]
  },
  {
   "cell_type": "markdown",
   "id": "4e252f77",
   "metadata": {},
   "source": [
    "Actually, you can perform two arithmetic operations with strings, but they behave differently than numbers.\n",
    "You can add, or concatenate, **two strings** with a `+`, meaning that Python places one after the other,\n",
    "and you can multiply **a string** and **an integer** with a `*`, meaning that `\"A\" * 3` returns `AAA`."
   ]
  },
  {
   "cell_type": "code",
   "execution_count": 7,
   "id": "a96ba725",
   "metadata": {},
   "outputs": [
    {
     "name": "stdout",
     "output_type": "stream",
     "text": [
      "12\n"
     ]
    }
   ],
   "source": [
    "number_1 = \"1\"\n",
    "number_2 = \"2\"\n",
    "\n",
    "print(number_1 + number_2)"
   ]
  },
  {
   "cell_type": "markdown",
   "id": "ddd08df8",
   "metadata": {},
   "source": [
    "So, to treat our variables as numbers we have to cast them as follows:"
   ]
  },
  {
   "cell_type": "code",
   "execution_count": 8,
   "id": "5c10cfee",
   "metadata": {},
   "outputs": [
    {
     "name": "stdout",
     "output_type": "stream",
     "text": [
      "3\n",
      "0.5\n",
      "3.0\n",
      "0.5\n"
     ]
    }
   ],
   "source": [
    "number_1 = int(\"1\")\n",
    "number_2 = int(\"2\")\n",
    "\n",
    "print(number_1 + number_2)\n",
    "print(number_1 / number_2)\n",
    "\n",
    "number_1 = float(\"1\")\n",
    "number_2 = float(\"2\")\n",
    "\n",
    "print(number_1 + number_2)\n",
    "print(number_1 / number_2)"
   ]
  },
  {
   "cell_type": "markdown",
   "id": "5284e27b",
   "metadata": {},
   "source": [
    "Notice that when you perform addition, substraction or multiplicaiton with integers, the result is an integer, but when you perform division, the result is automatically converted to a float. Otherwise, `1 / 2` would return `0` instead of `0.5`, because integers only take the integer part of numbers. Convenient, isn’t it?"
   ]
  },
  {
   "cell_type": "markdown",
   "id": "fbcbd471",
   "metadata": {},
   "source": [
    "#### Exercise:\n",
    "\n",
    "1. Copy the code of the cell above into the cell below.\n",
    "2. Cast the result of the four arithmetic operations into integers.\n",
    "3. Run the cell to print and compare the results with the cell above."
   ]
  },
  {
   "cell_type": "code",
   "execution_count": null,
   "id": "a460fa8e",
   "metadata": {},
   "outputs": [],
   "source": []
  },
  {
   "cell_type": "markdown",
   "id": "bef207a6",
   "metadata": {},
   "source": [
    "#### Numbers\n",
    "\n",
    "Being able to easily manipulate numbers is very useful, especially with larger datasets. Python comes with a bunch of handy built-in functions for handling numbers. Let’s see them in more detail:\n",
    "\n",
    "- `max()`: Returns the largest number in an iterator.\n",
    "- `min()`: Returns the smallest number in an iterator.\n",
    "- `sum()`: Sums all the numbers in an iterator.\n",
    "- `abs()`: Returns the absolute value of a single number (meaning that it ignores negative signs, so `abs(-3.14)` returns `3.14`).\n",
    "- `round(number, n_digits=None)`: Rounds a single number. It's worth noting that you can input two paameters to this funciton, `number` and `n_digits`. The value of `number` is rounded to the closest multiple of 10 to the power minus `n_digits`. Additionaly, if two multiples are equally close to `number`, the rounding is done toward the even choice. So, for example, as `n_digits`is `None` by default, `round(1.5)` rounds up and returns `2`, and `round(2.5)` rounds down and returns `2` as well!\n",
    "\n",
    "Take a look at the examples."
   ]
  },
  {
   "cell_type": "code",
   "execution_count": 9,
   "id": "2d7a6326",
   "metadata": {},
   "outputs": [
    {
     "name": "stdout",
     "output_type": "stream",
     "text": [
      "data = [-10, -5.5, 0, 5.5, 10]\n",
      "\n",
      "max(   data    ) returns: 10\n",
      "min(   data    ) returns: -10\n",
      "sum(   data    ) returns: 0.0\n",
      "abs(   data[1] ) returns: 5.5\n",
      "round( data[1] ) returns: -6\n"
     ]
    }
   ],
   "source": [
    "data = [-10, -5.5, 0, 5.5, 10]\n",
    "print(f\"data = {data}\\n\")\n",
    "\n",
    "print(f\"max(   data    ) returns: {max(data)}\")\n",
    "print(f\"min(   data    ) returns: {min(data)}\")\n",
    "print(f\"sum(   data    ) returns: {sum(data)}\")\n",
    "print(f\"abs(   data[1] ) returns: {abs(data[1])}\")\n",
    "print(f\"round( data[1] ) returns: {round(data[1])}\")"
   ]
  },
  {
   "cell_type": "markdown",
   "id": "8d248f69",
   "metadata": {},
   "source": [
    "#### Exercise:\n",
    "1. Copy the code of the cell above into the cell below.\n",
    "2. Replace the list of numbers with a list of ten negative floats.\n",
    "3. In the methods `abs()` and `round()` we are passing the second element of the list `data`. Replace this input with the last element in the list `data`.\n",
    "4. Run the cell to print the results."
   ]
  },
  {
   "cell_type": "code",
   "execution_count": null,
   "id": "f470bada",
   "metadata": {},
   "outputs": [],
   "source": []
  },
  {
   "cell_type": "markdown",
   "id": "8d3e18bc",
   "metadata": {},
   "source": [
    "### 3.2. Methods for data structures\n",
    "\n",
    "The next topics that we’ll revisit in more detail are sequences and mappings; particularly lists and dictionaries.\n",
    "\n",
    "\n",
    "#### Lists\n",
    "\n",
    "We have seen that lists are sequences of strings, numbers, or a mixture of various data types.\n",
    "Now you will learn how to manipulate them.\n",
    "These are some of the methods that you will be using more often with lists.\n",
    "\n",
    "#### List methods that return a value\n",
    "\n",
    "- `.index()`: Returns the index of the **first** element with the specified value.\n",
    "- `.count()`: Returns the number of elements with the specified value.\n",
    "\n",
    "Here are a couple of examples:"
   ]
  },
  {
   "cell_type": "code",
   "execution_count": 10,
   "id": "2547a7ec",
   "metadata": {},
   "outputs": [
    {
     "name": "stdout",
     "output_type": "stream",
     "text": [
      "cities_to_visit = ['Berlin', 'Madrid', 'Paris', 'Rome', 'Berlin']\n",
      "\n",
      "cities_to_visit.index('Berlin') returns: 0\n",
      "cities_to_visit.count('Berlin') returns: 2\n"
     ]
    }
   ],
   "source": [
    "cities_to_visit = [\"Berlin\", \"Madrid\", \"Paris\", \"Rome\", \"Berlin\"]\n",
    "print(f\"cities_to_visit = {cities_to_visit}\\n\")\n",
    "\n",
    "print(f\"cities_to_visit.index('Berlin') returns: {cities_to_visit.index('Berlin')}\")\n",
    "print(f\"cities_to_visit.count('Berlin') returns: {cities_to_visit.count('Berlin')}\")"
   ]
  },
  {
   "cell_type": "markdown",
   "id": "439e8375",
   "metadata": {},
   "source": [
    "#### List methods that work **in-place**\n",
    "(we'll explain in a moment)\n",
    "\n",
    "- `.sort()`: Sorts the list.\n",
    "- `.reverse()`: Reverses the order of the list.\n",
    "- `.insert()`: Adds an element at the specified position.\n",
    "- `.remove()`: Removes an element at the specified position.\n",
    "- `.extend()`: Add the elements of a list (or any iterable), to the end of the current list.\n",
    "- `.append()`: Adds an element at the end of the list.\n",
    "\n",
    "Methods that work *in-place* return `None` so, if you pass them as an argument to a `print()` funtion, you will always print `None`. If you want to visualize their results, execute them in a line and print the variable in the following line. Some examples:"
   ]
  },
  {
   "cell_type": "code",
   "execution_count": 11,
   "id": "6a924f5a",
   "metadata": {},
   "outputs": [
    {
     "name": "stdout",
     "output_type": "stream",
     "text": [
      "cities_to_visit = ['Berlin', 'Madrid', 'Paris', 'Berlin']\n",
      "\n",
      "cities_to_visit.sort()              returns: ['Berlin', 'Berlin', 'Madrid', 'Paris']\n",
      "cities_to_visit.reverse()           returns: ['Paris', 'Madrid', 'Berlin', 'Berlin']\n",
      "cities_to_visit.insert(1, 'Athene') returns: ['Paris', 'Athene', 'Madrid', 'Berlin', 'Berlin']\n",
      "cities_to_visit.remove('Berlin')    returns: ['Paris', 'Athene', 'Madrid', 'Berlin']\n",
      "cities_to_visit.extend(['Rome'])    returns: ['Paris', 'Athene', 'Madrid', 'Berlin', 'Rome']\n",
      "cities_to_visit.append(['Rome'])    returns: ['Paris', 'Athene', 'Madrid', 'Berlin', 'Rome', ['Rome']]\n"
     ]
    }
   ],
   "source": [
    "cities_to_visit = [\"Berlin\", \"Madrid\", \"Paris\", \"Berlin\"]\n",
    "print(f\"cities_to_visit = {cities_to_visit}\\n\")\n",
    "\n",
    "cities_to_visit.sort()\n",
    "print(f\"cities_to_visit.sort()              returns: {cities_to_visit}\")\n",
    "\n",
    "cities_to_visit.reverse()\n",
    "print(f\"cities_to_visit.reverse()           returns: {cities_to_visit}\")\n",
    "\n",
    "cities_to_visit.insert(1, 'Athene')\n",
    "print(f\"cities_to_visit.insert(1, 'Athene') returns: {cities_to_visit}\")\n",
    "\n",
    "cities_to_visit.remove('Berlin')\n",
    "print(f\"cities_to_visit.remove('Berlin')    returns: {cities_to_visit}\")\n",
    "\n",
    "cities_to_visit.extend(['Rome'])\n",
    "print(f\"cities_to_visit.extend(['Rome'])    returns: {cities_to_visit}\")\n",
    "\n",
    "cities_to_visit.append(['Rome'])\n",
    "print(f\"cities_to_visit.append(['Rome'])    returns: {cities_to_visit}\")"
   ]
  },
  {
   "cell_type": "markdown",
   "id": "8258406f",
   "metadata": {},
   "source": [
    "Notice that `data.extend(['d'])` merges both lists, and `data.append(['d'])` concatenates them, so you have a list with another list inside.\n",
    "If you pass a string instead of a list as the argument, then the effect is the same:\n",
    "`data.extend(['d'])` and `data.append('d')` produce the same result."
   ]
  },
  {
   "cell_type": "markdown",
   "id": "3d823d95",
   "metadata": {},
   "source": [
    "#### Exercise:\n",
    "1. Copy the code of the cell above into the cell below.\n",
    "2. Replace the list of cities with the names of famous artists.\n",
    "3. Adapt the code so that all methods run without producing errors.\n",
    "4. Run the cell to print the results."
   ]
  },
  {
   "cell_type": "code",
   "execution_count": null,
   "id": "cf6e599d",
   "metadata": {},
   "outputs": [],
   "source": []
  },
  {
   "cell_type": "markdown",
   "id": "03ed2dc7",
   "metadata": {},
   "source": [
    "#### Indexing\n",
    "\n",
    "Elements inside lists are ordered, so when you want to retrieve the value of an element, you use its index.\n",
    "The index is an **integer** passed to the variable as an argument, like with functions, but instead of using parentheses, we use a pair of brackets `[]`.\n",
    "Remember that Python has **zero-based** indexing, so `data[0]` returns the first element of data.\n",
    "If you use negative integers, you start counting from the end to the beginning, so `data[-1]` returns the last element."
   ]
  },
  {
   "cell_type": "code",
   "execution_count": 12,
   "id": "46b23e5e",
   "metadata": {},
   "outputs": [
    {
     "name": "stdout",
     "output_type": "stream",
     "text": [
      "cities_to_visit = ['Madrid', 'Paris', 'Berlin', 'Rome', 'Athene']\n",
      "\n",
      "cities_to_visit[0]  gives us the FIRST       element: Madrid\n",
      "cities_to_visit[1]  gives us the SECOND      element: Paris\n",
      "cities_to_visit[-2] gives us the SECOND LAST element: Rome\n",
      "cities_to_visit[-1] gives us the LAST        element: Athene\n"
     ]
    }
   ],
   "source": [
    "cities_to_visit = [\"Madrid\", \"Paris\", \"Berlin\", \"Rome\", \"Athene\"]\n",
    "print(f\"cities_to_visit = {cities_to_visit}\\n\")\n",
    "\n",
    "print(f\"cities_to_visit[0]  gives us the FIRST       element: {cities_to_visit[0]}\")\n",
    "print(f\"cities_to_visit[1]  gives us the SECOND      element: {cities_to_visit[1]}\")\n",
    "print(f\"cities_to_visit[-2] gives us the SECOND LAST element: {cities_to_visit[-2]}\")\n",
    "print(f\"cities_to_visit[-1] gives us the LAST        element: {cities_to_visit[-1]}\")"
   ]
  },
  {
   "cell_type": "markdown",
   "id": "0366508f",
   "metadata": {},
   "source": [
    "You can also use indexing to modify the value of an element:"
   ]
  },
  {
   "cell_type": "code",
   "execution_count": 13,
   "id": "29bd53e2",
   "metadata": {},
   "outputs": [
    {
     "name": "stdout",
     "output_type": "stream",
     "text": [
      "['Madrid', 'Paris', 'Berlin', 'Rome', 'Athene']\n",
      "['Madrid', 'Paris', 'Lisbon', 'Rome', 'Athene']\n"
     ]
    }
   ],
   "source": [
    "cities_to_visit = [\"Madrid\", \"Paris\", \"Berlin\", \"Rome\", \"Athene\"]\n",
    "print(cities_to_visit)\n",
    "\n",
    "cities_to_visit[2] = \"Lisbon\"\n",
    "print(cities_to_visit)"
   ]
  },
  {
   "cell_type": "markdown",
   "id": "51c1c403",
   "metadata": {},
   "source": [
    "#### Slicing\n",
    "\n",
    "With slicing, instead of indicating a single value with an index, you indicate a range of values with a `start` and an `end` **integer** separated by a **colon** (`:`), such as `data[start:end]`.\n",
    "The returned elements go from `start` up to, **but not including**, `end`.\n",
    "See the examples below:"
   ]
  },
  {
   "cell_type": "code",
   "execution_count": 14,
   "id": "77422a16",
   "metadata": {},
   "outputs": [
    {
     "name": "stdout",
     "output_type": "stream",
     "text": [
      "cities_to_visit = ['Madrid', 'Paris', 'Berlin', 'Rome', 'Athene']\n",
      "\n",
      "cities_to_visit[0:2]   returns: ['Madrid', 'Paris']\n",
      "cities_to_visit[:2]    returns: ['Madrid', 'Paris']\n",
      "cities_to_visit[1:3]   returns: ['Paris', 'Berlin']\n",
      "cities_to_visit[-3:-1] returns: ['Berlin', 'Rome']\n",
      "cities_to_visit[-3:]   returns: ['Berlin', 'Rome', 'Athene']\n",
      "cities_to_visit[:]     returns: ['Madrid', 'Paris', 'Berlin', 'Rome', 'Athene']\n"
     ]
    }
   ],
   "source": [
    "cities_to_visit = [\"Madrid\", \"Paris\", \"Berlin\", \"Rome\", \"Athene\"]\n",
    "\n",
    "print(f\"cities_to_visit = {cities_to_visit}\\n\")\n",
    "print(f\"cities_to_visit[0:2]   returns: {cities_to_visit[0:2]}\")\n",
    "print(f\"cities_to_visit[:2]    returns: {cities_to_visit[:2]}\")\n",
    "print(f\"cities_to_visit[1:3]   returns: {cities_to_visit[1:3]}\")\n",
    "print(f\"cities_to_visit[-3:-1] returns: {cities_to_visit[-3:-1]}\")\n",
    "print(f\"cities_to_visit[-3:]   returns: {cities_to_visit[-3:]}\")\n",
    "print(f\"cities_to_visit[:]     returns: {cities_to_visit[:]}\")"
   ]
  },
  {
   "cell_type": "markdown",
   "id": "9bd9e527",
   "metadata": {},
   "source": [
    "As we mentioned at the beginning, **tuples** have basically the same functionality as lists, so *indexing* and *slicing* work the same on tuples as on lists.\n",
    "\n",
    "As a reminder, the difference between them is that once you define a tuple you can not modify it, a characteristic called **immutability**.\n",
    "It's good that you know tuples, as you will see them every now and there, but you will only be using their most basic functionality, so for now, just think of tuples as immutable lists."
   ]
  },
  {
   "cell_type": "markdown",
   "id": "d71ee523",
   "metadata": {},
   "source": [
    "#### Exercise:\n",
    "1. Copy the code of the cell above into the cell below.\n",
    "2. Replace the list of cities with names of famous sports people.\n",
    "3. Change all of the indices to compare the outputs.\n",
    "4. Run the cell to print the results."
   ]
  },
  {
   "cell_type": "code",
   "execution_count": null,
   "id": "0ce0c619",
   "metadata": {},
   "outputs": [],
   "source": []
  },
  {
   "cell_type": "markdown",
   "id": "74b21885",
   "metadata": {},
   "source": [
    "#### Dictionaries\n",
    "\n",
    "Now it’s time for us to discover more about dictionaries!\n",
    "As we’ve seen in Notebook 1, dictionaries are a mapping data type.\n",
    "These are data structures that give a name to each value, so you can indicate the value that you want with a string instead of an index.\n",
    "The names are called **keys** and the values, you guessed, are called **values**.\n",
    "So, you could build an English language dictionary by using the words as keys, and the definitions as the values.\n",
    "For our purposes, you will only be using strings to define keys, and you can use any other object to define values.\n",
    "Something very important to remember is that keys are unique, while the same value can be used for multiple keys.\n",
    "For example, `\"improve\": \"to become better\"` and `\"advance\": \"to become better\"`, have the same value (`to become better`), but unique keys (`improve` and `advance`).\n",
    "\n",
    "How do we define an instance of a dictionary to Python?\n",
    "The syntax to define a dictionary is by using a pair of curly braces (`{}`), and inside we can include **key-value pairs** separating each with a comma.\n",
    "Then, instead of defining the value of a key with an equal sign (`=`), we use a colon (`:`).\n",
    "For example:\n",
    "```\n",
    "dictionary_of_words = {\"improve\": \"to become better\", \"advance\": \"to become better\"}\n",
    "```\n",
    "\n",
    "Another note on syntax: white spaces between enclosing symbols are ignored by Python.\n",
    "So, as long as you are writing inside a pair of parentheses `()`, square brackets `[]`, or curly braces `{}`, you can split a line of code into multiple lines and Python will still understand your instruction.\n",
    "As an example, you can also split the previous definition\n",
    "\n",
    "```\n",
    "dictionary_of_words = {\"improve\": \"to become better\", \"advance\": \"to become better\"}\n",
    "```\n",
    "into multiple lines to make the code easier to read:\n",
    "```\n",
    "dictionary_of_words = {\n",
    "    \"improve\": \"to become better\",\n",
    "    \"advance\": \"to become better\"\n",
    "    }\n",
    "```\n",
    "\n",
    "Let's see some more examples."
   ]
  },
  {
   "cell_type": "code",
   "execution_count": 15,
   "id": "1b81a683",
   "metadata": {},
   "outputs": [
    {
     "name": "stdout",
     "output_type": "stream",
     "text": [
      "{'key_1': 'value_1', 'key_2': 'value_2'}\n",
      "dict_keys(['key_1', 'key_2'])\n",
      "dict_values(['value_1', 'value_2'])\n"
     ]
    }
   ],
   "source": [
    "dictionary_variable = {\n",
    "    \"key_1\": \"value_1\",\n",
    "    \"key_2\": \"value_2\"\n",
    "}\n",
    "\n",
    "print(dictionary_variable)\n",
    "print(dictionary_variable.keys())\n",
    "print(dictionary_variable.values())"
   ]
  },
  {
   "cell_type": "markdown",
   "id": "5f60e29b",
   "metadata": {},
   "source": [
    "Notice that you can get a list of keys with the `.keys()` method, and a list of values with the `.values()` method.\n",
    "To get the value of a key you use a notation similar to lists:"
   ]
  },
  {
   "cell_type": "code",
   "execution_count": 16,
   "id": "c38c3207",
   "metadata": {},
   "outputs": [
    {
     "name": "stdout",
     "output_type": "stream",
     "text": [
      "value_1\n"
     ]
    }
   ],
   "source": [
    "dictionary_variable = {\n",
    "    \"key_1\": \"value_1\",\n",
    "    \"key_2\": \"value_2\"\n",
    "}\n",
    "\n",
    "print(dictionary_variable[\"key_1\"])"
   ]
  },
  {
   "cell_type": "markdown",
   "id": "e1581dfc",
   "metadata": {},
   "source": [
    "To create a new key-value pair or to update the value of a key you use the same notation:"
   ]
  },
  {
   "cell_type": "code",
   "execution_count": 17,
   "id": "265661d4",
   "metadata": {},
   "outputs": [
    {
     "name": "stdout",
     "output_type": "stream",
     "text": [
      "{'key_1': 123, 'key_2': 'value_2', 'key_3': 456}\n"
     ]
    }
   ],
   "source": [
    "dictionary_variable = {\n",
    "    \"key_1\": \"value_1\",\n",
    "    \"key_2\": \"value_2\"\n",
    "}\n",
    "\n",
    "# Update a value:\n",
    "dictionary_variable[\"key_1\"] = 123\n",
    "\n",
    "# Create new key-value pair:\n",
    "dictionary_variable[\"key_3\"] = 456\n",
    "\n",
    "print(dictionary_variable)"
   ]
  },
  {
   "cell_type": "markdown",
   "id": "0053c0b2",
   "metadata": {},
   "source": [
    "#### Exercise:\n",
    "1. Create a new dictionary with three keys, each with the name of a country.\n",
    "2. Assign a number to each key to represent the population of the country.\n",
    "3. In a new line, update the population of a country with a new number.\n",
    "4. In a new line, add a fourth country and its corresponding population.\n",
    "5. Run the cell to print the results.\n",
    "\n",
    "- **Going further**: Google how to delete elements of Python dictionaries. In a new line, delete the country with the largest population."
   ]
  },
  {
   "cell_type": "code",
   "execution_count": null,
   "id": "902c0ebf",
   "metadata": {},
   "outputs": [],
   "source": []
  },
  {
   "cell_type": "markdown",
   "id": "d8acf6cb",
   "metadata": {},
   "source": [
    "Be careful to pass an existing key to the dictionary when you read it, such ass `print(dictionary_variable[\"key_1\"])` in the example above, otherwise, you will get an error and **crash** your program.\n",
    "For example, `print(dictionary_variable[\"key-1\"])` would raise an error as `\"key-1\"` doesn't exist in the dictionary.\n",
    "You can try it out! Uncomment the last line in the following cell and run it to see the error.\n",
    "Once you read it, comment out the last line again so that we can run all cells without the notebook stopping in this line (this is only necessary to help the tutors to evaluate your notebooks faster)."
   ]
  },
  {
   "cell_type": "code",
   "execution_count": 18,
   "id": "af170263",
   "metadata": {},
   "outputs": [],
   "source": [
    "dictionary_variable = {\n",
    "    \"key_1\": \"value_1\",\n",
    "    \"key_2\": \"value_2\"\n",
    "}\n",
    "\n",
    "# Uncoment, run the cell, and comment back the following line:\n",
    "#print(dictionary_variable[\"key-1\"])"
   ]
  },
  {
   "cell_type": "markdown",
   "id": "edcde6c0",
   "metadata": {},
   "source": [
    "### 3.3. Handling errors\n",
    "\n",
    "This bring us to the following topic: **error handling**.\n",
    "Errors can be frustrating when coding, but if you take a breath and learn to handle them, you'll see that error messages are not your enemies 😉. In fact, their purpose is to help you fix errors in your code.\n",
    "Python has a tool called **try-except** that allows you to continue running your program even if something unexpected goes wrong. *Try-except* statements can have the following elements:\n",
    "\n",
    "- `try`: Lets you test a block of code for errors.\n",
    "- `except`: Lets you handle the error.\n",
    "- `else`: Lets you execute code when there is no error.\n",
    "- `finally`: Lets you execute code, regardless of the result of the try-except blocks.\n",
    "\n",
    "Let's take a look at a simple case using the try-except statement in the example below."
   ]
  },
  {
   "cell_type": "code",
   "execution_count": 19,
   "id": "958f769a",
   "metadata": {},
   "outputs": [
    {
     "name": "stdout",
     "output_type": "stream",
     "text": [
      "An error occurred: 'key-1'\n"
     ]
    }
   ],
   "source": [
    "dictionary_variable = {\n",
    "    \"key_1\": \"value_1\",\n",
    "    \"key_2\": \"value_2\",\n",
    "    \"key_3\": \"value_3\",\n",
    "}\n",
    "\n",
    "try:\n",
    "    print(dictionary_variable[\"key-1\"])\n",
    "except Exception as e:\n",
    "    print(f\"An error occurred: {e}\")"
   ]
  },
  {
   "cell_type": "markdown",
   "id": "7887cc2e",
   "metadata": {},
   "source": [
    "Particulary, take a look at the line `except Exception as e:`. The word `Exception` is telling Python to capture the part of the code that causes an error and store it in the variable `e`.\n",
    "Before we mentioned that variables should be explicit. In this case, we use the name `e` as it is a convention among Python developers to name this *Exception* variable *e*. So, when you find it in code later on, now you know what it stands for.\n",
    "Now that we've seen how it works, let's elaborate further and include additional blocks:"
   ]
  },
  {
   "cell_type": "code",
   "execution_count": 20,
   "id": "416aab65",
   "metadata": {},
   "outputs": [
    {
     "name": "stdout",
     "output_type": "stream",
     "text": [
      "An error occurred: 'key-1'\n",
      "The try-except has concluded\n"
     ]
    }
   ],
   "source": [
    "try:\n",
    "    dictionary_variable = {\n",
    "        \"key_1\": \"value_1\",\n",
    "        \"key_2\": \"value_2\",\n",
    "        \"key_3\": \"value_3\",\n",
    "    }\n",
    "    key_name = \"key-1\"\n",
    "    print(dictionary_variable[key_name])\n",
    "except Exception as e:\n",
    "    print(f\"An error occurred: {e}\")\n",
    "else:\n",
    "    print(\"Code run correctly\")\n",
    "finally:\n",
    "    print(\"The try-except has concluded\")"
   ]
  },
  {
   "cell_type": "markdown",
   "id": "f4fdfad4",
   "metadata": {},
   "source": [
    "Now you’ve seen how the try-except statement can help you handling errors in Python. Ready to give it a try yourself in the exercise below? "
   ]
  },
  {
   "cell_type": "markdown",
   "id": "135645c0",
   "metadata": {},
   "source": [
    "#### Exercise:\n",
    "1. Copy the code of the cell above into the cell below.\n",
    "2. Fix the typo in the `key_name`.\n",
    "3. Run the cell to see the results.\n",
    "\n",
    "- **Going further**: Change the data type of the dictionary **keys** to a number, a tuple, and a list and see which one raises an error. Try to understand the error message and how it tries to point you to the fault in the code."
   ]
  },
  {
   "cell_type": "code",
   "execution_count": null,
   "id": "a9b08bf7",
   "metadata": {},
   "outputs": [],
   "source": []
  },
  {
   "cell_type": "markdown",
   "id": "3f0e4196",
   "metadata": {},
   "source": [
    "And with this, you arrived at the end of notebook 3. You’ve been learning a lot, congratulations! In the next notebook, we’ll look at how to create basic class and module structures. The juicy part is coming!"
   ]
  }
 ],
 "metadata": {
  "kernelspec": {
   "display_name": "Python 3 (ipykernel)",
   "language": "python",
   "name": "python3"
  },
  "language_info": {
   "codemirror_mode": {
    "name": "ipython",
    "version": 3
   },
   "file_extension": ".py",
   "mimetype": "text/x-python",
   "name": "python",
   "nbconvert_exporter": "python",
   "pygments_lexer": "ipython3",
   "version": "3.10.9"
  }
 },
 "nbformat": 4,
 "nbformat_minor": 5
}
